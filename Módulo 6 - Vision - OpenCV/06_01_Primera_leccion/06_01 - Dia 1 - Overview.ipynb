{
 "cells": [
  {
   "cell_type": "markdown",
   "metadata": {},
   "source": [
    "# Procesado de imagenes con OpenCV - Contenidos dia 1 \n",
    "\n",
    "# 1. Revision del proyecto - Value proposition - 30min (17:00)\n",
    "\n",
    "<a href=\"Proyecto.pptx\">Power Point</a>\n",
    "\n",
    "# 2. Teoria sobre las imagenes y OpenCV - 30min\n",
    "\n",
    "<a href=\"OpenCV_01.pptx\">PowerPoint</a>\n",
    "\n",
    "# 3. Ejercicios guiados - modulo 1 - 30min (18:00)\n",
    "\n",
    "<a href=\"06_01_01_OpenCV_modulo1_ejercicios_guiados.ipynb\">Jupyter notebook - Ejercicios guiados modulo 1</a>\n",
    "\n",
    "# 4. Ejercicios individuales - modulo 1 - 45min \n",
    "\n",
    "<a href=\"06_01_02_OpenCV_modulo1_ejercicios_individuales.ipynb\">Jupyter notebook - Ejercicios individuales modulo 1</a>\n",
    "\n",
    "# Pausa - 15min\n",
    "\n",
    "\n",
    "# 5. Ejercicios guiados - modulo 2 - 45min (19:30)\n",
    "\n",
    "<a href=\"06_02_01_OpenCV_modulo2_ejercicios_guiados.ipynb\">Jupyter notebook - Ejercicios guiados modulo 2</a>\n",
    "\n",
    "# 6. Ejercicios individuales - modulo 2 - 45min\n",
    "\n",
    "<a href=\"06_02_02_OpenCV_modulo2_ejercicios_individuales.ipynb\">Jupyter notebook - Ejercicios individuales modulo 2</a>\n",
    "\n",
    "# 7. Resumen, preguntas y coloquio - 1h (21:00)\n",
    "\n",
    "# 8. Informacion adicional\n",
    "<a href=\"https://www.google.com/\">Google</a><br>\n",
    "<a href=\"https://docs.opencv.org/4.2.0/\">Documentacion OpenCV 4.2</a><br>\n",
    "<a href=\"./OReilly%20Learning%20OpenCV.pdf\">OReilly Learning OpenCV</a><br>"
   ]
  },
  {
   "cell_type": "code",
   "execution_count": null,
   "metadata": {},
   "outputs": [],
   "source": []
  }
 ],
 "metadata": {
  "kernelspec": {
   "display_name": "Python 3",
   "language": "python",
   "name": "python3"
  },
  "language_info": {
   "codemirror_mode": {
    "name": "ipython",
    "version": 3
   },
   "file_extension": ".py",
   "mimetype": "text/x-python",
   "name": "python",
   "nbconvert_exporter": "python",
   "pygments_lexer": "ipython3",
   "version": "3.7.6"
  }
 },
 "nbformat": 4,
 "nbformat_minor": 2
}
