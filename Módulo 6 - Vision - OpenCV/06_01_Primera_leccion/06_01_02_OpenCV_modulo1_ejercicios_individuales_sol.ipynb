{
 "cells": [
  {
   "cell_type": "markdown",
   "metadata": {},
   "source": [
    "# Procesado de imagenes con OpenCV - ejercicios modulo 1\n",
    "## 2. Empezamos con OpenCV \n",
    "### &emsp;&emsp;2.1 Empezar con OpenCV - Eliger una imagen propia y pasarla a blanco y negro\n",
    "### &emsp;&emsp;2.2 Coger la imagen y pintarla con matplotlib con diferentes mapas de color\n",
    "## 3. Propiedades de las imagenes\n",
    "### &emsp;&emsp;3.1 Crear una imagen con tus iniciales o logo de 100x50 pixeles en formato BGR\n",
    "### &emsp;&emsp;3.2 Crear un mapa de color HSV y uno RGB para explicar \n",
    "### &emsp;&emsp;3.3 Busca otros formato de imagen que soporte OpenCV \n",
    "### &emsp;&emsp;3.4 Crear una imagen con diversidad de formas, tipos y colores\n",
    "### &emsp;&emsp;3.5 Incluir en la imagen de 2.2 elementos descriptivos en diferentes colores\n",
    "## BONUS1: Aplica alguno de los ejericicios anteriores a un video\n",
    "## BONUS2: Define tu propio ejercicio que te parezca interesante y propon una solución"
   ]
  },
  {
   "cell_type": "markdown",
   "metadata": {},
   "source": [
    "## 2.1 Empezar con OpenCV - Eliger una imagen propia y pasarla a blanco y negro"
   ]
  },
  {
   "cell_type": "code",
   "execution_count": 1,
   "metadata": {},
   "outputs": [],
   "source": [
    "#Importamos a libreria OpenCV\n",
    "\n",
    "#Identificamos el nombre de la imagen que vamos a modificar\n",
    "\n",
    "#Leemos la imagen con el nombre file_name\n",
    "\n",
    "#2.1 Convertimos la imagen a blanco y negro\n",
    "\n",
    "#Guardamos la imagen en BN en un archivo\n"
   ]
  },
  {
   "cell_type": "markdown",
   "metadata": {},
   "source": [
    "### 2.2 Coger la imagen y pintarla con matplotlib con diferentes mapas de color"
   ]
  },
  {
   "cell_type": "code",
   "execution_count": 2,
   "metadata": {},
   "outputs": [],
   "source": [
    "#Leemos una imagen en formato jpg\n",
    "\n",
    "#Convertimos la imagen a blanco y negro\n",
    "  \n",
    "# Convertimos la imagen de BGR a RGB\n",
    "  \n",
    "#Creamos una figura para hacer los subplots en ella\n",
    "  \n",
    "#Dimensiones de la matriz donde se mostraran las imagenes mapeadas por colores\n",
    "  \n",
    "#Creamos una lista con los seis mapas de color \n",
    "\n",
    "#LLamamos a la funcion colorear imagen\n",
    "\n"
   ]
  },
  {
   "cell_type": "markdown",
   "metadata": {},
   "source": [
    "### 3.1 Crear una imagen con tus iniciales o logo de 100x50 pixeles en formato BGR"
   ]
  },
  {
   "cell_type": "code",
   "execution_count": 3,
   "metadata": {},
   "outputs": [],
   "source": [
    "# Se recomienda: \n",
    "# Crear una matriz de numpy con las dimensiones adecuadas\n",
    "\n",
    "# Identificar el codigo BGR para por lo menos 3 colores que se quieran utilizar.+ \n",
    "\n",
    "# Idealmente se puede generar un diccionario con los colores que se quieren utilizar\n",
    "\n",
    "# Comprobar que la imagen realmente esta en BGR con los colores que se quieren utilizar\n",
    "\n",
    "    #CHECKED\n",
    "\n",
    "# Definir los pixeles mediante formulas (a poder ser no uno a uno, ya que hay 5000!)  \n",
    "\n",
    "### Add on - parametrizacion de otras formas con una funcion\n",
    "\n",
    "### \n",
    "\n",
    "# Guardar la imagen con el nombre LOGO_tu_nombre.jpg\n"
   ]
  },
  {
   "cell_type": "markdown",
   "metadata": {},
   "source": [
    "### 3.2 Crear un mapa de color HSV y uno RGB para explicar los formatos de imagen"
   ]
  },
  {
   "cell_type": "code",
   "execution_count": 4,
   "metadata": {},
   "outputs": [],
   "source": [
    "# Se recomienda aplicar para ambos casos lo siguiente:\n",
    "# Crear una matriz de numpy con las dimensiones que se quiera presentar los colores \n",
    "# (los colores tienen 3 dimensiones, habra que ver como resolver ese problema)\n",
    "\n",
    "# Definir una funcion lineal entre los valores maximos y minimos que se quiera aplicar al mapa de colores\n",
    "# Asignar los valores a la matriz\n",
    "\n",
    "# Convertir para verse en pyplot correctamente\n",
    "\n",
    "# Mostrar con pyplot el mapa y definir las dimensiones, titulo, ejes, colores, etc...\n",
    "\n",
    "# Una vez realizado para ambos mapas de colores comparar ambos mapas de colores para explicar las diferencias\n"
   ]
  },
  {
   "cell_type": "markdown",
   "metadata": {},
   "source": [
    "### 3.3 Busca otros formato de imagen que soporte OpenCV "
   ]
  },
  {
   "cell_type": "markdown",
   "metadata": {},
   "source": [
    "## Ejercicio de Txio\n",
    "\n",
    "List of Image Formats Supported by OpenCV\n",
    "- Windows bitmaps - *.bmp, *.dib (always supported)\n",
    "- JPEG files - *.jpeg, *.jpg, *.jpe \n",
    "- JPEG 2000 files - *.jp2\n",
    "- Portable Network Graphics - *.png \n",
    "- WebP - *.webp\n",
    "- Portable image format - *.pbm, *.pgm, *.ppm *.pxm, *.pnm (always supported)\n",
    "- PFM files - *.pfm\n",
    "- Sun rasters - *.sr, *.ras (always supported)\n",
    "- TIFF files - *.tiff, *.tif\n",
    "- OpenEXR Image files - *.exr\n",
    "- Radiance HDR - *.hdr, *.pic (always supported)\n",
    "- Raster and Vector geospatial data supported by GDAL\n",
    "\n",
    "Lo más característico es que tienen diferentes compresiones, en png las transparencias, las hay vectoriales\n",
    "\n",
    "MÁS INFO:\n",
    "\n",
    "https://docs.opencv.org/4.2.0/d4/da8/group__imgcodecs.html"
   ]
  },
  {
   "cell_type": "code",
   "execution_count": null,
   "metadata": {},
   "outputs": [],
   "source": [
    "# Definir un diccionario de python con los 8 colores principales\n",
    "\n",
    "# Mostrar en una tabla como cambian la definicion de los 8 colores principales en este formato \n",
    "\n",
    "# Se puede utilizar el diccionario del ejercicio anterior\n"
   ]
  },
  {
   "cell_type": "markdown",
   "metadata": {},
   "source": [
    "### 3.4 Crear una imagen con diversidad de formas, tipos y colores"
   ]
  },
  {
   "cell_type": "code",
   "execution_count": 5,
   "metadata": {},
   "outputs": [],
   "source": [
    "# Idea basada en la siguiente pagina:\n",
    "# https://docs.opencv.org/2.4/doc/tutorials/core/random_generator_and_text/random_generator_and_text.html\n",
    "# Se recomienda:\n",
    "# Elegir una forma que se quiera utilizar (por ejemplo linea, elipse, ...)\n",
    "\n",
    "# Elegir unas dimensiones del lienzo que se quiere utilizar e inicializar el lienzo \n",
    "\n",
    "# Identificar las propiedades de la forma y todos los posibles valores de las propiedades\n",
    "\n",
    "# Crear con numpy un espacio random de propiedades para poder\n",
    "\n",
    "# Hacer un loop para dibujar todas las formas\n",
    "\n",
    "# Si se quiere hacer algo mas complejo, se pueden combinar formas\n",
    "\n",
    "# Guardar la imagen como FORMAS_tu_nombre.jpg\n"
   ]
  },
  {
   "cell_type": "markdown",
   "metadata": {},
   "source": [
    "### 3.5 Incluir en la imagen de 2.2 elementos descriptivos en diferentes colores"
   ]
  },
  {
   "cell_type": "code",
   "execution_count": null,
   "metadata": {},
   "outputs": [],
   "source": [
    "# Se recomienda:\n",
    "# Abrir la imagen en blanco y negro\n",
    "\n",
    "# Convertir la imagen a color \n",
    "\n",
    "# Pensar y definir para que sirven las formas en OpenCV\n",
    "\n",
    "# Identificar los elementos mas caracteristicos de la imagen con la forma mas adecuada\n",
    "\n",
    "# Incluir texto descriptivo en los elementos caracteristicos \n"
   ]
  },
  {
   "cell_type": "markdown",
   "metadata": {},
   "source": [
    "## BONUS1: Aplica alguno de los ejericicios anteriores a un video"
   ]
  },
  {
   "cell_type": "code",
   "execution_count": 3,
   "metadata": {},
   "outputs": [],
   "source": [
    "# Al final un video es una secuencia de imagenes. Seguro que algo de lo que has aprendido lo puedes aplicar a un video"
   ]
  },
  {
   "cell_type": "markdown",
   "metadata": {},
   "source": [
    "## BONUS2: Define tu propio ejercicio que te parezca interesante y propon una solución"
   ]
  },
  {
   "cell_type": "code",
   "execution_count": null,
   "metadata": {},
   "outputs": [],
   "source": [
    "# Piensa en un ejercicio que sea util para profundizar en temas que se han tratado en este modulo\n"
   ]
  }
 ],
 "metadata": {
  "kernelspec": {
   "display_name": "Python 3",
   "language": "python",
   "name": "python3"
  },
  "language_info": {
   "codemirror_mode": {
    "name": "ipython",
    "version": 3
   },
   "file_extension": ".py",
   "mimetype": "text/x-python",
   "name": "python",
   "nbconvert_exporter": "python",
   "pygments_lexer": "ipython3",
   "version": "3.6.4"
  }
 },
 "nbformat": 4,
 "nbformat_minor": 2
}
