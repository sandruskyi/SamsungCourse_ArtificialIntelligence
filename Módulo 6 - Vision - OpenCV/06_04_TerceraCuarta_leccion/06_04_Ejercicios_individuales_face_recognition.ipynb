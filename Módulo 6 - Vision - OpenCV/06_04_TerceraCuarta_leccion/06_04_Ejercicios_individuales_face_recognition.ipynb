{
 "cells": [
  {
   "cell_type": "markdown",
   "metadata": {},
   "source": [
    "## Ejercicios individuales reconocimiento facial\n",
    "1. Crea una aplicacion que ponga gafas, nariz de payaso y bigote a una imagen \n",
    "2. Crea una aplicacion que identifique a alguien enfrente de la webcam y le ponga un recuadro alrededor de la cara. \n",
    "3. Podrias incluirle gafas y bigote a la imagen de la webcam?\n",
    "4. Podrias identificar si es de nuestro curso o no. Podrias incluir tambien alguna otra informaicion (edad, sexo, estado de animo ... etc)"
   ]
  },
  {
   "cell_type": "markdown",
   "metadata": {},
   "source": [
    " 2. Crea una aplicacion que identifique a alguien enfrente de la webcam y le ponga un recuadro alrededor de la cara. "
   ]
  },
  {
   "cell_type": "code",
   "execution_count": 3,
   "metadata": {},
   "outputs": [],
   "source": [
    "\"\"\" para el hardcascade\n",
    "def mostrar_caras(imagen, caras, eyes=[]): # Metemos una imagen y la lista de caras\n",
    "    for (x, y, w, h) in caras: # Posicion x, posicion y , anchura y altura \n",
    "        cv2.rectangle(imagen, (x,y), (x+w, y+h), (255,0,0), 5)\n",
    "    for (x, y, w, h) in eyes: # Posicion x, posicion y , anchura y altura \n",
    "        cv2.rectangle(imagen, (x,y), (x+w, y+h), (255,255,0), 5)\n",
    "    return imagen\n",
    "\"\"\"\n",
    "\n",
    "def print_boxes_mtcnn(imagen, results_mtcnn, gafa):\n",
    "    #print(\"[INFO] Detected {} faces\".format(len(results_mtcnn)))\n",
    "    \n",
    "    black_image= np.zeros(shape = imagen.shape, dtype =np.uint8)\n",
    "    for element in results_mtcnn:\n",
    "        \n",
    "        # LO ADAPTAMOS PARA PONERLE SOLO GAFAS: \n",
    "        # Box\n",
    "        x , y, w, h = element['box']# Box\n",
    "        cv2.rectangle(imagen, (x,y), (x+w, y+h), (255,0,0), 5)\n",
    "        \n",
    "        # eyes \n",
    "        x_l, y_l = element['keypoints']['left_eye']\n",
    "        #cv2.circle(imagen,(x_e,y_e),50,(255,255,0))\n",
    "        x_r, y_r = element['keypoints']['right_eye']\n",
    "        \n",
    "        \n",
    "        # Gafa: Cambiamos primero sus dimensiones\n",
    "        factor_escala = float(1.5*abs(x_r - x_l)) / gafa.shape[1] # x es gafa.shape[1] # Para adaptar la gafa a los ojos, el 1.5 es para aumentarla un poquito\n",
    "        gafa = cv2.resize(gafa, (int(factor_escala *gafa.shape[1]) , int(factor_escala *gafa.shape[0]) ) )\n",
    "        # Gafa: La superponemos: \n",
    "        new_image = black_image.copy()\n",
    "        y_min = int((y_l+y_r)/2-gafa.shape[0]/2)\n",
    "        x_l = int(x_l - 0.25*abs(x_r - x_l))\n",
    "        new_image[y_min:y_min+gafa.shape[0],x_l:x_l+gafa.shape[1],:] = gafa[:,:,:]\n",
    "        \n",
    "        imagen = cv2.add(imagen, new_image)\n",
    "        # cv2.circle(imagen,(x_e,y_e),50,(255,255,0))\n",
    "        # mouth\n",
    "        # x_m, y_m = element['keypoints']['mouth_right']\n",
    "        # cv2.circle(imagen,(x_m,y_m),50,(255,0,255))\n",
    "        # x_m, y_m = element['keypoints']['mouth_left']\n",
    "        # cv2.circle(imagen,(x_m,y_m),50,(255,0,255))\n",
    "        # nose\n",
    "        # x_n, y_n = element['keypoints']['nose']\n",
    "        # cv2.circle(imagen,(x_n,y_n),50,(0,255,255))\n",
    "        \n",
    "    return imagen"
   ]
  },
  {
   "cell_type": "code",
   "execution_count": 5,
   "metadata": {},
   "outputs": [
    {
     "data": {
      "image/png": "[encoded data removed]",
      "text/plain": [
       "<Figure size 432x288 with 1 Axes>"
      ]
     },
     "metadata": {
      "needs_background": "light"
     },
     "output_type": "display_data"
    },
    {
     "ename": "InvalidImage",
     "evalue": "Image not valid.",
     "output_type": "error",
     "traceback": [
      "\u001b[1;31m---------------------------------------------------------------------------\u001b[0m",
      "\u001b[1;31mInvalidImage\u001b[0m                              Traceback (most recent call last)",
      "\u001b[1;32m<ipython-input-5-c6ffe6d3f1fc>\u001b[0m in \u001b[0;36m<module>\u001b[1;34m\u001b[0m\n\u001b[0;32m     38\u001b[0m \u001b[1;33m\u001b[0m\u001b[0m\n\u001b[0;32m     39\u001b[0m     \u001b[1;31m#faces_alt2 = cas_alt2.detectMultiScale(gray) #Cara\u001b[0m\u001b[1;33m\u001b[0m\u001b[1;33m\u001b[0m\u001b[1;33m\u001b[0m\u001b[0m\n\u001b[1;32m---> 40\u001b[1;33m     \u001b[0mfaces\u001b[0m \u001b[1;33m=\u001b[0m \u001b[0mdetector\u001b[0m\u001b[1;33m.\u001b[0m\u001b[0mdetect_faces\u001b[0m\u001b[1;33m(\u001b[0m\u001b[0mframe\u001b[0m\u001b[1;33m)\u001b[0m \u001b[1;31m#caras 2\u001b[0m\u001b[1;33m\u001b[0m\u001b[1;33m\u001b[0m\u001b[0m\n\u001b[0m\u001b[0;32m     41\u001b[0m \u001b[1;33m\u001b[0m\u001b[0m\n\u001b[0;32m     42\u001b[0m     \u001b[1;31m#frame = mostrar_caras(frame, faces_alt2) #Cara\u001b[0m\u001b[1;33m\u001b[0m\u001b[1;33m\u001b[0m\u001b[1;33m\u001b[0m\u001b[0m\n",
      "\u001b[1;32m~\\AppData\\Roaming\\Python\\Python37\\site-packages\\mtcnn\\mtcnn.py\u001b[0m in \u001b[0;36mdetect_faces\u001b[1;34m(self, img)\u001b[0m\n\u001b[0;32m    285\u001b[0m         \"\"\"\n\u001b[0;32m    286\u001b[0m         \u001b[1;32mif\u001b[0m \u001b[0mimg\u001b[0m \u001b[1;32mis\u001b[0m \u001b[1;32mNone\u001b[0m \u001b[1;32mor\u001b[0m \u001b[1;32mnot\u001b[0m \u001b[0mhasattr\u001b[0m\u001b[1;33m(\u001b[0m\u001b[0mimg\u001b[0m\u001b[1;33m,\u001b[0m \u001b[1;34m\"shape\"\u001b[0m\u001b[1;33m)\u001b[0m\u001b[1;33m:\u001b[0m\u001b[1;33m\u001b[0m\u001b[1;33m\u001b[0m\u001b[0m\n\u001b[1;32m--> 287\u001b[1;33m             \u001b[1;32mraise\u001b[0m \u001b[0mInvalidImage\u001b[0m\u001b[1;33m(\u001b[0m\u001b[1;34m\"Image not valid.\"\u001b[0m\u001b[1;33m)\u001b[0m\u001b[1;33m\u001b[0m\u001b[1;33m\u001b[0m\u001b[0m\n\u001b[0m\u001b[0;32m    288\u001b[0m \u001b[1;33m\u001b[0m\u001b[0m\n\u001b[0;32m    289\u001b[0m         \u001b[0mheight\u001b[0m\u001b[1;33m,\u001b[0m \u001b[0mwidth\u001b[0m\u001b[1;33m,\u001b[0m \u001b[0m_\u001b[0m \u001b[1;33m=\u001b[0m \u001b[0mimg\u001b[0m\u001b[1;33m.\u001b[0m\u001b[0mshape\u001b[0m\u001b[1;33m\u001b[0m\u001b[1;33m\u001b[0m\u001b[0m\n",
      "\u001b[1;31mInvalidImage\u001b[0m: Image not valid."
     ]
    }
   ],
   "source": [
    "import numpy as np\n",
    "import cv2\n",
    "from mtcnn.mtcnn import MTCNN #RED CONVOLUCIONAL DE TRATAMIENTO DE IMAGENES YA ENTRENADA\n",
    "import matplotlib.pyplot as plt\n",
    "\n",
    "detector = MTCNN() # Para las caras 2\n",
    "gafa = cv2.imread(\"gafas.jpg\") # Gafa\n",
    "\n",
    "#plt.imshow(gafa)\n",
    "#plt.show()\n",
    "#vamos a quitar lo blanco de la gafa: \n",
    "\n",
    "\n",
    "# Transformar el color de BGR a HSV\n",
    "# Transformar la imagen a HSV\n",
    "img_HSV = cv2.cvtColor( gafa, cv2.COLOR_BGR2HSV)\n",
    "plt.imshow(img_HSV)\n",
    "plt.show()\n",
    "\n",
    " # Definimos el rango: \n",
    "lower = np.array([0,0,0]) #Blanco\n",
    "upper = np.array([255,255, 200]) # [74,255,249]\n",
    "# Lanzar el thresholding para generar el map que se va a filtrar\n",
    "mask = cv2.inRange(img_HSV, lower, upper)\n",
    "\n",
    "gafaPuesta = cv2.bitwise_and(gafa,gafa, mask =mask )\n",
    "\n",
    "cap = cv2.VideoCapture(0)\n",
    "\"\"\" cOMO ESTE CLASIFICADOR NO ES MUY BUENO USAMOS EL MTCNN\n",
    "cas_alt2 = cv2.CascadeClassifier(\"haarcascade_frontalface_alt2.xml\") # Cogemos el hard clasifier #Cara\n",
    "\"\"\"\n",
    "while(True):\n",
    "    # Capture frame-by-frame\n",
    "    ret, frame = cap.read()\n",
    "    \n",
    "    # Our operations on the frame come here\n",
    "    #gray = cv2.cvtColor(frame, cv2.COLOR_BGR2GRAY) #Cara\n",
    "    \n",
    "    #faces_alt2 = cas_alt2.detectMultiScale(gray) #Cara \n",
    "    faces = detector.detect_faces(frame) #caras 2\n",
    "    \n",
    "    #frame = mostrar_caras(frame, faces_alt2) #Cara\n",
    "    frame = print_boxes_mtcnn(frame, faces, gafaPuesta)\n",
    "    \n",
    "    # Display the resulting frame\n",
    "    cv2. imshow('frame', frame) #Caraa\n",
    "    if cv2.waitKey(1) & 0xFF == ord('q'): \n",
    "        break\n",
    "        \n",
    "# When everything done, release the capture\n",
    "cap.release()\n",
    "cv2.destroyAllWindows()"
   ]
  },
  {
   "cell_type": "code",
   "execution_count": null,
   "metadata": {},
   "outputs": [],
   "source": []
  },
  {
   "cell_type": "code",
   "execution_count": null,
   "metadata": {},
   "outputs": [],
   "source": []
  }
 ],
 "metadata": {
  "kernelspec": {
   "display_name": "Python 3",
   "language": "python",
   "name": "python3"
  },
  "language_info": {
   "codemirror_mode": {
    "name": "ipython",
    "version": 3
   },
   "file_extension": ".py",
   "mimetype": "text/x-python",
   "name": "python",
   "nbconvert_exporter": "python",
   "pygments_lexer": "ipython3",
   "version": "3.7.6"
  }
 },
 "nbformat": 4,
 "nbformat_minor": 2
}
