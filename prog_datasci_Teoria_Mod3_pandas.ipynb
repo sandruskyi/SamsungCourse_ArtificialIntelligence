{
  "nbformat": 4,
  "nbformat_minor": 0,
  "metadata": {
    "kernelspec": {
      "display_name": "Python 3",
      "language": "python",
      "name": "python3"
    },
    "language_info": {
      "codemirror_mode": {
        "name": "ipython",
        "version": 3
      },
      "file_extension": ".py",
      "mimetype": "text/x-python",
      "name": "python",
      "nbconvert_exporter": "python",
      "pygments_lexer": "ipython3",
      "version": "3.6.8"
    },
    "colab": {
      "name": "_prog_datasci_Teoria_Mod3_pandas.ipynb",
      "provenance": []
    }
  },
  "cells": [
    {
      "cell_type": "markdown",
      "metadata": {
        "id": "34BXn6tmOm-4",
        "colab_type": "text"
      },
      "source": [
        "# Programación Phyton para *Samsung*"
      ]
    },
    {
      "cell_type": "markdown",
      "metadata": {
        "id": "DL5pYPyXOm_D",
        "colab_type": "text"
      },
      "source": [
        "Unidad 3: Librerías científicas en Python - pandas\n",
        "------------------------------------------------------\n",
        "## Introducción\n",
        "\n",
        "Pandas es una librería de Python que nos ofrece una interfaz de alto nivel para manipular y analizar datos. Podéis encontrar la documentación completa de la librería en el siguiente [enlace](http://pandas.pydata.org/pandas-docs/stable/).\n",
        "\n",
        "Pandas es la librería para lectura y análisis de datos más completa y potente que existe. Básicamente, ofrece nuevos tipos de datos estructurados que permiten datos heterogéneos y su tratamiento de forma muy flexible. pandas trabaja sobre varios tipos estructurados:\n",
        "\n",
        "Series y TimeSeries: Datos unidimensional con índices\n",
        "\n",
        "DataFrame: Datos bidimensionales tipo tabla\n",
        "\n",
        "Panel: Datos de dimensión superior, como cubos de datos\n"
      ]
    },
    {
      "cell_type": "markdown",
      "metadata": {
        "id": "WzdWz6jPOm_J",
        "colab_type": "text"
      },
      "source": [
        "### Primeros pasos\n",
        "\n",
        "Para poder utilizar la librería, en primer lugar es necesario importarla:"
      ]
    },
    {
      "cell_type": "code",
      "metadata": {
        "id": "Uhqh0y2qOm_N",
        "colab_type": "code",
        "colab": {}
      },
      "source": [
        "# En la siguiente línea, importamos pandas y le damos un nombre más corto \n",
        "# para que nos sea más cómodo hacer las llamadas.\n",
        "import pandas as pd\n",
        "# Importamos también NumPy, ya que la usaremos en alguno de los ejemplos.\n",
        "import numpy as np"
      ],
      "execution_count": 0,
      "outputs": []
    },
    {
      "cell_type": "markdown",
      "metadata": {
        "id": "QU0lhDZZOm_i",
        "colab_type": "text"
      },
      "source": [
        "### Estructuras de datos básicas\n",
        "\n",
        "Pandas provee de tres estructuras de datos: la serie, el _dataframe_ y antiguamente el panel (actualmente, los _dataframes_ y las series con índices multinivel). Veamos las características de cada una de ellas.\n",
        "\n",
        "Una **serie** es un vector **unidimensional** con **etiquetas** en los ejes y datos **homogéneos**. \n",
        "\n",
        "Repasemos qué implican cada una de estas características con unos ejemplos.\n",
        "\n",
        "La serie nos permite representar un conjunto de datos unidimensionales, por ejemplo, una lista de enteros, decimales o de cadenas de caracteres: \n"
      ]
    },
    {
      "cell_type": "markdown",
      "metadata": {
        "id": "Tq1n5mLOyFHx",
        "colab_type": "text"
      },
      "source": [
        "### **Series**¶\n",
        "Son la estructura más sencilla, similar a los arrays de numpy. Se pueden crear a partir de diccionarios o de arrays de numpy:"
      ]
    },
    {
      "cell_type": "code",
      "metadata": {
        "id": "Mggsd7Zzx5OR",
        "colab_type": "code",
        "colab": {
          "base_uri": "https://localhost:8080/",
          "height": 35
        },
        "outputId": "53c7bf86-e91b-4a6d-e733-1a669c41341b"
      },
      "source": [
        "In [1]: datos = [2, 3, 4, 5, 6]\n",
        "\n",
        "# Serie con indices numéricos, como listas\n",
        "In [2]: serie = pd.Series(datos)\n",
        "In [3]: serie[2]\n"
      ],
      "execution_count": 4,
      "outputs": [
        {
          "output_type": "execute_result",
          "data": {
            "text/plain": [
              "4"
            ]
          },
          "metadata": {
            "tags": []
          },
          "execution_count": 4
        }
      ]
    },
    {
      "cell_type": "code",
      "metadata": {
        "id": "60x4p6azyb8J",
        "colab_type": "code",
        "colab": {
          "base_uri": "https://localhost:8080/",
          "height": 35
        },
        "outputId": "11d92ec7-6bae-44be-8f93-ef87b1a97d31"
      },
      "source": [
        "# Serie con indices string, como dict\n",
        "In [5]: serie = pd.Series(datos, index=['a', 'b', 'c', 'd', 'e'])\n",
        "In [6]: serie['c']"
      ],
      "execution_count": 5,
      "outputs": [
        {
          "output_type": "execute_result",
          "data": {
            "text/plain": [
              "4"
            ]
          },
          "metadata": {
            "tags": []
          },
          "execution_count": 5
        }
      ]
    },
    {
      "cell_type": "code",
      "metadata": {
        "id": "G0bOH_h0ycfP",
        "colab_type": "code",
        "colab": {
          "base_uri": "https://localhost:8080/",
          "height": 35
        },
        "outputId": "2ef70354-4e10-4946-b19b-405cb692763f"
      },
      "source": [
        "# Pero los indices también funcionan\n",
        "In [7]: serie[2]"
      ],
      "execution_count": 6,
      "outputs": [
        {
          "output_type": "execute_result",
          "data": {
            "text/plain": [
              "4"
            ]
          },
          "metadata": {
            "tags": []
          },
          "execution_count": 6
        }
      ]
    },
    {
      "cell_type": "code",
      "metadata": {
        "id": "UmWyA1UJOm_t",
        "colab_type": "code",
        "outputId": "423c79bb-c611-4033-a7cb-807358e39ab5",
        "colab": {
          "base_uri": "https://localhost:8080/",
          "height": 139
        }
      },
      "source": [
        "print(pd.Series([1, 1, 2, 3, 5, 6]))"
      ],
      "execution_count": 0,
      "outputs": [
        {
          "output_type": "stream",
          "text": [
            "0    1\n",
            "1    1\n",
            "2    2\n",
            "3    3\n",
            "4    5\n",
            "5    6\n",
            "dtype: int64\n"
          ],
          "name": "stdout"
        }
      ]
    },
    {
      "cell_type": "code",
      "metadata": {
        "id": "sE0He-RrOnAZ",
        "colab_type": "code",
        "outputId": "07a60553-faa8-40ca-e1be-5c687bd379f9",
        "colab": {
          "base_uri": "https://localhost:8080/",
          "height": 87
        }
      },
      "source": [
        "print(pd.Series([1.5, 3.5, 4.75]))"
      ],
      "execution_count": 0,
      "outputs": [
        {
          "output_type": "stream",
          "text": [
            "0    1.50\n",
            "1    3.50\n",
            "2    4.75\n",
            "dtype: float64\n"
          ],
          "name": "stdout"
        }
      ]
    },
    {
      "cell_type": "markdown",
      "metadata": {
        "id": "cfXBQgynOnAv",
        "colab_type": "text"
      },
      "source": [
        "Los datos de una serie tienen que ser homogéneos, es decir, tienen que ser del mismo tipo. En los ejemplos anteriores, la primera serie está formada por enteros (int64) mientras que la segunda contiene números en punto flotante (float).\n",
        "\n",
        "De todos modos, si intentamos crear una serie con datos de diferentes tipos, podremos hacerlo, ya que pandas creará una serie con el tipo más general:\n"
      ]
    },
    {
      "cell_type": "code",
      "metadata": {
        "id": "oZ5smY4COnA1",
        "colab_type": "code",
        "outputId": "644b467d-bc0c-4dd2-f21e-b62d081fa10d",
        "colab": {}
      },
      "source": [
        "# Mezclamos enteros y floats, la serie es de tipo float.\n",
        "print(pd.Series([1, 2, 3.5]))"
      ],
      "execution_count": 0,
      "outputs": [
        {
          "output_type": "stream",
          "text": [
            "0    1.0\n",
            "1    2.0\n",
            "2    3.5\n",
            "dtype: float64\n"
          ],
          "name": "stdout"
        }
      ]
    },
    {
      "cell_type": "code",
      "metadata": {
        "id": "2aCEHgAXOnBG",
        "colab_type": "code",
        "outputId": "caeb70ab-9a04-48c3-c5fa-6edcdf567c2c",
        "colab": {}
      },
      "source": [
        "# Mezclamos enteros, floats y strings, la serie es de tipo object.\n",
        "print(pd.Series([1, 4.3, \"data\"]))"
      ],
      "execution_count": 0,
      "outputs": [
        {
          "output_type": "stream",
          "text": [
            "0       1\n",
            "1     4.3\n",
            "2    data\n",
            "dtype: object\n"
          ],
          "name": "stdout"
        }
      ]
    },
    {
      "cell_type": "markdown",
      "metadata": {
        "id": "JH-YLze3OnBQ",
        "colab_type": "text"
      },
      "source": [
        "Por último, la serie puede tener etiquetas, de manera que podemos acceder a los elementos de una serie tanto a partir de su índice como de su etiqueta."
      ]
    },
    {
      "cell_type": "code",
      "metadata": {
        "id": "y6Y18Gg5OnBT",
        "colab_type": "code",
        "outputId": "971e526f-ea98-499e-b70b-c8aa804a8b6c",
        "colab": {}
      },
      "source": [
        "# Creamos una serie etiquetada a partir de un diccionario.\n",
        "s = pd.Series({\"alice\" : 2, \"bob\": 3, \"eve\": 5})\n",
        "print(s)\n",
        "\n",
        "# Accedemos a los elementos de la serie a partir de su etiqueta.\n",
        "print(s[\"alice\"])\n",
        "\n",
        "# Accedemos a los elementos de la serie a partir de su índice.\n",
        "print(s[0])"
      ],
      "execution_count": 0,
      "outputs": [
        {
          "output_type": "stream",
          "text": [
            "alice    2\n",
            "bob      3\n",
            "eve      5\n",
            "dtype: int64\n",
            "2\n",
            "2\n"
          ],
          "name": "stdout"
        }
      ]
    },
    {
      "cell_type": "code",
      "metadata": {
        "id": "dNRhBl2LOnBa",
        "colab_type": "code",
        "outputId": "416ebbe0-40a7-46ed-877b-ca52031f5128",
        "colab": {}
      },
      "source": [
        "# Creamos una serie etiquetada a partir de dos vectores, uno con los datos y otro con las etiquetas.\n",
        "print(pd.Series([2, 3, 5], index = [\"alice\", \"bob\", \"eve\"]))"
      ],
      "execution_count": 0,
      "outputs": [
        {
          "output_type": "stream",
          "text": [
            "alice    2\n",
            "bob      3\n",
            "eve      5\n",
            "dtype: int64\n"
          ],
          "name": "stdout"
        }
      ]
    },
    {
      "cell_type": "markdown",
      "metadata": {
        "id": "vyc6zGFMy4xg",
        "colab_type": "text"
      },
      "source": [
        "### **DataFrame**\n",
        "Es el tipo de datos más últil, similar a una tabla de hoja de cálculo o de base de datos. Se pueden crear con listas, diccionarios, arrays de numpy y con Series."
      ]
    },
    {
      "cell_type": "markdown",
      "metadata": {
        "id": "NCfdFhh8OnBg",
        "colab_type": "text"
      },
      "source": [
        "\n",
        "Un **_dataframe_** es una tabla **bidimensional** con **etiquetas** en los ejes y datos potencialmente **heterogéneos**. El _dataframe_ es la estructura principal de trabajo con la librería pandas.\n",
        "\n",
        "Veamos las características principales de un dataframe con algunos ejemplos.\n",
        "\n",
        "A diferencia de una serie, un _dataframe_ es bidimensional:"
      ]
    },
    {
      "cell_type": "code",
      "metadata": {
        "id": "FeLDLgrnzD6_",
        "colab_type": "code",
        "colab": {
          "base_uri": "https://localhost:8080/",
          "height": 168
        },
        "outputId": "cdd3a002-09ae-430a-8518-1a8802b69be7"
      },
      "source": [
        "# Diccionario con dos series, A y B, que tienen distinto número de valores\n",
        "In [20]: datos = {'A' : pd.Series([1., 2., 3.], index=['a', 'b', 'c']),\n",
        "....:      'B' : pd.Series([10., 20., 30., 40.], index=['a', 'b', 'c', 'd'])}\n",
        "\n",
        "# Creamos el DataFrame\n",
        "In [21]: df = pd.DataFrame(datos)\n",
        "\n",
        "In [22]: df\n"
      ],
      "execution_count": 7,
      "outputs": [
        {
          "output_type": "execute_result",
          "data": {
            "text/html": [
              "<div>\n",
              "<style scoped>\n",
              "    .dataframe tbody tr th:only-of-type {\n",
              "        vertical-align: middle;\n",
              "    }\n",
              "\n",
              "    .dataframe tbody tr th {\n",
              "        vertical-align: top;\n",
              "    }\n",
              "\n",
              "    .dataframe thead th {\n",
              "        text-align: right;\n",
              "    }\n",
              "</style>\n",
              "<table border=\"1\" class=\"dataframe\">\n",
              "  <thead>\n",
              "    <tr style=\"text-align: right;\">\n",
              "      <th></th>\n",
              "      <th>A</th>\n",
              "      <th>B</th>\n",
              "    </tr>\n",
              "  </thead>\n",
              "  <tbody>\n",
              "    <tr>\n",
              "      <th>a</th>\n",
              "      <td>1.0</td>\n",
              "      <td>10.0</td>\n",
              "    </tr>\n",
              "    <tr>\n",
              "      <th>b</th>\n",
              "      <td>2.0</td>\n",
              "      <td>20.0</td>\n",
              "    </tr>\n",
              "    <tr>\n",
              "      <th>c</th>\n",
              "      <td>3.0</td>\n",
              "      <td>30.0</td>\n",
              "    </tr>\n",
              "    <tr>\n",
              "      <th>d</th>\n",
              "      <td>NaN</td>\n",
              "      <td>40.0</td>\n",
              "    </tr>\n",
              "  </tbody>\n",
              "</table>\n",
              "</div>"
            ],
            "text/plain": [
              "     A     B\n",
              "a  1.0  10.0\n",
              "b  2.0  20.0\n",
              "c  3.0  30.0\n",
              "d  NaN  40.0"
            ]
          },
          "metadata": {
            "tags": []
          },
          "execution_count": 7
        }
      ]
    },
    {
      "cell_type": "markdown",
      "metadata": {
        "id": "i0MaFxATzMJb",
        "colab_type": "text"
      },
      "source": [
        "Aquí ya ha pasado algo interesante, la columna A tiene tres elementos y la B tiene 4, pero el DataFrame no tiene problema con esto asignando NaN (non a number) a fila d de la columna A."
      ]
    },
    {
      "cell_type": "code",
      "metadata": {
        "id": "0lHkudU9zQPV",
        "colab_type": "code",
        "colab": {
          "base_uri": "https://localhost:8080/",
          "height": 35
        },
        "outputId": "93068331-f71d-4dfc-8b49-8c5312a48d44"
      },
      "source": [
        "# Nombres de filas y columnas\n",
        "In [25]: df.index\n"
      ],
      "execution_count": 8,
      "outputs": [
        {
          "output_type": "execute_result",
          "data": {
            "text/plain": [
              "Index(['a', 'b', 'c', 'd'], dtype='object')"
            ]
          },
          "metadata": {
            "tags": []
          },
          "execution_count": 8
        }
      ]
    },
    {
      "cell_type": "code",
      "metadata": {
        "id": "3kcmLDAhzU4w",
        "colab_type": "code",
        "colab": {
          "base_uri": "https://localhost:8080/",
          "height": 35
        },
        "outputId": "e0741b5e-d44d-48cf-9842-d64805d78dbd"
      },
      "source": [
        "In [26]: df.columns"
      ],
      "execution_count": 9,
      "outputs": [
        {
          "output_type": "execute_result",
          "data": {
            "text/plain": [
              "Index(['A', 'B'], dtype='object')"
            ]
          },
          "metadata": {
            "tags": []
          },
          "execution_count": 9
        }
      ]
    },
    {
      "cell_type": "markdown",
      "metadata": {
        "id": "yZGsVpL5zdKb",
        "colab_type": "text"
      },
      "source": [
        "Es más fácil manipular DataFrames o Series que array:"
      ]
    },
    {
      "cell_type": "code",
      "metadata": {
        "id": "tsuBzEmpzewE",
        "colab_type": "code",
        "colab": {}
      },
      "source": [
        "# Creamos una nueva columnas C, donde todos los valores son \"Si\"\n",
        "# La columna se crea al final\n",
        "In [30]: df['C'] = \"Si\"\n",
        "\n",
        "# Una nueva coluna con valores distintos, pero última fila no tiene medida\n",
        "In [31]: df['C'] = [-1, -2, -3, NaN]  # En lugar de NaN se puede usar None\n",
        "\n",
        "# Columna a partir de otras columnas\n",
        "In [33]: df['D'] = df['A'] >  df['B']\n",
        "\n",
        "# Si queremos añadir una columna en otro sitio que no sea el final\n",
        "# podemos usar insert, indicando la posición (0 el primero), nombre y valores\n",
        "In [34]: df.insert(1, 'E', range(4))\n",
        "\n",
        "# Borramos una columna\n",
        "In [35]: del df['E']"
      ],
      "execution_count": 0,
      "outputs": []
    },
    {
      "cell_type": "markdown",
      "metadata": {
        "id": "xs5D11v7zmW9",
        "colab_type": "text"
      },
      "source": [
        "Los DataFrames tiene distintos tipos de indexado:"
      ]
    },
    {
      "cell_type": "code",
      "metadata": {
        "id": "lVfRGUH4znlt",
        "colab_type": "code",
        "colab": {}
      },
      "source": [
        "# Seleciona columnas, devuelve un Serie\n",
        "In [40]: df['A']\n",
        "\n",
        "# Selecciona una fila por etiqueta\n",
        "In [41]: df.loc['a']\n",
        "\n",
        "# Selecciona una fila por numero\n",
        "In [42]: df.iloc['a']\n",
        "\n",
        "# Selecciona un rango de filas, devuelve un DataFrame\n",
        "In [43]: df[5:10]"
      ],
      "execution_count": 0,
      "outputs": []
    },
    {
      "cell_type": "markdown",
      "metadata": {
        "id": "uZvkZa54zsvX",
        "colab_type": "text"
      },
      "source": [
        "Para reemplazar un valor o rango, se debe usar .loc() o .iloc():"
      ]
    },
    {
      "cell_type": "code",
      "metadata": {
        "id": "Eiwfua4Hzt6A",
        "colab_type": "code",
        "colab": {}
      },
      "source": [
        "# Cambio el valor de fila a, columna C\n",
        "In [44]: df.loc['a', 'C'] = 3.5"
      ],
      "execution_count": 0,
      "outputs": []
    },
    {
      "cell_type": "markdown",
      "metadata": {
        "id": "_x98r_pWzzj6",
        "colab_type": "text"
      },
      "source": [
        "Pandas se entiende bien con numpy y se pueden aplicar funciones numéricas de numpy a DataFrames o convertirlos a arrays:"
      ]
    },
    {
      "cell_type": "code",
      "metadata": {
        "id": "ICXq7rZnz1Cz",
        "colab_type": "code",
        "colab": {}
      },
      "source": [
        "In [45]: np.log10(df)\n",
        "In [46]: df_array = np.asarray(df)"
      ],
      "execution_count": 0,
      "outputs": []
    },
    {
      "cell_type": "markdown",
      "metadata": {
        "id": "uaksXNp8z60O",
        "colab_type": "text"
      },
      "source": [
        "Más ejemplos de Daat frames con Pandas:"
      ]
    },
    {
      "cell_type": "code",
      "metadata": {
        "id": "t2LhQr-4OnBh",
        "colab_type": "code",
        "outputId": "7d6521dc-0ab0-4835-d2a4-043cd71cec27",
        "colab": {}
      },
      "source": [
        "print(pd.DataFrame([[1, 2, 3], [4, 5, 6]]))"
      ],
      "execution_count": 0,
      "outputs": [
        {
          "output_type": "stream",
          "text": [
            "   0  1  2\n",
            "0  1  2  3\n",
            "1  4  5  6\n"
          ],
          "name": "stdout"
        }
      ]
    },
    {
      "cell_type": "markdown",
      "metadata": {
        "id": "F9_Di5e_OnBj",
        "colab_type": "text"
      },
      "source": [
        "Al igual que la serie, el _dataframe_ puede tener etiquetas en los ejes y podemos utilizar diferentes sintaxis para incluir las etiquetas en el _dataframe_."
      ]
    },
    {
      "cell_type": "code",
      "metadata": {
        "id": "BfQoASNGOnBl",
        "colab_type": "code",
        "outputId": "dbd3c967-7961-4273-be70-1e1466259e75",
        "colab": {}
      },
      "source": [
        "# Utilizamos un diccionario para definir cada columna y una lista para indicar las etiquetas de las filas.\n",
        "d = {\"alice\" : [1953, 12, 3], \"bob\" : [1955, 11, 24], \"eve\" : [2011, 10, 10]}\n",
        "print(pd.DataFrame(d, index=[\"year\", \"month\", \"day\"]))"
      ],
      "execution_count": 0,
      "outputs": [
        {
          "output_type": "stream",
          "text": [
            "       alice   bob   eve\n",
            "year    1953  1955  2011\n",
            "month     12    11    10\n",
            "day        3    24    10\n"
          ],
          "name": "stdout"
        }
      ]
    },
    {
      "cell_type": "code",
      "metadata": {
        "id": "vmj2stk-OnBp",
        "colab_type": "code",
        "outputId": "39dc5105-3591-4d46-e00b-477efd8abb74",
        "colab": {}
      },
      "source": [
        "# Utilizamos una lista de listas para introducir los datos y dos listas adicionales \n",
        "# para indicar las etiquetas de filas y las columnas.\n",
        "a = [[1953, 12, 3], [1955, 11, 24], [2011, 10, 10]]\n",
        "print(pd.DataFrame(a, columns=[\"year\", \"month\", \"day\"], index = [\"alice\", \"bob\", \"eve\"]))"
      ],
      "execution_count": 0,
      "outputs": [
        {
          "output_type": "stream",
          "text": [
            "       year  month  day\n",
            "alice  1953     12    3\n",
            "bob    1955     11   24\n",
            "eve    2011     10   10\n"
          ],
          "name": "stdout"
        }
      ]
    },
    {
      "cell_type": "markdown",
      "metadata": {
        "id": "pmKuzuMjOnBw",
        "colab_type": "text"
      },
      "source": [
        "Cada una de las columnas de un _dataframe_ puede tener tipos de datos distintos, dando lugar a _dataframes_ heterogéneos:"
      ]
    },
    {
      "cell_type": "code",
      "metadata": {
        "id": "dTAo6EWzOnBy",
        "colab_type": "code",
        "outputId": "eac90452-e072-49bc-c7de-860c13c0b77b",
        "colab": {}
      },
      "source": [
        "a = [[1953, \"computer science\", 3.5], [1955, \"archeology\", 3.8], [2011, \"biology\", 2.8]]\n",
        "print(pd.DataFrame(a, columns=[\"year\", \"major\", \"average grade\"], index = [\"alice\", \"bob\", \"eve\"]))"
      ],
      "execution_count": 0,
      "outputs": [
        {
          "output_type": "stream",
          "text": [
            "       year             major  average grade\n",
            "alice  1953  computer science            3.5\n",
            "bob    1955        archeology            3.8\n",
            "eve    2011           biology            2.8\n"
          ],
          "name": "stdout"
        }
      ]
    },
    {
      "cell_type": "markdown",
      "metadata": {
        "id": "onwd30ahOnB1",
        "colab_type": "text"
      },
      "source": [
        "En versiones anteriores de pandas, disponíamos del panel como tercera estructura de datos. Un **panel** es una estructura de datos **tridimensional** que puede contener **etiquetas** en los ejes y puede ser **heterogénea**.\n",
        "\n",
        "Actualmente, el uso de los paneles está discontinuado, y usamos series y _dataframes_ con índices multinivel para representar estructuras de datos de más de dos dimensiones.\n",
        "\n",
        "Veamos un ejemplo sencillo de uso de índices multinivel para representar una\n",
        "imagen."
      ]
    },
    {
      "cell_type": "code",
      "metadata": {
        "id": "GNRrKtYgOnB2",
        "colab_type": "code",
        "outputId": "4e8673cb-36e3-4e3a-87e0-2b55aa1da016",
        "colab": {}
      },
      "source": [
        "img = [[[0, 0, 0], [0, 15, 0], [0, 0, 15], [15, 0, 0], [180, 180, 180]],\n",
        "       [[200, 200, 200], [125, 1, 125], [100, 100, 2], [1, 152, 125], [15, 25, 20]]]\n",
        "\n",
        "# Utilizamos números para indexar filas y columnas, y las letras\n",
        "# \"R\", \"G\", \"B\" para indicar el contenido de este color en cada píxel\n",
        "index = pd.MultiIndex.from_product(\n",
        "    [range(len(img)), range(len(img[0])), [\"R\", \"G\", \"B\"]], \n",
        "    names=['row', 'column', 'color'])\n",
        "\n",
        "# Creamos la serie con el índice multidimensional especificando los datos\n",
        "# y los índices\n",
        "s = pd.Series([x for row in img for col in row for x in col], \n",
        "               index=index)\n",
        "s"
      ],
      "execution_count": 0,
      "outputs": [
        {
          "output_type": "execute_result",
          "data": {
            "text/plain": [
              "row  column  color\n",
              "0    0       R          0\n",
              "             G          0\n",
              "             B          0\n",
              "     1       R          0\n",
              "             G         15\n",
              "             B          0\n",
              "     2       R          0\n",
              "             G          0\n",
              "             B         15\n",
              "     3       R         15\n",
              "             G          0\n",
              "             B          0\n",
              "     4       R        180\n",
              "             G        180\n",
              "             B        180\n",
              "1    0       R        200\n",
              "             G        200\n",
              "             B        200\n",
              "     1       R        125\n",
              "             G          1\n",
              "             B        125\n",
              "     2       R        100\n",
              "             G        100\n",
              "             B          2\n",
              "     3       R          1\n",
              "             G        152\n",
              "             B        125\n",
              "     4       R         15\n",
              "             G         25\n",
              "             B         20\n",
              "dtype: int64"
            ]
          },
          "metadata": {
            "tags": []
          },
          "execution_count": 12
        }
      ]
    },
    {
      "cell_type": "markdown",
      "metadata": {
        "id": "9qBOjf_WOnB5",
        "colab_type": "text"
      },
      "source": [
        "Visualicemos gráficamente la imagen para entender mejor la representación escogida. La imagen tiene 2 filas y 5 columnas y para cada píxel utilizamos 3 valores numéricos para representar su color."
      ]
    },
    {
      "cell_type": "code",
      "metadata": {
        "id": "h3BHk4SgOnB6",
        "colab_type": "code",
        "outputId": "b2ae91f0-f0b3-4df1-c893-ef36420a8e5a",
        "colab": {}
      },
      "source": [
        "%pylab inline\n",
        "from pylab import imshow\n",
        "imshow(array(img, dtype=uint16), interpolation='nearest')"
      ],
      "execution_count": 0,
      "outputs": [
        {
          "output_type": "stream",
          "text": [
            "Populating the interactive namespace from numpy and matplotlib\n"
          ],
          "name": "stdout"
        },
        {
          "output_type": "execute_result",
          "data": {
            "text/plain": [
              "<matplotlib.image.AxesImage at 0x7f96e2775eb8>"
            ]
          },
          "metadata": {
            "tags": []
          },
          "execution_count": 13
        },
        {
          "output_type": "display_data",
          "data": {
            "image/png": "[encoded data removed]",
            "text/plain": [
              "<Figure size 432x288 with 1 Axes>"
            ]
          },
          "metadata": {
            "tags": [],
            "needs_background": "light"
          }
        }
      ]
    },
    {
      "cell_type": "markdown",
      "metadata": {
        "id": "mTN9obLtOnB8",
        "colab_type": "text"
      },
      "source": [
        "## Operaciones básicas sobre un _dataframe_\n",
        "\n",
        "El _dataframe_ es la estructura más usada en pandas. Veamos algunas de las operaciones que podemos realizar con él.\n",
        "\n",
        "\n",
        "### Lectura de datos de un fichero\n",
        "\n",
        "Pandas posee funciones para leer datos en varios formatos, incluyendo json, csv, html, hadf y Excel. Veamos un ejemplo leyendo un CSV que contiene distinto tipos de datos, cuyas columnas están separadas por «;» y contiene floats con separador decimal con coma. Además el fichero contiene fecha en formato YYYY-MM-DD H:m, que queremos interpretar como fecha de Python para poder manipular fechas.\n",
        "\n",
        "\n",
        "Para cargar los datos de un fichero CSV directamente a un _dataframe_ a través de la función `read_csv`. Esta función es muy versátil y dispone de multitud de parámetros para configurar con todo detalle cómo realizar la importación. En muchas ocasiones, la configuración por defecto ya nos ofrecerá los resultados deseados.\n",
        "\n",
        "Cargamos ahora los datos del fichero `marvel-wikia-data.csv`, que contiene datos sobre personajes de cómic de Marvel. El conjunto de datos fue creado por la web [FiveThirtyEight](https://fivethirtyeight.com/), que realiza artículos basados en datos sobre deportes y noticias, y que pone a disposición pública los [conjuntos de datos](https://github.com/fivethirtyeight/data) que recoge para sus artículos."
      ]
    },
    {
      "cell_type": "code",
      "metadata": {
        "id": "GTs48W_kOnB9",
        "colab_type": "code",
        "outputId": "8238a719-30f0-45bf-9fe6-85493ed9f269",
        "colab": {}
      },
      "source": [
        "# Cargamos los datos del fichero \"marvel-wikia-data.csv\" en un dataframe.\n",
        "data = pd.read_csv(\"data/marvel-wikia-data.csv\")\n",
        "print(type(data))"
      ],
      "execution_count": 0,
      "outputs": [
        {
          "output_type": "stream",
          "text": [
            "<class 'pandas.core.frame.DataFrame'>\n"
          ],
          "name": "stdout"
        }
      ]
    },
    {
      "cell_type": "markdown",
      "metadata": {
        "id": "ZJH0FQxyOnCB",
        "colab_type": "text"
      },
      "source": [
        "### Exploración del _dataframe_\n",
        "\n",
        "Veamos algunas funciones que nos permiten explorar el _dataframe_ que acabamos de cargar."
      ]
    },
    {
      "cell_type": "code",
      "metadata": {
        "id": "vHvKpo1JOnCC",
        "colab_type": "code",
        "outputId": "accddcb5-73e3-4e93-da55-a5cf73e3d060",
        "colab": {}
      },
      "source": [
        "# Mostrar las 3 primeras filas\n",
        "data.head(n=3)"
      ],
      "execution_count": 0,
      "outputs": [
        {
          "output_type": "execute_result",
          "data": {
            "text/html": [
              "<div>\n",
              "<style scoped>\n",
              "    .dataframe tbody tr th:only-of-type {\n",
              "        vertical-align: middle;\n",
              "    }\n",
              "\n",
              "    .dataframe tbody tr th {\n",
              "        vertical-align: top;\n",
              "    }\n",
              "\n",
              "    .dataframe thead th {\n",
              "        text-align: right;\n",
              "    }\n",
              "</style>\n",
              "<table border=\"1\" class=\"dataframe\">\n",
              "  <thead>\n",
              "    <tr style=\"text-align: right;\">\n",
              "      <th></th>\n",
              "      <th>page_id</th>\n",
              "      <th>name</th>\n",
              "      <th>urlslug</th>\n",
              "      <th>ID</th>\n",
              "      <th>ALIGN</th>\n",
              "      <th>EYE</th>\n",
              "      <th>HAIR</th>\n",
              "      <th>SEX</th>\n",
              "      <th>GSM</th>\n",
              "      <th>ALIVE</th>\n",
              "      <th>APPEARANCES</th>\n",
              "      <th>FIRST APPEARANCE</th>\n",
              "      <th>Year</th>\n",
              "    </tr>\n",
              "  </thead>\n",
              "  <tbody>\n",
              "    <tr>\n",
              "      <th>0</th>\n",
              "      <td>1678</td>\n",
              "      <td>Spider-Man (Peter Parker)</td>\n",
              "      <td>\\/Spider-Man_(Peter_Parker)</td>\n",
              "      <td>Secret Identity</td>\n",
              "      <td>Good Characters</td>\n",
              "      <td>Hazel Eyes</td>\n",
              "      <td>Brown Hair</td>\n",
              "      <td>Male Characters</td>\n",
              "      <td>NaN</td>\n",
              "      <td>Living Characters</td>\n",
              "      <td>4043.0</td>\n",
              "      <td>Aug-62</td>\n",
              "      <td>1962.0</td>\n",
              "    </tr>\n",
              "    <tr>\n",
              "      <th>1</th>\n",
              "      <td>7139</td>\n",
              "      <td>Captain America (Steven Rogers)</td>\n",
              "      <td>\\/Captain_America_(Steven_Rogers)</td>\n",
              "      <td>Public Identity</td>\n",
              "      <td>Good Characters</td>\n",
              "      <td>Blue Eyes</td>\n",
              "      <td>White Hair</td>\n",
              "      <td>Male Characters</td>\n",
              "      <td>NaN</td>\n",
              "      <td>Living Characters</td>\n",
              "      <td>3360.0</td>\n",
              "      <td>Mar-41</td>\n",
              "      <td>1941.0</td>\n",
              "    </tr>\n",
              "    <tr>\n",
              "      <th>2</th>\n",
              "      <td>64786</td>\n",
              "      <td>Wolverine (James \\\"Logan\\\" Howlett)</td>\n",
              "      <td>\\/Wolverine_(James_%22Logan%22_Howlett)</td>\n",
              "      <td>Public Identity</td>\n",
              "      <td>Neutral Characters</td>\n",
              "      <td>Blue Eyes</td>\n",
              "      <td>Black Hair</td>\n",
              "      <td>Male Characters</td>\n",
              "      <td>NaN</td>\n",
              "      <td>Living Characters</td>\n",
              "      <td>3061.0</td>\n",
              "      <td>Oct-74</td>\n",
              "      <td>1974.0</td>\n",
              "    </tr>\n",
              "  </tbody>\n",
              "</table>\n",
              "</div>"
            ],
            "text/plain": [
              "   page_id                                 name  \\\n",
              "0     1678            Spider-Man (Peter Parker)   \n",
              "1     7139      Captain America (Steven Rogers)   \n",
              "2    64786  Wolverine (James \\\"Logan\\\" Howlett)   \n",
              "\n",
              "                                   urlslug               ID  \\\n",
              "0              \\/Spider-Man_(Peter_Parker)  Secret Identity   \n",
              "1        \\/Captain_America_(Steven_Rogers)  Public Identity   \n",
              "2  \\/Wolverine_(James_%22Logan%22_Howlett)  Public Identity   \n",
              "\n",
              "                ALIGN         EYE        HAIR              SEX  GSM  \\\n",
              "0     Good Characters  Hazel Eyes  Brown Hair  Male Characters  NaN   \n",
              "1     Good Characters   Blue Eyes  White Hair  Male Characters  NaN   \n",
              "2  Neutral Characters   Blue Eyes  Black Hair  Male Characters  NaN   \n",
              "\n",
              "               ALIVE  APPEARANCES FIRST APPEARANCE    Year  \n",
              "0  Living Characters       4043.0           Aug-62  1962.0  \n",
              "1  Living Characters       3360.0           Mar-41  1941.0  \n",
              "2  Living Characters       3061.0           Oct-74  1974.0  "
            ]
          },
          "metadata": {
            "tags": []
          },
          "execution_count": 15
        }
      ]
    },
    {
      "cell_type": "code",
      "metadata": {
        "id": "TMocOUFqOnCF",
        "colab_type": "code",
        "outputId": "0f503c3f-e82a-48e0-b00c-44fbd663a673",
        "colab": {}
      },
      "source": [
        "# Mostrar las etiquetas\n",
        "data.index"
      ],
      "execution_count": 0,
      "outputs": [
        {
          "output_type": "execute_result",
          "data": {
            "text/plain": [
              "RangeIndex(start=0, stop=16376, step=1)"
            ]
          },
          "metadata": {
            "tags": []
          },
          "execution_count": 16
        }
      ]
    },
    {
      "cell_type": "code",
      "metadata": {
        "id": "OPhCouVsOnCJ",
        "colab_type": "code",
        "outputId": "52f90a83-906c-49f5-bcd3-603d9bee5619",
        "colab": {}
      },
      "source": [
        "# Mostrar estadísticos básicos de las columnas numéricas del dataframe\n",
        "data.describe()"
      ],
      "execution_count": 0,
      "outputs": [
        {
          "output_type": "execute_result",
          "data": {
            "text/html": [
              "<div>\n",
              "<style scoped>\n",
              "    .dataframe tbody tr th:only-of-type {\n",
              "        vertical-align: middle;\n",
              "    }\n",
              "\n",
              "    .dataframe tbody tr th {\n",
              "        vertical-align: top;\n",
              "    }\n",
              "\n",
              "    .dataframe thead th {\n",
              "        text-align: right;\n",
              "    }\n",
              "</style>\n",
              "<table border=\"1\" class=\"dataframe\">\n",
              "  <thead>\n",
              "    <tr style=\"text-align: right;\">\n",
              "      <th></th>\n",
              "      <th>page_id</th>\n",
              "      <th>APPEARANCES</th>\n",
              "      <th>Year</th>\n",
              "    </tr>\n",
              "  </thead>\n",
              "  <tbody>\n",
              "    <tr>\n",
              "      <th>count</th>\n",
              "      <td>16376.000000</td>\n",
              "      <td>15280.000000</td>\n",
              "      <td>15561.000000</td>\n",
              "    </tr>\n",
              "    <tr>\n",
              "      <th>mean</th>\n",
              "      <td>300232.082377</td>\n",
              "      <td>17.033377</td>\n",
              "      <td>1984.951803</td>\n",
              "    </tr>\n",
              "    <tr>\n",
              "      <th>std</th>\n",
              "      <td>253460.403399</td>\n",
              "      <td>96.372959</td>\n",
              "      <td>19.663571</td>\n",
              "    </tr>\n",
              "    <tr>\n",
              "      <th>min</th>\n",
              "      <td>1025.000000</td>\n",
              "      <td>1.000000</td>\n",
              "      <td>1939.000000</td>\n",
              "    </tr>\n",
              "    <tr>\n",
              "      <th>25%</th>\n",
              "      <td>28309.500000</td>\n",
              "      <td>1.000000</td>\n",
              "      <td>1974.000000</td>\n",
              "    </tr>\n",
              "    <tr>\n",
              "      <th>50%</th>\n",
              "      <td>282578.000000</td>\n",
              "      <td>3.000000</td>\n",
              "      <td>1990.000000</td>\n",
              "    </tr>\n",
              "    <tr>\n",
              "      <th>75%</th>\n",
              "      <td>509077.000000</td>\n",
              "      <td>8.000000</td>\n",
              "      <td>2000.000000</td>\n",
              "    </tr>\n",
              "    <tr>\n",
              "      <th>max</th>\n",
              "      <td>755278.000000</td>\n",
              "      <td>4043.000000</td>\n",
              "      <td>2013.000000</td>\n",
              "    </tr>\n",
              "  </tbody>\n",
              "</table>\n",
              "</div>"
            ],
            "text/plain": [
              "             page_id   APPEARANCES          Year\n",
              "count   16376.000000  15280.000000  15561.000000\n",
              "mean   300232.082377     17.033377   1984.951803\n",
              "std    253460.403399     96.372959     19.663571\n",
              "min      1025.000000      1.000000   1939.000000\n",
              "25%     28309.500000      1.000000   1974.000000\n",
              "50%    282578.000000      3.000000   1990.000000\n",
              "75%    509077.000000      8.000000   2000.000000\n",
              "max    755278.000000   4043.000000   2013.000000"
            ]
          },
          "metadata": {
            "tags": []
          },
          "execution_count": 17
        }
      ]
    },
    {
      "cell_type": "markdown",
      "metadata": {
        "id": "Z3IAdp5uOnCu",
        "colab_type": "text"
      },
      "source": [
        "### Indexación y selección de datos\n"
      ]
    },
    {
      "cell_type": "markdown",
      "metadata": {
        "id": "92JATiu3OnCx",
        "colab_type": "text"
      },
      "source": [
        "\n",
        "Podemos utilizar las expresiones habituales de Python (y NumPy) para seleccionar datos de _dataframes_ o bien usar los operadores propios de pandas. Estos últimos están optimizados, por lo que su uso es recomendado para trabajar con conjuntos de datos grandes o en situaciones donde la eficiencia sea crítica.\n",
        "\n",
        "### **Selección de datos¶**\n",
        "Gracias al potente sistema de índices de Pandas, la selección de datos casi no tiene límites:\n"
      ]
    },
    {
      "cell_type": "code",
      "metadata": {
        "id": "U-vwRsV2OnC0",
        "colab_type": "code",
        "outputId": "dc32b93d-1875-4886-fb46-fcaeb5bb4dc3",
        "colab": {}
      },
      "source": [
        "# Seleccionamos los nombres de los diez primeros personajes, es decir, mostramos la columna \"name\" de las diez primeras filas\n",
        "# usando expresiones Python.\n",
        "data[\"name\"][0:10]"
      ],
      "execution_count": 0,
      "outputs": [
        {
          "output_type": "execute_result",
          "data": {
            "text/plain": [
              "0              Spider-Man (Peter Parker)\n",
              "1        Captain America (Steven Rogers)\n",
              "2    Wolverine (James \\\"Logan\\\" Howlett)\n",
              "3      Iron Man (Anthony \\\"Tony\\\" Stark)\n",
              "4                    Thor (Thor Odinson)\n",
              "5             Benjamin Grimm (Earth-616)\n",
              "6              Reed Richards (Earth-616)\n",
              "7             Hulk (Robert Bruce Banner)\n",
              "8              Scott Summers (Earth-616)\n",
              "9             Jonathan Storm (Earth-616)\n",
              "Name: name, dtype: object"
            ]
          },
          "metadata": {
            "tags": []
          },
          "execution_count": 18
        }
      ]
    },
    {
      "cell_type": "code",
      "metadata": {
        "id": "Z3NGZXc5OnC7",
        "colab_type": "code",
        "outputId": "819d9fff-e101-4074-f80f-c817cb3dcf83",
        "colab": {}
      },
      "source": [
        "# Seleccionamos el nombre, el estado de identidad y el color de pelo de los superhéroes 3 y 8\n",
        "# usando el operador de acceso de pandas .loc\n",
        "data.loc[[3,8], [\"name\", \"ID\", \"HAIR\"]]"
      ],
      "execution_count": 0,
      "outputs": [
        {
          "output_type": "execute_result",
          "data": {
            "text/html": [
              "<div>\n",
              "<style scoped>\n",
              "    .dataframe tbody tr th:only-of-type {\n",
              "        vertical-align: middle;\n",
              "    }\n",
              "\n",
              "    .dataframe tbody tr th {\n",
              "        vertical-align: top;\n",
              "    }\n",
              "\n",
              "    .dataframe thead th {\n",
              "        text-align: right;\n",
              "    }\n",
              "</style>\n",
              "<table border=\"1\" class=\"dataframe\">\n",
              "  <thead>\n",
              "    <tr style=\"text-align: right;\">\n",
              "      <th></th>\n",
              "      <th>name</th>\n",
              "      <th>ID</th>\n",
              "      <th>HAIR</th>\n",
              "    </tr>\n",
              "  </thead>\n",
              "  <tbody>\n",
              "    <tr>\n",
              "      <th>3</th>\n",
              "      <td>Iron Man (Anthony \\\"Tony\\\" Stark)</td>\n",
              "      <td>Public Identity</td>\n",
              "      <td>Black Hair</td>\n",
              "    </tr>\n",
              "    <tr>\n",
              "      <th>8</th>\n",
              "      <td>Scott Summers (Earth-616)</td>\n",
              "      <td>Public Identity</td>\n",
              "      <td>Brown Hair</td>\n",
              "    </tr>\n",
              "  </tbody>\n",
              "</table>\n",
              "</div>"
            ],
            "text/plain": [
              "                                name               ID        HAIR\n",
              "3  Iron Man (Anthony \\\"Tony\\\" Stark)  Public Identity  Black Hair\n",
              "8          Scott Summers (Earth-616)  Public Identity  Brown Hair"
            ]
          },
          "metadata": {
            "tags": []
          },
          "execution_count": 19
        }
      ]
    },
    {
      "cell_type": "code",
      "metadata": {
        "id": "Z8cxx4CROnC_",
        "colab_type": "code",
        "outputId": "d5e7cb23-aa20-4220-9e6f-777256a943bd",
        "colab": {}
      },
      "source": [
        "# Seleccionamos filas según el género del superhéroe utilizando operadores binarios y expresiones Python.\n",
        "male = data[data.SEX == \"Male Characters\"]\n",
        "female = data[data.SEX == \"Female Characters\"]\n",
        "print(len(male))\n",
        "print(len(female))\n"
      ],
      "execution_count": 0,
      "outputs": [
        {
          "output_type": "stream",
          "text": [
            "11638\n",
            "3837\n"
          ],
          "name": "stdout"
        }
      ]
    },
    {
      "cell_type": "code",
      "metadata": {
        "id": "kMLeCrjHOnDE",
        "colab_type": "code",
        "outputId": "280acebc-a519-48f8-efe9-0a6c62f27783",
        "colab": {}
      },
      "source": [
        "# Combinamos operadores binarios para seleccionar los superhéroes con identidad secreta que han aparecido más\n",
        "# de dos mil veces con expresiones Python.\n",
        "secret_and_popular1 = data[(data.APPEARANCES > 1000) & (data.ID == \"Secret Identity\")]\n",
        "print(len(secret_and_popular1))\n",
        "print(secret_and_popular1[\"name\"])\n"
      ],
      "execution_count": 0,
      "outputs": [
        {
          "output_type": "stream",
          "text": [
            "5\n",
            "0      Spider-Man (Peter Parker)\n",
            "19      Robert Drake (Earth-616)\n",
            "23    Piotr Rasputin (Earth-616)\n",
            "29       Kurt Wagner (Earth-616)\n",
            "30            Vision (Earth-616)\n",
            "Name: name, dtype: object\n"
          ],
          "name": "stdout"
        }
      ]
    },
    {
      "cell_type": "code",
      "metadata": {
        "id": "T3V9cbSTOnDK",
        "colab_type": "code",
        "outputId": "da249e54-c658-4e58-96ba-b47b2ee2f37a",
        "colab": {}
      },
      "source": [
        "# Utilizamos el método 'where' de pandas para obtener la misma información:\n",
        "secret_and_popular2 = data.where((data.APPEARANCES > 1000) & (data.ID == \"Secret Identity\"))\n",
        "# Notad que en este caso el resultado tiene el mismo tamaño que el 'dataframe' original: los valores no seleccionados\n",
        "# muestran NaN.\n",
        "print(len(secret_and_popular2))\n",
        "print(secret_and_popular2[\"name\"][0:10])"
      ],
      "execution_count": 0,
      "outputs": [
        {
          "output_type": "stream",
          "text": [
            "16376\n",
            "0    Spider-Man (Peter Parker)\n",
            "1                          NaN\n",
            "2                          NaN\n",
            "3                          NaN\n",
            "4                          NaN\n",
            "5                          NaN\n",
            "6                          NaN\n",
            "7                          NaN\n",
            "8                          NaN\n",
            "9                          NaN\n",
            "Name: name, dtype: object\n"
          ],
          "name": "stdout"
        }
      ]
    },
    {
      "cell_type": "code",
      "metadata": {
        "id": "vs0aaLG6OnDN",
        "colab_type": "code",
        "outputId": "187bb945-c985-4486-dd5e-551d6f792b81",
        "colab": {}
      },
      "source": [
        "# Podemos eliminar las filas que tengan todos los valores NaN, obteniendo así el mismo resultado que usando \n",
        "# operadores binarios. \n",
        "print(secret_and_popular2.dropna(how=\"all\")[\"name\"])"
      ],
      "execution_count": 0,
      "outputs": [
        {
          "output_type": "stream",
          "text": [
            "0      Spider-Man (Peter Parker)\n",
            "19      Robert Drake (Earth-616)\n",
            "23    Piotr Rasputin (Earth-616)\n",
            "29       Kurt Wagner (Earth-616)\n",
            "30            Vision (Earth-616)\n",
            "Name: name, dtype: object\n"
          ],
          "name": "stdout"
        }
      ]
    },
    {
      "cell_type": "markdown",
      "metadata": {
        "id": "f3S7sIaMOnDR",
        "colab_type": "text"
      },
      "source": [
        "### Agregación de datos \n",
        "\n",
        "Pandas también permite crear grupos de datos a partir de los valores de una o más columnas y luego operar sobre los grupos creados. Veamos algunos ejemplos."
      ]
    },
    {
      "cell_type": "code",
      "metadata": {
        "id": "34jtUvD4OnDT",
        "colab_type": "code",
        "outputId": "daa24e9a-7373-47c3-f9b2-6e1f0fb0da55",
        "colab": {}
      },
      "source": [
        "# Agrupamos el 'dataframe' en función de la alineación del superhéroe.\n",
        "grouped = data.groupby(\"ALIGN\")\n",
        "\n",
        "# Visualizamos el nombre y el número de filas de cada grupo. \n",
        "for name, group in grouped:\n",
        "    print(name, len(group))\n",
        "    "
      ],
      "execution_count": 0,
      "outputs": [
        {
          "output_type": "stream",
          "text": [
            "Bad Characters 6720\n",
            "Good Characters 4636\n",
            "Neutral Characters 2208\n"
          ],
          "name": "stdout"
        }
      ]
    },
    {
      "cell_type": "code",
      "metadata": {
        "id": "2gWBTeglOnDY",
        "colab_type": "code",
        "outputId": "be1e5fff-fc49-436c-abbc-d5264b6eae8a",
        "colab": {}
      },
      "source": [
        "# Agrupamos el 'dataframe' en función de la alineación del superhéroe y de la ocultación de su identidad.\n",
        "grouped = data.groupby([\"ALIGN\", \"ID\"])\n",
        "\n",
        "# Visualizamos el nombre y el número de filas de cada grupo.\n",
        "for name, group in grouped:\n",
        "    print(name, len(group))"
      ],
      "execution_count": 0,
      "outputs": [
        {
          "output_type": "stream",
          "text": [
            "('Bad Characters', 'Known to Authorities Identity') 3\n",
            "('Bad Characters', 'No Dual Identity') 474\n",
            "('Bad Characters', 'Public Identity') 1452\n",
            "('Bad Characters', 'Secret Identity') 3223\n",
            "('Good Characters', 'Known to Authorities Identity') 10\n",
            "('Good Characters', 'No Dual Identity') 647\n",
            "('Good Characters', 'Public Identity') 1628\n",
            "('Good Characters', 'Secret Identity') 1613\n",
            "('Neutral Characters', 'Known to Authorities Identity') 2\n",
            "('Neutral Characters', 'No Dual Identity') 390\n",
            "('Neutral Characters', 'Public Identity') 706\n",
            "('Neutral Characters', 'Secret Identity') 818\n"
          ],
          "name": "stdout"
        }
      ]
    },
    {
      "cell_type": "code",
      "metadata": {
        "id": "NHSS8g0OOnDd",
        "colab_type": "code",
        "outputId": "5a3f16e8-7a2e-4b60-b802-6c0eeaaf8cd7",
        "colab": {}
      },
      "source": [
        "# A partir de los datos agrupados, aplicamos la función de agregación np.mean (que calcula la media).\n",
        "grouped.aggregate(np.mean)"
      ],
      "execution_count": 0,
      "outputs": [
        {
          "output_type": "execute_result",
          "data": {
            "text/html": [
              "<div>\n",
              "<style scoped>\n",
              "    .dataframe tbody tr th:only-of-type {\n",
              "        vertical-align: middle;\n",
              "    }\n",
              "\n",
              "    .dataframe tbody tr th {\n",
              "        vertical-align: top;\n",
              "    }\n",
              "\n",
              "    .dataframe thead th {\n",
              "        text-align: right;\n",
              "    }\n",
              "</style>\n",
              "<table border=\"1\" class=\"dataframe\">\n",
              "  <thead>\n",
              "    <tr style=\"text-align: right;\">\n",
              "      <th></th>\n",
              "      <th></th>\n",
              "      <th>page_id</th>\n",
              "      <th>APPEARANCES</th>\n",
              "      <th>Year</th>\n",
              "    </tr>\n",
              "    <tr>\n",
              "      <th>ALIGN</th>\n",
              "      <th>ID</th>\n",
              "      <th></th>\n",
              "      <th></th>\n",
              "      <th></th>\n",
              "    </tr>\n",
              "  </thead>\n",
              "  <tbody>\n",
              "    <tr>\n",
              "      <th rowspan=\"4\" valign=\"top\">Bad Characters</th>\n",
              "      <th>Known to Authorities Identity</th>\n",
              "      <td>20762.666667</td>\n",
              "      <td>11.666667</td>\n",
              "      <td>1991.666667</td>\n",
              "    </tr>\n",
              "    <tr>\n",
              "      <th>No Dual Identity</th>\n",
              "      <td>420196.056962</td>\n",
              "      <td>10.434211</td>\n",
              "      <td>1973.530806</td>\n",
              "    </tr>\n",
              "    <tr>\n",
              "      <th>Public Identity</th>\n",
              "      <td>364450.002066</td>\n",
              "      <td>10.846815</td>\n",
              "      <td>1973.381458</td>\n",
              "    </tr>\n",
              "    <tr>\n",
              "      <th>Secret Identity</th>\n",
              "      <td>272270.281415</td>\n",
              "      <td>8.895082</td>\n",
              "      <td>1984.200065</td>\n",
              "    </tr>\n",
              "    <tr>\n",
              "      <th rowspan=\"4\" valign=\"top\">Good Characters</th>\n",
              "      <th>Known to Authorities Identity</th>\n",
              "      <td>67293.700000</td>\n",
              "      <td>72.000000</td>\n",
              "      <td>1994.100000</td>\n",
              "    </tr>\n",
              "    <tr>\n",
              "      <th>No Dual Identity</th>\n",
              "      <td>351762.737249</td>\n",
              "      <td>41.811570</td>\n",
              "      <td>1981.512195</td>\n",
              "    </tr>\n",
              "    <tr>\n",
              "      <th>Public Identity</th>\n",
              "      <td>328621.391892</td>\n",
              "      <td>42.761401</td>\n",
              "      <td>1982.214422</td>\n",
              "    </tr>\n",
              "    <tr>\n",
              "      <th>Secret Identity</th>\n",
              "      <td>209598.569746</td>\n",
              "      <td>37.098220</td>\n",
              "      <td>1990.303430</td>\n",
              "    </tr>\n",
              "    <tr>\n",
              "      <th rowspan=\"4\" valign=\"top\">Neutral Characters</th>\n",
              "      <th>Known to Authorities Identity</th>\n",
              "      <td>25164.000000</td>\n",
              "      <td>180.500000</td>\n",
              "      <td>1988.500000</td>\n",
              "    </tr>\n",
              "    <tr>\n",
              "      <th>No Dual Identity</th>\n",
              "      <td>448877.128205</td>\n",
              "      <td>24.430481</td>\n",
              "      <td>1983.160237</td>\n",
              "    </tr>\n",
              "    <tr>\n",
              "      <th>Public Identity</th>\n",
              "      <td>405297.841360</td>\n",
              "      <td>22.266165</td>\n",
              "      <td>1987.366322</td>\n",
              "    </tr>\n",
              "    <tr>\n",
              "      <th>Secret Identity</th>\n",
              "      <td>255694.179707</td>\n",
              "      <td>19.737113</td>\n",
              "      <td>1992.339818</td>\n",
              "    </tr>\n",
              "  </tbody>\n",
              "</table>\n",
              "</div>"
            ],
            "text/plain": [
              "                                                        page_id  APPEARANCES  \\\n",
              "ALIGN              ID                                                          \n",
              "Bad Characters     Known to Authorities Identity   20762.666667    11.666667   \n",
              "                   No Dual Identity               420196.056962    10.434211   \n",
              "                   Public Identity                364450.002066    10.846815   \n",
              "                   Secret Identity                272270.281415     8.895082   \n",
              "Good Characters    Known to Authorities Identity   67293.700000    72.000000   \n",
              "                   No Dual Identity               351762.737249    41.811570   \n",
              "                   Public Identity                328621.391892    42.761401   \n",
              "                   Secret Identity                209598.569746    37.098220   \n",
              "Neutral Characters Known to Authorities Identity   25164.000000   180.500000   \n",
              "                   No Dual Identity               448877.128205    24.430481   \n",
              "                   Public Identity                405297.841360    22.266165   \n",
              "                   Secret Identity                255694.179707    19.737113   \n",
              "\n",
              "                                                         Year  \n",
              "ALIGN              ID                                          \n",
              "Bad Characters     Known to Authorities Identity  1991.666667  \n",
              "                   No Dual Identity               1973.530806  \n",
              "                   Public Identity                1973.381458  \n",
              "                   Secret Identity                1984.200065  \n",
              "Good Characters    Known to Authorities Identity  1994.100000  \n",
              "                   No Dual Identity               1981.512195  \n",
              "                   Public Identity                1982.214422  \n",
              "                   Secret Identity                1990.303430  \n",
              "Neutral Characters Known to Authorities Identity  1988.500000  \n",
              "                   No Dual Identity               1983.160237  \n",
              "                   Public Identity                1987.366322  \n",
              "                   Secret Identity                1992.339818  "
            ]
          },
          "metadata": {
            "tags": []
          },
          "execution_count": 26
        }
      ]
    },
    {
      "cell_type": "code",
      "metadata": {
        "id": "FnOq6UTSOnDi",
        "colab_type": "code",
        "outputId": "99568a96-1dcb-48cb-805a-b3cee3e26d68",
        "colab": {}
      },
      "source": [
        "# Recuperamos la información de un único grupo de interés.\n",
        "grouped.get_group((\"Neutral Characters\", \"Known to Authorities Identity\"))"
      ],
      "execution_count": 0,
      "outputs": [
        {
          "output_type": "execute_result",
          "data": {
            "text/html": [
              "<div>\n",
              "<style scoped>\n",
              "    .dataframe tbody tr th:only-of-type {\n",
              "        vertical-align: middle;\n",
              "    }\n",
              "\n",
              "    .dataframe tbody tr th {\n",
              "        vertical-align: top;\n",
              "    }\n",
              "\n",
              "    .dataframe thead th {\n",
              "        text-align: right;\n",
              "    }\n",
              "</style>\n",
              "<table border=\"1\" class=\"dataframe\">\n",
              "  <thead>\n",
              "    <tr style=\"text-align: right;\">\n",
              "      <th></th>\n",
              "      <th>page_id</th>\n",
              "      <th>name</th>\n",
              "      <th>urlslug</th>\n",
              "      <th>ID</th>\n",
              "      <th>ALIGN</th>\n",
              "      <th>EYE</th>\n",
              "      <th>HAIR</th>\n",
              "      <th>SEX</th>\n",
              "      <th>GSM</th>\n",
              "      <th>ALIVE</th>\n",
              "      <th>APPEARANCES</th>\n",
              "      <th>FIRST APPEARANCE</th>\n",
              "      <th>Year</th>\n",
              "    </tr>\n",
              "  </thead>\n",
              "  <tbody>\n",
              "    <tr>\n",
              "      <th>106</th>\n",
              "      <td>18186</td>\n",
              "      <td>Venom (Symbiote) (Earth-616)</td>\n",
              "      <td>\\/Venom_(Symbiote)_(Earth-616)</td>\n",
              "      <td>Known to Authorities Identity</td>\n",
              "      <td>Neutral Characters</td>\n",
              "      <td>Variable Eyes</td>\n",
              "      <td>No Hair</td>\n",
              "      <td>Agender Characters</td>\n",
              "      <td>NaN</td>\n",
              "      <td>Living Characters</td>\n",
              "      <td>348.0</td>\n",
              "      <td>May-84</td>\n",
              "      <td>1984.0</td>\n",
              "    </tr>\n",
              "    <tr>\n",
              "      <th>2668</th>\n",
              "      <td>32142</td>\n",
              "      <td>Obax Majid (Earth-616)</td>\n",
              "      <td>\\/Obax_Majid_(Earth-616)</td>\n",
              "      <td>Known to Authorities Identity</td>\n",
              "      <td>Neutral Characters</td>\n",
              "      <td>Brown Eyes</td>\n",
              "      <td>Black Hair</td>\n",
              "      <td>Female Characters</td>\n",
              "      <td>NaN</td>\n",
              "      <td>Living Characters</td>\n",
              "      <td>13.0</td>\n",
              "      <td>Sep-93</td>\n",
              "      <td>1993.0</td>\n",
              "    </tr>\n",
              "  </tbody>\n",
              "</table>\n",
              "</div>"
            ],
            "text/plain": [
              "      page_id                          name                         urlslug  \\\n",
              "106     18186  Venom (Symbiote) (Earth-616)  \\/Venom_(Symbiote)_(Earth-616)   \n",
              "2668    32142        Obax Majid (Earth-616)        \\/Obax_Majid_(Earth-616)   \n",
              "\n",
              "                                 ID               ALIGN            EYE  \\\n",
              "106   Known to Authorities Identity  Neutral Characters  Variable Eyes   \n",
              "2668  Known to Authorities Identity  Neutral Characters     Brown Eyes   \n",
              "\n",
              "            HAIR                 SEX  GSM              ALIVE  APPEARANCES  \\\n",
              "106      No Hair  Agender Characters  NaN  Living Characters        348.0   \n",
              "2668  Black Hair   Female Characters  NaN  Living Characters         13.0   \n",
              "\n",
              "     FIRST APPEARANCE    Year  \n",
              "106            May-84  1984.0  \n",
              "2668           Sep-93  1993.0  "
            ]
          },
          "metadata": {
            "tags": []
          },
          "execution_count": 27
        }
      ]
    },
    {
      "cell_type": "markdown",
      "metadata": {
        "id": "_-5fIwHwOnDq",
        "colab_type": "text"
      },
      "source": [
        "### Escritura de datos a un fichero\n",
        "\n",
        "De un modo análogo a cómo hemos cargado los datos de un fichero a un _dataframe_, podemos escribir los datos de un _dataframe_ en un fichero CSV."
      ]
    },
    {
      "cell_type": "code",
      "metadata": {
        "id": "_0HdbJ62OnDr",
        "colab_type": "code",
        "colab": {}
      },
      "source": [
        "# Creamos un 'dataframe' con los nombres de los superhéroes.\n",
        "new_dataset = data[[\"name\"]]\n",
        "# Guardamos el nuevo 'dataframe' en un fichero, forzando la codificación a 'utf-8'.\n",
        "new_dataset.to_csv(\"marvel-wikia-data-reduced.csv\", encoding='utf-8')\n"
      ],
      "execution_count": 0,
      "outputs": []
    }
  ]
}