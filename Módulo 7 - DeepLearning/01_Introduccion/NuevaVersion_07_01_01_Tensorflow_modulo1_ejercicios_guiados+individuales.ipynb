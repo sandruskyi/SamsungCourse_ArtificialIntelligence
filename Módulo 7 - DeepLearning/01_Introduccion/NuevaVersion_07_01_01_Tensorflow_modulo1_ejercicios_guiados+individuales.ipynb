{
 "cells": [
  {
   "cell_type": "markdown",
   "metadata": {
    "colab_type": "text",
    "id": "yUgPaJ6q3wIz"
   },
   "source": [
    "# Deep learning con Tensorflow - módulo 1\n",
    "## 0. Chequear el sistema\n",
    "## 1. Ejemplo MNIST\n",
    "## 2. Crear modelo\n",
    "## 3. Entrenar modelo\n",
    "## 4. Evaluar modelo\n",
    "## 5. Guardar modelo\n",
    "## 6. Utilizar modelo\n",
    "## 7. Hyperparameter tuning\n",
    "## 8. Explorar activacion del modelo"
   ]
  },
  {
   "cell_type": "markdown",
   "metadata": {
    "colab_type": "text",
    "id": "nAt102jU3wI1"
   },
   "source": [
    "# 0. Vamos a revisar nuestro sistema y la GPU"
   ]
  },
  {
   "cell_type": "code",
   "execution_count": 1,
   "metadata": {
    "colab": {
     "base_uri": "https://localhost:8080/",
     "height": 84
    },
    "colab_type": "code",
    "executionInfo": {
     "elapsed": 5116,
     "status": "ok",
     "timestamp": 1589441520929,
     "user": {
      "displayName": "Corina Morera",
      "photoUrl": "https://lh3.googleusercontent.com/a-/AOh14Gi8rzm1l01oRMJrjoC-Tcni2QpxHOWXw7u8nKdpfw=s64",
      "userId": "16052036413649582513"
     },
     "user_tz": -120
    },
    "id": "zRu_5rRl3wI1",
    "outputId": "04011314-b4bc-468b-d8fc-227df84ac917"
   },
   "outputs": [
    {
     "name": "stdout",
     "output_type": "stream",
     "text": [
      "Versión:  2.1.0\n",
      "Modo Eager:  True\n",
      "Versión Hub:  0.7.0\n",
      "GPU está disponible\n"
     ]
    }
   ],
   "source": [
    "from __future__ import absolute_import, division, print_function, unicode_literals\n",
    "\n",
    "import numpy as np\n",
    "import os\n",
    "import datetime\n",
    "\n",
    "import tensorflow as tf\n",
    "import tensorflow_hub as hub\n",
    "import tensorflow_datasets as tfds\n",
    "\n",
    "print(\"Versión: \", tf.__version__)\n",
    "print(\"Modo Eager: \", tf.executing_eagerly())\n",
    "print(\"Versión Hub: \", hub.__version__)\n",
    "print(\"GPU está\", \"disponible\" if tf.config.experimental.list_physical_devices(\"GPU\") else \"NO DISPONIBLE\")"
   ]
  },
  {
   "cell_type": "code",
   "execution_count": 2,
   "metadata": {
    "colab": {
     "base_uri": "https://localhost:8080/",
     "height": 368
    },
    "colab_type": "code",
    "executionInfo": {
     "elapsed": 11270,
     "status": "ok",
     "timestamp": 1589371001748,
     "user": {
      "displayName": "Corina Morera",
      "photoUrl": "https://lh3.googleusercontent.com/a-/AOh14Gi8rzm1l01oRMJrjoC-Tcni2QpxHOWXw7u8nKdpfw=s64",
      "userId": "16052036413649582513"
     },
     "user_tz": -120
    },
    "id": "GAn2C9Iy3wI6",
    "outputId": "2450b731-234b-4029-af20-1c1f0010205f"
   },
   "outputs": [
    {
     "name": "stdout",
     "output_type": "stream",
     "text": [
      "Tue May 26 10:36:30 2020       \n",
      "+-----------------------------------------------------------------------------+\n",
      "| NVIDIA-SMI 442.19       Driver Version: 442.19       CUDA Version: 10.2     |\n",
      "|-------------------------------+----------------------+----------------------+\n",
      "| GPU  Name            TCC/WDDM | Bus-Id        Disp.A | Volatile Uncorr. ECC |\n",
      "| Fan  Temp  Perf  Pwr:Usage/Cap|         Memory-Usage | GPU-Util  Compute M. |\n",
      "|===============================+======================+======================|\n",
      "|   0  GeForce GTX 1050   WDDM  | 00000000:01:00.0 Off |                  N/A |\n",
      "| N/A   38C    P8    N/A /  N/A |     77MiB /  4096MiB |      0%      Default |\n",
      "+-------------------------------+----------------------+----------------------+\n",
      "                                                                               \n",
      "+-----------------------------------------------------------------------------+\n",
      "| Processes:                                                       GPU Memory |\n",
      "|  GPU       PID   Type   Process name                             Usage      |\n",
      "|=============================================================================|\n",
      "|  No running processes found                                                 |\n",
      "+-----------------------------------------------------------------------------+\n",
      "nvcc: NVIDIA (R) Cuda compiler driver\n",
      "Copyright (c) 2005-2019 NVIDIA Corporation\n",
      "Built on Sun_Jul_28_19:12:52_Pacific_Daylight_Time_2019\n",
      "Cuda compilation tools, release 10.1, V10.1.243\n"
     ]
    }
   ],
   "source": [
    "# Comprueba la version de CUDA y cuDDN\n",
    "# CUDA 10.1\n",
    "# cuDDN - La librería de Red Neuronal Profunda (Deep Neural Network) de NVIDIA CUDA: https://developer.nvidia.com/cudnn\n",
    "# Fuente información: https://medium.com/@choowilson93/how-to-verify-cuda-and-cudnn-installation-d56a89bab0a8\n",
    "!nvidia-smi \n",
    "!nvcc --version"
   ]
  },
  {
   "cell_type": "markdown",
   "metadata": {
    "colab_type": "text",
    "id": "Ty7U27V_3wI9"
   },
   "source": [
    "# 1. Vamos a realizar un ejemplo con los datos de MNIST\n",
    "En la documentación de Tensorflow podemos encontrar un amplio catálogo de datasets para probar nuestros modelos: https://www.tensorflow.org/datasets/catalog/overview\n",
    "\n",
    "# Miramos que podamos cargar los datos"
   ]
  },
  {
   "cell_type": "code",
   "execution_count": 3,
   "metadata": {
    "colab": {
     "base_uri": "https://localhost:8080/",
     "height": 84
    },
    "colab_type": "code",
    "executionInfo": {
     "elapsed": 2412,
     "status": "ok",
     "timestamp": 1589441529829,
     "user": {
      "displayName": "Corina Morera",
      "photoUrl": "https://lh3.googleusercontent.com/a-/AOh14Gi8rzm1l01oRMJrjoC-Tcni2QpxHOWXw7u8nKdpfw=s64",
      "userId": "16052036413649582513"
     },
     "user_tz": -120
    },
    "id": "MqT4BV3S3wI9",
    "outputId": "a71b93c6-5b3a-44e5-9590-bb9b60b6c7ba"
   },
   "outputs": [
    {
     "name": "stdout",
     "output_type": "stream",
     "text": [
      "[INFO] Hemos cargado los datos\n",
      "[INFO] Data shape - train y validacion (60000, 28, 28) (10000, 28, 28)\n"
     ]
    }
   ],
   "source": [
    "from __future__ import absolute_import, division, print_function, unicode_literals\n",
    "\n",
    "# Importa tensorflow\n",
    "import tensorflow as tf\n",
    "\n",
    "# Bajamos los datos del set de MNIST y dividimos los datos en entrenamiento y test.\n",
    "mnist = tf.keras.datasets.mnist\n",
    "\n",
    "(x_train, y_train), (x_test, y_test) = mnist.load_data()\n",
    "\n",
    "x_train, x_test = x_train / 255.0, x_test / 255.0\n",
    "print(\"[INFO] Hemos cargado los datos\")\n",
    "print(\"[INFO] Data shape - train y validacion\",x_train.shape, x_test.shape)\n"
   ]
  },
  {
   "cell_type": "markdown",
   "metadata": {
    "colab_type": "text",
    "id": "uijR3kMO3wJA"
   },
   "source": [
    "# 2. Creamos el modelo\n",
    "\n",
    "En esta parte de la página de Keras podéis encontrar toda la información sobre capas, optimizadores etc.: https://keras.io/api/layers/"
   ]
  },
  {
   "cell_type": "code",
   "execution_count": 4,
   "metadata": {
    "colab": {
     "base_uri": "https://localhost:8080/",
     "height": 368
    },
    "colab_type": "code",
    "executionInfo": {
     "elapsed": 18010,
     "status": "ok",
     "timestamp": 1589371008565,
     "user": {
      "displayName": "Corina Morera",
      "photoUrl": "https://lh3.googleusercontent.com/a-/AOh14Gi8rzm1l01oRMJrjoC-Tcni2QpxHOWXw7u8nKdpfw=s64",
      "userId": "16052036413649582513"
     },
     "user_tz": -120
    },
    "id": "65iaZm133wJB",
    "outputId": "6cc04b6e-a87e-4513-aaae-3e6f674f7a70"
   },
   "outputs": [
    {
     "name": "stdout",
     "output_type": "stream",
     "text": [
      "[INFO] Modelo creado y compilado:  2capas\n",
      "Model: \"sequential\"\n",
      "_________________________________________________________________\n",
      "Layer (type)                 Output Shape              Param #   \n",
      "=================================================================\n",
      "flatten (Flatten)            (None, 784)               0         \n",
      "_________________________________________________________________\n",
      "dense (Dense)                (None, 128)               100480    \n",
      "_________________________________________________________________\n",
      "dropout (Dropout)            (None, 128)               0         \n",
      "_________________________________________________________________\n",
      "dense_1 (Dense)              (None, 128)               16512     \n",
      "_________________________________________________________________\n",
      "dropout_1 (Dropout)          (None, 128)               0         \n",
      "_________________________________________________________________\n",
      "dense_2 (Dense)              (None, 10)                1290      \n",
      "=================================================================\n",
      "Total params: 118,282\n",
      "Trainable params: 118,282\n",
      "Non-trainable params: 0\n",
      "_________________________________________________________________\n"
     ]
    }
   ],
   "source": [
    "# Definimos varios modelos que podemos seleccionar con un string de texto en la función \"choose_model()\"\n",
    "\n",
    "# Definimos que modelo queremos utilizar de los que tenemos en la función.\n",
    "model_to_choose = \"2capas\"\n",
    "\n",
    "# Definimos los modelos que tendremos disponibles\n",
    "def choose_model(text=\"\"):\n",
    "    if text ==\"2capas\":\n",
    "        model = tf.keras.models.Sequential([\n",
    "          tf.keras.layers.Flatten(input_shape=(28, 28)),\n",
    "          tf.keras.layers.Dense(128, activation='relu'),\n",
    "          tf.keras.layers.Dropout(0.2),\n",
    "          tf.keras.layers.Dense(128, activation='relu'),\n",
    "          tf.keras.layers.Dropout(0.2),\n",
    "          tf.keras.layers.Dense(10, activation='softmax')\n",
    "        ])\n",
    "    elif text == \"capa_grande\":\n",
    "        model = tf.keras.models.Sequential([\n",
    "          tf.keras.layers.Flatten(input_shape=(28, 28)),\n",
    "          tf.keras.layers.Dense(192, activation='relu'),\n",
    "          tf.keras.layers.Dropout(0.2),\n",
    "          tf.keras.layers.Dense(10, activation='softmax')\n",
    "        ])\n",
    "    else:      \n",
    "        model = tf.keras.models.Sequential([\n",
    "          tf.keras.layers.Flatten(input_shape=(28, 28)),\n",
    "          tf.keras.layers.Dense(128, activation='relu'),\n",
    "          tf.keras.layers.Dropout(0.2),\n",
    "          tf.keras.layers.Dense(10, activation='softmax')\n",
    "        ])\n",
    "    return model\n",
    "\n",
    "# Llamamos a la función \n",
    "model = choose_model(model_to_choose)\n",
    "\n",
    "# Compilamos el modelo\n",
    "model.compile(optimizer='adam',\n",
    "              loss='sparse_categorical_crossentropy',\n",
    "              metrics=['accuracy'])\n",
    "\n",
    "print(\"[INFO] Modelo creado y compilado: \", model_to_choose)\n",
    "\n",
    "# Y mostramos la arquitectura del modelo con model.summary()\n",
    "model.summary()"
   ]
  },
  {
   "cell_type": "code",
   "execution_count": null,
   "metadata": {
    "colab": {},
    "colab_type": "code",
    "id": "ZAP8glPX3wJD"
   },
   "outputs": [],
   "source": [
    "# import os\n",
    "# import datetime\n",
    "# Load the TensorBoard notebook extension\n",
    "# %reload_ext tensorboard\n",
    "\n",
    "#!del -rf ./logs/ \n",
    "#print(\"[INFO] Current working directory \", os.getcwd())\n",
    "#log_dir=\".\\\\logs\\\\fit\\\\\" + datetime.datetime.now().strftime(\"%Y%m%d-%H%M%S\")\n",
    "#tensorboard_callback = tf.keras.callbacks.TensorBoard(log_dir=log_dir, histogram_freq=1, profile_batch = 100000000)"
   ]
  },
  {
   "cell_type": "markdown",
   "metadata": {
    "colab_type": "text",
    "id": "WET8n8-U3wJG"
   },
   "source": [
    "# 3. Entrenamos el modelo"
   ]
  },
  {
   "cell_type": "code",
   "execution_count": 5,
   "metadata": {
    "colab": {
     "base_uri": "https://localhost:8080/",
     "height": 401
    },
    "colab_type": "code",
    "executionInfo": {
     "elapsed": 71747,
     "status": "ok",
     "timestamp": 1589371062348,
     "user": {
      "displayName": "Corina Morera",
      "photoUrl": "https://lh3.googleusercontent.com/a-/AOh14Gi8rzm1l01oRMJrjoC-Tcni2QpxHOWXw7u8nKdpfw=s64",
      "userId": "16052036413649582513"
     },
     "user_tz": -120
    },
    "id": "0kh_VZBT3wJH",
    "outputId": "c122956d-d47f-444e-96a6-a57888a4852f"
   },
   "outputs": [
    {
     "name": "stdout",
     "output_type": "stream",
     "text": [
      "Train on 60000 samples\n",
      "Epoch 1/10\n",
      "60000/60000 [==============================] - 6s 98us/sample - loss: 0.3015 - accuracy: 0.9087\n",
      "Epoch 2/10\n",
      "60000/60000 [==============================] - 5s 82us/sample - loss: 0.1456 - accuracy: 0.9560\n",
      "Epoch 3/10\n",
      "60000/60000 [==============================] - 5s 87us/sample - loss: 0.1150 - accuracy: 0.9641\n",
      "Epoch 4/10\n",
      "60000/60000 [==============================] - 5s 86us/sample - loss: 0.0972 - accuracy: 0.9694\n",
      "Epoch 5/10\n",
      "60000/60000 [==============================] - 5s 90us/sample - loss: 0.0859 - accuracy: 0.9736\n",
      "Epoch 6/10\n",
      "60000/60000 [==============================] - 5s 80us/sample - loss: 0.0767 - accuracy: 0.9754\n",
      "Epoch 7/10\n",
      "60000/60000 [==============================] - 5s 88us/sample - loss: 0.0693 - accuracy: 0.9784\n",
      "Epoch 8/10\n",
      "60000/60000 [==============================] - 5s 90us/sample - loss: 0.0664 - accuracy: 0.9781\n",
      "Epoch 9/10\n",
      "60000/60000 [==============================] - 5s 80us/sample - loss: 0.0639 - accuracy: 0.9789\n",
      "Epoch 10/10\n",
      "60000/60000 [==============================] - 5s 76us/sample - loss: 0.0553 - accuracy: 0.9814\n",
      "[INFO] Error de validacion del modelo\n",
      "10000/10000 [==============================] - 1s 76us/sample - loss: 0.0718 - accuracy: 0.9801\n"
     ]
    },
    {
     "data": {
      "text/plain": [
       "[0.07176223112843873, 0.9801]"
      ]
     },
     "execution_count": 5,
     "metadata": {},
     "output_type": "execute_result"
    }
   ],
   "source": [
    "# Una vez que ya tenemos el modelo lo entrenamos\n",
    "model.fit(x_train, y_train, epochs=10,verbose=1,)\n",
    "\n",
    "# Y cuando terminamos de entrenar el modelo mostramos el error de validación \n",
    "print(\"[INFO] Error de validacion del modelo\")\n",
    "model.evaluate(x_test, y_test, verbose=1)"
   ]
  },
  {
   "cell_type": "markdown",
   "metadata": {
    "colab_type": "text",
    "id": "UoDO8qq03wJK"
   },
   "source": [
    "# 4. Utilizamos el modelo\n",
    "Una vez entrenado el modelo, ya lo podemos utilizar"
   ]
  },
  {
   "cell_type": "code",
   "execution_count": 7,
   "metadata": {
    "colab": {
     "base_uri": "https://localhost:8080/",
     "height": 993
    },
    "colab_type": "code",
    "executionInfo": {
     "elapsed": 73079,
     "status": "ok",
     "timestamp": 1589371063700,
     "user": {
      "displayName": "Corina Morera",
      "photoUrl": "https://lh3.googleusercontent.com/a-/AOh14Gi8rzm1l01oRMJrjoC-Tcni2QpxHOWXw7u8nKdpfw=s64",
      "userId": "16052036413649582513"
     },
     "user_tz": -120
    },
    "id": "VvfIXJzH3wJL",
    "outputId": "4ca60d45-8ed0-40d5-f027-c5c4f8c30915"
   },
   "outputs": [
    {
     "name": "stdout",
     "output_type": "stream",
     "text": [
      "[INFO] Error de validacion del modelo\n",
      "10000/10000 - 1s - loss: 0.0718 - accuracy: 0.9801\n"
     ]
    },
    {
     "data": {
      "image/png": "[encoded data removed]",
      "text/plain": [
       "<Figure size 432x288 with 1 Axes>"
      ]
     },
     "metadata": {},
     "output_type": "display_data"
    },
    {
     "name": "stdout",
     "output_type": "stream",
     "text": [
      "[INFO] predicciones:\n",
      "[2.0338108e-07 5.5695496e-06 3.0893367e-05 7.7804731e-04 9.8885815e-09\n",
      " 1.4755219e-06 9.0629072e-13 9.9909985e-01 8.0964628e-06 7.5964665e-05]\n"
     ]
    },
    {
     "data": {
      "image/png": "[encoded data removed]",
      "text/plain": [
       "<Figure size 432x288 with 1 Axes>"
      ]
     },
     "metadata": {},
     "output_type": "display_data"
    },
    {
     "name": "stdout",
     "output_type": "stream",
     "text": [
      "[INFO] predicciones:\n",
      "[1.1973326e-13 6.2348035e-06 9.9999380e-01 2.3071007e-09 1.0286869e-16\n",
      " 1.2395376e-11 3.1746827e-12 3.3719909e-11 1.8867520e-11 5.2134915e-16]\n"
     ]
    },
    {
     "data": {
      "image/png": "[encoded data removed]",
      "text/plain": [
       "<Figure size 432x288 with 1 Axes>"
      ]
     },
     "metadata": {},
     "output_type": "display_data"
    },
    {
     "name": "stdout",
     "output_type": "stream",
     "text": [
      "[INFO] predicciones:\n",
      "[4.1269171e-10 9.9999809e-01 2.6519263e-08 1.2023903e-10 2.3132199e-07\n",
      " 5.8849070e-10 2.4016581e-08 1.5203323e-06 1.3815118e-07 2.8018871e-10]\n"
     ]
    }
   ],
   "source": [
    "print(\"[INFO] Error de validacion del modelo\")\n",
    "model.evaluate(x_test, y_test, verbose=2)\n",
    "\n",
    "# Predecimos algunos valores con el modelo\n",
    "predictions = model.predict(x_test[:3])\n",
    "\n",
    "# Pintamos los valores con el modelo\n",
    "from matplotlib import pyplot as plt\n",
    "\n",
    "for i in range(3):\n",
    "    image = (x_test[i]*255).astype(\"int\")\n",
    "    plt.imshow(image, cmap=\"gray\")\n",
    "    plt.title(\"Max -  {:06.4f} %\".format(predictions[i].max()*100) )\n",
    "    plt.show()\n",
    "    print(\"[INFO] predicciones:\")\n",
    "    print(predictions[i]) \n",
    "\n"
   ]
  },
  {
   "cell_type": "code",
   "execution_count": 8,
   "metadata": {
    "colab": {
     "base_uri": "https://localhost:8080/",
     "height": 455
    },
    "colab_type": "code",
    "executionInfo": {
     "elapsed": 74201,
     "status": "ok",
     "timestamp": 1589371064843,
     "user": {
      "displayName": "Corina Morera",
      "photoUrl": "https://lh3.googleusercontent.com/a-/AOh14Gi8rzm1l01oRMJrjoC-Tcni2QpxHOWXw7u8nKdpfw=s64",
      "userId": "16052036413649582513"
     },
     "user_tz": -120
    },
    "id": "YD8Ix5cN3wJO",
    "outputId": "fb4a3004-53d1-4e5f-97e9-62a46ad0f59a"
   },
   "outputs": [
    {
     "name": "stdout",
     "output_type": "stream",
     "text": [
      "WARNING:tensorflow:From C:\\Users\\slanz\\AppData\\Local\\Programs\\Python\\Python36\\lib\\site-packages\\tensorflow_core\\python\\ops\\resource_variable_ops.py:1786: calling BaseResourceVariable.__init__ (from tensorflow.python.ops.resource_variable_ops) with constraint is deprecated and will be removed in a future version.\n",
      "Instructions for updating:\n",
      "If using Keras pass *_constraint arguments to layers.\n",
      "INFO:tensorflow:Assets written to: modelo/assets\n",
      "[INFO] Hemos guardado el siguiente modelo\n",
      "Model: \"sequential\"\n",
      "_________________________________________________________________\n",
      "Layer (type)                 Output Shape              Param #   \n",
      "=================================================================\n",
      "flatten (Flatten)            (None, 784)               0         \n",
      "_________________________________________________________________\n",
      "dense (Dense)                (None, 128)               100480    \n",
      "_________________________________________________________________\n",
      "dropout (Dropout)            (None, 128)               0         \n",
      "_________________________________________________________________\n",
      "dense_1 (Dense)              (None, 128)               16512     \n",
      "_________________________________________________________________\n",
      "dropout_1 (Dropout)          (None, 128)               0         \n",
      "_________________________________________________________________\n",
      "dense_2 (Dense)              (None, 10)                1290      \n",
      "=================================================================\n",
      "Total params: 118,282\n",
      "Trainable params: 118,282\n",
      "Non-trainable params: 0\n",
      "_________________________________________________________________\n"
     ]
    }
   ],
   "source": [
    "# Podemos también guardar el modelo\n",
    "from os import makedirs\n",
    "\n",
    "makedirs('modelo', exist_ok=True)\n",
    "model.save('modelo/') \n",
    "# Hemos guardado este modelo\n",
    "print(\"[INFO] Hemos guardado el siguiente modelo\")\n",
    "model.summary()"
   ]
  },
  {
   "cell_type": "code",
   "execution_count": 9,
   "metadata": {
    "colab": {
     "base_uri": "https://localhost:8080/",
     "height": 368
    },
    "colab_type": "code",
    "executionInfo": {
     "elapsed": 74191,
     "status": "ok",
     "timestamp": 1589371064844,
     "user": {
      "displayName": "Corina Morera",
      "photoUrl": "https://lh3.googleusercontent.com/a-/AOh14Gi8rzm1l01oRMJrjoC-Tcni2QpxHOWXw7u8nKdpfw=s64",
      "userId": "16052036413649582513"
     },
     "user_tz": -120
    },
    "id": "gNRmsZt03wJQ",
    "outputId": "ca066aac-7436-4255-8e58-3b2e7afce738"
   },
   "outputs": [
    {
     "name": "stdout",
     "output_type": "stream",
     "text": [
      "[INFO] Siguiente modelo leido\n",
      "Model: \"sequential\"\n",
      "_________________________________________________________________\n",
      "Layer (type)                 Output Shape              Param #   \n",
      "=================================================================\n",
      "flatten (Flatten)            (None, 784)               0         \n",
      "_________________________________________________________________\n",
      "dense (Dense)                (None, 128)               100480    \n",
      "_________________________________________________________________\n",
      "dropout (Dropout)            (None, 128)               0         \n",
      "_________________________________________________________________\n",
      "dense_1 (Dense)              (None, 128)               16512     \n",
      "_________________________________________________________________\n",
      "dropout_1 (Dropout)          (None, 128)               0         \n",
      "_________________________________________________________________\n",
      "dense_2 (Dense)              (None, 10)                1290      \n",
      "=================================================================\n",
      "Total params: 118,282\n",
      "Trainable params: 118,282\n",
      "Non-trainable params: 0\n",
      "_________________________________________________________________\n"
     ]
    }
   ],
   "source": [
    "# Podemos cargar después el modelo\n",
    "model = tf.keras.models.load_model('modelo/')\n",
    "\n",
    "# Y tenemos nuestro modelo de vuelta \n",
    "print(\"[INFO] Siguiente modelo leido\")\n",
    "model.summary()"
   ]
  },
  {
   "cell_type": "markdown",
   "metadata": {
    "colab_type": "text",
    "id": "Phvh422cd414"
   },
   "source": [
    "#Pero, ¿Cómo desplegar nuestro modelo en la nube?\n",
    "Existe algo más allá de nuestros notebooks, este es un ejemplo que podría venir bien sobre cómo implementar nuestros modelos en la nube: https://www.aprendemachinelearning.com/tu-propio-servicio-de-machine-learning/"
   ]
  },
  {
   "cell_type": "markdown",
   "metadata": {
    "colab_type": "text",
    "id": "m5O5Q8Jk3wJT"
   },
   "source": [
    "# Ejercicio 1 - Chequea diferentes para mejorar el error"
   ]
  },
  {
   "cell_type": "code",
   "execution_count": 10,
   "metadata": {
    "colab": {
     "base_uri": "https://localhost:8080/",
     "height": 736
    },
    "colab_type": "code",
    "executionInfo": {
     "elapsed": 129057,
     "status": "ok",
     "timestamp": 1589371119721,
     "user": {
      "displayName": "Corina Morera",
      "photoUrl": "https://lh3.googleusercontent.com/a-/AOh14Gi8rzm1l01oRMJrjoC-Tcni2QpxHOWXw7u8nKdpfw=s64",
      "userId": "16052036413649582513"
     },
     "user_tz": -120
    },
    "id": "1Yd0peDX3wJT",
    "outputId": "45fb4b1b-8552-4533-b655-0deb7449d632"
   },
   "outputs": [
    {
     "name": "stdout",
     "output_type": "stream",
     "text": [
      "Summary: \n",
      "Model: \"sequential_1\"\n",
      "_________________________________________________________________\n",
      "Layer (type)                 Output Shape              Param #   \n",
      "=================================================================\n",
      "flatten_1 (Flatten)          (None, 784)               0         \n",
      "_________________________________________________________________\n",
      "dense_3 (Dense)              (None, 256)               200960    \n",
      "_________________________________________________________________\n",
      "dropout_2 (Dropout)          (None, 256)               0         \n",
      "_________________________________________________________________\n",
      "dense_4 (Dense)              (None, 128)               32896     \n",
      "_________________________________________________________________\n",
      "dropout_3 (Dropout)          (None, 128)               0         \n",
      "_________________________________________________________________\n",
      "dense_5 (Dense)              (None, 10)                1290      \n",
      "=================================================================\n",
      "Total params: 235,146\n",
      "Trainable params: 235,146\n",
      "Non-trainable params: 0\n",
      "_________________________________________________________________\n",
      "Train on 60000 samples\n",
      "Epoch 1/10\n",
      "60000/60000 [==============================] - 6s 92us/sample - loss: 0.2601 - accuracy: 0.9208\n",
      "Epoch 2/10\n",
      "60000/60000 [==============================] - 5s 87us/sample - loss: 0.1223 - accuracy: 0.9625\n",
      "Epoch 3/10\n",
      "60000/60000 [==============================] - 5s 83us/sample - loss: 0.0914 - accuracy: 0.9714\n",
      "Epoch 4/10\n",
      "60000/60000 [==============================] - 5s 89us/sample - loss: 0.0783 - accuracy: 0.9754\n",
      "Epoch 5/10\n",
      "60000/60000 [==============================] - 6s 93us/sample - loss: 0.0668 - accuracy: 0.9787\n",
      "Epoch 6/10\n",
      "60000/60000 [==============================] - 5s 87us/sample - loss: 0.0584 - accuracy: 0.9811\n",
      "Epoch 7/10\n",
      "60000/60000 [==============================] - 5s 90us/sample - loss: 0.0496 - accuracy: 0.9840\n",
      "Epoch 8/10\n",
      "60000/60000 [==============================] - 5s 81us/sample - loss: 0.0494 - accuracy: 0.9840\n",
      "Epoch 9/10\n",
      "60000/60000 [==============================] - 5s 87us/sample - loss: 0.0436 - accuracy: 0.9856\n",
      "Epoch 10/10\n",
      "60000/60000 [==============================] - 5s 84us/sample - loss: 0.0404 - accuracy: 0.9872\n",
      "[INFO] Error de validacion del modelo: \n",
      "10000/10000 [==============================] - 1s 76us/sample - loss: 0.0656 - accuracy: 0.9823\n"
     ]
    }
   ],
   "source": [
    "# 1.A) INCLUYE MÁS NEURONAS EN LA MISMA CAPA O EN OTRA.\n",
    "\n",
    "# Crearemos una función donde recogeremos nuestro modelo de \"2 capas\"\n",
    "# y añadiremos más neuronas a la primera.\n",
    "\n",
    "def modelo_mas_neuronas():\n",
    "    model = tf.keras.models.Sequential([\n",
    "          tf.keras.layers.Flatten(input_shape=(28, 28)),\n",
    "          tf.keras.layers.Dense(256, activation='relu'),\n",
    "          tf.keras.layers.Dropout(0.2),\n",
    "          tf.keras.layers.Dense(128, activation='relu'),\n",
    "          tf.keras.layers.Dropout(0.2),\n",
    "          tf.keras.layers.Dense(10, activation='softmax')\n",
    "        ])\n",
    "    return model\n",
    "\n",
    "modelo_2 = modelo_mas_neuronas()\n",
    "\n",
    "# Volvemos a compilar el modelo, a pedir un 'summary', comenzaremos el entrenamiento\n",
    "#y calculamos el error de validación. \n",
    "#Esta vez vamos a crear una función para poder emplearla en el siguiente \n",
    "#ejemplo, de esta manera no habrá que repetir todo el código de nuevo.\n",
    "\n",
    "def compila_y_mas(modelo):\n",
    "    modelo.compile(optimizer='adam',\n",
    "              loss='sparse_categorical_crossentropy',\n",
    "              metrics=['accuracy'])\n",
    "    print(\"Summary: \")\n",
    "    modelo.summary()\n",
    "    # Entrenamos y mostramos el error de validación\n",
    "    modelo.fit(x_train, y_train, epochs=10,verbose=1)\n",
    "    print(\"[INFO] Error de validacion del modelo: \")\n",
    "    modelo.evaluate(x_test, y_test, verbose=1)\n",
    "\n",
    "compila_y_mas(modelo_2)\n"
   ]
  },
  {
   "cell_type": "code",
   "execution_count": 11,
   "metadata": {
    "colab": {
     "base_uri": "https://localhost:8080/",
     "height": 769
    },
    "colab_type": "code",
    "executionInfo": {
     "elapsed": 258438,
     "status": "ok",
     "timestamp": 1589371249113,
     "user": {
      "displayName": "Corina Morera",
      "photoUrl": "https://lh3.googleusercontent.com/a-/AOh14Gi8rzm1l01oRMJrjoC-Tcni2QpxHOWXw7u8nKdpfw=s64",
      "userId": "16052036413649582513"
     },
     "user_tz": -120
    },
    "id": "WLm_DvPpBMf1",
    "outputId": "e647f91f-f992-46fa-a2a0-e2b861fb82b6"
   },
   "outputs": [
    {
     "name": "stdout",
     "output_type": "stream",
     "text": [
      "Summary: \n",
      "Model: \"sequential_2\"\n",
      "_________________________________________________________________\n",
      "Layer (type)                 Output Shape              Param #   \n",
      "=================================================================\n",
      "conv2d (Conv2D)              (None, 28, 28, 32)        320       \n",
      "_________________________________________________________________\n",
      "flatten_2 (Flatten)          (None, 25088)             0         \n",
      "_________________________________________________________________\n",
      "dense_6 (Dense)              (None, 256)               6422784   \n",
      "_________________________________________________________________\n",
      "dropout_4 (Dropout)          (None, 256)               0         \n",
      "_________________________________________________________________\n",
      "dense_7 (Dense)              (None, 128)               32896     \n",
      "_________________________________________________________________\n",
      "dropout_5 (Dropout)          (None, 128)               0         \n",
      "_________________________________________________________________\n",
      "dense_8 (Dense)              (None, 10)                1290      \n",
      "=================================================================\n",
      "Total params: 6,457,290\n",
      "Trainable params: 6,457,290\n",
      "Non-trainable params: 0\n",
      "_________________________________________________________________\n",
      "Train on 60000 samples\n",
      "Epoch 1/10\n",
      "60000/60000 [==============================] - 16s 259us/sample - loss: 0.1693 - accuracy: 0.9486\n",
      "Epoch 2/10\n",
      "60000/60000 [==============================] - 13s 218us/sample - loss: 0.0602 - accuracy: 0.9813\n",
      "Epoch 3/10\n",
      "60000/60000 [==============================] - 13s 221us/sample - loss: 0.0366 - accuracy: 0.9887\n",
      "Epoch 4/10\n",
      "60000/60000 [==============================] - 13s 217us/sample - loss: 0.0244 - accuracy: 0.9923\n",
      "Epoch 5/10\n",
      "60000/60000 [==============================] - 13s 217us/sample - loss: 0.0194 - accuracy: 0.9937\n",
      "Epoch 6/10\n",
      "60000/60000 [==============================] - 13s 219us/sample - loss: 0.0156 - accuracy: 0.9951\n",
      "Epoch 7/10\n",
      "60000/60000 [==============================] - 13s 220us/sample - loss: 0.0117 - accuracy: 0.9963\n",
      "Epoch 8/10\n",
      "60000/60000 [==============================] - 13s 218us/sample - loss: 0.0119 - accuracy: 0.9960\n",
      "Epoch 9/10\n",
      "60000/60000 [==============================] - 13s 217us/sample - loss: 0.0099 - accuracy: 0.9966\n",
      "Epoch 10/10\n",
      "60000/60000 [==============================] - 13s 221us/sample - loss: 0.0092 - accuracy: 0.9974\n",
      "[INFO] Error de validacion del modelo: \n",
      "10000/10000 [==============================] - 1s 118us/sample - loss: 0.0701 - accuracy: 0.9857\n"
     ]
    }
   ],
   "source": [
    "\n",
    "# 1.B) ¿QUÉ PASA SI INCLUYES ALGUNA CAPA DE CONVOLUCIÓN?\n",
    "#Documentación Keras sobre las distintas capas de convolución: https://keras.io/api/layers/convolution_layers/\n",
    "\n",
    "# Agregaremos una capa de convolución 2D (que pueden emplearse en las matrices 2d de las imágenes en blanco y negro, por ejemplo)\n",
    "# Pero, 1º, tenemos que hacer un reshape de nuestra 'x'... ¿por qué? La convolución precisa un input\n",
    "# con ndim=4 (un shape de 4 factores o 4 dimensiones), sin embargo, si vamos a las primeras celdas\n",
    "# de este notebook, podremos comprobar que x_train = (60000, 28, 28) y x_test = (10000, 28, 28), donde el 1er número\n",
    "# indica la cantidad de números pintados de cada muestra y los 2 siguientes indican la medida en píxeles de cada imagen.\n",
    "# Para la capa convolucional necesitaremos incluir una 4º dimensión que representará el nº de canales de la imagen\n",
    "# En nuestro caso será = 1, porque son imágenes en blanco y negro.\n",
    "\n",
    "#Reshape\n",
    "x_train = x_train.reshape(x_train.shape[0], 28, 28, 1)\n",
    "x_test = x_test.reshape(x_test.shape[0], 28, 28, 1)\n",
    "\n",
    "\n",
    "#Función de creación de modelo con nuestra capa extra de convolución\n",
    "def modelo_convol():\n",
    "    model = tf.keras.models.Sequential([\n",
    "          tf.keras.layers.Conv2D(32, (3,  3), padding='same', activation='relu', input_shape=(28,28,1)),\n",
    "          tf.keras.layers.Flatten(),\n",
    "          tf.keras.layers.Dense(256, activation='relu'),\n",
    "          tf.keras.layers.Dropout(0.2),\n",
    "          tf.keras.layers.Dense(128, activation='relu'),\n",
    "          tf.keras.layers.Dropout(0.2),\n",
    "          tf.keras.layers.Dense(10, activation='softmax')\n",
    "        ])\n",
    "    return model\n",
    "\n",
    "modelo_3 = modelo_convol()\n",
    "\n",
    "#Y volvemos a llamar a la función que hemos creado para compilar, entrenar y evaluar el modelo (en 1.A)\n",
    "compila_y_mas(modelo_3)\n"
   ]
  },
  {
   "cell_type": "code",
   "execution_count": 12,
   "metadata": {
    "colab": {
     "base_uri": "https://localhost:8080/",
     "height": 1000
    },
    "colab_type": "code",
    "executionInfo": {
     "elapsed": 3953,
     "status": "ok",
     "timestamp": 1589379497833,
     "user": {
      "displayName": "Corina Morera",
      "photoUrl": "https://lh3.googleusercontent.com/a-/AOh14Gi8rzm1l01oRMJrjoC-Tcni2QpxHOWXw7u8nKdpfw=s64",
      "userId": "16052036413649582513"
     },
     "user_tz": -120
    },
    "id": "9878vajke-bF",
    "outputId": "35b4bbb5-e121-4f05-fe6b-d747ee58aed9"
   },
   "outputs": [
    {
     "data": {
      "image/png": "[encoded data removed]",
      "text/plain": [
       "<Figure size 360x360 with 1 Axes>"
      ]
     },
     "metadata": {},
     "output_type": "display_data"
    },
    {
     "data": {
      "image/png": "[encoded data removed]",
      "text/plain": [
       "<Figure size 720x720 with 2 Axes>"
      ]
     },
     "metadata": {},
     "output_type": "display_data"
    },
    {
     "data": {
      "image/png": "[encoded data removed]",
      "text/plain": [
       "<Figure size 720x576 with 1 Axes>"
      ]
     },
     "metadata": {},
     "output_type": "display_data"
    }
   ],
   "source": [
    "# 1.C) ANÁLISIS DE DATOS\n",
    "\n",
    "%matplotlib inline\n",
    "import matplotlib.pyplot as plt\n",
    "import seaborn as sn \n",
    "from sklearn.metrics import confusion_matrix, roc_curve, auc, roc_auc_score, r2_score\n",
    "import pandas as pd\n",
    "\n",
    "# Crea una matriz de confusión y píntala, ¿dónde se esta equivocando el modelo?\n",
    "\n",
    "# Creamos la variable y_pred para poder comparar los datos de test \n",
    "# con los predichos por el modelo (en este caso el último que hemos hecho)\n",
    "# La segunda línea nos permitirá obtener el índice(que es igual que el valor \n",
    "# en este caso), y no las probabilidades que nos muestra por defecto x_test\n",
    "\n",
    "Y_pred = modelo_3.predict(x_test) \n",
    "y_pred = np.argmax(Y_pred, axis=1)\n",
    "\n",
    "# Mirar la distribución de los datos\n",
    "plt.figure(figsize=(5,5))\n",
    "\n",
    "#Añadimos el valor de R**2 y representamos la gráfica con Seaborn y Matplotlib\n",
    "r2 = round(r2_score(y_test, y_pred), 2) \n",
    "texto = 'R2 ='+ str(r2)\n",
    "plt.text(1, 8, texto, fontsize=20)\n",
    "\n",
    "sn.regplot(y_test, y_pred, color='b', scatter_kws={'alpha':0.1}) #Regresión + Scatter de Seaborn\n",
    "plt.title('Regresión lineal + Scatter Plot')\n",
    "plt.xlabel('PREDICCIÓN')\n",
    "plt.ylabel('VALOR REAL')\n",
    "plt.grid()\n",
    "plt.show()\n",
    "\n",
    "#Creamos nuestra matriz y hacemos nuestro plot\n",
    "cm = confusion_matrix(y_test, y_pred, normalize= 'true')\n",
    "\n",
    "plt.figure(figsize=(10,10))\n",
    "sn.heatmap(cm, annot=True, fmt='.3f', cmap = plt.get_cmap('Blues') ) #la opción fmt permite formatear los valores y ajustarlos a 3 decimales en nuestro ejemplo\n",
    "plt.title('MATRIZ DE CONFUSIÓN ')\n",
    "plt.xlabel('PREDICCIÓN')\n",
    "plt.ylabel('VALOR REAL')\n",
    "plt.imshow(cm)\n",
    "\n",
    "plt.show()\n",
    "\n",
    "# Pintar la curva ROC\n",
    "# Si tratamos de hacer una curva ROC nos arrojará un error si no pasamos a modo binario primero\n",
    "# nuestros datos, para hacer esto sin tener que repetir el ejercicio recurriremos a Pandas\n",
    "# y su método get_dummies\n",
    "\n",
    "def plot_multiclass_roc(modelo, x_test, y_test, n_classes, figsize=(17, 6)):\n",
    "    y_score = modelo_3.predict_proba(x_test)\n",
    "\n",
    "    # fpr = tasa de falsos positivos / tpr = tasa de verdaderos positivos\n",
    "    fpr = dict()\n",
    "    tpr = dict()\n",
    "    roc_auc = dict()\n",
    "\n",
    "    # Calculamos los dummies una vez\n",
    "    y_test_dummies = pd.get_dummies(y_test, drop_first=False).values\n",
    "    for i in range(n_classes):\n",
    "        fpr[i], tpr[i], _ = roc_curve(y_test_dummies[:, i], y_score[:, i])\n",
    "        roc_auc[i] = auc(fpr[i], tpr[i])\n",
    "\n",
    "    # ROC para cada clase (nuestros 10 dígitos en los que se divide la clasificación)\n",
    "    fig, ax = plt.subplots(figsize=figsize)\n",
    "    ax.plot([0, 1], [0, 1], 'k--')\n",
    "    ax.set_xlabel('Tasa Falsos Positivos')\n",
    "    ax.set_ylabel('Tasa Verdaderos Positivos')\n",
    "    ax.set_title('Curva ROC')\n",
    "    for i in range(n_classes):\n",
    "        ax.plot(fpr[i], tpr[i], label='ROC (area = %0.2f) para label %i' % (roc_auc[i], i))\n",
    "    ax.legend(loc=\"best\")\n",
    "    ax.grid()\n",
    "    sn.despine()\n",
    "    plt.show()\n",
    "\n",
    "plot_multiclass_roc(modelo_3, x_test, y_test, n_classes=10, figsize=(10, 8))\n",
    "# Como podemos comprobar, las curvas ( por cada dígito) salen muy apiñadas, ya que\n",
    "# su ROC es prácticamente la misma. \n"
   ]
  },
  {
   "cell_type": "code",
   "execution_count": 13,
   "metadata": {
    "colab": {
     "base_uri": "https://localhost:8080/",
     "height": 372
    },
    "colab_type": "code",
    "executionInfo": {
     "elapsed": 2181,
     "status": "ok",
     "timestamp": 1589374220901,
     "user": {
      "displayName": "Corina Morera",
      "photoUrl": "https://lh3.googleusercontent.com/a-/AOh14Gi8rzm1l01oRMJrjoC-Tcni2QpxHOWXw7u8nKdpfw=s64",
      "userId": "16052036413649582513"
     },
     "user_tz": -120
    },
    "id": "BRbPlICGh82b",
    "outputId": "3ed226ac-04b2-487e-da00-8c320bafb445"
   },
   "outputs": [
    {
     "name": "stdout",
     "output_type": "stream",
     "text": [
      "Localización (índices) de los errores en las predicciones del modelo: \n",
      " [18, 92, 247, 321, 445, 449, 479, 495, 543, 582, 674, 716, 717, 726, 740, 839, 844, 846, 882, 883, 947, 956, 1014, 1032, 1033, 1039, 1112, 1182, 1226, 1232, 1242, 1247, 1319, 1325, 1459, 1530, 1549, 1621, 1641, 1654, 1709, 1901, 1903, 1955, 2035, 2043, 2053, 2070, 2118, 2129, 2130, 2225, 2293, 2329, 2406, 2414, 2462, 2597, 2654, 2823, 2836, 2896, 2921, 2927, 2939, 2953, 3030, 3060, 3073, 3225, 3288, 3289, 3503, 3520, 3558, 3597, 3662, 3727, 3751, 3762, 3780, 3808, 3906, 3941, 4065, 4078, 4123, 4140, 4176, 4199, 4201, 4306, 4369, 4536, 4571, 4639, 4740, 4807, 4814, 4823, 4860, 4966, 5176, 5246, 5331, 5634, 5676, 5887, 5955, 5973, 5982, 6091, 6166, 6555, 6560, 6569, 6572, 6576, 6597, 6603, 6625, 6755, 6783, 7434, 8128, 8246, 8273, 8325, 8520, 8527, 9009, 9015, 9019, 9024, 9587, 9642, 9664, 9679, 9729, 9755, 9770, 9792, 9839]\n"
     ]
    },
    {
     "name": "stderr",
     "output_type": "stream",
     "text": [
      "Using TensorFlow backend.\n"
     ]
    },
    {
     "name": "stdout",
     "output_type": "stream",
     "text": [
      "\n",
      " Data augmentation con Zoom: \n",
      "\n"
     ]
    },
    {
     "data": {
      "image/png": "[encoded data removed]",
      "text/plain": [
       "<Figure size 432x288 with 9 Axes>"
      ]
     },
     "metadata": {},
     "output_type": "display_data"
    }
   ],
   "source": [
    "# Busca los ejemplos donde la red se esta equivocando\n",
    "#Esto es tan simple como hacer una comprehension list\n",
    "\n",
    "index_errores = [i for i in range(len(y_test)) if y_test[i] != y_pred[i]] \n",
    "print(\"Localización (índices) de los errores en las predicciones del modelo: \\n\", index_errores)\n",
    "\n",
    "\n",
    "# Intenta pensar en una forma de aumentar el set de datos de entrenamiento. ¿Cómo podrías hacer data augmentation?\n",
    "\n",
    "# Para aumentar el dataset con los datos que tenemos podríamos hacer variaciones en las imágenes\n",
    "# creando giros, zooms, cambiando colores, etc.\n",
    "# Hagamos un ejemplo generando imágenes con zoom:\n",
    "\n",
    "from keras.preprocessing.image import ImageDataGenerator\n",
    "  \n",
    "datagen = ImageDataGenerator(zoom_range=0.5)  \n",
    "\n",
    "# fit the data\n",
    "datagen.fit(x_train)\n",
    "for x_batch, y_batch in datagen.flow(x_train, y_train, batch_size=9):\n",
    "    for i in range(9):\n",
    "        plt.subplot(330 + 1 + i)\n",
    "        plt.imshow(x_batch[i].reshape(28, 28), cmap=('gray')) \n",
    "    print('\\n Data augmentation con Zoom: \\n')\n",
    "    plt.show()\n",
    "    break\n"
   ]
  },
  {
   "cell_type": "markdown",
   "metadata": {
    "colab_type": "text",
    "id": "o_DKUhg-3wJY"
   },
   "source": [
    "# Ejercicio 2 - Hyperparameter tuning\n",
    "\n",
    "**TIP**:  \n",
    "La gran Wikipedia nos dice que \"el ajuste de hiperparámetros es elegir un conjunto de hiperparámetros óptimos para un algoritmo de aprendizaje\". Un hiperparámetro es un parámetro cuyo valor se establece antes de que comience el proceso de aprendizaje.\n",
    "\n",
    "Para este ejemplo usaremos el RandomizedSearchCV de SKLearn\n",
    "\n",
    "Fuente:   \n",
    "https://medium.com/swlh/hyper-parameter-tuning-for-keras-models-with-scikit-learn-library-dba47cf41551\n",
    "\n",
    "Hyperparameter tuning en SKLearn:\n",
    "\n",
    "https://scikit-learn.org/stable/modules/generated/sklearn.model_selection.RandomizedSearchCV.html\n",
    "\n",
    "https://scikit-learn.org/stable/modules/generated/sklearn.model_selection.GridSearchCV.html"
   ]
  },
  {
   "cell_type": "code",
   "execution_count": null,
   "metadata": {
    "colab": {
     "base_uri": "https://localhost:8080/",
     "height": 1000
    },
    "colab_type": "code",
    "executionInfo": {
     "elapsed": 467936,
     "status": "ok",
     "timestamp": 1589442024310,
     "user": {
      "displayName": "Corina Morera",
      "photoUrl": "https://lh3.googleusercontent.com/a-/AOh14Gi8rzm1l01oRMJrjoC-Tcni2QpxHOWXw7u8nKdpfw=s64",
      "userId": "16052036413649582513"
     },
     "user_tz": -120
    },
    "id": "LILWppKh3wJZ",
    "outputId": "aed61032-82cd-44fc-b4df-935ffad94c6b"
   },
   "outputs": [],
   "source": [
    "# Una vez que ya entendemos el funcionamiento de esta red, \n",
    "# ¿Cuáles son los parámetros de la arquitectura con los que podemos jugar?\n",
    "# ¿Puedes hacer una funcion que corra varias veces la red desde cero con diferentes configuraciones?\n",
    "\n",
    "from tensorflow.keras import Sequential\n",
    "from tensorflow.keras.layers import Dense,Flatten\n",
    "from tensorflow.keras.wrappers.scikit_learn import KerasClassifier\n",
    "from sklearn.model_selection import RandomizedSearchCV\n",
    "\n",
    "#Vamos a crear un nuevo modelo con el que poder experimentar\n",
    "(X_train, y_trn), (X_test, y_tst) = mnist.load_data()\n",
    "X_trn = X_train[..., np.newaxis].astype(np.float32) / 255.\n",
    "X_tst = X_test[..., np.newaxis].astype(np.float32) / 255.\n",
    "\n",
    "def build_model(var_activation='relu',var_optimizer='adam'):\n",
    "    model = Sequential()\n",
    "    model.add(Flatten(input_shape=[28, 28, 1]))\n",
    "    model.add(Dense(64,activation=var_activation))\n",
    "    model.add(Dense(32,activation=var_activation))\n",
    "    model.add(Dense(16,activation=var_activation))\n",
    "    model.add(Dense(10,activation='softmax'))\n",
    "    model.compile(loss=\"sparse_categorical_crossentropy\",\n",
    "                optimizer=var_optimizer,\n",
    "                metrics=[\"accuracy\"])\n",
    "    return model\n",
    "\n",
    "model_default = build_model()\n",
    "\n",
    "# Creamos listas con los parámetros que queremos ir cambiando y probando\n",
    "# almacenándolas en forma de diccionario\n",
    "_activations=['tanh','relu','selu']\n",
    "_optimizers=['sgd','adam']\n",
    "_batch_size=[16,32,64]\n",
    "params=dict(var_activation=_activations,\n",
    "            var_optimizer=_optimizers,\n",
    "            batch_size=_batch_size)\n",
    "print(params)\n",
    "\n",
    "# Para usar RandomizedSearchCV, primero debemos hacer \n",
    "# que nuestro modelo Keras sea compatible con la biblioteca sklearn\n",
    "# y utilizaremos el wrapper de keras para scikitlearn: KerasClassifier.\n",
    "# Además, usaremos el random seed de Numpy para inicializar los pesos\n",
    "# de nuestro modelo con los mismos valores en cada iteración.\n",
    "\n",
    "model = KerasClassifier(build_fn=build_model,epochs=4,batch_size=16)\n",
    "np.random.seed(42)\n",
    "\n",
    "rscv = RandomizedSearchCV(model, param_distributions=params, cv=3, n_iter=10)\n",
    "rscv_results = rscv.fit(X_trn,y_trn)\n",
    "print('Best score is: {} using {}'.format(rscv_results.best_score_, rscv_results.best_params_))\n",
    "\n"
   ]
  },
  {
   "cell_type": "code",
   "execution_count": null,
   "metadata": {
    "colab": {
     "base_uri": "https://localhost:8080/",
     "height": 650
    },
    "colab_type": "code",
    "executionInfo": {
     "elapsed": 18331,
     "status": "ok",
     "timestamp": 1589445389163,
     "user": {
      "displayName": "Corina Morera",
      "photoUrl": "https://lh3.googleusercontent.com/a-/AOh14Gi8rzm1l01oRMJrjoC-Tcni2QpxHOWXw7u8nKdpfw=s64",
      "userId": "16052036413649582513"
     },
     "user_tz": -120
    },
    "id": "_y2DryozobXS",
    "outputId": "dba0e4a0-cf8b-4cb1-95b2-857d4934109a",
    "scrolled": false
   },
   "outputs": [],
   "source": [
    "# Pinta una gráfica con el error de validacion en eje z y los dos parámetros fundamentales en ejes X e Y\n",
    "\n",
    "%matplotlib inline\n",
    "import matplotlib.pyplot as plt\n",
    "from mpl_toolkits.mplot3d import axes3d\n",
    "from matplotlib import style\n",
    "\n",
    "# Cuantas capas tiene la red\n",
    "ejeX = np.array([1, 2, 3])\n",
    "#Cuantas neuronas tiene cada capa\n",
    "ejeY = np.array([32, 64, 128]) \n",
    "# error\n",
    "#ejeZ = np.array([[error]])\n",
    "x = []\n",
    "y = []\n",
    "z = []\n",
    "\n",
    "for i, capas in enumerate(ejeX):\n",
    "    \n",
    "    for j, neuronas in enumerate(ejeY):\n",
    "        \n",
    "        #Cogemos nuestro modelo por default, lo entrenamos y evaluamos el modelo\n",
    "        print(\"[INFO] Corriendo el caso de {:06.4f} capas y {:06.4f} neuronas por capa\".format(capas,neuronas))\n",
    "        model_def = build_model()\n",
    "        model_def.fit(X_trn,y_trn, epochs=4,verbose=1)\n",
    "        print(\"[INFO] Error de validacion del modelo y Accuracy: \")\n",
    "        eval = model_def.evaluate(X_trn,y_trn, verbose=1)\n",
    "        error = eval[0]\n",
    "        print(\"error: \", error, \"Check the evaluation\", eval) #Este será nuestro eje Z\n",
    "        x.append(capas)\n",
    "        y.append(neuronas)\n",
    "        z.append(error)\n"
   ]
  },
  {
   "cell_type": "code",
   "execution_count": null,
   "metadata": {},
   "outputs": [],
   "source": [
    "def f(x,y,info_list):\n",
    "    i=0\n",
    "    j=0\n",
    "    for var_i, var in enumerate(info_list[0]):\n",
    "        if x == var:\n",
    "            i = var_i\n",
    "    for var_i, var in enumerate(info_list[1]):\n",
    "        if y == var:\n",
    "            j = var_i\n",
    "    \n",
    "    return info_list[2][i*3+j]\n",
    "\n",
    "X, Y = np.meshgrid(x, y)\n",
    "Z = f(X,Y, [x,y,z])\n",
    "\n",
    "print( X, Y, Z)\n",
    "\n",
    "#X = np.array(x)\n",
    "#Y = np.array(y)\n",
    "#Z = np.array(z)\n",
    "fig = plt.figure(figsize=(8,8))\n",
    "# Agregamos un plano 3D\n",
    "ax1 = fig.add_subplot(111,projection='3d')\n",
    "ax1.plot_wireframe(X, Y , Z)\n",
    "#ax1.plot_surface(X,Y,Z)\n",
    "#ax1.scatter3D(X,Y,Z)\n",
    "plt.title('ERROR DE VALIDACIÓN MEDIO')\n",
    "plt.xlabel('CAPAS OCULTAS')\n",
    "plt.ylabel('DENSIDAD DE CAPAS OCULTAS')\n",
    "ax1.set_zlabel('\\n ERROR DE VALIDACIÓN MEDIO TRAS 4 ENTRENAMIENTOS')\n",
    "plt.grid()\n",
    "plt.show()\n",
    "\n",
    "ax.plot_surface(X, Y, Z, rstride=8, cstride=8, alpha=0.3)"
   ]
  },
  {
   "cell_type": "markdown",
   "metadata": {
    "colab_type": "text",
    "id": "Qlwep8m63wJb"
   },
   "source": [
    "# Ejercicio 3 - Utiliza la red para predecir y entender"
   ]
  },
  {
   "cell_type": "code",
   "execution_count": null,
   "metadata": {
    "colab": {
     "base_uri": "https://localhost:8080/",
     "height": 890
    },
    "colab_type": "code",
    "executionInfo": {
     "elapsed": 171444,
     "status": "ok",
     "timestamp": 1589632523483,
     "user": {
      "displayName": "Corina Morera",
      "photoUrl": "https://lh3.googleusercontent.com/a-/AOh14Gi8rzm1l01oRMJrjoC-Tcni2QpxHOWXw7u8nKdpfw=s64",
      "userId": "16052036413649582513"
     },
     "user_tz": -120
    },
    "id": "40jeeQWK3wJc",
    "outputId": "779b7031-eb0e-4ed3-e0ee-6677761d9069",
    "scrolled": false
   },
   "outputs": [],
   "source": [
    "# Implementa una arquitectura similar a la LeNet que hemos visto y asegúrate que la precisión supera los 99%\n",
    "# Fuentes:\n",
    "# http://yann.lecun.com/exdb/publis/pdf/lecun-01a.pdf\n",
    "# https://www.kaggle.com/curiousprogrammer/lenet-5-cnn-with-keras-99-48 \n",
    "import os \n",
    "import numpy as np\n",
    "import tensorflow as tf\n",
    "from tensorflow import keras\n",
    "from tensorflow.keras import layers\n",
    "from keras.datasets import mnist\n",
    "from keras.utils import np_utils\n",
    "from keras.models import Sequential, load_model\n",
    "from keras.layers import *\n",
    "from keras.optimizers import Adam\n",
    "from keras.preprocessing.image import ImageDataGenerator\n",
    "#print(os.listdir('/'))\n",
    "\n",
    "#Preparación de datos\n",
    "(X_train, y_train), (X_test, y_test) = mnist.load_data()\n",
    "X_train = X_train.reshape(-1, 28, 28, 1)  \n",
    "X_test = X_test.reshape(-1, 28, 28, 1)      \n",
    "X_train = X_train / 255\n",
    "X_test = X_test / 255\n",
    "y_train = np_utils.to_categorical(y_train, num_classes=10)\n",
    "y_test = np_utils.to_categorical(y_test, num_classes=10)\n",
    "\n",
    "#Modelo\n",
    "\n",
    "model = tf.keras.Sequential([\n",
    "    layers.Conv2D(32, 5, activation='relu', name='conv1' , input_shape=(28, 28, 1), padding='same'),\n",
    "    layers.MaxPooling2D(2, strides=2, padding='same'),\n",
    "    layers.Conv2D(64, 5, activation='relu', padding='valid', name='conv2'),\n",
    "    layers.MaxPooling2D(2, strides=2, padding='same'),\n",
    "    layers.Flatten(),\n",
    "    layers.Dense(256, activation='relu'),\n",
    "    layers.Dense(64, activation='relu'),\n",
    "    layers.Dense(10, activation='softmax'),\n",
    "])\n",
    "model.summary()\n",
    "\n",
    "#Compilamos\n",
    "model.compile(loss='categorical_crossentropy', metrics=['accuracy'], optimizer='adam')\n",
    "\n",
    "os.makedirs('./log',exist_ok=True)\n",
    "log = keras.callbacks.TensorBoard(log_dir='./log',histogram_freq=1,embeddings_freq=0,embeddings_layer_names=None)\n",
    "\n",
    "#Data augmentation con rotaciones, transformaciones, recorte y zoom, ¡vamos a por ese 99% de accuracy!\n",
    "datagen = ImageDataGenerator(rotation_range=10, width_shift_range=0.1, height_shift_range=0.1, shear_range=0.1,zoom_range=0.2)\n",
    "datagen.fit(X_train)                                         \n",
    "\n",
    "model.fit_generator(datagen.flow(X_train, y_train, batch_size=100), steps_per_epoch=len(X_train)/100, \n",
    "                    epochs=10, validation_data=(X_test, y_test))\n",
    "\n",
    "#puntuaciones\n",
    "score = model.evaluate(X_test, y_test, batch_size=32)\n",
    "print('Error de validación & Accuracy: ',score)\n"
   ]
  },
  {
   "cell_type": "code",
   "execution_count": null,
   "metadata": {
    "colab": {
     "base_uri": "https://localhost:8080/",
     "height": 1000
    },
    "colab_type": "code",
    "executionInfo": {
     "elapsed": 12780,
     "status": "ok",
     "timestamp": 1589633958524,
     "user": {
      "displayName": "Corina Morera",
      "photoUrl": "https://lh3.googleusercontent.com/a-/AOh14Gi8rzm1l01oRMJrjoC-Tcni2QpxHOWXw7u8nKdpfw=s64",
      "userId": "16052036413649582513"
     },
     "user_tz": -120
    },
    "id": "PP2mNf7Kbgbq",
    "outputId": "a7f6bdde-48d7-4068-c40b-1f450b9d3f49",
    "scrolled": false
   },
   "outputs": [],
   "source": [
    " \n",
    "# Intenta evaluar el efecto de la primera capa de convolución en una predicción.\n",
    "# ¿Qué hacen los filtros de la convolución con los números?\n",
    "\n",
    "# Para obtener el output de capas intermedias podemos nombrar las capas con un atributo \"name\"\n",
    "# Podéis comprobar que ya lo hemos hecho en nuestro modelo. Y procedemos como nos cuenta la\n",
    "# documentación de keras en el apartado: 'How can I obtain the output of an intermediate layer (feature extraction)?'\n",
    "# aquí: https://keras.io/getting_started/faq/\n",
    "# ¿Qué hace la convolución con los números?: En nuestro caso un filtro de 5x5 recorre la matriz de la imagen\n",
    "# generando una matriz de salida que \"dibuja\" las características distintivas de la imagen original,\n",
    "# que en el ejemplo que estamos prediciendo sería el primer número (un 7).\n",
    "\n",
    "layer_conv1 = keras.Model(inputs=model.input, outputs=model.get_layer('conv1').output)\n",
    "output_conv1 = layer_conv1.predict(X_test)\n",
    "pred = np.argmax(output_conv1, axis=1)\n",
    "#print('Efecto de la 1a convolución: ' , pred[0])\n",
    "\n",
    "\n",
    "# Dibuja los resultados de los filtros de convolución del nivel 1\n",
    "# Dibuja los resultados de los filtros de convolución del nivel 2\n",
    "\n",
    "#Hacemos el mismo proceso para la segunda convolución:\n",
    "\n",
    "layer_conv2 = keras.Model(inputs=model.input, outputs=model.get_layer('conv2').output)\n",
    "output_conv2 = layer_conv2.predict(X_test)\n",
    "pred_2 = np.argmax(output_conv2, axis=1)\n",
    "\n",
    "#Y pintamos las matrices activación de ambas convoluciones\n",
    "import matplotlib.pyplot as plt\n",
    "\n",
    "#Convolución 1\n",
    "plt.figure(figsize=(20,20))\n",
    "\n",
    "plt.subplot(121)\n",
    "plt.title('Matriz de activación Filtros de la 1a convolución. \\n De oscuro (activado) a claro (no activado): ')\n",
    "plt.xlabel('Kernels(32) del filtro')\n",
    "plt.ylabel('Activación')\n",
    "plt.imshow(pred[0])\n",
    "\n",
    "#Convolución 2\n",
    "plt.subplot(122)\n",
    "plt.title('\\n Matriz de activación Filtros de la 2a convolución. \\n De oscuro (activado) a claro (no activado): ')\n",
    "plt.xlabel('Kernels(64) del filtro')\n",
    "plt.ylabel('Activación')\n",
    "plt.imshow(pred_2[0])\n",
    "\n",
    "plt.show()\n",
    "\n",
    "# Ahora veamos cada una de las imágenes que generan los filtros de las convoluciones\n",
    "# Link para profundizar: https://www.codeastar.com/visualize-convolutional-neural-network/\n",
    "\n",
    "#Número a predecir:\n",
    "print('\\n Número que intenta predecir nuestra red: ')\n",
    "plt.imshow(X_test[0][:,:,0])\n",
    "plt.show()\n",
    "\n",
    "# Activaciones por convolución.Crearemos una función que nos permita acceder a\n",
    "# las 32 y 64 imágenes que crean los filtros de nuestras capas de convolución\n",
    "# (los mapas de activación). \n",
    "\n",
    "activations_conv1 = layer_conv1.predict(X_test[0].reshape(1,28,28,1)) # Convolución 1\n",
    "activations_conv2 = layer_conv2.predict(X_test[0].reshape(1,28,28,1)) # Convolución 2\n",
    "\n",
    "def display_activation(activations, col_size, row_size): \n",
    "    activation = activations\n",
    "    activation_index=0\n",
    "    fig, ax = plt.subplots(row_size, col_size, figsize=(row_size*2.5,col_size*1.5))\n",
    "    for row in range(0,row_size): \n",
    "        for col in range(0,col_size):\n",
    "            ax[row][col].axis(\"Off\")\n",
    "            ax[row][col].imshow(activation[0, :, :, activation_index], cmap='gray')\n",
    "            activation_index += 1\n",
    "\n",
    "print('\\n Mapas de activación de nuestras convoluciones: ')\n",
    "print(\"Primera capa\")\n",
    "act_conv1 = display_activation(activations_conv1, 8, 4) # 8x4 imágenes (filtro de 32 kernels de la 1a convolución)\n",
    "plt.show()\n",
    "print(\"Segunda capa\")\n",
    "act_conv2 = display_activation(activations_conv2, 16, 4) # 8x8 imágenes (filtro de 64 kernels de la 2a convolución)\n",
    "plt.show()\n"
   ]
  },
  {
   "cell_type": "code",
   "execution_count": null,
   "metadata": {
    "colab": {
     "base_uri": "https://localhost:8080/",
     "height": 211
    },
    "colab_type": "code",
    "executionInfo": {
     "elapsed": 2277,
     "status": "ok",
     "timestamp": 1589635153752,
     "user": {
      "displayName": "Corina Morera",
      "photoUrl": "https://lh3.googleusercontent.com/a-/AOh14Gi8rzm1l01oRMJrjoC-Tcni2QpxHOWXw7u8nKdpfw=s64",
      "userId": "16052036413649582513"
     },
     "user_tz": -120
    },
    "id": "tytaJTqKJXMs",
    "outputId": "4bc0cea5-097b-4f96-bc68-b14f9b101b4c"
   },
   "outputs": [],
   "source": [
    "\n",
    "# Utiliza la red para predecir números \n",
    "\n",
    "#Por ejemplo, los 5 primeros números\n",
    "Y_pred = model.predict(X_test) \n",
    "y_pred = np.argmax(Y_pred, axis=1)\n",
    "\n",
    "print('\\n Predicciones de la red: ', y_pred[:5])\n",
    "print('\\n Números a predecir: \\n')\n",
    "figure = plt.figure(figsize=(10,10))\n",
    "for i in range(5):\n",
    "    figure.add_subplot(1,5,i+1)\n",
    "    plt.imshow(X_test[i,:,:,0],cmap=\"gray\")\n",
    "    plt.axis(\"off\")\n"
   ]
  },
  {
   "cell_type": "markdown",
   "metadata": {},
   "source": [
    "# Ejercicio 4 - mostrar los kernels de convolucion junto a los resultados de dicha convolucion"
   ]
  },
  {
   "cell_type": "code",
   "execution_count": null,
   "metadata": {},
   "outputs": [],
   "source": [
    "# Reutiliza el codigo del ejercicio 2\n",
    "\n",
    "# Modifica el codigo para que en cada paso no solo muestre \n",
    "\n",
    "# Describe el tipo de filtro con lo que hayas aprendido de los filtros en OpenCV\n"
   ]
  },
  {
   "cell_type": "markdown",
   "metadata": {},
   "source": [
    "# Ejercicio 5 - Identifica nuevas formas de entrenar "
   ]
  },
  {
   "cell_type": "code",
   "execution_count": null,
   "metadata": {},
   "outputs": [],
   "source": [
    "# Revisa diferentes algoritmos de entrenamiento adam, SGD, etc... investiga su aplicacione\n",
    "\n",
    "# Compara los plots de entrenamiento con varios para este ejemplo de NMIST\n",
    "\n",
    "# Revisa diferentes formas de calcular el error - loss function\n",
    "\n",
    "# Compara los diferentes plots de entrenamiento para este ejemplo de NMIST\n",
    "\n",
    "# Puedes hacer un hyperparameter tuning con la mejor red anterior\n",
    "# con el eje X con diferentes loss functions, eje y las diferentes algoritmos de entrenamiento y en el Z el error medio\n",
    "\n"
   ]
  },
  {
   "cell_type": "markdown",
   "metadata": {
    "colab_type": "text",
    "id": "ngCMjpU83wJe"
   },
   "source": [
    "# BONUS - ¿Cómo harías un sistema de hyperparameter tuning que automáticamente te dé la mejor red?\n",
    "\n",
    "En nuestro ejemplo del Hyperparameter tuning ya lo hemos implementado. Comprobar."
   ]
  },
  {
   "cell_type": "code",
   "execution_count": null,
   "metadata": {},
   "outputs": [],
   "source": [
    "# Crea un algoritmo para generar 5 grupos de informacion - 3 train, 1 val, 1 test (1,2,3,   4    ,    5)\n",
    "\n",
    "# Entrena la red hasta que el error de validacion llegue a su minimo\n",
    "\n",
    "# Ejecuta el entrenamiento con varias inicializaciones de los parametros 5 veces. \n",
    "\n",
    "# Calcula la media y la desviacion tipica de cada arquitectura\n",
    "\n",
    "# Con el error en el test dataset y la media y desviacion tipica crea una logica para elegir la red optima\n",
    "\n",
    "# Mejora el algoritmo de optimizacion removiendo el test de validacion \n",
    "# (4,2,3,   1    ,    5) / (1,4,3,   2    ,    5) / (1,2,4,   3    ,    5) / (1,2,3,   4    ,    5)\n",
    "\n"
   ]
  }
 ],
 "metadata": {
  "accelerator": "GPU",
  "colab": {
   "collapsed_sections": [],
   "name": "07_01_01_Tensorflow_modulo1_ejercicios_guiados+individuales (1).ipynb",
   "provenance": []
  },
  "kernelspec": {
   "display_name": "Python 3",
   "language": "python",
   "name": "python3"
  },
  "language_info": {
   "codemirror_mode": {
    "name": "ipython",
    "version": 3
   },
   "file_extension": ".py",
   "mimetype": "text/x-python",
   "name": "python",
   "nbconvert_exporter": "python",
   "pygments_lexer": "ipython3",
   "version": "3.6.4"
  }
 },
 "nbformat": 4,
 "nbformat_minor": 1
}
