{
  "nbformat": 4,
  "nbformat_minor": 0,
  "metadata": {
    "accelerator": "GPU",
    "colab": {
      "name": "07_01_01_Tensorflow_modulo1_ejercicios_guiados+individuales.ipynb",
      "provenance": [],
      "collapsed_sections": []
    },
    "kernelspec": {
      "display_name": "Python 3",
      "language": "python",
      "name": "python3"
    },
    "language_info": {
      "codemirror_mode": {
        "name": "ipython",
        "version": 3
      },
      "file_extension": ".py",
      "mimetype": "text/x-python",
      "name": "python",
      "nbconvert_exporter": "python",
      "pygments_lexer": "ipython3",
      "version": "3.6.4"
    }
  },
  "cells": [
    {
      "cell_type": "markdown",
      "metadata": {
        "colab_type": "text",
        "id": "yUgPaJ6q3wIz"
      },
      "source": [
        "# Deep learning con Tensorflow - módulo 1\n",
        "## 0. Chequear el sistema\n",
        "## 1. Ejemplo MNIST\n",
        "## 2. Crear modelo\n",
        "## 3. Entrenar modelo\n",
        "## 4. Evaluar modelo\n",
        "## 5. Guardar modelo\n",
        "## 6. Utilizar modelo\n",
        "## 7. Hyperparameter tuning\n",
        "## 8. Explorar activacion del modelo"
      ]
    },
    {
      "cell_type": "markdown",
      "metadata": {
        "colab_type": "text",
        "id": "nAt102jU3wI1"
      },
      "source": [
        "# 0. Vamos a revisar nuestro sistema y la GPU"
      ]
    },
    {
      "cell_type": "code",
      "metadata": {
        "colab_type": "code",
        "id": "zRu_5rRl3wI1",
        "outputId": "3f9732c4-be3e-408f-c00c-121760949f92",
        "colab": {
          "base_uri": "https://localhost:8080/",
          "height": 85
        }
      },
      "source": [
        "from __future__ import absolute_import, division, print_function, unicode_literals\n",
        "\n",
        "import numpy as np\n",
        "import os\n",
        "import datetime\n",
        "\n",
        "import tensorflow as tf\n",
        "import tensorflow_hub as hub\n",
        "import tensorflow_datasets as tfds\n",
        "\n",
        "print(\"Versión: \", tf.__version__)\n",
        "print(\"Modo Eager: \", tf.executing_eagerly())\n",
        "print(\"Versión Hub: \", hub.__version__)\n",
        "print(\"GPU está\", \"disponible\" if tf.config.experimental.list_physical_devices(\"GPU\") else \"NO DISPONIBLE\")"
      ],
      "execution_count": 2,
      "outputs": [
        {
          "output_type": "stream",
          "text": [
            "Versión:  2.2.0\n",
            "Modo Eager:  True\n",
            "Versión Hub:  0.8.0\n",
            "GPU está disponible\n"
          ],
          "name": "stdout"
        }
      ]
    },
    {
      "cell_type": "code",
      "metadata": {
        "id": "WbiXLJMnSccE",
        "colab_type": "code",
        "colab": {
          "base_uri": "https://localhost:8080/",
          "height": 377
        },
        "outputId": "18fdfd24-512f-41ba-b763-95c9376d4c65"
      },
      "source": [
        "!pip install tensorflow_datasets"
      ],
      "execution_count": 4,
      "outputs": [
        {
          "output_type": "stream",
          "text": [
            "Requirement already satisfied: tensorflow_datasets in /usr/local/lib/python3.6/dist-packages (2.1.0)\n",
            "Requirement already satisfied: promise in /usr/local/lib/python3.6/dist-packages (from tensorflow_datasets) (2.3)\n",
            "Requirement already satisfied: protobuf>=3.6.1 in /usr/local/lib/python3.6/dist-packages (from tensorflow_datasets) (3.10.0)\n",
            "Requirement already satisfied: tqdm in /usr/local/lib/python3.6/dist-packages (from tensorflow_datasets) (4.41.1)\n",
            "Requirement already satisfied: six in /usr/local/lib/python3.6/dist-packages (from tensorflow_datasets) (1.12.0)\n",
            "Requirement already satisfied: numpy in /usr/local/lib/python3.6/dist-packages (from tensorflow_datasets) (1.18.4)\n",
            "Requirement already satisfied: wrapt in /usr/local/lib/python3.6/dist-packages (from tensorflow_datasets) (1.12.1)\n",
            "Requirement already satisfied: attrs>=18.1.0 in /usr/local/lib/python3.6/dist-packages (from tensorflow_datasets) (19.3.0)\n",
            "Requirement already satisfied: future in /usr/local/lib/python3.6/dist-packages (from tensorflow_datasets) (0.16.0)\n",
            "Requirement already satisfied: dill in /usr/local/lib/python3.6/dist-packages (from tensorflow_datasets) (0.3.1.1)\n",
            "Requirement already satisfied: tensorflow-metadata in /usr/local/lib/python3.6/dist-packages (from tensorflow_datasets) (0.22.0)\n",
            "Requirement already satisfied: requests>=2.19.0 in /usr/local/lib/python3.6/dist-packages (from tensorflow_datasets) (2.23.0)\n",
            "Requirement already satisfied: absl-py in /usr/local/lib/python3.6/dist-packages (from tensorflow_datasets) (0.9.0)\n",
            "Requirement already satisfied: termcolor in /usr/local/lib/python3.6/dist-packages (from tensorflow_datasets) (1.1.0)\n",
            "Requirement already satisfied: setuptools in /usr/local/lib/python3.6/dist-packages (from protobuf>=3.6.1->tensorflow_datasets) (46.3.0)\n",
            "Requirement already satisfied: googleapis-common-protos in /usr/local/lib/python3.6/dist-packages (from tensorflow-metadata->tensorflow_datasets) (1.51.0)\n",
            "Requirement already satisfied: idna<3,>=2.5 in /usr/local/lib/python3.6/dist-packages (from requests>=2.19.0->tensorflow_datasets) (2.9)\n",
            "Requirement already satisfied: chardet<4,>=3.0.2 in /usr/local/lib/python3.6/dist-packages (from requests>=2.19.0->tensorflow_datasets) (3.0.4)\n",
            "Requirement already satisfied: urllib3!=1.25.0,!=1.25.1,<1.26,>=1.21.1 in /usr/local/lib/python3.6/dist-packages (from requests>=2.19.0->tensorflow_datasets) (1.24.3)\n",
            "Requirement already satisfied: certifi>=2017.4.17 in /usr/local/lib/python3.6/dist-packages (from requests>=2.19.0->tensorflow_datasets) (2020.4.5.1)\n"
          ],
          "name": "stdout"
        }
      ]
    },
    {
      "cell_type": "code",
      "metadata": {
        "colab_type": "code",
        "id": "GAn2C9Iy3wI6",
        "outputId": "25ac2c3d-71a9-4dff-f1ba-daeb40c14d00",
        "colab": {
          "base_uri": "https://localhost:8080/",
          "height": 374
        }
      },
      "source": [
        "# Comprueba la version de CUDA y cuDDN\n",
        "# CUDA 10.1\n",
        "# cuDDN - La librería de Red Neuronal Profunda (Deep Neural Network) de NVIDIA CUDA: https://developer.nvidia.com/cudnn\n",
        "# Fuente información: https://medium.com/@choowilson93/how-to-verify-cuda-and-cudnn-installation-d56a89bab0a8\n",
        "!nvidia-smi \n",
        "!nvcc --version"
      ],
      "execution_count": 5,
      "outputs": [
        {
          "output_type": "stream",
          "text": [
            "Mon May 25 19:24:00 2020       \n",
            "+-----------------------------------------------------------------------------+\n",
            "| NVIDIA-SMI 440.82       Driver Version: 418.67       CUDA Version: 10.1     |\n",
            "|-------------------------------+----------------------+----------------------+\n",
            "| GPU  Name        Persistence-M| Bus-Id        Disp.A | Volatile Uncorr. ECC |\n",
            "| Fan  Temp  Perf  Pwr:Usage/Cap|         Memory-Usage | GPU-Util  Compute M. |\n",
            "|===============================+======================+======================|\n",
            "|   0  Tesla P4            Off  | 00000000:00:04.0 Off |                    0 |\n",
            "| N/A   35C    P8     7W /  75W |     10MiB /  7611MiB |      0%      Default |\n",
            "+-------------------------------+----------------------+----------------------+\n",
            "                                                                               \n",
            "+-----------------------------------------------------------------------------+\n",
            "| Processes:                                                       GPU Memory |\n",
            "|  GPU       PID   Type   Process name                             Usage      |\n",
            "|=============================================================================|\n",
            "|  No running processes found                                                 |\n",
            "+-----------------------------------------------------------------------------+\n",
            "nvcc: NVIDIA (R) Cuda compiler driver\n",
            "Copyright (c) 2005-2019 NVIDIA Corporation\n",
            "Built on Sun_Jul_28_19:07:16_PDT_2019\n",
            "Cuda compilation tools, release 10.1, V10.1.243\n"
          ],
          "name": "stdout"
        }
      ]
    },
    {
      "cell_type": "markdown",
      "metadata": {
        "colab_type": "text",
        "id": "Ty7U27V_3wI9"
      },
      "source": [
        "# 1. Vamos a realizar un ejemplo con los datos de MNIST\n",
        "En la documentación de Tensorflow podemos encontrar un amplio catálogo de datasets para probar nuestros modelos: https://www.tensorflow.org/datasets/catalog/overview\n",
        "\n",
        "# Miramos que podamos cargar los datos"
      ]
    },
    {
      "cell_type": "code",
      "metadata": {
        "colab_type": "code",
        "id": "MqT4BV3S3wI9",
        "outputId": "7f87d873-49ca-4fc6-d0ac-2df81a0ea519",
        "colab": {
          "base_uri": "https://localhost:8080/",
          "height": 85
        }
      },
      "source": [
        "from __future__ import absolute_import, division, print_function, unicode_literals\n",
        "\n",
        "# Importa tensorflow\n",
        "import tensorflow as tf\n",
        "\n",
        "# Bajamos los datos del set de MNIST y dividimos los datos en entrenamiento y test.\n",
        "mnist = tf.keras.datasets.mnist\n",
        "\n",
        "(x_train, y_train), (x_test, y_test) = mnist.load_data()\n",
        "\n",
        "x_train, x_test = x_train / 255.0, x_test / 255.0\n",
        "print(\"[INFO] Hemos cargado los datos\")\n",
        "print(\"[INFO] Data shape - train y test (datos de validación del modelo)\",x_train.shape, x_test.shape)\n",
        "# (60000, 28, 28) (10000, 28, 28) 60.000 datos de 28x28 de entrenamiento, y lo mismo de validación"
      ],
      "execution_count": 6,
      "outputs": [
        {
          "output_type": "stream",
          "text": [
            "Downloading data from https://storage.googleapis.com/tensorflow/tf-keras-datasets/mnist.npz\n",
            "11493376/11490434 [==============================] - 0s 0us/step\n",
            "[INFO] Hemos cargado los datos\n",
            "[INFO] Data shape - train y test (60000, 28, 28) (10000, 28, 28)\n"
          ],
          "name": "stdout"
        }
      ]
    },
    {
      "cell_type": "markdown",
      "metadata": {
        "colab_type": "text",
        "id": "uijR3kMO3wJA"
      },
      "source": [
        "# 2. Creamos el modelo\n",
        "\n",
        "En esta parte de la página de Keras podéis encontrar toda la información sobre capas, optimizadores etc.: https://keras.io/api/layers/"
      ]
    },
    {
      "cell_type": "code",
      "metadata": {
        "colab_type": "code",
        "id": "65iaZm133wJB",
        "outputId": "fa9fbdec-c16b-4e4c-d474-336d27bfc263",
        "colab": {
          "base_uri": "https://localhost:8080/",
          "height": 374
        }
      },
      "source": [
        "# Definimos varios modelos que podemos seleccionar con un string de texto en la función \"choose_model()\"\n",
        "\n",
        "# Definimos que modelo queremos utilizar de los que tenemos en la función.\n",
        "model_to_choose = \"2capas\"\n",
        "\n",
        "# Definimos los modelos que tendremos disponibles\n",
        "def choose_model(text=\"\"):\n",
        "    if text ==\"2capas\": \n",
        "        model = tf.keras.models.Sequential([ #Secuencial: Defines una capa después de otra, y la capa i está conectada con la i+1 mediante una función\n",
        "          tf.keras.layers.Flatten(input_shape=(28, 28)), # El Flatten es es pasar de un kernel de convolucion de un tamaño a otro tamaño lineal con 28x28= 784 neuronas de entrada\n",
        "          tf.keras.layers.Dense(128, activation='relu'),  # Todas las neuronas del flatten las conectamos con la capa densa relu con 128 neuronas \n",
        "                    # Con la formula 784*128 +1 = 100480 parámetros\n",
        "          tf.keras.layers.Dropout(0.2), #Luego hay un dropout\n",
        "          tf.keras.layers.Dense(128, activation='relu'), # Luego otra densa relu\n",
        "          tf.keras.layers.Dropout(0.2), # Luego otra dropoyt \n",
        "          tf.keras.layers.Dense(10, activation='softmax') # Y luego 10 capas densas softmax de salida\n",
        "        ])\n",
        "    elif text == \"capa_grande\":\n",
        "        model = tf.keras.models.Sequential([\n",
        "          tf.keras.layers.Flatten(input_shape=(28, 28)),\n",
        "          tf.keras.layers.Dense(192, activation='relu'),\n",
        "          tf.keras.layers.Dropout(0.2),\n",
        "          tf.keras.layers.Dense(10, activation='softmax')\n",
        "        ])\n",
        "    else:      \n",
        "        model = tf.keras.models.Sequential([\n",
        "          tf.keras.layers.Flatten(input_shape=(28, 28)),\n",
        "          tf.keras.layers.Dense(128, activation='relu'),\n",
        "          tf.keras.layers.Dropout(0.2),\n",
        "          tf.keras.layers.Dense(10, activation='softmax')\n",
        "        ])\n",
        "    return model\n",
        "\n",
        "# Llamamos a la función \n",
        "model = choose_model(model_to_choose)\n",
        "\n",
        "# Compilamos el modelo\n",
        "model.compile(optimizer='adam',\n",
        "              loss='sparse_categorical_crossentropy',\n",
        "              metrics=['accuracy'])\n",
        "\n",
        "print(\"[INFO] Modelo creado y compilado: \", model_to_choose)\n",
        "\n",
        "# Y mostramos la arquitectura del modelo con model.summary()\n",
        "model.summary() # Lista todas las capas del modelo y su nº de parámetros"
      ],
      "execution_count": 7,
      "outputs": [
        {
          "output_type": "stream",
          "text": [
            "[INFO] Modelo creado y compilado:  2capas\n",
            "Model: \"sequential\"\n",
            "_________________________________________________________________\n",
            "Layer (type)                 Output Shape              Param #   \n",
            "=================================================================\n",
            "flatten (Flatten)            (None, 784)               0         \n",
            "_________________________________________________________________\n",
            "dense (Dense)                (None, 128)               100480    \n",
            "_________________________________________________________________\n",
            "dropout (Dropout)            (None, 128)               0         \n",
            "_________________________________________________________________\n",
            "dense_1 (Dense)              (None, 128)               16512     \n",
            "_________________________________________________________________\n",
            "dropout_1 (Dropout)          (None, 128)               0         \n",
            "_________________________________________________________________\n",
            "dense_2 (Dense)              (None, 10)                1290      \n",
            "=================================================================\n",
            "Total params: 118,282\n",
            "Trainable params: 118,282\n",
            "Non-trainable params: 0\n",
            "_________________________________________________________________\n"
          ],
          "name": "stdout"
        }
      ]
    },
    {
      "cell_type": "code",
      "metadata": {
        "colab_type": "code",
        "id": "ZAP8glPX3wJD",
        "colab": {}
      },
      "source": [
        "# import os\n",
        "# import datetime\n",
        "# Load the TensorBoard notebook extension\n",
        "# %reload_ext tensorboard\n",
        "\n",
        "#!del -rf ./logs/ \n",
        "#print(\"[INFO] Current working directory \", os.getcwd())\n",
        "#log_dir=\".\\\\logs\\\\fit\\\\\" + datetime.datetime.now().strftime(\"%Y%m%d-%H%M%S\")\n",
        "#tensorboard_callback = tf.keras.callbacks.TensorBoard(log_dir=log_dir, histogram_freq=1, profile_batch = 100000000)"
      ],
      "execution_count": 0,
      "outputs": []
    },
    {
      "cell_type": "markdown",
      "metadata": {
        "colab_type": "text",
        "id": "WET8n8-U3wJG"
      },
      "source": [
        "# 3. Entrenamos el modelo"
      ]
    },
    {
      "cell_type": "code",
      "metadata": {
        "colab_type": "code",
        "id": "0kh_VZBT3wJH",
        "outputId": "b7a9e616-f69e-489e-fa19-7c8b55ea6fd7",
        "colab": {
          "base_uri": "https://localhost:8080/",
          "height": 408
        }
      },
      "source": [
        "# Una vez que ya tenemos el modelo lo entrenamos\n",
        "model.fit(x_train, y_train, epochs=10,verbose=1,) # Necesita: las entradas de entramiento, las salidas de entrenamiento, las epocas que son  el numero de veces que pasa por el entrenamiento y el verbose que es que quieres que te saque \n",
        "\n",
        "# Y cuando terminamos de entrenar el modelo mostramos el error de validación \n",
        "print(\"[INFO] Error de validacion del modelo\")\n",
        "model.evaluate(x_test, y_test, verbose=1)"
      ],
      "execution_count": 8,
      "outputs": [
        {
          "output_type": "stream",
          "text": [
            "Epoch 1/10\n",
            "1875/1875 [==============================] - 4s 2ms/step - loss: 0.2971 - accuracy: 0.9097\n",
            "Epoch 2/10\n",
            "1875/1875 [==============================] - 4s 2ms/step - loss: 0.1478 - accuracy: 0.9556\n",
            "Epoch 3/10\n",
            "1875/1875 [==============================] - 4s 2ms/step - loss: 0.1126 - accuracy: 0.9650\n",
            "Epoch 4/10\n",
            "1875/1875 [==============================] - 4s 2ms/step - loss: 0.0968 - accuracy: 0.9703\n",
            "Epoch 5/10\n",
            "1875/1875 [==============================] - 4s 2ms/step - loss: 0.0829 - accuracy: 0.9737\n",
            "Epoch 6/10\n",
            "1875/1875 [==============================] - 4s 2ms/step - loss: 0.0758 - accuracy: 0.9762\n",
            "Epoch 7/10\n",
            "1875/1875 [==============================] - 4s 2ms/step - loss: 0.0672 - accuracy: 0.9786\n",
            "Epoch 8/10\n",
            "1875/1875 [==============================] - 4s 2ms/step - loss: 0.0608 - accuracy: 0.9804\n",
            "Epoch 9/10\n",
            "1875/1875 [==============================] - 4s 2ms/step - loss: 0.0596 - accuracy: 0.9806\n",
            "Epoch 10/10\n",
            "1875/1875 [==============================] - 4s 2ms/step - loss: 0.0565 - accuracy: 0.9818\n",
            "[INFO] Error de validacion del modelo\n",
            "313/313 [==============================] - 1s 2ms/step - loss: 0.0768 - accuracy: 0.9770\n"
          ],
          "name": "stdout"
        },
        {
          "output_type": "execute_result",
          "data": {
            "text/plain": [
              "[0.07676234841346741, 0.9769999980926514]"
            ]
          },
          "metadata": {
            "tags": []
          },
          "execution_count": 8
        }
      ]
    },
    {
      "cell_type": "markdown",
      "metadata": {
        "colab_type": "text",
        "id": "UoDO8qq03wJK"
      },
      "source": [
        "# 4. Utilizamos el modelo\n",
        "Una vez entrenado el modelo, ya lo podemos utilizar"
      ]
    },
    {
      "cell_type": "code",
      "metadata": {
        "colab_type": "code",
        "id": "VvfIXJzH3wJL",
        "outputId": "4ca60d45-8ed0-40d5-f027-c5c4f8c30915",
        "colab": {
          "base_uri": "https://localhost:8080/",
          "height": 993
        }
      },
      "source": [
        "print(\"[INFO] Error de validacion del modelo\")\n",
        "model.evaluate(x_test, y_test, verbose=2)\n",
        "\n",
        "# Predecimos algunos valores con el modelo\n",
        "predictions = model.predict(x_test[:3])\n",
        "\n",
        "# Pintamos los valores con el modelo\n",
        "from matplotlib import pyplot as plt\n",
        "\n",
        "for i in range(3):\n",
        "    image = (x_test[i]*255).astype(\"int\")\n",
        "    plt.imshow(image, cmap=\"gray\")\n",
        "    plt.title(\"Max -  {:06.4f} %\".format(predictions[i].max()*100) )\n",
        "    plt.show()\n",
        "    print(\"[INFO] predicciones:\")\n",
        "    print(predictions[i]) \n",
        "\n"
      ],
      "execution_count": 0,
      "outputs": [
        {
          "output_type": "stream",
          "text": [
            "[INFO] Error de validacion del modelo\n",
            "10000/10000 - 1s - loss: 0.0707 - accuracy: 0.9793\n"
          ],
          "name": "stdout"
        },
        {
          "output_type": "display_data",
          "data": {
            "image/png": "[encoded data removed]",
            "text/plain": [
              "<Figure size 432x288 with 1 Axes>"
            ]
          },
          "metadata": {
            "tags": []
          }
        },
        {
          "output_type": "stream",
          "text": [
            "[INFO] predicciones:\n",
            "[1.00059926e-10 4.73401229e-07 1.89429571e-07 4.96264784e-06\n",
            " 2.12450479e-09 9.59511937e-08 1.76923804e-14 9.99989986e-01\n",
            " 2.17089080e-09 4.26323231e-06]\n"
          ],
          "name": "stdout"
        },
        {
          "output_type": "display_data",
          "data": {
            "image/png": "[encoded data removed]",
            "text/plain": [
              "<Figure size 432x288 with 1 Axes>"
            ]
          },
          "metadata": {
            "tags": []
          }
        },
        {
          "output_type": "stream",
          "text": [
            "[INFO] predicciones:\n",
            "[1.5047654e-14 1.5790818e-06 9.9999845e-01 4.6865485e-09 6.0594921e-16\n",
            " 2.6570326e-14 1.2036585e-12 4.3489166e-12 3.0381244e-12 6.1703982e-19]\n"
          ],
          "name": "stdout"
        },
        {
          "output_type": "display_data",
          "data": {
            "image/png": "[encoded data removed]",
            "text/plain": [
              "<Figure size 432x288 with 1 Axes>"
            ]
          },
          "metadata": {
            "tags": []
          }
        },
        {
          "output_type": "stream",
          "text": [
            "[INFO] predicciones:\n",
            "[1.4434441e-11 9.9999893e-01 5.7454015e-09 3.7588812e-13 8.6833109e-07\n",
            " 5.1919707e-10 2.9437937e-08 1.4524780e-07 1.3650021e-08 1.5997430e-09]\n"
          ],
          "name": "stdout"
        }
      ]
    },
    {
      "cell_type": "code",
      "metadata": {
        "colab_type": "code",
        "id": "YD8Ix5cN3wJO",
        "outputId": "fb4a3004-53d1-4e5f-97e9-62a46ad0f59a",
        "colab": {
          "base_uri": "https://localhost:8080/",
          "height": 455
        }
      },
      "source": [
        "# Podemos también guardar el modelo\n",
        "from os import makedirs\n",
        "\n",
        "makedirs('modelo', exist_ok=True)\n",
        "model.save('modelo/') \n",
        "# Hemos guardado este modelo\n",
        "print(\"[INFO] Hemos guardado el siguiente modelo\")\n",
        "model.summary()"
      ],
      "execution_count": 0,
      "outputs": [
        {
          "output_type": "stream",
          "text": [
            "WARNING:tensorflow:From C:\\Users\\slanz\\AppData\\Local\\Programs\\Python\\Python36\\lib\\site-packages\\tensorflow_core\\python\\ops\\resource_variable_ops.py:1786: calling BaseResourceVariable.__init__ (from tensorflow.python.ops.resource_variable_ops) with constraint is deprecated and will be removed in a future version.\n",
            "Instructions for updating:\n",
            "If using Keras pass *_constraint arguments to layers.\n",
            "INFO:tensorflow:Assets written to: modelo/assets\n",
            "[INFO] Hemos guardado el siguiente modelo\n",
            "Model: \"sequential\"\n",
            "_________________________________________________________________\n",
            "Layer (type)                 Output Shape              Param #   \n",
            "=================================================================\n",
            "flatten (Flatten)            (None, 784)               0         \n",
            "_________________________________________________________________\n",
            "dense (Dense)                (None, 128)               100480    \n",
            "_________________________________________________________________\n",
            "dropout (Dropout)            (None, 128)               0         \n",
            "_________________________________________________________________\n",
            "dense_1 (Dense)              (None, 128)               16512     \n",
            "_________________________________________________________________\n",
            "dropout_1 (Dropout)          (None, 128)               0         \n",
            "_________________________________________________________________\n",
            "dense_2 (Dense)              (None, 10)                1290      \n",
            "=================================================================\n",
            "Total params: 118,282\n",
            "Trainable params: 118,282\n",
            "Non-trainable params: 0\n",
            "_________________________________________________________________\n"
          ],
          "name": "stdout"
        }
      ]
    },
    {
      "cell_type": "code",
      "metadata": {
        "colab_type": "code",
        "id": "gNRmsZt03wJQ",
        "outputId": "ca066aac-7436-4255-8e58-3b2e7afce738",
        "colab": {
          "base_uri": "https://localhost:8080/",
          "height": 368
        }
      },
      "source": [
        "# Podemos cargar después el modelo\n",
        "model = tf.keras.models.load_model('modelo/')\n",
        "\n",
        "# Y tenemos nuestro modelo de vuelta \n",
        "print(\"[INFO] Siguiente modelo leido\")\n",
        "model.summary()"
      ],
      "execution_count": 0,
      "outputs": [
        {
          "output_type": "stream",
          "text": [
            "[INFO] Siguiente modelo leido\n",
            "Model: \"sequential\"\n",
            "_________________________________________________________________\n",
            "Layer (type)                 Output Shape              Param #   \n",
            "=================================================================\n",
            "flatten (Flatten)            (None, 784)               0         \n",
            "_________________________________________________________________\n",
            "dense (Dense)                (None, 128)               100480    \n",
            "_________________________________________________________________\n",
            "dropout (Dropout)            (None, 128)               0         \n",
            "_________________________________________________________________\n",
            "dense_1 (Dense)              (None, 128)               16512     \n",
            "_________________________________________________________________\n",
            "dropout_1 (Dropout)          (None, 128)               0         \n",
            "_________________________________________________________________\n",
            "dense_2 (Dense)              (None, 10)                1290      \n",
            "=================================================================\n",
            "Total params: 118,282\n",
            "Trainable params: 118,282\n",
            "Non-trainable params: 0\n",
            "_________________________________________________________________\n"
          ],
          "name": "stdout"
        }
      ]
    },
    {
      "cell_type": "markdown",
      "metadata": {
        "colab_type": "text",
        "id": "Phvh422cd414"
      },
      "source": [
        "#Pero, ¿Cómo desplegar nuestro modelo en la nube?\n",
        "Existe algo más allá de nuestros notebooks, este es un ejemplo que podría venir bien sobre cómo implementar nuestros modelos en la nube: https://www.aprendemachinelearning.com/tu-propio-servicio-de-machine-learning/"
      ]
    },
    {
      "cell_type": "markdown",
      "metadata": {
        "colab_type": "text",
        "id": "m5O5Q8Jk3wJT"
      },
      "source": [
        "# Ejercicio 1 - Chequea diferentes para mejorar el error"
      ]
    },
    {
      "cell_type": "code",
      "metadata": {
        "colab_type": "code",
        "id": "1Yd0peDX3wJT",
        "outputId": "45fb4b1b-8552-4533-b655-0deb7449d632",
        "colab": {
          "base_uri": "https://localhost:8080/",
          "height": 736
        }
      },
      "source": [
        "# 1.A) INCLUYE MÁS NEURONAS EN LA MISMA CAPA O EN OTRA.\n",
        "\n",
        "# Crearemos una función donde recogeremos nuestro modelo de \"2 capas\"\n",
        "# y añadiremos más neuronas a la primera.\n",
        "\n",
        "def modelo_mas_neuronas():\n",
        "    model = tf.keras.models.Sequential([\n",
        "          tf.keras.layers.Flatten(input_shape=(28, 28)),\n",
        "          tf.keras.layers.Dense(256, activation='relu'),\n",
        "          tf.keras.layers.Dropout(0.2),\n",
        "          tf.keras.layers.Dense(128, activation='relu'),\n",
        "          tf.keras.layers.Dropout(0.2),\n",
        "          tf.keras.layers.Dense(10, activation='softmax')\n",
        "        ])\n",
        "    return model\n",
        "\n",
        "modelo_2 = modelo_mas_neuronas()\n",
        "\n",
        "# Volvemos a compilar el modelo, a pedir un 'summary', comenzaremos el entrenamiento\n",
        "#y calculamos el error de validación. \n",
        "#Esta vez vamos a crear una función para poder emplearla en el siguiente \n",
        "#ejemplo, de esta manera no habrá que repetir todo el código de nuevo.\n",
        "\n",
        "def compila_y_mas(modelo):\n",
        "    modelo.compile(optimizer='adam',\n",
        "              loss='sparse_categorical_crossentropy',\n",
        "              metrics=['accuracy'])\n",
        "    print(\"Summary: \")\n",
        "    modelo.summary()\n",
        "    # Entrenamos y mostramos el error de validación\n",
        "    modelo.fit(x_train, y_train, epochs=10,verbose=1)\n",
        "    print(\"[INFO] Error de validacion del modelo: \")\n",
        "    modelo.evaluate(x_test, y_test, verbose=1)\n",
        "\n",
        "compila_y_mas(modelo_2)\n"
      ],
      "execution_count": 0,
      "outputs": [
        {
          "output_type": "stream",
          "text": [
            "Summary: \n",
            "Model: \"sequential_1\"\n",
            "_________________________________________________________________\n",
            "Layer (type)                 Output Shape              Param #   \n",
            "=================================================================\n",
            "flatten_1 (Flatten)          (None, 784)               0         \n",
            "_________________________________________________________________\n",
            "dense_3 (Dense)              (None, 256)               200960    \n",
            "_________________________________________________________________\n",
            "dropout_2 (Dropout)          (None, 256)               0         \n",
            "_________________________________________________________________\n",
            "dense_4 (Dense)              (None, 128)               32896     \n",
            "_________________________________________________________________\n",
            "dropout_3 (Dropout)          (None, 128)               0         \n",
            "_________________________________________________________________\n",
            "dense_5 (Dense)              (None, 10)                1290      \n",
            "=================================================================\n",
            "Total params: 235,146\n",
            "Trainable params: 235,146\n",
            "Non-trainable params: 0\n",
            "_________________________________________________________________\n",
            "Train on 60000 samples\n",
            "Epoch 1/10\n",
            "60000/60000 [==============================] - 8s 128us/sample - loss: 0.2577 - accuracy: 0.9215\n",
            "Epoch 2/10\n",
            "60000/60000 [==============================] - 8s 131us/sample - loss: 0.1205 - accuracy: 0.9631\n",
            "Epoch 3/10\n",
            "60000/60000 [==============================] - 7s 124us/sample - loss: 0.0911 - accuracy: 0.9729\n",
            "Epoch 4/10\n",
            "60000/60000 [==============================] - 8s 127us/sample - loss: 0.0752 - accuracy: 0.9767\n",
            "Epoch 5/10\n",
            "60000/60000 [==============================] - 7s 124us/sample - loss: 0.0646 - accuracy: 0.9793\n",
            "Epoch 6/10\n",
            "60000/60000 [==============================] - 8s 128us/sample - loss: 0.0597 - accuracy: 0.9814\n",
            "Epoch 7/10\n",
            "60000/60000 [==============================] - 8s 128us/sample - loss: 0.0523 - accuracy: 0.9835\n",
            "Epoch 8/10\n",
            "60000/60000 [==============================] - 8s 130us/sample - loss: 0.0469 - accuracy: 0.9850\n",
            "Epoch 9/10\n",
            "60000/60000 [==============================] - 7s 120us/sample - loss: 0.0433 - accuracy: 0.9867\n",
            "Epoch 10/10\n",
            "60000/60000 [==============================] - 7s 118us/sample - loss: 0.0419 - accuracy: 0.9867\n",
            "[INFO] Error de validacion del modelo: \n",
            "10000/10000 [==============================] - 1s 106us/sample - loss: 0.0667 - accuracy: 0.9803\n"
          ],
          "name": "stdout"
        }
      ]
    },
    {
      "cell_type": "code",
      "metadata": {
        "colab_type": "code",
        "id": "WLm_DvPpBMf1",
        "outputId": "e647f91f-f992-46fa-a2a0-e2b861fb82b6",
        "colab": {
          "base_uri": "https://localhost:8080/",
          "height": 769
        }
      },
      "source": [
        "\n",
        "# 1.B) ¿QUÉ PASA SI INCLUYES ALGUNA CAPA DE CONVOLUCIÓN?\n",
        "#Documentación Keras sobre las distintas capas de convolución: https://keras.io/api/layers/convolution_layers/\n",
        "\n",
        "# Agregaremos una capa de convolución 2D (que pueden emplearse en las matrices 2d de las imágenes en blanco y negro, por ejemplo)\n",
        "# Pero, 1º, tenemos que hacer un reshape de nuestra 'x'... ¿por qué? La convolución precisa un input\n",
        "# con ndim=4 (un shape de 4 factores o 4 dimensiones), sin embargo, si vamos a las primeras celdas\n",
        "# de este notebook, podremos comprobar que x_train = (60000, 28, 28) y x_test = (10000, 28, 28), donde el 1er número\n",
        "# indica la cantidad de números pintados de cada muestra y los 2 siguientes indican la medida en píxeles de cada imagen.\n",
        "# Para la capa convolucional necesitaremos incluir una 4º dimensión que representará el nº de canales de la imagen\n",
        "# En nuestro caso será = 1, porque son imágenes en blanco y negro.\n",
        "\n",
        "#Reshape\n",
        "x_train = x_train.reshape(x_train.shape[0], 28, 28, 1)\n",
        "x_test = x_test.reshape(x_test.shape[0], 28, 28, 1)\n",
        "\n",
        "\n",
        "#Función de creación de modelo con nuestra capa extra de convolución\n",
        "def modelo_convol():\n",
        "    model = tf.keras.models.Sequential([\n",
        "          tf.keras.layers.Conv2D(32, (3,  3), padding='same', activation='relu', input_shape=(28,28,1)),\n",
        "          tf.keras.layers.Flatten(),\n",
        "          tf.keras.layers.Dense(256, activation='relu'),\n",
        "          tf.keras.layers.Dropout(0.2),\n",
        "          tf.keras.layers.Dense(128, activation='relu'),\n",
        "          tf.keras.layers.Dropout(0.2),\n",
        "          tf.keras.layers.Dense(10, activation='softmax')\n",
        "        ])\n",
        "    return model\n",
        "\n",
        "modelo_3 = modelo_convol()\n",
        "\n",
        "#Y volvemos a llamar a la función que hemos creado para compilar, entrenar y evaluar el modelo (en 1.A)\n",
        "compila_y_mas(modelo_3)\n"
      ],
      "execution_count": 0,
      "outputs": [
        {
          "output_type": "stream",
          "text": [
            "Summary: \n",
            "Model: \"sequential_2\"\n",
            "_________________________________________________________________\n",
            "Layer (type)                 Output Shape              Param #   \n",
            "=================================================================\n",
            "conv2d (Conv2D)              (None, 28, 28, 32)        320       \n",
            "_________________________________________________________________\n",
            "flatten_2 (Flatten)          (None, 25088)             0         \n",
            "_________________________________________________________________\n",
            "dense_6 (Dense)              (None, 256)               6422784   \n",
            "_________________________________________________________________\n",
            "dropout_4 (Dropout)          (None, 256)               0         \n",
            "_________________________________________________________________\n",
            "dense_7 (Dense)              (None, 128)               32896     \n",
            "_________________________________________________________________\n",
            "dropout_5 (Dropout)          (None, 128)               0         \n",
            "_________________________________________________________________\n",
            "dense_8 (Dense)              (None, 10)                1290      \n",
            "=================================================================\n",
            "Total params: 6,457,290\n",
            "Trainable params: 6,457,290\n",
            "Non-trainable params: 0\n",
            "_________________________________________________________________\n",
            "Train on 60000 samples\n",
            "Epoch 1/10\n",
            "60000/60000 [==============================] - 16s 273us/sample - loss: 0.1673 - accuracy: 0.9487\n",
            "Epoch 2/10\n",
            "60000/60000 [==============================] - 14s 232us/sample - loss: 0.0574 - accuracy: 0.9822\n",
            "Epoch 3/10\n",
            "60000/60000 [==============================] - 14s 233us/sample - loss: 0.0365 - accuracy: 0.9887\n",
            "Epoch 4/10\n",
            "60000/60000 [==============================] - 14s 234us/sample - loss: 0.0233 - accuracy: 0.9925\n",
            "Epoch 5/10\n",
            "60000/60000 [==============================] - 14s 229us/sample - loss: 0.0175 - accuracy: 0.9944\n",
            "Epoch 6/10\n",
            "60000/60000 [==============================] - 14s 232us/sample - loss: 0.0151 - accuracy: 0.9955\n",
            "Epoch 7/10\n",
            "60000/60000 [==============================] - 14s 233us/sample - loss: 0.0108 - accuracy: 0.9964\n",
            "Epoch 8/10\n",
            "60000/60000 [==============================] - 14s 235us/sample - loss: 0.0107 - accuracy: 0.9968\n",
            "Epoch 9/10\n",
            "60000/60000 [==============================] - 14s 236us/sample - loss: 0.0108 - accuracy: 0.9967\n",
            "Epoch 10/10\n",
            "60000/60000 [==============================] - 14s 231us/sample - loss: 0.0086 - accuracy: 0.9974\n",
            "[INFO] Error de validacion del modelo: \n",
            "10000/10000 [==============================] - 1s 118us/sample - loss: 0.0649 - accuracy: 0.9863\n"
          ],
          "name": "stdout"
        }
      ]
    },
    {
      "cell_type": "code",
      "metadata": {
        "colab_type": "code",
        "id": "9878vajke-bF",
        "outputId": "35b4bbb5-e121-4f05-fe6b-d747ee58aed9",
        "colab": {
          "base_uri": "https://localhost:8080/",
          "height": 1000
        }
      },
      "source": [
        "# 1.C) ANÁLISIS DE DATOS\n",
        "\n",
        "%matplotlib inline\n",
        "import matplotlib.pyplot as plt\n",
        "import seaborn as sn \n",
        "from sklearn.metrics import confusion_matrix, roc_curve, auc, roc_auc_score, r2_score\n",
        "import pandas as pd\n",
        "\n",
        "# Crea una matriz de confusión y píntala, ¿dónde se esta equivocando el modelo?\n",
        "\n",
        "# Creamos la variable y_pred para poder comparar los datos de test \n",
        "# con los predichos por el modelo (en este caso el último que hemos hecho)\n",
        "# La segunda línea nos permitirá obtener el índice(que es igual que el valor \n",
        "# en este caso), y no las probabilidades que nos muestra por defecto x_test\n",
        "\n",
        "Y_pred = modelo_3.predict(x_test) \n",
        "y_pred = np.argmax(Y_pred, axis=1)\n",
        "\n",
        "# Mirar la distribución de los datos\n",
        "plt.figure(figsize=(5,5))\n",
        "\n",
        "#Añadimos el valor de R**2 y representamos la gráfica con Seaborn y Matplotlib\n",
        "r2 = round(r2_score(y_test, y_pred), 2) \n",
        "texto = 'R2 ='+ str(r2)\n",
        "plt.text(1, 8, texto, fontsize=20)\n",
        "\n",
        "sn.regplot(y_test, y_pred, color='b', scatter_kws={'alpha':0.1}) #Regresión + Scatter de Seaborn\n",
        "plt.title('Regresión lineal + Scatter Plot')\n",
        "plt.xlabel('PREDICCIÓN')\n",
        "plt.ylabel('VALOR REAL')\n",
        "plt.grid()\n",
        "plt.show()\n",
        "\n",
        "#Creamos nuestra matriz y hacemos nuestro plot\n",
        "cm = confusion_matrix(y_test, y_pred, normalize= 'true')\n",
        "\n",
        "plt.figure(figsize=(10,10))\n",
        "sn.heatmap(cm, annot=True, fmt='.3f', cmap = plt.get_cmap('Blues') ) #la opción fmt permite formatear los valores y ajustarlos a 3 decimales en nuestro ejemplo\n",
        "plt.title('MATRIZ DE CONFUSIÓN ')\n",
        "plt.xlabel('PREDICCIÓN')\n",
        "plt.ylabel('VALOR REAL')\n",
        "plt.imshow(cm)\n",
        "\n",
        "plt.show()\n",
        "\n",
        "# Pintar la curva ROC\n",
        "# Si tratamos de hacer una curva ROC nos arrojará un error si no pasamos a modo binario primero\n",
        "# nuestros datos, para hacer esto sin tener que repetir el ejercicio recurriremos a Pandas\n",
        "# y su método get_dummies\n",
        "\n",
        "def plot_multiclass_roc(modelo, x_test, y_test, n_classes, figsize=(17, 6)):\n",
        "    y_score = modelo_3.predict_proba(x_test)\n",
        "\n",
        "    # fpr = tasa de falsos positivos / tpr = tasa de verdaderos positivos\n",
        "    fpr = dict()\n",
        "    tpr = dict()\n",
        "    roc_auc = dict()\n",
        "\n",
        "    # Calculamos los dummies una vez\n",
        "    y_test_dummies = pd.get_dummies(y_test, drop_first=False).values\n",
        "    for i in range(n_classes):\n",
        "        fpr[i], tpr[i], _ = roc_curve(y_test_dummies[:, i], y_score[:, i])\n",
        "        roc_auc[i] = auc(fpr[i], tpr[i])\n",
        "\n",
        "    # ROC para cada clase (nuestros 10 dígitos en los que se divide la clasificación)\n",
        "    fig, ax = plt.subplots(figsize=figsize)\n",
        "    ax.plot([0, 1], [0, 1], 'k--')\n",
        "    ax.set_xlabel('Tasa Falsos Positivos')\n",
        "    ax.set_ylabel('Tasa Verdaderos Positivos')\n",
        "    ax.set_title('Curva ROC')\n",
        "    for i in range(n_classes):\n",
        "        ax.plot(fpr[i], tpr[i], label='ROC (area = %0.2f) para label %i' % (roc_auc[i], i))\n",
        "    ax.legend(loc=\"best\")\n",
        "    ax.grid()\n",
        "    sn.despine()\n",
        "    plt.show()\n",
        "\n",
        "plot_multiclass_roc(modelo_3, x_test, y_test, n_classes=10, figsize=(10, 8))\n",
        "# Como podemos comprobar, las curvas ( por cada dígito) salen muy apiñadas, ya que\n",
        "# su ROC es prácticamente la misma. \n"
      ],
      "execution_count": 0,
      "outputs": [
        {
          "output_type": "display_data",
          "data": {
            "image/png": "[encoded data removed]",
            "text/plain": [
              "<Figure size 360x360 with 1 Axes>"
            ]
          },
          "metadata": {
            "tags": []
          }
        },
        {
          "output_type": "display_data",
          "data": {
            "image/png": "[encoded data removed]",
            "text/plain": [
              "<Figure size 720x720 with 2 Axes>"
            ]
          },
          "metadata": {
            "tags": []
          }
        },
        {
          "output_type": "display_data",
          "data": {
            "image/png": "[encoded data removed]",
            "text/plain": [
              "<Figure size 720x576 with 1 Axes>"
            ]
          },
          "metadata": {
            "tags": []
          }
        }
      ]
    },
    {
      "cell_type": "code",
      "metadata": {
        "colab_type": "code",
        "id": "BRbPlICGh82b",
        "outputId": "3ed226ac-04b2-487e-da00-8c320bafb445",
        "colab": {
          "base_uri": "https://localhost:8080/",
          "height": 372
        }
      },
      "source": [
        "# Busca los ejemplos donde la red se esta equivocando\n",
        "#Esto es tan simple como hacer una comprehension list\n",
        "\n",
        "index_errores = [i for i in range(len(y_test)) if y_test[i] != y_pred[i]] \n",
        "print(\"Localización (índices) de los errores en las predicciones del modelo: \\n\", index_errores)\n",
        "\n",
        "\n",
        "# Intenta pensar en una forma de aumentar el set de datos de entrenamiento. ¿Cómo podrías hacer data augmentation?\n",
        "\n",
        "# Para aumentar el dataset con los datos que tenemos podríamos hacer variaciones en las imágenes\n",
        "# creando giros, zooms, cambiando colores, etc.\n",
        "# Hagamos un ejemplo generando imágenes con zoom:\n",
        "\n",
        "from keras.preprocessing.image import ImageDataGenerator\n",
        "  \n",
        "datagen = ImageDataGenerator(zoom_range=0.5)  \n",
        "\n",
        "# fit the data\n",
        "datagen.fit(x_train)\n",
        "for x_batch, y_batch in datagen.flow(x_train, y_train, batch_size=9):\n",
        "    for i in range(9):\n",
        "        plt.subplot(330 + 1 + i)\n",
        "        plt.imshow(x_batch[i].reshape(28, 28), cmap=('gray')) \n",
        "    print('\\n Data augmentation con Zoom: \\n')\n",
        "    plt.show()\n",
        "    break\n"
      ],
      "execution_count": 0,
      "outputs": [
        {
          "output_type": "stream",
          "text": [
            "Localización (índices) de los errores en las predicciones del modelo: \n",
            " [151, 247, 321, 340, 445, 582, 613, 691, 717, 740, 844, 882, 938, 939, 956, 1014, 1033, 1039, 1112, 1156, 1226, 1232, 1242, 1260, 1319, 1328, 1393, 1414, 1500, 1522, 1527, 1530, 1654, 1681, 1709, 1722, 1790, 1828, 1878, 1901, 1955, 2035, 2043, 2052, 2118, 2129, 2130, 2135, 2189, 2280, 2293, 2369, 2414, 2422, 2462, 2488, 2654, 2771, 2778, 2896, 2921, 2927, 2939, 2953, 3030, 3073, 3225, 3289, 3422, 3475, 3503, 3520, 3558, 3597, 3726, 3778, 3808, 3838, 3853, 3906, 4075, 4140, 4176, 4199, 4201, 4289, 4536, 4571, 4578, 4639, 4740, 4807, 4814, 4823, 4911, 5228, 5265, 5331, 5634, 5887, 5888, 5936, 5955, 5997, 6101, 6166, 6173, 6555, 6574, 6576, 6577, 6597, 6625, 6631, 6632, 6740, 6847, 7216, 7849, 8094, 8277, 8325, 8332, 8408, 8519, 8520, 8527, 9009, 9015, 9019, 9634, 9642, 9679, 9729, 9839, 9879, 9982]\n"
          ],
          "name": "stdout"
        },
        {
          "output_type": "stream",
          "text": [
            "Using TensorFlow backend.\n"
          ],
          "name": "stderr"
        },
        {
          "output_type": "stream",
          "text": [
            "\n",
            " Data augmentation con Zoom: \n",
            "\n"
          ],
          "name": "stdout"
        },
        {
          "output_type": "display_data",
          "data": {
            "image/png": "[encoded data removed]",
            "text/plain": [
              "<Figure size 432x288 with 9 Axes>"
            ]
          },
          "metadata": {
            "tags": []
          }
        }
      ]
    },
    {
      "cell_type": "markdown",
      "metadata": {
        "colab_type": "text",
        "id": "o_DKUhg-3wJY"
      },
      "source": [
        "# Ejercicio 2 - Hyperparameter tuning\n",
        "\n",
        "**TIP**:  \n",
        "La gran Wikipedia nos dice que \"el ajuste de hiperparámetros es elegir un conjunto de hiperparámetros óptimos para un algoritmo de aprendizaje\". Un hiperparámetro es un parámetro cuyo valor se establece antes de que comience el proceso de aprendizaje.\n",
        "\n",
        "Para este ejemplo usaremos el RandomizedSearchCV de SKLearn\n",
        "\n",
        "Fuente:   \n",
        "https://medium.com/swlh/hyper-parameter-tuning-for-keras-models-with-scikit-learn-library-dba47cf41551\n",
        "\n",
        "Hyperparameter tuning en SKLearn:\n",
        "\n",
        "https://scikit-learn.org/stable/modules/generated/sklearn.model_selection.RandomizedSearchCV.html\n",
        "\n",
        "https://scikit-learn.org/stable/modules/generated/sklearn.model_selection.GridSearchCV.html"
      ]
    },
    {
      "cell_type": "code",
      "metadata": {
        "colab_type": "code",
        "id": "LILWppKh3wJZ",
        "outputId": "aed61032-82cd-44fc-b4df-935ffad94c6b",
        "colab": {
          "base_uri": "https://localhost:8080/",
          "height": 1000
        }
      },
      "source": [
        "# Una vez que ya entendemos el funcionamiento de esta red, \n",
        "# ¿Cuáles son los parámetros de la arquitectura con los que podemos jugar?\n",
        "# ¿Puedes hacer una funcion que corra varias veces la red desde cero con diferentes configuraciones?\n",
        "\n",
        "from tensorflow.keras import Sequential\n",
        "from tensorflow.keras.layers import Dense,Flatten\n",
        "from tensorflow.keras.wrappers.scikit_learn import KerasClassifier\n",
        "from sklearn.model_selection import RandomizedSearchCV\n",
        "\n",
        "#Vamos a crear un nuevo modelo con el que poder experimentar\n",
        "(X_train, y_trn), (X_test, y_tst) = mnist.load_data()\n",
        "X_trn = X_train[..., np.newaxis].astype(np.float32) / 255.\n",
        "X_tst = X_test[..., np.newaxis].astype(np.float32) / 255.\n",
        "\n",
        "def build_model(var_activation='relu',var_optimizer='adam'):\n",
        "    model = Sequential()\n",
        "    model.add(Flatten(input_shape=[28, 28, 1]))\n",
        "    model.add(Dense(64,activation=var_activation))\n",
        "    model.add(Dense(32,activation=var_activation))\n",
        "    model.add(Dense(16,activation=var_activation))\n",
        "    model.add(Dense(10,activation='softmax'))\n",
        "    model.compile(loss=\"sparse_categorical_crossentropy\",\n",
        "                optimizer=var_optimizer,\n",
        "                metrics=[\"accuracy\"])\n",
        "    return model\n",
        "\n",
        "model_default = build_model()\n",
        "\n",
        "# Creamos listas con los parámetros que queremos ir cambiando y probando\n",
        "# almacenándolas en forma de diccionario\n",
        "_activations=['tanh','relu','selu']\n",
        "_optimizers=['sgd','adam']\n",
        "_batch_size=[16,32,64]\n",
        "params=dict(var_activation=_activations,\n",
        "            var_optimizer=_optimizers,\n",
        "            batch_size=_batch_size)\n",
        "print(params)\n",
        "\n",
        "# Para usar RandomizedSearchCV, primero debemos hacer \n",
        "# que nuestro modelo Keras sea compatible con la biblioteca sklearn\n",
        "# y utilizaremos el wrapper de keras para scikitlearn: KerasClassifier.\n",
        "# Además, usaremos el random seed de Numpy para inicializar los pesos\n",
        "# de nuestro modelo con los mismos valores en cada iteración.\n",
        "\n",
        "model = KerasClassifier(build_fn=build_model,epochs=4,batch_size=16)\n",
        "np.random.seed(42)\n",
        "\n",
        "rscv = RandomizedSearchCV(model, param_distributions=params, cv=3, n_iter=10)\n",
        "rscv_results = rscv.fit(X_trn,y_trn)\n",
        "print('Best score is: {} using {}'.format(rscv_results.best_score_, rscv_results.best_params_))\n",
        "\n"
      ],
      "execution_count": 0,
      "outputs": [
        {
          "output_type": "stream",
          "text": [
            "{'var_activation': ['tanh', 'relu', 'selu'], 'var_optimizer': ['sgd', 'adam'], 'batch_size': [16, 32, 64]}\n",
            "Train on 40000 samples\n",
            "Epoch 1/4\n",
            "40000/40000 [==============================] - 7s 178us/sample - loss: 0.7197 - accuracy: 0.8310\n",
            "Epoch 2/4\n",
            "40000/40000 [==============================] - 7s 175us/sample - loss: 0.3303 - accuracy: 0.9126\n",
            "Epoch 3/4\n",
            "40000/40000 [==============================] - 7s 172us/sample - loss: 0.2600 - accuracy: 0.9291\n",
            "Epoch 4/4\n",
            "40000/40000 [==============================] - 7s 173us/sample - loss: 0.2169 - accuracy: 0.9408\n",
            "20000/20000 [==============================] - 2s 121us/sample - loss: 0.2146 - accuracy: 0.9373\n",
            "Train on 40000 samples\n",
            "Epoch 1/4\n",
            "40000/40000 [==============================] - 7s 175us/sample - loss: 0.7180 - accuracy: 0.8285\n",
            "Epoch 2/4\n",
            "40000/40000 [==============================] - 7s 170us/sample - loss: 0.3266 - accuracy: 0.9119\n",
            "Epoch 3/4\n",
            "40000/40000 [==============================] - 7s 170us/sample - loss: 0.2533 - accuracy: 0.9290\n",
            "Epoch 4/4\n",
            "40000/40000 [==============================] - 7s 174us/sample - loss: 0.2098 - accuracy: 0.9404\n",
            "20000/20000 [==============================] - 2s 124us/sample - loss: 0.2156 - accuracy: 0.9384\n",
            "Train on 40000 samples\n",
            "Epoch 1/4\n",
            "40000/40000 [==============================] - 7s 181us/sample - loss: 0.7283 - accuracy: 0.8224\n",
            "Epoch 2/4\n",
            "40000/40000 [==============================] - 7s 172us/sample - loss: 0.3304 - accuracy: 0.9114\n",
            "Epoch 3/4\n",
            "40000/40000 [==============================] - 7s 179us/sample - loss: 0.2567 - accuracy: 0.9287\n",
            "Epoch 4/4\n",
            "40000/40000 [==============================] - 7s 181us/sample - loss: 0.2122 - accuracy: 0.9409\n",
            "20000/20000 [==============================] - 3s 132us/sample - loss: 0.2120 - accuracy: 0.9405\n",
            "Train on 40000 samples\n",
            "Epoch 1/4\n",
            "40000/40000 [==============================] - 8s 189us/sample - loss: 0.3742 - accuracy: 0.9015\n",
            "Epoch 2/4\n",
            "40000/40000 [==============================] - 7s 180us/sample - loss: 0.1590 - accuracy: 0.9546\n",
            "Epoch 3/4\n",
            "40000/40000 [==============================] - 7s 179us/sample - loss: 0.1136 - accuracy: 0.9667\n",
            "Epoch 4/4\n",
            "40000/40000 [==============================] - 7s 181us/sample - loss: 0.0879 - accuracy: 0.9740\n",
            "20000/20000 [==============================] - 2s 125us/sample - loss: 0.1175 - accuracy: 0.9656\n",
            "Train on 40000 samples\n",
            "Epoch 1/4\n",
            "40000/40000 [==============================] - 8s 192us/sample - loss: 0.3788 - accuracy: 0.9039\n",
            "Epoch 2/4\n",
            "40000/40000 [==============================] - 7s 185us/sample - loss: 0.1581 - accuracy: 0.9543\n",
            "Epoch 3/4\n",
            "40000/40000 [==============================] - 8s 188us/sample - loss: 0.1143 - accuracy: 0.9673\n",
            "Epoch 4/4\n",
            "40000/40000 [==============================] - 8s 196us/sample - loss: 0.0910 - accuracy: 0.9725\n",
            "20000/20000 [==============================] - 3s 133us/sample - loss: 0.1389 - accuracy: 0.9590\n",
            "Train on 40000 samples\n",
            "Epoch 1/4\n",
            "40000/40000 [==============================] - 8s 207us/sample - loss: 0.3812 - accuracy: 0.9011\n",
            "Epoch 2/4\n",
            "40000/40000 [==============================] - 7s 186us/sample - loss: 0.1617 - accuracy: 0.9534\n",
            "Epoch 3/4\n",
            "40000/40000 [==============================] - 8s 189us/sample - loss: 0.1147 - accuracy: 0.9662\n",
            "Epoch 4/4\n",
            "40000/40000 [==============================] - 8s 192us/sample - loss: 0.0918 - accuracy: 0.9731\n",
            "20000/20000 [==============================] - 3s 131us/sample - loss: 0.1373 - accuracy: 0.9609\n",
            "Train on 40000 samples\n",
            "Epoch 1/4\n",
            "40000/40000 [==============================] - 4s 99us/sample - loss: 0.9618 - accuracy: 0.7085\n",
            "Epoch 2/4\n",
            "40000/40000 [==============================] - 4s 94us/sample - loss: 0.3693 - accuracy: 0.8928\n",
            "Epoch 3/4\n",
            "40000/40000 [==============================] - 4s 95us/sample - loss: 0.2922 - accuracy: 0.9147\n",
            "Epoch 4/4\n",
            "40000/40000 [==============================] - 4s 93us/sample - loss: 0.2474 - accuracy: 0.9276\n",
            "20000/20000 [==============================] - 1s 69us/sample - loss: 0.2529 - accuracy: 0.9252\n",
            "Train on 40000 samples\n",
            "Epoch 1/4\n",
            "40000/40000 [==============================] - 4s 101us/sample - loss: 1.0081 - accuracy: 0.6997\n",
            "Epoch 2/4\n",
            "40000/40000 [==============================] - 5s 117us/sample - loss: 0.3580 - accuracy: 0.8987\n",
            "Epoch 3/4\n",
            "40000/40000 [==============================] - 5s 122us/sample - loss: 0.2860 - accuracy: 0.9179\n",
            "Epoch 4/4\n",
            "40000/40000 [==============================] - 5s 119us/sample - loss: 0.2421 - accuracy: 0.9313\n",
            "20000/20000 [==============================] - 2s 90us/sample - loss: 0.2450 - accuracy: 0.9301\n",
            "Train on 40000 samples\n",
            "Epoch 1/4\n",
            "40000/40000 [==============================] - 5s 130us/sample - loss: 1.2267 - accuracy: 0.6120\n",
            "Epoch 2/4\n",
            "40000/40000 [==============================] - 5s 120us/sample - loss: 0.4201 - accuracy: 0.8820\n",
            "Epoch 3/4\n",
            "40000/40000 [==============================] - 5s 126us/sample - loss: 0.2973 - accuracy: 0.9153\n",
            "Epoch 4/4\n",
            "40000/40000 [==============================] - 5s 122us/sample - loss: 0.2439 - accuracy: 0.9298\n",
            "20000/20000 [==============================] - 2s 90us/sample - loss: 0.2458 - accuracy: 0.9281\n",
            "Train on 40000 samples\n",
            "Epoch 1/4\n",
            "40000/40000 [==============================] - 10s 257us/sample - loss: 0.3295 - accuracy: 0.9026\n",
            "Epoch 2/4\n",
            "40000/40000 [==============================] - 10s 250us/sample - loss: 0.1728 - accuracy: 0.9472\n",
            "Epoch 3/4\n",
            "40000/40000 [==============================] - 10s 252us/sample - loss: 0.1253 - accuracy: 0.9610\n",
            "Epoch 4/4\n",
            "40000/40000 [==============================] - 10s 243us/sample - loss: 0.1012 - accuracy: 0.9686\n",
            "20000/20000 [==============================] - 4s 179us/sample - loss: 0.1304 - accuracy: 0.9606\n",
            "Train on 40000 samples\n",
            "Epoch 1/4\n",
            "40000/40000 [==============================] - 11s 269us/sample - loss: 0.3191 - accuracy: 0.9061\n",
            "Epoch 2/4\n",
            "40000/40000 [==============================] - 10s 249us/sample - loss: 0.1680 - accuracy: 0.9497\n",
            "Epoch 3/4\n",
            "40000/40000 [==============================] - 10s 251us/sample - loss: 0.1256 - accuracy: 0.9615\n",
            "Epoch 4/4\n",
            "40000/40000 [==============================] - 10s 259us/sample - loss: 0.0985 - accuracy: 0.9699\n",
            "20000/20000 [==============================] - 4s 188us/sample - loss: 0.1453 - accuracy: 0.9576\n",
            "Train on 40000 samples\n",
            "Epoch 1/4\n",
            "40000/40000 [==============================] - 11s 266us/sample - loss: 0.3414 - accuracy: 0.8986\n",
            "Epoch 2/4\n",
            "40000/40000 [==============================] - 10s 240us/sample - loss: 0.1744 - accuracy: 0.9474\n",
            "Epoch 3/4\n",
            "40000/40000 [==============================] - 10s 243us/sample - loss: 0.1304 - accuracy: 0.9604\n",
            "Epoch 4/4\n",
            "40000/40000 [==============================] - 10s 244us/sample - loss: 0.1027 - accuracy: 0.9677\n",
            "20000/20000 [==============================] - 3s 174us/sample - loss: 0.1446 - accuracy: 0.9587\n",
            "Train on 40000 samples\n",
            "Epoch 1/4\n",
            "40000/40000 [==============================] - 10s 253us/sample - loss: 0.3363 - accuracy: 0.8998\n",
            "Epoch 2/4\n",
            "40000/40000 [==============================] - 9s 235us/sample - loss: 0.1453 - accuracy: 0.9571\n",
            "Epoch 3/4\n",
            "40000/40000 [==============================] - 9s 233us/sample - loss: 0.1077 - accuracy: 0.9687\n",
            "Epoch 4/4\n",
            "40000/40000 [==============================] - 9s 236us/sample - loss: 0.0834 - accuracy: 0.9739\n",
            "20000/20000 [==============================] - 3s 168us/sample - loss: 0.1214 - accuracy: 0.9653\n",
            "Train on 40000 samples\n",
            "Epoch 1/4\n",
            "40000/40000 [==============================] - 10s 249us/sample - loss: 0.3292 - accuracy: 0.9022\n",
            "Epoch 2/4\n",
            "40000/40000 [==============================] - 10s 250us/sample - loss: 0.1546 - accuracy: 0.9534\n",
            "Epoch 3/4\n",
            "40000/40000 [==============================] - 10s 252us/sample - loss: 0.1137 - accuracy: 0.9649\n",
            "Epoch 4/4\n",
            "40000/40000 [==============================] - 9s 235us/sample - loss: 0.0880 - accuracy: 0.9723\n",
            "20000/20000 [==============================] - 4s 189us/sample - loss: 0.1319 - accuracy: 0.9621\n",
            "Train on 40000 samples\n",
            "Epoch 1/4\n",
            "40000/40000 [==============================] - 10s 255us/sample - loss: 0.3337 - accuracy: 0.9019\n",
            "Epoch 2/4\n",
            "40000/40000 [==============================] - 10s 250us/sample - loss: 0.1491 - accuracy: 0.9552\n",
            "Epoch 3/4\n",
            "40000/40000 [==============================] - 10s 247us/sample - loss: 0.1079 - accuracy: 0.9673\n",
            "Epoch 4/4\n"
          ],
          "name": "stdout"
        },
        {
          "output_type": "stream",
          "text": [
            "40000/40000 [==============================] - 10s 239us/sample - loss: 0.0862 - accuracy: 0.9732\n",
            "20000/20000 [==============================] - 4s 182us/sample - loss: 0.1248 - accuracy: 0.9651\n",
            "Train on 40000 samples\n",
            "Epoch 1/4\n",
            "40000/40000 [==============================] - 4s 91us/sample - loss: 0.5213 - accuracy: 0.8760\n",
            "Epoch 2/4\n",
            "40000/40000 [==============================] - 3s 65us/sample - loss: 0.2046 - accuracy: 0.9432\n",
            "Epoch 3/4\n",
            "40000/40000 [==============================] - 3s 63us/sample - loss: 0.1441 - accuracy: 0.9586\n",
            "Epoch 4/4\n",
            "40000/40000 [==============================] - 2s 60us/sample - loss: 0.1099 - accuracy: 0.9684\n",
            "20000/20000 [==============================] - 1s 56us/sample - loss: 0.1273 - accuracy: 0.9631\n",
            "Train on 40000 samples\n",
            "Epoch 1/4\n",
            "40000/40000 [==============================] - 3s 72us/sample - loss: 0.4850 - accuracy: 0.8798\n",
            "Epoch 2/4\n",
            "40000/40000 [==============================] - 2s 62us/sample - loss: 0.1928 - accuracy: 0.9468\n",
            "Epoch 3/4\n",
            "40000/40000 [==============================] - 2s 62us/sample - loss: 0.1356 - accuracy: 0.9617\n",
            "Epoch 4/4\n",
            "40000/40000 [==============================] - 3s 64us/sample - loss: 0.1067 - accuracy: 0.9692\n",
            "20000/20000 [==============================] - 1s 55us/sample - loss: 0.1477 - accuracy: 0.9560\n",
            "Train on 40000 samples\n",
            "Epoch 1/4\n",
            "40000/40000 [==============================] - 3s 73us/sample - loss: 0.5478 - accuracy: 0.8731\n",
            "Epoch 2/4\n",
            "40000/40000 [==============================] - 3s 72us/sample - loss: 0.2055 - accuracy: 0.9448\n",
            "Epoch 3/4\n",
            "40000/40000 [==============================] - 2s 62us/sample - loss: 0.1422 - accuracy: 0.9607\n",
            "Epoch 4/4\n",
            "40000/40000 [==============================] - 2s 61us/sample - loss: 0.1103 - accuracy: 0.9690\n",
            "20000/20000 [==============================] - 1s 57us/sample - loss: 0.1423 - accuracy: 0.9596\n",
            "Train on 40000 samples\n",
            "Epoch 1/4\n",
            "40000/40000 [==============================] - 3s 67us/sample - loss: 0.6967 - accuracy: 0.8114\n",
            "Epoch 2/4\n",
            "40000/40000 [==============================] - 2s 57us/sample - loss: 0.3623 - accuracy: 0.8981\n",
            "Epoch 3/4\n",
            "40000/40000 [==============================] - 2s 59us/sample - loss: 0.3109 - accuracy: 0.9101\n",
            "Epoch 4/4\n",
            "40000/40000 [==============================] - 2s 62us/sample - loss: 0.2823 - accuracy: 0.9168\n",
            "20000/20000 [==============================] - 1s 56us/sample - loss: 0.2825 - accuracy: 0.9179\n",
            "Train on 40000 samples\n",
            "Epoch 1/4\n",
            "40000/40000 [==============================] - 3s 67us/sample - loss: 0.6957 - accuracy: 0.8114\n",
            "Epoch 2/4\n",
            "40000/40000 [==============================] - 2s 60us/sample - loss: 0.3758 - accuracy: 0.8959\n",
            "Epoch 3/4\n",
            "40000/40000 [==============================] - 2s 59us/sample - loss: 0.3186 - accuracy: 0.9095\n",
            "Epoch 4/4\n",
            "40000/40000 [==============================] - 2s 59us/sample - loss: 0.2864 - accuracy: 0.9184\n",
            "20000/20000 [==============================] - 1s 56us/sample - loss: 0.3038 - accuracy: 0.9113\n",
            "Train on 40000 samples\n",
            "Epoch 1/4\n",
            "40000/40000 [==============================] - 3s 67us/sample - loss: 0.7833 - accuracy: 0.7657\n",
            "Epoch 2/4\n",
            "40000/40000 [==============================] - 2s 61us/sample - loss: 0.4134 - accuracy: 0.8831\n",
            "Epoch 3/4\n",
            "40000/40000 [==============================] - 2s 62us/sample - loss: 0.3346 - accuracy: 0.9056\n",
            "Epoch 4/4\n",
            "40000/40000 [==============================] - 2s 60us/sample - loss: 0.2947 - accuracy: 0.9162\n",
            "20000/20000 [==============================] - 1s 54us/sample - loss: 0.2844 - accuracy: 0.9176\n",
            "Train on 40000 samples\n",
            "Epoch 1/4\n",
            "40000/40000 [==============================] - 3s 74us/sample - loss: 0.4948 - accuracy: 0.8505\n",
            "Epoch 2/4\n",
            "40000/40000 [==============================] - 3s 65us/sample - loss: 0.2003 - accuracy: 0.9419\n",
            "Epoch 3/4\n",
            "40000/40000 [==============================] - 3s 63us/sample - loss: 0.1467 - accuracy: 0.9571\n",
            "Epoch 4/4\n",
            "40000/40000 [==============================] - 3s 63us/sample - loss: 0.1146 - accuracy: 0.9651\n",
            "20000/20000 [==============================] - 1s 58us/sample - loss: 0.1480 - accuracy: 0.9557\n",
            "Train on 40000 samples\n",
            "Epoch 1/4\n",
            "40000/40000 [==============================] - 3s 68us/sample - loss: 0.4932 - accuracy: 0.8505\n",
            "Epoch 2/4\n",
            "40000/40000 [==============================] - 3s 64us/sample - loss: 0.1978 - accuracy: 0.9419\n",
            "Epoch 3/4\n",
            "40000/40000 [==============================] - 2s 61us/sample - loss: 0.1458 - accuracy: 0.9561\n",
            "Epoch 4/4\n",
            "40000/40000 [==============================] - 2s 61us/sample - loss: 0.1152 - accuracy: 0.9661\n",
            "20000/20000 [==============================] - 1s 51us/sample - loss: 0.1668 - accuracy: 0.9506\n",
            "Train on 40000 samples\n",
            "Epoch 1/4\n",
            "40000/40000 [==============================] - 3s 76us/sample - loss: 0.5005 - accuracy: 0.8480\n",
            "Epoch 2/4\n",
            "40000/40000 [==============================] - 3s 65us/sample - loss: 0.1871 - accuracy: 0.9459\n",
            "Epoch 3/4\n",
            "40000/40000 [==============================] - 2s 61us/sample - loss: 0.1417 - accuracy: 0.9572\n",
            "Epoch 4/4\n",
            "40000/40000 [==============================] - 2s 60us/sample - loss: 0.1155 - accuracy: 0.9658\n",
            "20000/20000 [==============================] - 1s 53us/sample - loss: 0.1528 - accuracy: 0.9560\n",
            "Train on 40000 samples\n",
            "Epoch 1/4\n",
            "40000/40000 [==============================] - 5s 126us/sample - loss: 0.3638 - accuracy: 0.8927\n",
            "Epoch 2/4\n",
            "40000/40000 [==============================] - 5s 115us/sample - loss: 0.1880 - accuracy: 0.9433\n",
            "Epoch 3/4\n",
            "40000/40000 [==============================] - 5s 116us/sample - loss: 0.1404 - accuracy: 0.9567\n",
            "Epoch 4/4\n",
            "40000/40000 [==============================] - 4s 112us/sample - loss: 0.1118 - accuracy: 0.9656\n",
            "20000/20000 [==============================] - 2s 79us/sample - loss: 0.1391 - accuracy: 0.9605\n",
            "Train on 40000 samples\n",
            "Epoch 1/4\n",
            "40000/40000 [==============================] - 5s 121us/sample - loss: 0.3502 - accuracy: 0.8975\n",
            "Epoch 2/4\n",
            "40000/40000 [==============================] - 5s 121us/sample - loss: 0.1791 - accuracy: 0.9459\n",
            "Epoch 3/4\n",
            "40000/40000 [==============================] - 5s 137us/sample - loss: 0.1300 - accuracy: 0.9607\n",
            "Epoch 4/4\n",
            "40000/40000 [==============================] - 5s 122us/sample - loss: 0.1020 - accuracy: 0.9682\n",
            "20000/20000 [==============================] - 2s 101us/sample - loss: 0.1433 - accuracy: 0.9585\n",
            "Train on 40000 samples\n",
            "Epoch 1/4\n",
            "40000/40000 [==============================] - 6s 142us/sample - loss: 0.3711 - accuracy: 0.8916\n",
            "Epoch 2/4\n",
            "40000/40000 [==============================] - 5s 119us/sample - loss: 0.1888 - accuracy: 0.9441\n",
            "Epoch 3/4\n",
            "40000/40000 [==============================] - 5s 114us/sample - loss: 0.1384 - accuracy: 0.9575\n",
            "Epoch 4/4\n",
            "40000/40000 [==============================] - 5s 123us/sample - loss: 0.1075 - accuracy: 0.9671\n",
            "20000/20000 [==============================] - 2s 86us/sample - loss: 0.1478 - accuracy: 0.9550\n",
            "Train on 40000 samples\n",
            "Epoch 1/4\n",
            "40000/40000 [==============================] - 10s 247us/sample - loss: 0.7955 - accuracy: 0.7515\n",
            "Epoch 2/4\n",
            "40000/40000 [==============================] - 12s 301us/sample - loss: 0.2962 - accuracy: 0.9152\n",
            "Epoch 3/4\n",
            "40000/40000 [==============================] - 10s 252us/sample - loss: 0.2217 - accuracy: 0.9353\n",
            "Epoch 4/4\n",
            "40000/40000 [==============================] - 10s 242us/sample - loss: 0.1819 - accuracy: 0.9458\n",
            "20000/20000 [==============================] - 3s 173us/sample - loss: 0.1844 - accuracy: 0.9460\n",
            "Train on 40000 samples\n",
            "Epoch 1/4\n",
            "40000/40000 [==============================] - 10s 243us/sample - loss: 0.7393 - accuracy: 0.7831\n",
            "Epoch 2/4\n",
            "40000/40000 [==============================] - 9s 237us/sample - loss: 0.3070 - accuracy: 0.9115\n",
            "Epoch 3/4\n",
            "40000/40000 [==============================] - 10s 241us/sample - loss: 0.2265 - accuracy: 0.9347\n",
            "Epoch 4/4\n",
            "40000/40000 [==============================] - 10s 256us/sample - loss: 0.1832 - accuracy: 0.9463\n",
            "20000/20000 [==============================] - 4s 195us/sample - loss: 0.1980 - accuracy: 0.9424\n",
            "Train on 40000 samples\n",
            "Epoch 1/4\n",
            "40000/40000 [==============================] - 10s 253us/sample - loss: 0.7001 - accuracy: 0.7930\n",
            "Epoch 2/4\n",
            "40000/40000 [==============================] - 9s 236us/sample - loss: 0.2849 - accuracy: 0.9169\n",
            "Epoch 3/4\n",
            "40000/40000 [==============================] - 9s 234us/sample - loss: 0.2190 - accuracy: 0.9364\n",
            "Epoch 4/4\n"
          ],
          "name": "stdout"
        },
        {
          "output_type": "stream",
          "text": [
            "40000/40000 [==============================] - 9s 234us/sample - loss: 0.1776 - accuracy: 0.9476\n",
            "20000/20000 [==============================] - 3s 166us/sample - loss: 0.1817 - accuracy: 0.9453\n",
            "Train on 60000 samples\n",
            "Epoch 1/4\n",
            "60000/60000 [==============================] - 15s 253us/sample - loss: 0.2766 - accuracy: 0.9148\n",
            "Epoch 2/4\n",
            "60000/60000 [==============================] - 15s 250us/sample - loss: 0.1222 - accuracy: 0.9634\n",
            "Epoch 3/4\n",
            "60000/60000 [==============================] - 14s 237us/sample - loss: 0.0909 - accuracy: 0.9717\n",
            "Epoch 4/4\n",
            "60000/60000 [==============================] - 14s 240us/sample - loss: 0.0753 - accuracy: 0.9764\n",
            "Best score is: 0.9641666809717814 using {'var_optimizer': 'adam', 'var_activation': 'relu', 'batch_size': 16}\n"
          ],
          "name": "stdout"
        }
      ]
    },
    {
      "cell_type": "code",
      "metadata": {
        "colab_type": "code",
        "id": "_y2DryozobXS",
        "outputId": "dba0e4a0-cf8b-4cb1-95b2-857d4934109a",
        "scrolled": false,
        "colab": {
          "base_uri": "https://localhost:8080/",
          "height": 650
        }
      },
      "source": [
        "# Pinta una gráfica con el error de validacion en eje z y los dos parámetros fundamentales en ejes X e Y\n",
        "\n",
        "%matplotlib inline\n",
        "import matplotlib.pyplot as plt\n",
        "from mpl_toolkits.mplot3d import axes3d\n",
        "from matplotlib import style\n",
        "\n",
        "# Cuantas capas tiene la red\n",
        "ejeX = np.array([1, 2, 3])\n",
        "#Cuantas neuronas tiene cada capa\n",
        "ejeY = np.array([32, 64, 128]) \n",
        "# error\n",
        "#ejeZ = np.array([[error]])\n",
        "x = []\n",
        "y = []\n",
        "z = []\n",
        "\n",
        "for i, capas in enumerate(ejeX):\n",
        "    \n",
        "    for j, neuronas in enumerate(ejeY):\n",
        "        \n",
        "        #Cogemos nuestro modelo por default, lo entrenamos y evaluamos el modelo\n",
        "        print(\"[INFO] Corriendo el caso de {:06.4f} capas y {:06.4f} neuronas por capa\".format(capas,neuronas))\n",
        "        model_def = build_model()\n",
        "        model_def.fit(X_trn,y_trn, epochs=4,verbose=1)\n",
        "        print(\"[INFO] Error de validacion del modelo y Accuracy: \")\n",
        "        eval = model_def.evaluate(X_trn,y_trn, verbose=1)\n",
        "        error = eval[0]\n",
        "        print(\"error: \", error, \"Check the evaluation\", eval) #Este será nuestro eje Z\n",
        "        x.append(capas)\n",
        "        y.append(neuronas)\n",
        "        z.append(error)\n"
      ],
      "execution_count": 0,
      "outputs": [
        {
          "output_type": "stream",
          "text": [
            "[INFO] Corriendo el caso de 1.0000 capas y 32.0000 neuronas por capa\n",
            "Train on 60000 samples\n",
            "Epoch 1/4\n",
            "60000/60000 [==============================] - 8s 131us/sample - loss: 0.3214 - accuracy: 0.9039\n",
            "Epoch 2/4\n",
            "60000/60000 [==============================] - 7s 119us/sample - loss: 0.1341 - accuracy: 0.9606\n",
            "Epoch 3/4\n",
            "60000/60000 [==============================] - 7s 113us/sample - loss: 0.1001 - accuracy: 0.9704\n",
            "Epoch 4/4\n",
            "60000/60000 [==============================] - 7s 124us/sample - loss: 0.0805 - accuracy: 0.9755\n",
            "[INFO] Error de validacion del modelo y Accuracy: \n",
            "60000/60000 [==============================] - 5s 89us/sample - loss: 0.0619 - accuracy: 0.9801\n",
            "error:  0.061875988570911186\n",
            "[INFO] Corriendo el caso de 1.0000 capas y 64.0000 neuronas por capa\n",
            "Train on 60000 samples\n",
            "Epoch 1/4\n",
            "60000/60000 [==============================] - 8s 136us/sample - loss: 0.3332 - accuracy: 0.9012\n",
            "Epoch 2/4\n",
            "60000/60000 [==============================] - 7s 125us/sample - loss: 0.1416 - accuracy: 0.9584\n",
            "Epoch 3/4\n",
            "60000/60000 [==============================] - 7s 124us/sample - loss: 0.1064 - accuracy: 0.9682\n",
            "Epoch 4/4\n",
            "60000/60000 [==============================] - 7s 121us/sample - loss: 0.0840 - accuracy: 0.9742\n",
            "[INFO] Error de validacion del modelo y Accuracy: \n",
            "60000/60000 [==============================] - 5s 86us/sample - loss: 0.0568 - accuracy: 0.9830\n",
            "error:  0.056800037303070226\n",
            "[INFO] Corriendo el caso de 1.0000 capas y 128.0000 neuronas por capa\n",
            "Train on 60000 samples\n",
            "Epoch 1/4\n",
            "60000/60000 [==============================] - 7s 124us/sample - loss: 0.3156 - accuracy: 0.9061\n",
            "Epoch 2/4\n",
            "60000/60000 [==============================] - 8s 128us/sample - loss: 0.1377 - accuracy: 0.9592\n",
            "Epoch 3/4\n",
            "60000/60000 [==============================] - 8s 130us/sample - loss: 0.1047 - accuracy: 0.9684\n",
            "Epoch 4/4\n",
            "60000/60000 [==============================] - 7s 122us/sample - loss: 0.0832 - accuracy: 0.9746\n",
            "[INFO] Error de validacion del modelo y Accuracy: \n",
            "60000/60000 [==============================] - 5s 88us/sample - loss: 0.0595 - accuracy: 0.9817\n",
            "error:  0.05951825727019459\n",
            "[INFO] Corriendo el caso de 2.0000 capas y 32.0000 neuronas por capa\n",
            "Train on 60000 samples\n",
            "Epoch 1/4\n",
            "60000/60000 [==============================] - 9s 151us/sample - loss: 0.3052 - accuracy: 0.9099\n",
            "Epoch 2/4\n",
            "60000/60000 [==============================] - 9s 145us/sample - loss: 0.1307 - accuracy: 0.9602\n",
            "Epoch 3/4\n",
            "60000/60000 [==============================] - 8s 136us/sample - loss: 0.0983 - accuracy: 0.9702\n",
            "Epoch 4/4\n",
            "60000/60000 [==============================] - 8s 132us/sample - loss: 0.0806 - accuracy: 0.9752\n",
            "[INFO] Error de validacion del modelo y Accuracy: \n",
            "60000/60000 [==============================] - 6s 94us/sample - loss: 0.0598 - accuracy: 0.9820\n",
            "error:  0.05975613092072308\n",
            "[INFO] Corriendo el caso de 2.0000 capas y 64.0000 neuronas por capa\n",
            "Train on 60000 samples\n",
            "Epoch 1/4\n",
            "60000/60000 [==============================] - 9s 146us/sample - loss: 0.3282 - accuracy: 0.9035\n",
            "Epoch 2/4\n",
            "60000/60000 [==============================] - 8s 139us/sample - loss: 0.1472 - accuracy: 0.9568\n",
            "Epoch 3/4\n",
            "60000/60000 [==============================] - 9s 144us/sample - loss: 0.1090 - accuracy: 0.9678\n",
            "Epoch 4/4\n",
            "60000/60000 [==============================] - 8s 137us/sample - loss: 0.0886 - accuracy: 0.9732\n",
            "[INFO] Error de validacion del modelo y Accuracy: \n",
            "60000/60000 [==============================] - 6s 94us/sample - loss: 0.0750 - accuracy: 0.9768\n",
            "error:  0.07502218702097113\n",
            "[INFO] Corriendo el caso de 2.0000 capas y 128.0000 neuronas por capa\n",
            "Train on 60000 samples\n",
            "Epoch 1/4\n",
            "60000/60000 [==============================] - 9s 156us/sample - loss: 0.3362 - accuracy: 0.9009\n",
            "Epoch 2/4\n",
            "60000/60000 [==============================] - 8s 137us/sample - loss: 0.1428 - accuracy: 0.9568\n",
            "Epoch 3/4\n",
            "60000/60000 [==============================] - 9s 143us/sample - loss: 0.1049 - accuracy: 0.9674\n",
            "Epoch 4/4\n",
            "60000/60000 [==============================] - 8s 141us/sample - loss: 0.0851 - accuracy: 0.9730\n",
            "[INFO] Error de validacion del modelo y Accuracy: \n",
            "60000/60000 [==============================] - 6s 102us/sample - loss: 0.0773 - accuracy: 0.9757\n",
            "error:  0.0773324307740666\n",
            "[INFO] Corriendo el caso de 3.0000 capas y 32.0000 neuronas por capa\n",
            "Train on 60000 samples\n",
            "Epoch 1/4\n",
            "60000/60000 [==============================] - 9s 143us/sample - loss: 0.3287 - accuracy: 0.9049\n",
            "Epoch 2/4\n",
            "60000/60000 [==============================] - 8s 133us/sample - loss: 0.1374 - accuracy: 0.9592\n",
            "Epoch 3/4\n",
            "60000/60000 [==============================] - 8s 135us/sample - loss: 0.1036 - accuracy: 0.9692\n",
            "Epoch 4/4\n",
            "60000/60000 [==============================] - 8s 130us/sample - loss: 0.0847 - accuracy: 0.9741\n",
            "[INFO] Error de validacion del modelo y Accuracy: \n",
            "60000/60000 [==============================] - 5s 86us/sample - loss: 0.0606 - accuracy: 0.9813\n",
            "error:  0.06061713797003031\n",
            "[INFO] Corriendo el caso de 3.0000 capas y 64.0000 neuronas por capa\n",
            "Train on 60000 samples\n",
            "Epoch 1/4\n",
            "60000/60000 [==============================] - 8s 130us/sample - loss: 0.3334 - accuracy: 0.9026\n",
            "Epoch 2/4\n",
            "60000/60000 [==============================] - 8s 127us/sample - loss: 0.1426 - accuracy: 0.9578\n",
            "Epoch 3/4\n",
            "60000/60000 [==============================] - 7s 124us/sample - loss: 0.1023 - accuracy: 0.9690\n",
            "Epoch 4/4\n",
            "60000/60000 [==============================] - 7s 124us/sample - loss: 0.0811 - accuracy: 0.9757\n",
            "[INFO] Error de validacion del modelo y Accuracy: \n",
            "60000/60000 [==============================] - 5s 86us/sample - loss: 0.0695 - accuracy: 0.9782\n",
            "error:  0.06953693943445881\n",
            "[INFO] Corriendo el caso de 3.0000 capas y 128.0000 neuronas por capa\n",
            "Train on 60000 samples\n",
            "Epoch 1/4\n",
            "60000/60000 [==============================] - 8s 133us/sample - loss: 0.3196 - accuracy: 0.9071\n",
            "Epoch 2/4\n",
            "60000/60000 [==============================] - 8s 138us/sample - loss: 0.1386 - accuracy: 0.9590\n",
            "Epoch 3/4\n",
            "60000/60000 [==============================] - 8s 125us/sample - loss: 0.1040 - accuracy: 0.9687\n",
            "Epoch 4/4\n",
            "60000/60000 [==============================] - 7s 120us/sample - loss: 0.0855 - accuracy: 0.9745\n",
            "[INFO] Error de validacion del modelo y Accuracy: \n",
            "60000/60000 [==============================] - 5s 83us/sample - loss: 0.0719 - accuracy: 0.9768\n",
            "error:  0.07188552874810994\n"
          ],
          "name": "stdout"
        },
        {
          "output_type": "error",
          "ename": "AttributeError",
          "evalue": "'list' object has no attribute 'ndim'",
          "traceback": [
            "\u001b[1;31m---------------------------------------------------------------------------\u001b[0m",
            "\u001b[1;31mAttributeError\u001b[0m                            Traceback (most recent call last)",
            "\u001b[1;32m<ipython-input-27-b467c1bc1311>\u001b[0m in \u001b[0;36m<module>\u001b[1;34m()\u001b[0m\n\u001b[0;32m     37\u001b[0m \u001b[1;31m# Agregamos un plano 3D\u001b[0m\u001b[1;33m\u001b[0m\u001b[1;33m\u001b[0m\u001b[0m\n\u001b[0;32m     38\u001b[0m \u001b[0max1\u001b[0m \u001b[1;33m=\u001b[0m \u001b[0mfig\u001b[0m\u001b[1;33m.\u001b[0m\u001b[0madd_subplot\u001b[0m\u001b[1;33m(\u001b[0m\u001b[1;36m111\u001b[0m\u001b[1;33m,\u001b[0m\u001b[0mprojection\u001b[0m\u001b[1;33m=\u001b[0m\u001b[1;34m'3d'\u001b[0m\u001b[1;33m)\u001b[0m\u001b[1;33m\u001b[0m\u001b[0m\n\u001b[1;32m---> 39\u001b[1;33m \u001b[0max1\u001b[0m\u001b[1;33m.\u001b[0m\u001b[0mplot_wireframe\u001b[0m\u001b[1;33m(\u001b[0m\u001b[0mx\u001b[0m\u001b[1;33m,\u001b[0m \u001b[0my\u001b[0m\u001b[1;33m,\u001b[0m \u001b[0mz\u001b[0m\u001b[1;33m)\u001b[0m\u001b[1;33m\u001b[0m\u001b[0m\n\u001b[0m\u001b[0;32m     40\u001b[0m \u001b[0mplt\u001b[0m\u001b[1;33m.\u001b[0m\u001b[0mtitle\u001b[0m\u001b[1;33m(\u001b[0m\u001b[1;34m'ERROR DE VALIDACIÓN MEDIO'\u001b[0m\u001b[1;33m)\u001b[0m\u001b[1;33m\u001b[0m\u001b[0m\n\u001b[0;32m     41\u001b[0m \u001b[0mplt\u001b[0m\u001b[1;33m.\u001b[0m\u001b[0mxlabel\u001b[0m\u001b[1;33m(\u001b[0m\u001b[1;34m'CAPAS OCULTAS'\u001b[0m\u001b[1;33m)\u001b[0m\u001b[1;33m\u001b[0m\u001b[0m\n",
            "\u001b[1;32m~\\AppData\\Local\\Programs\\Python\\Python36\\lib\\site-packages\\mpl_toolkits\\mplot3d\\axes3d.py\u001b[0m in \u001b[0;36mplot_wireframe\u001b[1;34m(self, X, Y, Z, *args, **kwargs)\u001b[0m\n\u001b[0;32m   1838\u001b[0m \u001b[1;33m\u001b[0m\u001b[0m\n\u001b[0;32m   1839\u001b[0m         \u001b[0mhad_data\u001b[0m \u001b[1;33m=\u001b[0m \u001b[0mself\u001b[0m\u001b[1;33m.\u001b[0m\u001b[0mhas_data\u001b[0m\u001b[1;33m(\u001b[0m\u001b[1;33m)\u001b[0m\u001b[1;33m\u001b[0m\u001b[0m\n\u001b[1;32m-> 1840\u001b[1;33m         \u001b[1;32mif\u001b[0m \u001b[0mZ\u001b[0m\u001b[1;33m.\u001b[0m\u001b[0mndim\u001b[0m \u001b[1;33m!=\u001b[0m \u001b[1;36m2\u001b[0m\u001b[1;33m:\u001b[0m\u001b[1;33m\u001b[0m\u001b[0m\n\u001b[0m\u001b[0;32m   1841\u001b[0m             \u001b[1;32mraise\u001b[0m \u001b[0mValueError\u001b[0m\u001b[1;33m(\u001b[0m\u001b[1;34m\"Argument Z must be 2-dimensional.\"\u001b[0m\u001b[1;33m)\u001b[0m\u001b[1;33m\u001b[0m\u001b[0m\n\u001b[0;32m   1842\u001b[0m         \u001b[1;31m# FIXME: Support masked arrays\u001b[0m\u001b[1;33m\u001b[0m\u001b[1;33m\u001b[0m\u001b[0m\n",
            "\u001b[1;31mAttributeError\u001b[0m: 'list' object has no attribute 'ndim'"
          ]
        },
        {
          "output_type": "display_data",
          "data": {
            "image/png": "[encoded data removed]",
            "text/plain": [
              "<Figure size 576x576 with 1 Axes>"
            ]
          },
          "metadata": {
            "tags": []
          }
        }
      ]
    },
    {
      "cell_type": "code",
      "metadata": {
        "id": "TUHYTyoeSWBU",
        "colab_type": "code",
        "colab": {},
        "outputId": "d846d1c4-95e4-403a-b9ea-6da12d4fd653"
      },
      "source": [
        "def f(x,y,info_list):\n",
        "    i=0\n",
        "    j=0\n",
        "    for var_i, var in enumerate(info_list[0]):\n",
        "        if x == var:\n",
        "            i = var_i\n",
        "    for var_i, var in enumerate(info_list[1]):\n",
        "        if y == var:\n",
        "            j = var_i\n",
        "    \n",
        "    return info_list[2][i*3+j]\n",
        "\n",
        "X, Y = np.meshgrid(x, y)\n",
        "Z = f(X,Y, [x,y,z])\n",
        "\n",
        "print( X, Y, Z)\n",
        "\n",
        "#X = np.array(x)\n",
        "#Y = np.array(y)\n",
        "#Z = np.array(z)\n",
        "fig = plt.figure(figsize=(8,8))\n",
        "# Agregamos un plano 3D\n",
        "ax1 = fig.add_subplot(111,projection='3d')\n",
        "ax1.plot_wireframe(X, Y , Z)\n",
        "#ax1.plot_surface(X,Y,Z)\n",
        "#ax1.scatter3D(X,Y,Z)\n",
        "plt.title('ERROR DE VALIDACIÓN MEDIO')\n",
        "plt.xlabel('CAPAS OCULTAS')\n",
        "plt.ylabel('DENSIDAD DE CAPAS OCULTAS')\n",
        "ax1.set_zlabel('\\n ERROR DE VALIDACIÓN MEDIO TRAS 4 ENTRENAMIENTOS')\n",
        "plt.grid()\n",
        "plt.show()\n",
        "\n",
        "ax.plot_surface(X, Y, Z, rstride=8, cstride=8, alpha=0.3)"
      ],
      "execution_count": 0,
      "outputs": [
        {
          "output_type": "error",
          "ename": "ValueError",
          "evalue": "The truth value of an array with more than one element is ambiguous. Use a.any() or a.all()",
          "traceback": [
            "\u001b[1;31m---------------------------------------------------------------------------\u001b[0m",
            "\u001b[1;31mValueError\u001b[0m                                Traceback (most recent call last)",
            "\u001b[1;32m<ipython-input-40-8ca9a2fc722b>\u001b[0m in \u001b[0;36m<module>\u001b[1;34m()\u001b[0m\n\u001b[0;32m     12\u001b[0m \u001b[1;33m\u001b[0m\u001b[0m\n\u001b[0;32m     13\u001b[0m \u001b[0mX\u001b[0m\u001b[1;33m,\u001b[0m \u001b[0mY\u001b[0m \u001b[1;33m=\u001b[0m \u001b[0mnp\u001b[0m\u001b[1;33m.\u001b[0m\u001b[0mmeshgrid\u001b[0m\u001b[1;33m(\u001b[0m\u001b[0mx\u001b[0m\u001b[1;33m,\u001b[0m \u001b[0my\u001b[0m\u001b[1;33m)\u001b[0m\u001b[1;33m\u001b[0m\u001b[0m\n\u001b[1;32m---> 14\u001b[1;33m \u001b[0mZ\u001b[0m \u001b[1;33m=\u001b[0m \u001b[0mf\u001b[0m\u001b[1;33m(\u001b[0m\u001b[0mX\u001b[0m\u001b[1;33m,\u001b[0m\u001b[0mY\u001b[0m\u001b[1;33m,\u001b[0m \u001b[1;33m[\u001b[0m\u001b[0mx\u001b[0m\u001b[1;33m,\u001b[0m\u001b[0my\u001b[0m\u001b[1;33m,\u001b[0m\u001b[0mz\u001b[0m\u001b[1;33m]\u001b[0m\u001b[1;33m)\u001b[0m\u001b[1;33m\u001b[0m\u001b[0m\n\u001b[0m\u001b[0;32m     15\u001b[0m \u001b[1;33m\u001b[0m\u001b[0m\n\u001b[0;32m     16\u001b[0m \u001b[0mprint\u001b[0m\u001b[1;33m(\u001b[0m \u001b[0mX\u001b[0m\u001b[1;33m,\u001b[0m \u001b[0mY\u001b[0m\u001b[1;33m,\u001b[0m \u001b[0mZ\u001b[0m\u001b[1;33m)\u001b[0m\u001b[1;33m\u001b[0m\u001b[0m\n",
            "\u001b[1;32m<ipython-input-40-8ca9a2fc722b>\u001b[0m in \u001b[0;36mf\u001b[1;34m(x, y, info_list)\u001b[0m\n\u001b[0;32m      3\u001b[0m     \u001b[0mj\u001b[0m\u001b[1;33m=\u001b[0m\u001b[1;36m0\u001b[0m\u001b[1;33m\u001b[0m\u001b[0m\n\u001b[0;32m      4\u001b[0m     \u001b[1;32mfor\u001b[0m \u001b[0mvar_i\u001b[0m\u001b[1;33m,\u001b[0m \u001b[0mvar\u001b[0m \u001b[1;32min\u001b[0m \u001b[0menumerate\u001b[0m\u001b[1;33m(\u001b[0m\u001b[0minfo_list\u001b[0m\u001b[1;33m[\u001b[0m\u001b[1;36m0\u001b[0m\u001b[1;33m]\u001b[0m\u001b[1;33m)\u001b[0m\u001b[1;33m:\u001b[0m\u001b[1;33m\u001b[0m\u001b[0m\n\u001b[1;32m----> 5\u001b[1;33m         \u001b[1;32mif\u001b[0m \u001b[0mx\u001b[0m \u001b[1;33m==\u001b[0m \u001b[0mvar\u001b[0m\u001b[1;33m:\u001b[0m\u001b[1;33m\u001b[0m\u001b[0m\n\u001b[0m\u001b[0;32m      6\u001b[0m             \u001b[0mi\u001b[0m \u001b[1;33m=\u001b[0m \u001b[0mvar_i\u001b[0m\u001b[1;33m\u001b[0m\u001b[0m\n\u001b[0;32m      7\u001b[0m     \u001b[1;32mfor\u001b[0m \u001b[0mvar_i\u001b[0m\u001b[1;33m,\u001b[0m \u001b[0mvar\u001b[0m \u001b[1;32min\u001b[0m \u001b[0menumerate\u001b[0m\u001b[1;33m(\u001b[0m\u001b[0minfo_list\u001b[0m\u001b[1;33m[\u001b[0m\u001b[1;36m1\u001b[0m\u001b[1;33m]\u001b[0m\u001b[1;33m)\u001b[0m\u001b[1;33m:\u001b[0m\u001b[1;33m\u001b[0m\u001b[0m\n",
            "\u001b[1;31mValueError\u001b[0m: The truth value of an array with more than one element is ambiguous. Use a.any() or a.all()"
          ]
        }
      ]
    },
    {
      "cell_type": "markdown",
      "metadata": {
        "colab_type": "text",
        "id": "Qlwep8m63wJb"
      },
      "source": [
        "# Ejercicio 3 - Utiliza la red para predecir y entender"
      ]
    },
    {
      "cell_type": "code",
      "metadata": {
        "colab_type": "code",
        "id": "40jeeQWK3wJc",
        "outputId": "779b7031-eb0e-4ed3-e0ee-6677761d9069",
        "scrolled": false,
        "colab": {
          "base_uri": "https://localhost:8080/",
          "height": 890
        }
      },
      "source": [
        "# Implementa una arquitectura similar a la LeNet que hemos visto y asegúrate que la precisión supera los 99%\n",
        "# Fuentes:\n",
        "# http://yann.lecun.com/exdb/publis/pdf/lecun-01a.pdf\n",
        "# https://www.kaggle.com/curiousprogrammer/lenet-5-cnn-with-keras-99-48 \n",
        "import os \n",
        "import numpy as np\n",
        "import tensorflow as tf\n",
        "from tensorflow import keras\n",
        "from tensorflow.keras import layers\n",
        "from keras.datasets import mnist\n",
        "from keras.utils import np_utils\n",
        "from keras.models import Sequential, load_model\n",
        "from keras.layers import *\n",
        "from keras.optimizers import Adam\n",
        "from keras.preprocessing.image import ImageDataGenerator\n",
        "#print(os.listdir('/'))\n",
        "\n",
        "#Preparación de datos\n",
        "(X_train, y_train), (X_test, y_test) = mnist.load_data()\n",
        "X_train = X_train.reshape(-1, 28, 28, 1)  \n",
        "X_test = X_test.reshape(-1, 28, 28, 1)      \n",
        "X_train = X_train / 255\n",
        "X_test = X_test / 255\n",
        "y_train = np_utils.to_categorical(y_train, num_classes=10)\n",
        "y_test = np_utils.to_categorical(y_test, num_classes=10)\n",
        "\n",
        "#Modelo\n",
        "\n",
        "model = tf.keras.Sequential([\n",
        "    layers.Conv2D(32, 5, activation='relu', name='conv1' , input_shape=(28, 28, 1), padding='same'),\n",
        "    layers.MaxPooling2D(2, strides=2, padding='same'),\n",
        "    layers.Conv2D(64, 5, activation='relu', padding='valid', name='conv2'),\n",
        "    layers.MaxPooling2D(2, strides=2, padding='same'),\n",
        "    layers.Flatten(),\n",
        "    layers.Dense(256, activation='relu'),\n",
        "    layers.Dense(64, activation='relu'),\n",
        "    layers.Dense(10, activation='softmax'),\n",
        "])\n",
        "model.summary()\n",
        "\n",
        "#Compilamos\n",
        "model.compile(loss='categorical_crossentropy', metrics=['accuracy'], optimizer='adam')\n",
        "\n",
        "os.makedirs('./log',exist_ok=True)\n",
        "log = keras.callbacks.TensorBoard(log_dir='./log',histogram_freq=1,embeddings_freq=0,embeddings_layer_names=None)\n",
        "\n",
        "#Data augmentation con rotaciones, transformaciones, recorte y zoom, ¡vamos a por ese 99% de accuracy!\n",
        "datagen = ImageDataGenerator(rotation_range=10, width_shift_range=0.1, height_shift_range=0.1, shear_range=0.1,zoom_range=0.2)\n",
        "datagen.fit(X_train)                                         \n",
        "\n",
        "model.fit_generator(datagen.flow(X_train, y_train, batch_size=100), steps_per_epoch=len(X_train)/100, \n",
        "                    epochs=10, validation_data=(X_test, y_test))\n",
        "\n",
        "#puntuaciones\n",
        "score = model.evaluate(X_test, y_test, batch_size=32)\n",
        "print('Error de validación & Accuracy: ',score)\n"
      ],
      "execution_count": 0,
      "outputs": [
        {
          "output_type": "stream",
          "text": [
            "['$GetCurrent', '$Recycle.Bin', 'Archivos de programa', 'Config.Msi', 'Documents and Settings', 'hiberfil.sys', 'hp', 'inetpub', 'Intel', 'OneDriveTemp', 'PerfLogs', 'Program Files', 'Program Files (x86)', 'ProgramData', 'Recovery', 'swapfile.sys', 'SWSetup', 'System Volume Information', 'SYSTEM.SAV', 'tmp', 'tools', 'Users', 'Windows', 'Windows10Upgrade']\n",
            "Model: \"sequential_45\"\n",
            "_________________________________________________________________\n",
            "Layer (type)                 Output Shape              Param #   \n",
            "=================================================================\n",
            "conv1 (Conv2D)               (None, 28, 28, 32)        832       \n",
            "_________________________________________________________________\n",
            "max_pooling2d (MaxPooling2D) (None, 14, 14, 32)        0         \n",
            "_________________________________________________________________\n",
            "conv2 (Conv2D)               (None, 10, 10, 64)        51264     \n",
            "_________________________________________________________________\n",
            "max_pooling2d_1 (MaxPooling2 (None, 5, 5, 64)          0         \n",
            "_________________________________________________________________\n",
            "flatten_45 (Flatten)         (None, 1600)              0         \n",
            "_________________________________________________________________\n",
            "dense_177 (Dense)            (None, 256)               409856    \n",
            "_________________________________________________________________\n",
            "dense_178 (Dense)            (None, 64)                16448     \n",
            "_________________________________________________________________\n",
            "dense_179 (Dense)            (None, 10)                650       \n",
            "=================================================================\n",
            "Total params: 479,050\n",
            "Trainable params: 479,050\n",
            "Non-trainable params: 0\n",
            "_________________________________________________________________\n",
            "WARNING:tensorflow:From <ipython-input-41-0e5949172647>:52: Model.fit_generator (from tensorflow.python.keras.engine.training) is deprecated and will be removed in a future version.\n",
            "Instructions for updating:\n",
            "Please use Model.fit, which supports generators.\n",
            "WARNING:tensorflow:sample_weight modes were coerced from\n",
            "  ...\n",
            "    to  \n",
            "  ['...']\n",
            "Train for 600.0 steps, validate on 10000 samples\n",
            "Epoch 1/10\n",
            "600/600 [==============================] - 27s 44ms/step - loss: 0.2887 - accuracy: 0.9095 - val_loss: 0.0415 - val_accuracy: 0.9863\n",
            "Epoch 2/10\n",
            "600/600 [==============================] - 25s 41ms/step - loss: 0.0897 - accuracy: 0.9731 - val_loss: 0.0385 - val_accuracy: 0.9880\n",
            "Epoch 3/10\n",
            "600/600 [==============================] - 24s 40ms/step - loss: 0.0650 - accuracy: 0.9796 - val_loss: 0.0311 - val_accuracy: 0.9890\n",
            "Epoch 4/10\n",
            "600/600 [==============================] - 24s 41ms/step - loss: 0.0552 - accuracy: 0.9829 - val_loss: 0.0254 - val_accuracy: 0.9922\n",
            "Epoch 5/10\n",
            "600/600 [==============================] - 25s 41ms/step - loss: 0.0481 - accuracy: 0.9850 - val_loss: 0.0302 - val_accuracy: 0.9905\n",
            "Epoch 6/10\n",
            "600/600 [==============================] - 24s 40ms/step - loss: 0.0455 - accuracy: 0.9859 - val_loss: 0.0269 - val_accuracy: 0.9918\n",
            "Epoch 7/10\n",
            "600/600 [==============================] - 24s 39ms/step - loss: 0.0403 - accuracy: 0.9873 - val_loss: 0.0194 - val_accuracy: 0.9939\n",
            "Epoch 8/10\n",
            "600/600 [==============================] - 25s 41ms/step - loss: 0.0373 - accuracy: 0.9884 - val_loss: 0.0218 - val_accuracy: 0.9943\n",
            "Epoch 9/10\n",
            "600/600 [==============================] - 25s 42ms/step - loss: 0.0359 - accuracy: 0.9887 - val_loss: 0.0173 - val_accuracy: 0.9940\n",
            "Epoch 10/10\n",
            "600/600 [==============================] - 26s 43ms/step - loss: 0.0321 - accuracy: 0.9901 - val_loss: 0.0186 - val_accuracy: 0.9940\n",
            "10000/10000 [==============================] - 2s 184us/sample - loss: 0.0186 - accuracy: 0.9940\n",
            "Error de validación & Accuracy:  [0.01859170663765981, 0.994]\n"
          ],
          "name": "stdout"
        }
      ]
    },
    {
      "cell_type": "code",
      "metadata": {
        "colab_type": "code",
        "id": "PP2mNf7Kbgbq",
        "outputId": "a7f6bdde-48d7-4068-c40b-1f450b9d3f49",
        "scrolled": false,
        "colab": {
          "base_uri": "https://localhost:8080/",
          "height": 1000
        }
      },
      "source": [
        " \n",
        "# Intenta evaluar el efecto de la primera capa de convolución en una predicción.\n",
        "# ¿Qué hacen los filtros de la convolución con los números?\n",
        "\n",
        "# Para obtener el output de capas intermedias podemos nombrar las capas con un atributo \"name\"\n",
        "# Podéis comprobar que ya lo hemos hecho en nuestro modelo. Y procedemos como nos cuenta la\n",
        "# documentación de keras en el apartado: 'How can I obtain the output of an intermediate layer (feature extraction)?'\n",
        "# aquí: https://keras.io/getting_started/faq/\n",
        "# ¿Qué hace la convolución con los números?: En nuestro caso un filtro de 5x5 recorre la matriz de la imagen\n",
        "# generando una matriz de salida que \"dibuja\" las características distintivas de la imagen original,\n",
        "# que en el ejemplo que estamos prediciendo sería el primer número (un 7).\n",
        "\n",
        "layer_conv1 = keras.Model(inputs=model.input, outputs=model.get_layer('conv1').output)\n",
        "output_conv1 = layer_conv1.predict(X_test)\n",
        "pred = np.argmax(output_conv1, axis=1)\n",
        "#print('Efecto de la 1a convolución: ' , pred[0])\n",
        "\n",
        "\n",
        "# Dibuja los resultados de los filtros de convolución del nivel 1\n",
        "# Dibuja los resultados de los filtros de convolución del nivel 2\n",
        "\n",
        "#Hacemos el mismo proceso para la segunda convolución:\n",
        "\n",
        "layer_conv2 = keras.Model(inputs=model.input, outputs=model.get_layer('conv2').output)\n",
        "output_conv2 = layer_conv2.predict(X_test)\n",
        "pred_2 = np.argmax(output_conv2, axis=1)\n",
        "\n",
        "#Y pintamos las matrices activación de ambas convoluciones\n",
        "import matplotlib.pyplot as plt\n",
        "\n",
        "#Convolución 1\n",
        "plt.figure(figsize=(20,20))\n",
        "\n",
        "plt.subplot(121)\n",
        "plt.title('Matriz de activación Filtros de la 1a convolución. \\n De oscuro (activado) a claro (no activado): ')\n",
        "plt.xlabel('Kernels(32) del filtro')\n",
        "plt.ylabel('Activación')\n",
        "plt.imshow(pred[0])\n",
        "\n",
        "#Convolución 2\n",
        "plt.subplot(122)\n",
        "plt.title('\\n Matriz de activación Filtros de la 2a convolución. \\n De oscuro (activado) a claro (no activado): ')\n",
        "plt.xlabel('Kernels(64) del filtro')\n",
        "plt.ylabel('Activación')\n",
        "plt.imshow(pred_2[0])\n",
        "\n",
        "plt.show()\n",
        "\n",
        "# Ahora veamos cada una de las imágenes que generan los filtros de las convoluciones\n",
        "# Link para profundizar: https://www.codeastar.com/visualize-convolutional-neural-network/\n",
        "\n",
        "#Número a predecir:\n",
        "print('\\n Número que intenta predecir nuestra red: ')\n",
        "plt.imshow(X_test[0][:,:,0])\n",
        "plt.show()\n",
        "\n",
        "# Activaciones por convolución.Crearemos una función que nos permita acceder a\n",
        "# las 32 y 64 imágenes que crean los filtros de nuestras capas de convolución\n",
        "# (los mapas de activación). \n",
        "\n",
        "activations_conv1 = layer_conv1.predict(X_test[0].reshape(1,28,28,1)) # Convolución 1\n",
        "activations_conv2 = layer_conv2.predict(X_test[0].reshape(1,28,28,1)) # Convolución 2\n",
        "\n",
        "def display_activation(activations, col_size, row_size): \n",
        "    activation = activations\n",
        "    activation_index=0\n",
        "    fig, ax = plt.subplots(row_size, col_size, figsize=(row_size*2.5,col_size*1.5))\n",
        "    for row in range(0,row_size): \n",
        "        for col in range(0,col_size):\n",
        "            ax[row][col].axis(\"Off\")\n",
        "            ax[row][col].imshow(activation[0, :, :, activation_index], cmap='gray')\n",
        "            activation_index += 1\n",
        "\n",
        "print('\\n Mapas de activación de nuestras convoluciones: ')\n",
        "print(\"Primera capa\")\n",
        "act_conv1 = display_activation(activations_conv1, 8, 4) # 8x4 imágenes (filtro de 32 kernels de la 1a convolución)\n",
        "plt.show()\n",
        "print(\"Segunda capa\")\n",
        "act_conv2 = display_activation(activations_conv2, 16, 4) # 8x8 imágenes (filtro de 64 kernels de la 2a convolución)\n",
        "plt.show()\n"
      ],
      "execution_count": 0,
      "outputs": [
        {
          "output_type": "display_data",
          "data": {
            "image/png": "[encoded data removed]",
            "text/plain": [
              "<Figure size 1440x1440 with 2 Axes>"
            ]
          },
          "metadata": {
            "tags": []
          }
        },
        {
          "output_type": "stream",
          "text": [
            "\n",
            " Número que intenta predecir nuestra red: \n"
          ],
          "name": "stdout"
        },
        {
          "output_type": "display_data",
          "data": {
            "image/png": "[encoded data removed]",
            "text/plain": [
              "<Figure size 432x288 with 1 Axes>"
            ]
          },
          "metadata": {
            "tags": []
          }
        },
        {
          "output_type": "stream",
          "text": [
            "\n",
            " Mapas de activación de nuestras convoluciones: \n",
            "Primera capa\n"
          ],
          "name": "stdout"
        },
        {
          "output_type": "display_data",
          "data": {
            "image/png": "[encoded data removed]",
            "text/plain": [
              "<Figure size 720x864 with 32 Axes>"
            ]
          },
          "metadata": {
            "tags": []
          }
        },
        {
          "output_type": "stream",
          "text": [
            "Segunda capa\n"
          ],
          "name": "stdout"
        },
        {
          "output_type": "display_data",
          "data": {
            "image/png": "[encoded data removed]",
            "text/plain": [
              "<Figure size 1440x864 with 64 Axes>"
            ]
          },
          "metadata": {
            "tags": []
          }
        }
      ]
    },
    {
      "cell_type": "code",
      "metadata": {
        "colab_type": "code",
        "id": "tytaJTqKJXMs",
        "outputId": "4bc0cea5-097b-4f96-bc68-b14f9b101b4c",
        "colab": {
          "base_uri": "https://localhost:8080/",
          "height": 211
        }
      },
      "source": [
        "\n",
        "# Utiliza la red para predecir números \n",
        "\n",
        "#Por ejemplo, los 5 primeros números\n",
        "Y_pred = model.predict(X_test) \n",
        "y_pred = np.argmax(Y_pred, axis=1)\n",
        "\n",
        "print('\\n Predicciones de la red: ', y_pred[:5])\n",
        "print('\\n Números a predecir: \\n')\n",
        "figure = plt.figure(figsize=(10,10))\n",
        "for i in range(5):\n",
        "    figure.add_subplot(1,5,i+1)\n",
        "    plt.imshow(X_test[i,:,:,0],cmap=\"gray\")\n",
        "    plt.axis(\"off\")\n"
      ],
      "execution_count": 0,
      "outputs": [
        {
          "output_type": "stream",
          "text": [
            "\n",
            " Predicciones de la red:  [7 2 1 0 4]\n",
            "\n",
            " Números a predecir: \n",
            "\n"
          ],
          "name": "stdout"
        },
        {
          "output_type": "display_data",
          "data": {
            "image/png": "[encoded data removed]",
            "text/plain": [
              "<Figure size 720x720 with 5 Axes>"
            ]
          },
          "metadata": {
            "tags": [],
            "needs_background": "light"
          }
        }
      ]
    },
    {
      "cell_type": "markdown",
      "metadata": {
        "colab_type": "text",
        "id": "ngCMjpU83wJe"
      },
      "source": [
        "# BONUS - ¿Cómo harías un sistema de hyperparameter tuning que automáticamente te dé la mejor red?\n",
        "\n",
        "En nuestro ejemplo del Hyperparameter tuning ya lo hemos implementado. Comprobar."
      ]
    }
  ]
}