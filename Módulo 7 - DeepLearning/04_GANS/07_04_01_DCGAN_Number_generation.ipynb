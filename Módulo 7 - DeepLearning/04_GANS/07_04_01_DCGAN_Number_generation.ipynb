{
 "cells": [
  {
   "cell_type": "code",
   "execution_count": null,
   "metadata": {},
   "outputs": [],
   "source": [
    "# https://www.kaggle.com/soumikrakshit/conditional-dcgan"
   ]
  },
  {
   "cell_type": "code",
   "execution_count": null,
   "metadata": {},
   "outputs": [],
   "source": [
    "# Install Grahpix for windew under:\n",
    "\n",
    "# https://graphviz.gitlab.io/_pages/Download/windows/graphviz-2.38.msi\n"
   ]
  },
  {
   "cell_type": "code",
   "execution_count": 14,
   "metadata": {},
   "outputs": [],
   "source": [
    "import numpy as np\n",
    "import pandas as pd\n",
    "import matplotlib.pyplot as plt\n",
    "from tqdm import tqdm_notebook as tqdm\n",
    "\n",
    "from tensorflow.keras.datasets import mnist\n",
    "from tensorflow.keras.models import Model\n",
    "from tensorflow.keras.layers import Input, Dense, Reshape, Activation\n",
    "from tensorflow.keras.layers import BatchNormalization, MaxPooling2D\n",
    "from tensorflow.keras.layers import UpSampling2D, Conv2D, Concatenate, Flatten\n",
    "from tensorflow.keras.utils import to_categorical\n",
    "from tensorflow.keras.optimizers import Adam\n",
    "\n",
    "#from keras.utils.vis_utils import model_to_dot\n",
    "from tensorflow.keras.utils import model_to_dot\n",
    "# tf.keras.utils.plot_model\n",
    "from IPython.display import SVG\n",
    "\n",
    "import os, warnings\n",
    "warnings.filterwarnings('ignore')"
   ]
  },
  {
   "cell_type": "code",
   "execution_count": 2,
   "metadata": {},
   "outputs": [],
   "source": [
    "IMAGE_WIDTH = 28\n",
    "IMAGE_HEIGHT = 28\n",
    "IMAGE_CHANNELS = 1\n",
    "BATCH_SIZE = 64\n",
    "LATENT_DIMENSION = 100\n",
    "IMAGE_SHAPE = (IMAGE_WIDTH, IMAGE_HEIGHT, IMAGE_CHANNELS)\n",
    "EPOCHS = 100"
   ]
  },
  {
   "cell_type": "code",
   "execution_count": 3,
   "metadata": {},
   "outputs": [],
   "source": [
    "def load_data(latent_dimension):\n",
    "    (x_train, y_train), (_, _) = mnist.load_data()\n",
    "    x_train = x_train / 127.5 - 1.\n",
    "    x_train = np.expand_dims(x_train, axis = 3)\n",
    "    y_train = to_categorical(y_train, latent_dimension)\n",
    "    return x_train, y_train"
   ]
  },
  {
   "cell_type": "code",
   "execution_count": 4,
   "metadata": {},
   "outputs": [
    {
     "data": {
      "text/plain": [
       "((60000, 28, 28, 1), (60000, 100))"
      ]
     },
     "execution_count": 4,
     "metadata": {},
     "output_type": "execute_result"
    }
   ],
   "source": [
    "x_train, y_train = load_data(LATENT_DIMENSION)\n",
    "x_train.shape, y_train.shape"
   ]
  },
  {
   "cell_type": "code",
   "execution_count": 5,
   "metadata": {},
   "outputs": [],
   "source": [
    "def build_generator(latent_dimension):\n",
    "    \n",
    "    # Noise Input Layers\n",
    "    noise_input_placeholder = Input(shape = (latent_dimension, ))\n",
    "    x = Dense(1024)(noise_input_placeholder)\n",
    "    x = Activation('tanh')(x)\n",
    "    x = Dense(128 * 7 * 7)(x)\n",
    "    x = BatchNormalization()(x)\n",
    "    noise_input = Reshape((7, 7, 128), input_shape = (128 * 7 * 7, ))(x)\n",
    "    \n",
    "    # Condition Input Layers\n",
    "    condition_input_placeholder = Input(shape = (latent_dimension, ))\n",
    "    x = Dense(1024)(condition_input_placeholder)\n",
    "    x = Activation('tanh')(x)\n",
    "    x = Dense(128 * 7 * 7)(x)\n",
    "    x = BatchNormalization()(x)\n",
    "    condition_input = Reshape((7, 7, 128), input_shape = (128 * 7 * 7, ))(x)\n",
    "    \n",
    "    # Combined Input\n",
    "    combined_input = Concatenate()([noise_input, condition_input])\n",
    "    \n",
    "    # Generator Block 1\n",
    "    x = UpSampling2D(size = (2, 2))(combined_input)\n",
    "    x = Conv2D(64, (5, 5), padding = 'same')(x)\n",
    "    x = Activation('tanh')(x)\n",
    "    \n",
    "    # Generator Block 2\n",
    "    x = UpSampling2D(size = (2, 2))(x)\n",
    "    x = Conv2D(1, (5, 5), padding = 'same')(x)\n",
    "    output = Activation('tanh')(x)\n",
    "    \n",
    "    generator = Model([noise_input_placeholder, condition_input_placeholder], output, name = 'Generator')\n",
    "    \n",
    "    return generator"
   ]
  },
  {
   "cell_type": "code",
   "execution_count": 6,
   "metadata": {},
   "outputs": [],
   "source": [
    "def build_discriminator(image_shape, latent_dimension):\n",
    "    \n",
    "    # Image Input Layers\n",
    "    image_input_placeholder = Input(image_shape)\n",
    "    x = Conv2D(64, (5, 5), padding = 'same')(image_input_placeholder)\n",
    "    x = Activation('tanh')(x)\n",
    "    x = MaxPooling2D(pool_size = (2, 2))(x)\n",
    "    x = Conv2D(128, (5, 5))(image_input_placeholder)\n",
    "    x = Activation('tanh')(x)\n",
    "    image_input = MaxPooling2D(pool_size = (2, 2))(x)\n",
    "    \n",
    "    # Condition Input Layers\n",
    "    condition_input_placeholder = Input(shape = (latent_dimension, ))\n",
    "    x = Dense(1024)(condition_input_placeholder)\n",
    "    x = Activation('tanh')(x)\n",
    "    x = Dense(128 * 12 * 12)(x)\n",
    "    x = BatchNormalization()(x)\n",
    "    condition_input = Reshape((12, 12, 128), input_shape = (128 * 12 * 12, ))(x)\n",
    "    \n",
    "    combined_input = Concatenate()([image_input, condition_input])\n",
    "    \n",
    "    x = Flatten()(combined_input)\n",
    "    x = Dense(1024)(x)\n",
    "    x = Activation('tanh')(x)\n",
    "    output = Dense(1, activation = 'sigmoid')(x)\n",
    "    \n",
    "    discriminator = Model([image_input_placeholder, condition_input_placeholder], output, name = 'Discriminator')\n",
    "    \n",
    "    return discriminator"
   ]
  },
  {
   "cell_type": "code",
   "execution_count": 7,
   "metadata": {},
   "outputs": [],
   "source": [
    "def build_gan(generator, discriminator, image_shape, latent_dimension):\n",
    "    noise_input_placeholder = Input(shape = (latent_dimension, ), name = 'NoiseInput')\n",
    "    condition_input_placeholder = Input(shape = (latent_dimension, ), name = 'ConditionInput')\n",
    "    generated_image = generator([noise_input_placeholder, condition_input_placeholder])\n",
    "    discriminator.trainable = False\n",
    "    validity = discriminator([generated_image, condition_input_placeholder])\n",
    "    gan = Model([noise_input_placeholder, condition_input_placeholder], validity)\n",
    "    return gan"
   ]
  },
  {
   "cell_type": "code",
   "execution_count": 15,
   "metadata": {},
   "outputs": [
    {
     "data": {
      "image/svg+xml": [
       "<svg height=\"1401pt\" viewBox=\"0.00 0.00 790.00 1051.00\" width=\"1053pt\" xmlns=\"http://www.w3.org/2000/svg\" xmlns:xlink=\"http://www.w3.org/1999/xlink\">\n",
       "<g class=\"graph\" id=\"graph0\" transform=\"scale(1.33333 1.33333) rotate(0) translate(4 1047)\">\n",
       "<title>G</title>\n",
       "<polygon fill=\"white\" points=\"-4,4 -4,-1047 786,-1047 786,4 -4,4\" stroke=\"none\"/>\n",
       "<!-- 1685961472712 -->\n",
       "<g class=\"node\" id=\"node1\"><title>1685961472712</title>\n",
       "<polygon fill=\"none\" points=\"66,-996.5 66,-1042.5 316,-1042.5 316,-996.5 66,-996.5\" stroke=\"black\"/>\n",
       "<text font-family=\"Times New Roman,serif\" font-size=\"14.00\" text-anchor=\"middle\" x=\"129\" y=\"-1015.8\">input_3: InputLayer</text>\n",
       "<polyline fill=\"none\" points=\"192,-996.5 192,-1042.5 \" stroke=\"black\"/>\n",
       "<text font-family=\"Times New Roman,serif\" font-size=\"14.00\" text-anchor=\"middle\" x=\"220\" y=\"-1027.3\">input:</text>\n",
       "<polyline fill=\"none\" points=\"192,-1019.5 248,-1019.5 \" stroke=\"black\"/>\n",
       "<text font-family=\"Times New Roman,serif\" font-size=\"14.00\" text-anchor=\"middle\" x=\"220\" y=\"-1004.3\">output:</text>\n",
       "<polyline fill=\"none\" points=\"248,-996.5 248,-1042.5 \" stroke=\"black\"/>\n",
       "<text font-family=\"Times New Roman,serif\" font-size=\"14.00\" text-anchor=\"middle\" x=\"282\" y=\"-1027.3\">[(?, 100)]</text>\n",
       "<polyline fill=\"none\" points=\"248,-1019.5 316,-1019.5 \" stroke=\"black\"/>\n",
       "<text font-family=\"Times New Roman,serif\" font-size=\"14.00\" text-anchor=\"middle\" x=\"282\" y=\"-1004.3\">[(?, 100)]</text>\n",
       "</g>\n",
       "<!-- 1685961473104 -->\n",
       "<g class=\"node\" id=\"node3\"><title>1685961473104</title>\n",
       "<polygon fill=\"none\" points=\"78,-913.5 78,-959.5 304,-959.5 304,-913.5 78,-913.5\" stroke=\"black\"/>\n",
       "<text font-family=\"Times New Roman,serif\" font-size=\"14.00\" text-anchor=\"middle\" x=\"130\" y=\"-932.8\">dense_4: Dense</text>\n",
       "<polyline fill=\"none\" points=\"182,-913.5 182,-959.5 \" stroke=\"black\"/>\n",
       "<text font-family=\"Times New Roman,serif\" font-size=\"14.00\" text-anchor=\"middle\" x=\"210\" y=\"-944.3\">input:</text>\n",
       "<polyline fill=\"none\" points=\"182,-936.5 238,-936.5 \" stroke=\"black\"/>\n",
       "<text font-family=\"Times New Roman,serif\" font-size=\"14.00\" text-anchor=\"middle\" x=\"210\" y=\"-921.3\">output:</text>\n",
       "<polyline fill=\"none\" points=\"238,-913.5 238,-959.5 \" stroke=\"black\"/>\n",
       "<text font-family=\"Times New Roman,serif\" font-size=\"14.00\" text-anchor=\"middle\" x=\"271\" y=\"-944.3\">(?, 100)</text>\n",
       "<polyline fill=\"none\" points=\"238,-936.5 304,-936.5 \" stroke=\"black\"/>\n",
       "<text font-family=\"Times New Roman,serif\" font-size=\"14.00\" text-anchor=\"middle\" x=\"271\" y=\"-921.3\">(?, 1024)</text>\n",
       "</g>\n",
       "<!-- 1685961472712&#45;&gt;1685961473104 -->\n",
       "<g class=\"edge\" id=\"edge1\"><title>1685961472712-&gt;1685961473104</title>\n",
       "<path d=\"M191,-996.366C191,-988.152 191,-978.658 191,-969.725\" fill=\"none\" stroke=\"black\"/>\n",
       "<polygon fill=\"black\" points=\"194.5,-969.607 191,-959.607 187.5,-969.607 194.5,-969.607\" stroke=\"black\"/>\n",
       "</g>\n",
       "<!-- 1687501570680 -->\n",
       "<g class=\"node\" id=\"node2\"><title>1687501570680</title>\n",
       "<polygon fill=\"none\" points=\"466,-996.5 466,-1042.5 716,-1042.5 716,-996.5 466,-996.5\" stroke=\"black\"/>\n",
       "<text font-family=\"Times New Roman,serif\" font-size=\"14.00\" text-anchor=\"middle\" x=\"529\" y=\"-1015.8\">input_4: InputLayer</text>\n",
       "<polyline fill=\"none\" points=\"592,-996.5 592,-1042.5 \" stroke=\"black\"/>\n",
       "<text font-family=\"Times New Roman,serif\" font-size=\"14.00\" text-anchor=\"middle\" x=\"620\" y=\"-1027.3\">input:</text>\n",
       "<polyline fill=\"none\" points=\"592,-1019.5 648,-1019.5 \" stroke=\"black\"/>\n",
       "<text font-family=\"Times New Roman,serif\" font-size=\"14.00\" text-anchor=\"middle\" x=\"620\" y=\"-1004.3\">output:</text>\n",
       "<polyline fill=\"none\" points=\"648,-996.5 648,-1042.5 \" stroke=\"black\"/>\n",
       "<text font-family=\"Times New Roman,serif\" font-size=\"14.00\" text-anchor=\"middle\" x=\"682\" y=\"-1027.3\">[(?, 100)]</text>\n",
       "<polyline fill=\"none\" points=\"648,-1019.5 716,-1019.5 \" stroke=\"black\"/>\n",
       "<text font-family=\"Times New Roman,serif\" font-size=\"14.00\" text-anchor=\"middle\" x=\"682\" y=\"-1004.3\">[(?, 100)]</text>\n",
       "</g>\n",
       "<!-- 1687501571408 -->\n",
       "<g class=\"node\" id=\"node4\"><title>1687501571408</title>\n",
       "<polygon fill=\"none\" points=\"478,-913.5 478,-959.5 704,-959.5 704,-913.5 478,-913.5\" stroke=\"black\"/>\n",
       "<text font-family=\"Times New Roman,serif\" font-size=\"14.00\" text-anchor=\"middle\" x=\"530\" y=\"-932.8\">dense_6: Dense</text>\n",
       "<polyline fill=\"none\" points=\"582,-913.5 582,-959.5 \" stroke=\"black\"/>\n",
       "<text font-family=\"Times New Roman,serif\" font-size=\"14.00\" text-anchor=\"middle\" x=\"610\" y=\"-944.3\">input:</text>\n",
       "<polyline fill=\"none\" points=\"582,-936.5 638,-936.5 \" stroke=\"black\"/>\n",
       "<text font-family=\"Times New Roman,serif\" font-size=\"14.00\" text-anchor=\"middle\" x=\"610\" y=\"-921.3\">output:</text>\n",
       "<polyline fill=\"none\" points=\"638,-913.5 638,-959.5 \" stroke=\"black\"/>\n",
       "<text font-family=\"Times New Roman,serif\" font-size=\"14.00\" text-anchor=\"middle\" x=\"671\" y=\"-944.3\">(?, 100)</text>\n",
       "<polyline fill=\"none\" points=\"638,-936.5 704,-936.5 \" stroke=\"black\"/>\n",
       "<text font-family=\"Times New Roman,serif\" font-size=\"14.00\" text-anchor=\"middle\" x=\"671\" y=\"-921.3\">(?, 1024)</text>\n",
       "</g>\n",
       "<!-- 1687501570680&#45;&gt;1687501571408 -->\n",
       "<g class=\"edge\" id=\"edge2\"><title>1687501570680-&gt;1687501571408</title>\n",
       "<path d=\"M591,-996.366C591,-988.152 591,-978.658 591,-969.725\" fill=\"none\" stroke=\"black\"/>\n",
       "<polygon fill=\"black\" points=\"594.5,-969.607 591,-959.607 587.5,-969.607 594.5,-969.607\" stroke=\"black\"/>\n",
       "</g>\n",
       "<!-- 1685961470472 -->\n",
       "<g class=\"node\" id=\"node5\"><title>1685961470472</title>\n",
       "<polygon fill=\"none\" points=\"56,-830.5 56,-876.5 326,-876.5 326,-830.5 56,-830.5\" stroke=\"black\"/>\n",
       "<text font-family=\"Times New Roman,serif\" font-size=\"14.00\" text-anchor=\"middle\" x=\"130\" y=\"-849.8\">activation_4: Activation</text>\n",
       "<polyline fill=\"none\" points=\"204,-830.5 204,-876.5 \" stroke=\"black\"/>\n",
       "<text font-family=\"Times New Roman,serif\" font-size=\"14.00\" text-anchor=\"middle\" x=\"232\" y=\"-861.3\">input:</text>\n",
       "<polyline fill=\"none\" points=\"204,-853.5 260,-853.5 \" stroke=\"black\"/>\n",
       "<text font-family=\"Times New Roman,serif\" font-size=\"14.00\" text-anchor=\"middle\" x=\"232\" y=\"-838.3\">output:</text>\n",
       "<polyline fill=\"none\" points=\"260,-830.5 260,-876.5 \" stroke=\"black\"/>\n",
       "<text font-family=\"Times New Roman,serif\" font-size=\"14.00\" text-anchor=\"middle\" x=\"293\" y=\"-861.3\">(?, 1024)</text>\n",
       "<polyline fill=\"none\" points=\"260,-853.5 326,-853.5 \" stroke=\"black\"/>\n",
       "<text font-family=\"Times New Roman,serif\" font-size=\"14.00\" text-anchor=\"middle\" x=\"293\" y=\"-838.3\">(?, 1024)</text>\n",
       "</g>\n",
       "<!-- 1685961473104&#45;&gt;1685961470472 -->\n",
       "<g class=\"edge\" id=\"edge3\"><title>1685961473104-&gt;1685961470472</title>\n",
       "<path d=\"M191,-913.366C191,-905.152 191,-895.658 191,-886.725\" fill=\"none\" stroke=\"black\"/>\n",
       "<polygon fill=\"black\" points=\"194.5,-886.607 191,-876.607 187.5,-886.607 194.5,-886.607\" stroke=\"black\"/>\n",
       "</g>\n",
       "<!-- 1687501704776 -->\n",
       "<g class=\"node\" id=\"node6\"><title>1687501704776</title>\n",
       "<polygon fill=\"none\" points=\"456,-830.5 456,-876.5 726,-876.5 726,-830.5 456,-830.5\" stroke=\"black\"/>\n",
       "<text font-family=\"Times New Roman,serif\" font-size=\"14.00\" text-anchor=\"middle\" x=\"530\" y=\"-849.8\">activation_5: Activation</text>\n",
       "<polyline fill=\"none\" points=\"604,-830.5 604,-876.5 \" stroke=\"black\"/>\n",
       "<text font-family=\"Times New Roman,serif\" font-size=\"14.00\" text-anchor=\"middle\" x=\"632\" y=\"-861.3\">input:</text>\n",
       "<polyline fill=\"none\" points=\"604,-853.5 660,-853.5 \" stroke=\"black\"/>\n",
       "<text font-family=\"Times New Roman,serif\" font-size=\"14.00\" text-anchor=\"middle\" x=\"632\" y=\"-838.3\">output:</text>\n",
       "<polyline fill=\"none\" points=\"660,-830.5 660,-876.5 \" stroke=\"black\"/>\n",
       "<text font-family=\"Times New Roman,serif\" font-size=\"14.00\" text-anchor=\"middle\" x=\"693\" y=\"-861.3\">(?, 1024)</text>\n",
       "<polyline fill=\"none\" points=\"660,-853.5 726,-853.5 \" stroke=\"black\"/>\n",
       "<text font-family=\"Times New Roman,serif\" font-size=\"14.00\" text-anchor=\"middle\" x=\"693\" y=\"-838.3\">(?, 1024)</text>\n",
       "</g>\n",
       "<!-- 1687501571408&#45;&gt;1687501704776 -->\n",
       "<g class=\"edge\" id=\"edge4\"><title>1687501571408-&gt;1687501704776</title>\n",
       "<path d=\"M591,-913.366C591,-905.152 591,-895.658 591,-886.725\" fill=\"none\" stroke=\"black\"/>\n",
       "<polygon fill=\"black\" points=\"594.5,-886.607 591,-876.607 587.5,-886.607 594.5,-886.607\" stroke=\"black\"/>\n",
       "</g>\n",
       "<!-- 1685961470248 -->\n",
       "<g class=\"node\" id=\"node7\"><title>1685961470248</title>\n",
       "<polygon fill=\"none\" points=\"78,-747.5 78,-793.5 304,-793.5 304,-747.5 78,-747.5\" stroke=\"black\"/>\n",
       "<text font-family=\"Times New Roman,serif\" font-size=\"14.00\" text-anchor=\"middle\" x=\"130\" y=\"-766.8\">dense_5: Dense</text>\n",
       "<polyline fill=\"none\" points=\"182,-747.5 182,-793.5 \" stroke=\"black\"/>\n",
       "<text font-family=\"Times New Roman,serif\" font-size=\"14.00\" text-anchor=\"middle\" x=\"210\" y=\"-778.3\">input:</text>\n",
       "<polyline fill=\"none\" points=\"182,-770.5 238,-770.5 \" stroke=\"black\"/>\n",
       "<text font-family=\"Times New Roman,serif\" font-size=\"14.00\" text-anchor=\"middle\" x=\"210\" y=\"-755.3\">output:</text>\n",
       "<polyline fill=\"none\" points=\"238,-747.5 238,-793.5 \" stroke=\"black\"/>\n",
       "<text font-family=\"Times New Roman,serif\" font-size=\"14.00\" text-anchor=\"middle\" x=\"271\" y=\"-778.3\">(?, 1024)</text>\n",
       "<polyline fill=\"none\" points=\"238,-770.5 304,-770.5 \" stroke=\"black\"/>\n",
       "<text font-family=\"Times New Roman,serif\" font-size=\"14.00\" text-anchor=\"middle\" x=\"271\" y=\"-755.3\">(?, 6272)</text>\n",
       "</g>\n",
       "<!-- 1685961470472&#45;&gt;1685961470248 -->\n",
       "<g class=\"edge\" id=\"edge5\"><title>1685961470472-&gt;1685961470248</title>\n",
       "<path d=\"M191,-830.366C191,-822.152 191,-812.658 191,-803.725\" fill=\"none\" stroke=\"black\"/>\n",
       "<polygon fill=\"black\" points=\"194.5,-803.607 191,-793.607 187.5,-803.607 194.5,-803.607\" stroke=\"black\"/>\n",
       "</g>\n",
       "<!-- 1687501736312 -->\n",
       "<g class=\"node\" id=\"node8\"><title>1687501736312</title>\n",
       "<polygon fill=\"none\" points=\"478,-747.5 478,-793.5 704,-793.5 704,-747.5 478,-747.5\" stroke=\"black\"/>\n",
       "<text font-family=\"Times New Roman,serif\" font-size=\"14.00\" text-anchor=\"middle\" x=\"530\" y=\"-766.8\">dense_7: Dense</text>\n",
       "<polyline fill=\"none\" points=\"582,-747.5 582,-793.5 \" stroke=\"black\"/>\n",
       "<text font-family=\"Times New Roman,serif\" font-size=\"14.00\" text-anchor=\"middle\" x=\"610\" y=\"-778.3\">input:</text>\n",
       "<polyline fill=\"none\" points=\"582,-770.5 638,-770.5 \" stroke=\"black\"/>\n",
       "<text font-family=\"Times New Roman,serif\" font-size=\"14.00\" text-anchor=\"middle\" x=\"610\" y=\"-755.3\">output:</text>\n",
       "<polyline fill=\"none\" points=\"638,-747.5 638,-793.5 \" stroke=\"black\"/>\n",
       "<text font-family=\"Times New Roman,serif\" font-size=\"14.00\" text-anchor=\"middle\" x=\"671\" y=\"-778.3\">(?, 1024)</text>\n",
       "<polyline fill=\"none\" points=\"638,-770.5 704,-770.5 \" stroke=\"black\"/>\n",
       "<text font-family=\"Times New Roman,serif\" font-size=\"14.00\" text-anchor=\"middle\" x=\"671\" y=\"-755.3\">(?, 6272)</text>\n",
       "</g>\n",
       "<!-- 1687501704776&#45;&gt;1687501736312 -->\n",
       "<g class=\"edge\" id=\"edge6\"><title>1687501704776-&gt;1687501736312</title>\n",
       "<path d=\"M591,-830.366C591,-822.152 591,-812.658 591,-803.725\" fill=\"none\" stroke=\"black\"/>\n",
       "<polygon fill=\"black\" points=\"594.5,-803.607 591,-793.607 587.5,-803.607 594.5,-803.607\" stroke=\"black\"/>\n",
       "</g>\n",
       "<!-- 1685964426600 -->\n",
       "<g class=\"node\" id=\"node9\"><title>1685964426600</title>\n",
       "<polygon fill=\"none\" points=\"0,-664.5 0,-710.5 382,-710.5 382,-664.5 0,-664.5\" stroke=\"black\"/>\n",
       "<text font-family=\"Times New Roman,serif\" font-size=\"14.00\" text-anchor=\"middle\" x=\"130\" y=\"-683.8\">batch_normalization_2: BatchNormalization</text>\n",
       "<polyline fill=\"none\" points=\"260,-664.5 260,-710.5 \" stroke=\"black\"/>\n",
       "<text font-family=\"Times New Roman,serif\" font-size=\"14.00\" text-anchor=\"middle\" x=\"288\" y=\"-695.3\">input:</text>\n",
       "<polyline fill=\"none\" points=\"260,-687.5 316,-687.5 \" stroke=\"black\"/>\n",
       "<text font-family=\"Times New Roman,serif\" font-size=\"14.00\" text-anchor=\"middle\" x=\"288\" y=\"-672.3\">output:</text>\n",
       "<polyline fill=\"none\" points=\"316,-664.5 316,-710.5 \" stroke=\"black\"/>\n",
       "<text font-family=\"Times New Roman,serif\" font-size=\"14.00\" text-anchor=\"middle\" x=\"349\" y=\"-695.3\">(?, 6272)</text>\n",
       "<polyline fill=\"none\" points=\"316,-687.5 382,-687.5 \" stroke=\"black\"/>\n",
       "<text font-family=\"Times New Roman,serif\" font-size=\"14.00\" text-anchor=\"middle\" x=\"349\" y=\"-672.3\">(?, 6272)</text>\n",
       "</g>\n",
       "<!-- 1685961470248&#45;&gt;1685964426600 -->\n",
       "<g class=\"edge\" id=\"edge7\"><title>1685961470248-&gt;1685964426600</title>\n",
       "<path d=\"M191,-747.366C191,-739.152 191,-729.658 191,-720.725\" fill=\"none\" stroke=\"black\"/>\n",
       "<polygon fill=\"black\" points=\"194.5,-720.607 191,-710.607 187.5,-720.607 194.5,-720.607\" stroke=\"black\"/>\n",
       "</g>\n",
       "<!-- 1687501736648 -->\n",
       "<g class=\"node\" id=\"node10\"><title>1687501736648</title>\n",
       "<polygon fill=\"none\" points=\"400,-664.5 400,-710.5 782,-710.5 782,-664.5 400,-664.5\" stroke=\"black\"/>\n",
       "<text font-family=\"Times New Roman,serif\" font-size=\"14.00\" text-anchor=\"middle\" x=\"530\" y=\"-683.8\">batch_normalization_3: BatchNormalization</text>\n",
       "<polyline fill=\"none\" points=\"660,-664.5 660,-710.5 \" stroke=\"black\"/>\n",
       "<text font-family=\"Times New Roman,serif\" font-size=\"14.00\" text-anchor=\"middle\" x=\"688\" y=\"-695.3\">input:</text>\n",
       "<polyline fill=\"none\" points=\"660,-687.5 716,-687.5 \" stroke=\"black\"/>\n",
       "<text font-family=\"Times New Roman,serif\" font-size=\"14.00\" text-anchor=\"middle\" x=\"688\" y=\"-672.3\">output:</text>\n",
       "<polyline fill=\"none\" points=\"716,-664.5 716,-710.5 \" stroke=\"black\"/>\n",
       "<text font-family=\"Times New Roman,serif\" font-size=\"14.00\" text-anchor=\"middle\" x=\"749\" y=\"-695.3\">(?, 6272)</text>\n",
       "<polyline fill=\"none\" points=\"716,-687.5 782,-687.5 \" stroke=\"black\"/>\n",
       "<text font-family=\"Times New Roman,serif\" font-size=\"14.00\" text-anchor=\"middle\" x=\"749\" y=\"-672.3\">(?, 6272)</text>\n",
       "</g>\n",
       "<!-- 1687501736312&#45;&gt;1687501736648 -->\n",
       "<g class=\"edge\" id=\"edge8\"><title>1687501736312-&gt;1687501736648</title>\n",
       "<path d=\"M591,-747.366C591,-739.152 591,-729.658 591,-720.725\" fill=\"none\" stroke=\"black\"/>\n",
       "<polygon fill=\"black\" points=\"594.5,-720.607 591,-710.607 587.5,-720.607 594.5,-720.607\" stroke=\"black\"/>\n",
       "</g>\n",
       "<!-- 1687501572080 -->\n",
       "<g class=\"node\" id=\"node11\"><title>1687501572080</title>\n",
       "<polygon fill=\"none\" points=\"110,-581.5 110,-627.5 382,-627.5 382,-581.5 110,-581.5\" stroke=\"black\"/>\n",
       "<text font-family=\"Times New Roman,serif\" font-size=\"14.00\" text-anchor=\"middle\" x=\"174\" y=\"-600.8\">reshape_2: Reshape</text>\n",
       "<polyline fill=\"none\" points=\"238,-581.5 238,-627.5 \" stroke=\"black\"/>\n",
       "<text font-family=\"Times New Roman,serif\" font-size=\"14.00\" text-anchor=\"middle\" x=\"266\" y=\"-612.3\">input:</text>\n",
       "<polyline fill=\"none\" points=\"238,-604.5 294,-604.5 \" stroke=\"black\"/>\n",
       "<text font-family=\"Times New Roman,serif\" font-size=\"14.00\" text-anchor=\"middle\" x=\"266\" y=\"-589.3\">output:</text>\n",
       "<polyline fill=\"none\" points=\"294,-581.5 294,-627.5 \" stroke=\"black\"/>\n",
       "<text font-family=\"Times New Roman,serif\" font-size=\"14.00\" text-anchor=\"middle\" x=\"338\" y=\"-612.3\">(?, 6272)</text>\n",
       "<polyline fill=\"none\" points=\"294,-604.5 382,-604.5 \" stroke=\"black\"/>\n",
       "<text font-family=\"Times New Roman,serif\" font-size=\"14.00\" text-anchor=\"middle\" x=\"338\" y=\"-589.3\">(?, 7, 7, 128)</text>\n",
       "</g>\n",
       "<!-- 1685964426600&#45;&gt;1687501572080 -->\n",
       "<g class=\"edge\" id=\"edge9\"><title>1685964426600-&gt;1687501572080</title>\n",
       "<path d=\"M206.029,-664.366C211.971,-655.616 218.898,-645.414 225.3,-635.985\" fill=\"none\" stroke=\"black\"/>\n",
       "<polygon fill=\"black\" points=\"228.267,-637.846 230.989,-627.607 222.476,-633.914 228.267,-637.846\" stroke=\"black\"/>\n",
       "</g>\n",
       "<!-- 1687501799776 -->\n",
       "<g class=\"node\" id=\"node12\"><title>1687501799776</title>\n",
       "<polygon fill=\"none\" points=\"427,-581.5 427,-627.5 699,-627.5 699,-581.5 427,-581.5\" stroke=\"black\"/>\n",
       "<text font-family=\"Times New Roman,serif\" font-size=\"14.00\" text-anchor=\"middle\" x=\"491\" y=\"-600.8\">reshape_3: Reshape</text>\n",
       "<polyline fill=\"none\" points=\"555,-581.5 555,-627.5 \" stroke=\"black\"/>\n",
       "<text font-family=\"Times New Roman,serif\" font-size=\"14.00\" text-anchor=\"middle\" x=\"583\" y=\"-612.3\">input:</text>\n",
       "<polyline fill=\"none\" points=\"555,-604.5 611,-604.5 \" stroke=\"black\"/>\n",
       "<text font-family=\"Times New Roman,serif\" font-size=\"14.00\" text-anchor=\"middle\" x=\"583\" y=\"-589.3\">output:</text>\n",
       "<polyline fill=\"none\" points=\"611,-581.5 611,-627.5 \" stroke=\"black\"/>\n",
       "<text font-family=\"Times New Roman,serif\" font-size=\"14.00\" text-anchor=\"middle\" x=\"655\" y=\"-612.3\">(?, 6272)</text>\n",
       "<polyline fill=\"none\" points=\"611,-604.5 699,-604.5 \" stroke=\"black\"/>\n",
       "<text font-family=\"Times New Roman,serif\" font-size=\"14.00\" text-anchor=\"middle\" x=\"655\" y=\"-589.3\">(?, 7, 7, 128)</text>\n",
       "</g>\n",
       "<!-- 1687501736648&#45;&gt;1687501799776 -->\n",
       "<g class=\"edge\" id=\"edge10\"><title>1687501736648-&gt;1687501799776</title>\n",
       "<path d=\"M583.349,-664.366C580.447,-655.973 577.085,-646.245 573.938,-637.143\" fill=\"none\" stroke=\"black\"/>\n",
       "<polygon fill=\"black\" points=\"577.217,-635.915 570.642,-627.607 570.601,-638.202 577.217,-635.915\" stroke=\"black\"/>\n",
       "</g>\n",
       "<!-- 1687501771776 -->\n",
       "<g class=\"node\" id=\"node13\"><title>1687501771776</title>\n",
       "<polygon fill=\"none\" points=\"201.5,-498.5 201.5,-544.5 606.5,-544.5 606.5,-498.5 201.5,-498.5\" stroke=\"black\"/>\n",
       "<text font-family=\"Times New Roman,serif\" font-size=\"14.00\" text-anchor=\"middle\" x=\"288\" y=\"-517.8\">concatenate_1: Concatenate</text>\n",
       "<polyline fill=\"none\" points=\"374.5,-498.5 374.5,-544.5 \" stroke=\"black\"/>\n",
       "<text font-family=\"Times New Roman,serif\" font-size=\"14.00\" text-anchor=\"middle\" x=\"402.5\" y=\"-529.3\">input:</text>\n",
       "<polyline fill=\"none\" points=\"374.5,-521.5 430.5,-521.5 \" stroke=\"black\"/>\n",
       "<text font-family=\"Times New Roman,serif\" font-size=\"14.00\" text-anchor=\"middle\" x=\"402.5\" y=\"-506.3\">output:</text>\n",
       "<polyline fill=\"none\" points=\"430.5,-498.5 430.5,-544.5 \" stroke=\"black\"/>\n",
       "<text font-family=\"Times New Roman,serif\" font-size=\"14.00\" text-anchor=\"middle\" x=\"518.5\" y=\"-529.3\">[(?, 7, 7, 128), (?, 7, 7, 128)]</text>\n",
       "<polyline fill=\"none\" points=\"430.5,-521.5 606.5,-521.5 \" stroke=\"black\"/>\n",
       "<text font-family=\"Times New Roman,serif\" font-size=\"14.00\" text-anchor=\"middle\" x=\"518.5\" y=\"-506.3\">(?, 7, 7, 256)</text>\n",
       "</g>\n",
       "<!-- 1687501572080&#45;&gt;1687501771776 -->\n",
       "<g class=\"edge\" id=\"edge11\"><title>1687501572080-&gt;1687501771776</title>\n",
       "<path d=\"M289.174,-581.366C308.507,-571.455 331.472,-559.682 351.765,-549.279\" fill=\"none\" stroke=\"black\"/>\n",
       "<polygon fill=\"black\" points=\"353.576,-552.283 360.878,-544.607 350.383,-546.054 353.576,-552.283\" stroke=\"black\"/>\n",
       "</g>\n",
       "<!-- 1687501799776&#45;&gt;1687501771776 -->\n",
       "<g class=\"edge\" id=\"edge12\"><title>1687501799776-&gt;1687501771776</title>\n",
       "<path d=\"M519.553,-581.366C500.097,-571.455 476.987,-559.682 456.566,-549.279\" fill=\"none\" stroke=\"black\"/>\n",
       "<polygon fill=\"black\" points=\"457.894,-546.028 447.395,-544.607 454.717,-552.265 457.894,-546.028\" stroke=\"black\"/>\n",
       "</g>\n",
       "<!-- 1687501773848 -->\n",
       "<g class=\"node\" id=\"node14\"><title>1687501773848</title>\n",
       "<polygon fill=\"none\" points=\"221,-415.5 221,-461.5 587,-461.5 587,-415.5 221,-415.5\" stroke=\"black\"/>\n",
       "<text font-family=\"Times New Roman,serif\" font-size=\"14.00\" text-anchor=\"middle\" x=\"325.5\" y=\"-434.8\">up_sampling2d_2: UpSampling2D</text>\n",
       "<polyline fill=\"none\" points=\"430,-415.5 430,-461.5 \" stroke=\"black\"/>\n",
       "<text font-family=\"Times New Roman,serif\" font-size=\"14.00\" text-anchor=\"middle\" x=\"458\" y=\"-446.3\">input:</text>\n",
       "<polyline fill=\"none\" points=\"430,-438.5 486,-438.5 \" stroke=\"black\"/>\n",
       "<text font-family=\"Times New Roman,serif\" font-size=\"14.00\" text-anchor=\"middle\" x=\"458\" y=\"-423.3\">output:</text>\n",
       "<polyline fill=\"none\" points=\"486,-415.5 486,-461.5 \" stroke=\"black\"/>\n",
       "<text font-family=\"Times New Roman,serif\" font-size=\"14.00\" text-anchor=\"middle\" x=\"536.5\" y=\"-446.3\">(?, 7, 7, 256)</text>\n",
       "<polyline fill=\"none\" points=\"486,-438.5 587,-438.5 \" stroke=\"black\"/>\n",
       "<text font-family=\"Times New Roman,serif\" font-size=\"14.00\" text-anchor=\"middle\" x=\"536.5\" y=\"-423.3\">(?, 14, 14, 256)</text>\n",
       "</g>\n",
       "<!-- 1687501771776&#45;&gt;1687501773848 -->\n",
       "<g class=\"edge\" id=\"edge13\"><title>1687501771776-&gt;1687501773848</title>\n",
       "<path d=\"M404,-498.366C404,-490.152 404,-480.658 404,-471.725\" fill=\"none\" stroke=\"black\"/>\n",
       "<polygon fill=\"black\" points=\"407.5,-471.607 404,-461.607 400.5,-471.607 407.5,-471.607\" stroke=\"black\"/>\n",
       "</g>\n",
       "<!-- 1687501950648 -->\n",
       "<g class=\"node\" id=\"node15\"><title>1687501950648</title>\n",
       "<polygon fill=\"none\" points=\"262,-332.5 262,-378.5 546,-378.5 546,-332.5 262,-332.5\" stroke=\"black\"/>\n",
       "<text font-family=\"Times New Roman,serif\" font-size=\"14.00\" text-anchor=\"middle\" x=\"325.5\" y=\"-351.8\">conv2d_2: Conv2D</text>\n",
       "<polyline fill=\"none\" points=\"389,-332.5 389,-378.5 \" stroke=\"black\"/>\n",
       "<text font-family=\"Times New Roman,serif\" font-size=\"14.00\" text-anchor=\"middle\" x=\"417\" y=\"-363.3\">input:</text>\n",
       "<polyline fill=\"none\" points=\"389,-355.5 445,-355.5 \" stroke=\"black\"/>\n",
       "<text font-family=\"Times New Roman,serif\" font-size=\"14.00\" text-anchor=\"middle\" x=\"417\" y=\"-340.3\">output:</text>\n",
       "<polyline fill=\"none\" points=\"445,-332.5 445,-378.5 \" stroke=\"black\"/>\n",
       "<text font-family=\"Times New Roman,serif\" font-size=\"14.00\" text-anchor=\"middle\" x=\"495.5\" y=\"-363.3\">(?, 14, 14, 256)</text>\n",
       "<polyline fill=\"none\" points=\"445,-355.5 546,-355.5 \" stroke=\"black\"/>\n",
       "<text font-family=\"Times New Roman,serif\" font-size=\"14.00\" text-anchor=\"middle\" x=\"495.5\" y=\"-340.3\">(?, 14, 14, 64)</text>\n",
       "</g>\n",
       "<!-- 1687501773848&#45;&gt;1687501950648 -->\n",
       "<g class=\"edge\" id=\"edge14\"><title>1687501773848-&gt;1687501950648</title>\n",
       "<path d=\"M404,-415.366C404,-407.152 404,-397.658 404,-388.725\" fill=\"none\" stroke=\"black\"/>\n",
       "<polygon fill=\"black\" points=\"407.5,-388.607 404,-378.607 400.5,-388.607 407.5,-388.607\" stroke=\"black\"/>\n",
       "</g>\n",
       "<!-- 1685961501832 -->\n",
       "<g class=\"node\" id=\"node16\"><title>1685961501832</title>\n",
       "<polygon fill=\"none\" points=\"254.5,-249.5 254.5,-295.5 553.5,-295.5 553.5,-249.5 254.5,-249.5\" stroke=\"black\"/>\n",
       "<text font-family=\"Times New Roman,serif\" font-size=\"14.00\" text-anchor=\"middle\" x=\"328.5\" y=\"-268.8\">activation_6: Activation</text>\n",
       "<polyline fill=\"none\" points=\"402.5,-249.5 402.5,-295.5 \" stroke=\"black\"/>\n",
       "<text font-family=\"Times New Roman,serif\" font-size=\"14.00\" text-anchor=\"middle\" x=\"430.5\" y=\"-280.3\">input:</text>\n",
       "<polyline fill=\"none\" points=\"402.5,-272.5 458.5,-272.5 \" stroke=\"black\"/>\n",
       "<text font-family=\"Times New Roman,serif\" font-size=\"14.00\" text-anchor=\"middle\" x=\"430.5\" y=\"-257.3\">output:</text>\n",
       "<polyline fill=\"none\" points=\"458.5,-249.5 458.5,-295.5 \" stroke=\"black\"/>\n",
       "<text font-family=\"Times New Roman,serif\" font-size=\"14.00\" text-anchor=\"middle\" x=\"506\" y=\"-280.3\">(?, 14, 14, 64)</text>\n",
       "<polyline fill=\"none\" points=\"458.5,-272.5 553.5,-272.5 \" stroke=\"black\"/>\n",
       "<text font-family=\"Times New Roman,serif\" font-size=\"14.00\" text-anchor=\"middle\" x=\"506\" y=\"-257.3\">(?, 14, 14, 64)</text>\n",
       "</g>\n",
       "<!-- 1687501950648&#45;&gt;1685961501832 -->\n",
       "<g class=\"edge\" id=\"edge15\"><title>1687501950648-&gt;1685961501832</title>\n",
       "<path d=\"M404,-332.366C404,-324.152 404,-314.658 404,-305.725\" fill=\"none\" stroke=\"black\"/>\n",
       "<polygon fill=\"black\" points=\"407.5,-305.607 404,-295.607 400.5,-305.607 407.5,-305.607\" stroke=\"black\"/>\n",
       "</g>\n",
       "<!-- 1687502015624 -->\n",
       "<g class=\"node\" id=\"node17\"><title>1687502015624</title>\n",
       "<polygon fill=\"none\" points=\"224,-166.5 224,-212.5 584,-212.5 584,-166.5 224,-166.5\" stroke=\"black\"/>\n",
       "<text font-family=\"Times New Roman,serif\" font-size=\"14.00\" text-anchor=\"middle\" x=\"328.5\" y=\"-185.8\">up_sampling2d_3: UpSampling2D</text>\n",
       "<polyline fill=\"none\" points=\"433,-166.5 433,-212.5 \" stroke=\"black\"/>\n",
       "<text font-family=\"Times New Roman,serif\" font-size=\"14.00\" text-anchor=\"middle\" x=\"461\" y=\"-197.3\">input:</text>\n",
       "<polyline fill=\"none\" points=\"433,-189.5 489,-189.5 \" stroke=\"black\"/>\n",
       "<text font-family=\"Times New Roman,serif\" font-size=\"14.00\" text-anchor=\"middle\" x=\"461\" y=\"-174.3\">output:</text>\n",
       "<polyline fill=\"none\" points=\"489,-166.5 489,-212.5 \" stroke=\"black\"/>\n",
       "<text font-family=\"Times New Roman,serif\" font-size=\"14.00\" text-anchor=\"middle\" x=\"536.5\" y=\"-197.3\">(?, 14, 14, 64)</text>\n",
       "<polyline fill=\"none\" points=\"489,-189.5 584,-189.5 \" stroke=\"black\"/>\n",
       "<text font-family=\"Times New Roman,serif\" font-size=\"14.00\" text-anchor=\"middle\" x=\"536.5\" y=\"-174.3\">(?, 28, 28, 64)</text>\n",
       "</g>\n",
       "<!-- 1685961501832&#45;&gt;1687502015624 -->\n",
       "<g class=\"edge\" id=\"edge16\"><title>1685961501832-&gt;1687502015624</title>\n",
       "<path d=\"M404,-249.366C404,-241.152 404,-231.658 404,-222.725\" fill=\"none\" stroke=\"black\"/>\n",
       "<polygon fill=\"black\" points=\"407.5,-222.607 404,-212.607 400.5,-222.607 407.5,-222.607\" stroke=\"black\"/>\n",
       "</g>\n",
       "<!-- 1687502014952 -->\n",
       "<g class=\"node\" id=\"node18\"><title>1687502014952</title>\n",
       "<polygon fill=\"none\" points=\"265,-83.5 265,-129.5 543,-129.5 543,-83.5 265,-83.5\" stroke=\"black\"/>\n",
       "<text font-family=\"Times New Roman,serif\" font-size=\"14.00\" text-anchor=\"middle\" x=\"328.5\" y=\"-102.8\">conv2d_3: Conv2D</text>\n",
       "<polyline fill=\"none\" points=\"392,-83.5 392,-129.5 \" stroke=\"black\"/>\n",
       "<text font-family=\"Times New Roman,serif\" font-size=\"14.00\" text-anchor=\"middle\" x=\"420\" y=\"-114.3\">input:</text>\n",
       "<polyline fill=\"none\" points=\"392,-106.5 448,-106.5 \" stroke=\"black\"/>\n",
       "<text font-family=\"Times New Roman,serif\" font-size=\"14.00\" text-anchor=\"middle\" x=\"420\" y=\"-91.3\">output:</text>\n",
       "<polyline fill=\"none\" points=\"448,-83.5 448,-129.5 \" stroke=\"black\"/>\n",
       "<text font-family=\"Times New Roman,serif\" font-size=\"14.00\" text-anchor=\"middle\" x=\"495.5\" y=\"-114.3\">(?, 28, 28, 64)</text>\n",
       "<polyline fill=\"none\" points=\"448,-106.5 543,-106.5 \" stroke=\"black\"/>\n",
       "<text font-family=\"Times New Roman,serif\" font-size=\"14.00\" text-anchor=\"middle\" x=\"495.5\" y=\"-91.3\">(?, 28, 28, 1)</text>\n",
       "</g>\n",
       "<!-- 1687502015624&#45;&gt;1687502014952 -->\n",
       "<g class=\"edge\" id=\"edge17\"><title>1687502015624-&gt;1687502014952</title>\n",
       "<path d=\"M404,-166.366C404,-158.152 404,-148.658 404,-139.725\" fill=\"none\" stroke=\"black\"/>\n",
       "<polygon fill=\"black\" points=\"407.5,-139.607 404,-129.607 400.5,-139.607 407.5,-139.607\" stroke=\"black\"/>\n",
       "</g>\n",
       "<!-- 1687502057088 -->\n",
       "<g class=\"node\" id=\"node19\"><title>1687502057088</title>\n",
       "<polygon fill=\"none\" points=\"258,-0.5 258,-46.5 550,-46.5 550,-0.5 258,-0.5\" stroke=\"black\"/>\n",
       "<text font-family=\"Times New Roman,serif\" font-size=\"14.00\" text-anchor=\"middle\" x=\"332\" y=\"-19.8\">activation_7: Activation</text>\n",
       "<polyline fill=\"none\" points=\"406,-0.5 406,-46.5 \" stroke=\"black\"/>\n",
       "<text font-family=\"Times New Roman,serif\" font-size=\"14.00\" text-anchor=\"middle\" x=\"434\" y=\"-31.3\">input:</text>\n",
       "<polyline fill=\"none\" points=\"406,-23.5 462,-23.5 \" stroke=\"black\"/>\n",
       "<text font-family=\"Times New Roman,serif\" font-size=\"14.00\" text-anchor=\"middle\" x=\"434\" y=\"-8.3\">output:</text>\n",
       "<polyline fill=\"none\" points=\"462,-0.5 462,-46.5 \" stroke=\"black\"/>\n",
       "<text font-family=\"Times New Roman,serif\" font-size=\"14.00\" text-anchor=\"middle\" x=\"506\" y=\"-31.3\">(?, 28, 28, 1)</text>\n",
       "<polyline fill=\"none\" points=\"462,-23.5 550,-23.5 \" stroke=\"black\"/>\n",
       "<text font-family=\"Times New Roman,serif\" font-size=\"14.00\" text-anchor=\"middle\" x=\"506\" y=\"-8.3\">(?, 28, 28, 1)</text>\n",
       "</g>\n",
       "<!-- 1687502014952&#45;&gt;1687502057088 -->\n",
       "<g class=\"edge\" id=\"edge18\"><title>1687502014952-&gt;1687502057088</title>\n",
       "<path d=\"M404,-83.3664C404,-75.1516 404,-65.6579 404,-56.7252\" fill=\"none\" stroke=\"black\"/>\n",
       "<polygon fill=\"black\" points=\"407.5,-56.6068 404,-46.6068 400.5,-56.6069 407.5,-56.6068\" stroke=\"black\"/>\n",
       "</g>\n",
       "</g>\n",
       "</svg>"
      ],
      "text/plain": [
       "<IPython.core.display.SVG object>"
      ]
     },
     "execution_count": 15,
     "metadata": {},
     "output_type": "execute_result"
    }
   ],
   "source": [
    "generator = build_generator(100)\n",
    "SVG(model_to_dot(generator, show_shapes = True, \n",
    "    show_layer_names = True).create(prog = 'dot', format = 'svg'))"
   ]
  },
  {
   "cell_type": "code",
   "execution_count": 11,
   "metadata": {},
   "outputs": [
    {
     "name": "stdout",
     "output_type": "stream",
     "text": [
      "1.4.1\n"
     ]
    }
   ],
   "source": [
    "import pydot\n",
    "print(pydot.__version__)"
   ]
  },
  {
   "cell_type": "code",
   "execution_count": 16,
   "metadata": {},
   "outputs": [
    {
     "data": {
      "image/svg+xml": [
       "<svg height=\"1180pt\" viewBox=\"0.00 0.00 744.50 885.00\" width=\"993pt\" xmlns=\"http://www.w3.org/2000/svg\" xmlns:xlink=\"http://www.w3.org/1999/xlink\">\n",
       "<g class=\"graph\" id=\"graph0\" transform=\"scale(1.33333 1.33333) rotate(0) translate(4 881)\">\n",
       "<title>G</title>\n",
       "<polygon fill=\"white\" points=\"-4,4 -4,-881 740.5,-881 740.5,4 -4,4\" stroke=\"none\"/>\n",
       "<!-- 1687502450584 -->\n",
       "<g class=\"node\" id=\"node1\"><title>1687502450584</title>\n",
       "<polygon fill=\"none\" points=\"69.5,-830.5 69.5,-876.5 319.5,-876.5 319.5,-830.5 69.5,-830.5\" stroke=\"black\"/>\n",
       "<text font-family=\"Times New Roman,serif\" font-size=\"14.00\" text-anchor=\"middle\" x=\"132.5\" y=\"-849.8\">input_6: InputLayer</text>\n",
       "<polyline fill=\"none\" points=\"195.5,-830.5 195.5,-876.5 \" stroke=\"black\"/>\n",
       "<text font-family=\"Times New Roman,serif\" font-size=\"14.00\" text-anchor=\"middle\" x=\"223.5\" y=\"-861.3\">input:</text>\n",
       "<polyline fill=\"none\" points=\"195.5,-853.5 251.5,-853.5 \" stroke=\"black\"/>\n",
       "<text font-family=\"Times New Roman,serif\" font-size=\"14.00\" text-anchor=\"middle\" x=\"223.5\" y=\"-838.3\">output:</text>\n",
       "<polyline fill=\"none\" points=\"251.5,-830.5 251.5,-876.5 \" stroke=\"black\"/>\n",
       "<text font-family=\"Times New Roman,serif\" font-size=\"14.00\" text-anchor=\"middle\" x=\"285.5\" y=\"-861.3\">[(?, 100)]</text>\n",
       "<polyline fill=\"none\" points=\"251.5,-853.5 319.5,-853.5 \" stroke=\"black\"/>\n",
       "<text font-family=\"Times New Roman,serif\" font-size=\"14.00\" text-anchor=\"middle\" x=\"285.5\" y=\"-838.3\">[(?, 100)]</text>\n",
       "</g>\n",
       "<!-- 1687502712224 -->\n",
       "<g class=\"node\" id=\"node2\"><title>1687502712224</title>\n",
       "<polygon fill=\"none\" points=\"81.5,-747.5 81.5,-793.5 307.5,-793.5 307.5,-747.5 81.5,-747.5\" stroke=\"black\"/>\n",
       "<text font-family=\"Times New Roman,serif\" font-size=\"14.00\" text-anchor=\"middle\" x=\"133.5\" y=\"-766.8\">dense_8: Dense</text>\n",
       "<polyline fill=\"none\" points=\"185.5,-747.5 185.5,-793.5 \" stroke=\"black\"/>\n",
       "<text font-family=\"Times New Roman,serif\" font-size=\"14.00\" text-anchor=\"middle\" x=\"213.5\" y=\"-778.3\">input:</text>\n",
       "<polyline fill=\"none\" points=\"185.5,-770.5 241.5,-770.5 \" stroke=\"black\"/>\n",
       "<text font-family=\"Times New Roman,serif\" font-size=\"14.00\" text-anchor=\"middle\" x=\"213.5\" y=\"-755.3\">output:</text>\n",
       "<polyline fill=\"none\" points=\"241.5,-747.5 241.5,-793.5 \" stroke=\"black\"/>\n",
       "<text font-family=\"Times New Roman,serif\" font-size=\"14.00\" text-anchor=\"middle\" x=\"274.5\" y=\"-778.3\">(?, 100)</text>\n",
       "<polyline fill=\"none\" points=\"241.5,-770.5 307.5,-770.5 \" stroke=\"black\"/>\n",
       "<text font-family=\"Times New Roman,serif\" font-size=\"14.00\" text-anchor=\"middle\" x=\"274.5\" y=\"-755.3\">(?, 1024)</text>\n",
       "</g>\n",
       "<!-- 1687502450584&#45;&gt;1687502712224 -->\n",
       "<g class=\"edge\" id=\"edge1\"><title>1687502450584-&gt;1687502712224</title>\n",
       "<path d=\"M194.5,-830.366C194.5,-822.152 194.5,-812.658 194.5,-803.725\" fill=\"none\" stroke=\"black\"/>\n",
       "<polygon fill=\"black\" points=\"198,-803.607 194.5,-793.607 191,-803.607 198,-803.607\" stroke=\"black\"/>\n",
       "</g>\n",
       "<!-- 1687502702912 -->\n",
       "<g class=\"node\" id=\"node4\"><title>1687502702912</title>\n",
       "<polygon fill=\"none\" points=\"56,-664.5 56,-710.5 333,-710.5 333,-664.5 56,-664.5\" stroke=\"black\"/>\n",
       "<text font-family=\"Times New Roman,serif\" font-size=\"14.00\" text-anchor=\"middle\" x=\"133.5\" y=\"-683.8\">activation_10: Activation</text>\n",
       "<polyline fill=\"none\" points=\"211,-664.5 211,-710.5 \" stroke=\"black\"/>\n",
       "<text font-family=\"Times New Roman,serif\" font-size=\"14.00\" text-anchor=\"middle\" x=\"239\" y=\"-695.3\">input:</text>\n",
       "<polyline fill=\"none\" points=\"211,-687.5 267,-687.5 \" stroke=\"black\"/>\n",
       "<text font-family=\"Times New Roman,serif\" font-size=\"14.00\" text-anchor=\"middle\" x=\"239\" y=\"-672.3\">output:</text>\n",
       "<polyline fill=\"none\" points=\"267,-664.5 267,-710.5 \" stroke=\"black\"/>\n",
       "<text font-family=\"Times New Roman,serif\" font-size=\"14.00\" text-anchor=\"middle\" x=\"300\" y=\"-695.3\">(?, 1024)</text>\n",
       "<polyline fill=\"none\" points=\"267,-687.5 333,-687.5 \" stroke=\"black\"/>\n",
       "<text font-family=\"Times New Roman,serif\" font-size=\"14.00\" text-anchor=\"middle\" x=\"300\" y=\"-672.3\">(?, 1024)</text>\n",
       "</g>\n",
       "<!-- 1687502712224&#45;&gt;1687502702912 -->\n",
       "<g class=\"edge\" id=\"edge2\"><title>1687502712224-&gt;1687502702912</title>\n",
       "<path d=\"M194.5,-747.366C194.5,-739.152 194.5,-729.658 194.5,-720.725\" fill=\"none\" stroke=\"black\"/>\n",
       "<polygon fill=\"black\" points=\"198,-720.607 194.5,-710.607 191,-720.607 198,-720.607\" stroke=\"black\"/>\n",
       "</g>\n",
       "<!-- 1687502739720 -->\n",
       "<g class=\"node\" id=\"node3\"><title>1687502739720</title>\n",
       "<polygon fill=\"none\" points=\"420,-664.5 420,-710.5 699,-710.5 699,-664.5 420,-664.5\" stroke=\"black\"/>\n",
       "<text font-family=\"Times New Roman,serif\" font-size=\"14.00\" text-anchor=\"middle\" x=\"483\" y=\"-683.8\">input_5: InputLayer</text>\n",
       "<polyline fill=\"none\" points=\"546,-664.5 546,-710.5 \" stroke=\"black\"/>\n",
       "<text font-family=\"Times New Roman,serif\" font-size=\"14.00\" text-anchor=\"middle\" x=\"574\" y=\"-695.3\">input:</text>\n",
       "<polyline fill=\"none\" points=\"546,-687.5 602,-687.5 \" stroke=\"black\"/>\n",
       "<text font-family=\"Times New Roman,serif\" font-size=\"14.00\" text-anchor=\"middle\" x=\"574\" y=\"-672.3\">output:</text>\n",
       "<polyline fill=\"none\" points=\"602,-664.5 602,-710.5 \" stroke=\"black\"/>\n",
       "<text font-family=\"Times New Roman,serif\" font-size=\"14.00\" text-anchor=\"middle\" x=\"650.5\" y=\"-695.3\">[(?, 28, 28, 1)]</text>\n",
       "<polyline fill=\"none\" points=\"602,-687.5 699,-687.5 \" stroke=\"black\"/>\n",
       "<text font-family=\"Times New Roman,serif\" font-size=\"14.00\" text-anchor=\"middle\" x=\"650.5\" y=\"-672.3\">[(?, 28, 28, 1)]</text>\n",
       "</g>\n",
       "<!-- 1687502738768 -->\n",
       "<g class=\"node\" id=\"node5\"><title>1687502738768</title>\n",
       "<polygon fill=\"none\" points=\"417.5,-581.5 417.5,-627.5 701.5,-627.5 701.5,-581.5 417.5,-581.5\" stroke=\"black\"/>\n",
       "<text font-family=\"Times New Roman,serif\" font-size=\"14.00\" text-anchor=\"middle\" x=\"481\" y=\"-600.8\">conv2d_5: Conv2D</text>\n",
       "<polyline fill=\"none\" points=\"544.5,-581.5 544.5,-627.5 \" stroke=\"black\"/>\n",
       "<text font-family=\"Times New Roman,serif\" font-size=\"14.00\" text-anchor=\"middle\" x=\"572.5\" y=\"-612.3\">input:</text>\n",
       "<polyline fill=\"none\" points=\"544.5,-604.5 600.5,-604.5 \" stroke=\"black\"/>\n",
       "<text font-family=\"Times New Roman,serif\" font-size=\"14.00\" text-anchor=\"middle\" x=\"572.5\" y=\"-589.3\">output:</text>\n",
       "<polyline fill=\"none\" points=\"600.5,-581.5 600.5,-627.5 \" stroke=\"black\"/>\n",
       "<text font-family=\"Times New Roman,serif\" font-size=\"14.00\" text-anchor=\"middle\" x=\"651\" y=\"-612.3\">(?, 28, 28, 1)</text>\n",
       "<polyline fill=\"none\" points=\"600.5,-604.5 701.5,-604.5 \" stroke=\"black\"/>\n",
       "<text font-family=\"Times New Roman,serif\" font-size=\"14.00\" text-anchor=\"middle\" x=\"651\" y=\"-589.3\">(?, 24, 24, 128)</text>\n",
       "</g>\n",
       "<!-- 1687502739720&#45;&gt;1687502738768 -->\n",
       "<g class=\"edge\" id=\"edge3\"><title>1687502739720-&gt;1687502738768</title>\n",
       "<path d=\"M559.5,-664.366C559.5,-656.152 559.5,-646.658 559.5,-637.725\" fill=\"none\" stroke=\"black\"/>\n",
       "<polygon fill=\"black\" points=\"563,-637.607 559.5,-627.607 556,-637.607 563,-637.607\" stroke=\"black\"/>\n",
       "</g>\n",
       "<!-- 1687502701512 -->\n",
       "<g class=\"node\" id=\"node6\"><title>1687502701512</title>\n",
       "<polygon fill=\"none\" points=\"78,-581.5 78,-627.5 311,-627.5 311,-581.5 78,-581.5\" stroke=\"black\"/>\n",
       "<text font-family=\"Times New Roman,serif\" font-size=\"14.00\" text-anchor=\"middle\" x=\"130\" y=\"-600.8\">dense_9: Dense</text>\n",
       "<polyline fill=\"none\" points=\"182,-581.5 182,-627.5 \" stroke=\"black\"/>\n",
       "<text font-family=\"Times New Roman,serif\" font-size=\"14.00\" text-anchor=\"middle\" x=\"210\" y=\"-612.3\">input:</text>\n",
       "<polyline fill=\"none\" points=\"182,-604.5 238,-604.5 \" stroke=\"black\"/>\n",
       "<text font-family=\"Times New Roman,serif\" font-size=\"14.00\" text-anchor=\"middle\" x=\"210\" y=\"-589.3\">output:</text>\n",
       "<polyline fill=\"none\" points=\"238,-581.5 238,-627.5 \" stroke=\"black\"/>\n",
       "<text font-family=\"Times New Roman,serif\" font-size=\"14.00\" text-anchor=\"middle\" x=\"274.5\" y=\"-612.3\">(?, 1024)</text>\n",
       "<polyline fill=\"none\" points=\"238,-604.5 311,-604.5 \" stroke=\"black\"/>\n",
       "<text font-family=\"Times New Roman,serif\" font-size=\"14.00\" text-anchor=\"middle\" x=\"274.5\" y=\"-589.3\">(?, 18432)</text>\n",
       "</g>\n",
       "<!-- 1687502702912&#45;&gt;1687502701512 -->\n",
       "<g class=\"edge\" id=\"edge4\"><title>1687502702912-&gt;1687502701512</title>\n",
       "<path d=\"M194.5,-664.366C194.5,-656.152 194.5,-646.658 194.5,-637.725\" fill=\"none\" stroke=\"black\"/>\n",
       "<polygon fill=\"black\" points=\"198,-637.607 194.5,-627.607 191,-637.607 198,-637.607\" stroke=\"black\"/>\n",
       "</g>\n",
       "<!-- 1687502730800 -->\n",
       "<g class=\"node\" id=\"node7\"><title>1687502730800</title>\n",
       "<polygon fill=\"none\" points=\"407,-498.5 407,-544.5 712,-544.5 712,-498.5 407,-498.5\" stroke=\"black\"/>\n",
       "<text font-family=\"Times New Roman,serif\" font-size=\"14.00\" text-anchor=\"middle\" x=\"481\" y=\"-517.8\">activation_9: Activation</text>\n",
       "<polyline fill=\"none\" points=\"555,-498.5 555,-544.5 \" stroke=\"black\"/>\n",
       "<text font-family=\"Times New Roman,serif\" font-size=\"14.00\" text-anchor=\"middle\" x=\"583\" y=\"-529.3\">input:</text>\n",
       "<polyline fill=\"none\" points=\"555,-521.5 611,-521.5 \" stroke=\"black\"/>\n",
       "<text font-family=\"Times New Roman,serif\" font-size=\"14.00\" text-anchor=\"middle\" x=\"583\" y=\"-506.3\">output:</text>\n",
       "<polyline fill=\"none\" points=\"611,-498.5 611,-544.5 \" stroke=\"black\"/>\n",
       "<text font-family=\"Times New Roman,serif\" font-size=\"14.00\" text-anchor=\"middle\" x=\"661.5\" y=\"-529.3\">(?, 24, 24, 128)</text>\n",
       "<polyline fill=\"none\" points=\"611,-521.5 712,-521.5 \" stroke=\"black\"/>\n",
       "<text font-family=\"Times New Roman,serif\" font-size=\"14.00\" text-anchor=\"middle\" x=\"661.5\" y=\"-506.3\">(?, 24, 24, 128)</text>\n",
       "</g>\n",
       "<!-- 1687502738768&#45;&gt;1687502730800 -->\n",
       "<g class=\"edge\" id=\"edge5\"><title>1687502738768-&gt;1687502730800</title>\n",
       "<path d=\"M559.5,-581.366C559.5,-573.152 559.5,-563.658 559.5,-554.725\" fill=\"none\" stroke=\"black\"/>\n",
       "<polygon fill=\"black\" points=\"563,-554.607 559.5,-544.607 556,-554.607 563,-554.607\" stroke=\"black\"/>\n",
       "</g>\n",
       "<!-- 1687502702016 -->\n",
       "<g class=\"node\" id=\"node8\"><title>1687502702016</title>\n",
       "<polygon fill=\"none\" points=\"0,-498.5 0,-544.5 389,-544.5 389,-498.5 0,-498.5\" stroke=\"black\"/>\n",
       "<text font-family=\"Times New Roman,serif\" font-size=\"14.00\" text-anchor=\"middle\" x=\"130\" y=\"-517.8\">batch_normalization_4: BatchNormalization</text>\n",
       "<polyline fill=\"none\" points=\"260,-498.5 260,-544.5 \" stroke=\"black\"/>\n",
       "<text font-family=\"Times New Roman,serif\" font-size=\"14.00\" text-anchor=\"middle\" x=\"288\" y=\"-529.3\">input:</text>\n",
       "<polyline fill=\"none\" points=\"260,-521.5 316,-521.5 \" stroke=\"black\"/>\n",
       "<text font-family=\"Times New Roman,serif\" font-size=\"14.00\" text-anchor=\"middle\" x=\"288\" y=\"-506.3\">output:</text>\n",
       "<polyline fill=\"none\" points=\"316,-498.5 316,-544.5 \" stroke=\"black\"/>\n",
       "<text font-family=\"Times New Roman,serif\" font-size=\"14.00\" text-anchor=\"middle\" x=\"352.5\" y=\"-529.3\">(?, 18432)</text>\n",
       "<polyline fill=\"none\" points=\"316,-521.5 389,-521.5 \" stroke=\"black\"/>\n",
       "<text font-family=\"Times New Roman,serif\" font-size=\"14.00\" text-anchor=\"middle\" x=\"352.5\" y=\"-506.3\">(?, 18432)</text>\n",
       "</g>\n",
       "<!-- 1687502701512&#45;&gt;1687502702016 -->\n",
       "<g class=\"edge\" id=\"edge6\"><title>1687502701512-&gt;1687502702016</title>\n",
       "<path d=\"M194.5,-581.366C194.5,-573.152 194.5,-563.658 194.5,-554.725\" fill=\"none\" stroke=\"black\"/>\n",
       "<polygon fill=\"black\" points=\"198,-554.607 194.5,-544.607 191,-554.607 198,-554.607\" stroke=\"black\"/>\n",
       "</g>\n",
       "<!-- 1687502729568 -->\n",
       "<g class=\"node\" id=\"node9\"><title>1687502729568</title>\n",
       "<polygon fill=\"none\" points=\"370.5,-415.5 370.5,-461.5 736.5,-461.5 736.5,-415.5 370.5,-415.5\" stroke=\"black\"/>\n",
       "<text font-family=\"Times New Roman,serif\" font-size=\"14.00\" text-anchor=\"middle\" x=\"475\" y=\"-434.8\">max_pooling2d_1: MaxPooling2D</text>\n",
       "<polyline fill=\"none\" points=\"579.5,-415.5 579.5,-461.5 \" stroke=\"black\"/>\n",
       "<text font-family=\"Times New Roman,serif\" font-size=\"14.00\" text-anchor=\"middle\" x=\"607.5\" y=\"-446.3\">input:</text>\n",
       "<polyline fill=\"none\" points=\"579.5,-438.5 635.5,-438.5 \" stroke=\"black\"/>\n",
       "<text font-family=\"Times New Roman,serif\" font-size=\"14.00\" text-anchor=\"middle\" x=\"607.5\" y=\"-423.3\">output:</text>\n",
       "<polyline fill=\"none\" points=\"635.5,-415.5 635.5,-461.5 \" stroke=\"black\"/>\n",
       "<text font-family=\"Times New Roman,serif\" font-size=\"14.00\" text-anchor=\"middle\" x=\"686\" y=\"-446.3\">(?, 24, 24, 128)</text>\n",
       "<polyline fill=\"none\" points=\"635.5,-438.5 736.5,-438.5 \" stroke=\"black\"/>\n",
       "<text font-family=\"Times New Roman,serif\" font-size=\"14.00\" text-anchor=\"middle\" x=\"686\" y=\"-423.3\">(?, 12, 12, 128)</text>\n",
       "</g>\n",
       "<!-- 1687502730800&#45;&gt;1687502729568 -->\n",
       "<g class=\"edge\" id=\"edge7\"><title>1687502730800-&gt;1687502729568</title>\n",
       "<path d=\"M557.86,-498.366C557.252,-490.152 556.549,-480.658 555.887,-471.725\" fill=\"none\" stroke=\"black\"/>\n",
       "<polygon fill=\"black\" points=\"559.367,-471.321 555.138,-461.607 552.386,-471.838 559.367,-471.321\" stroke=\"black\"/>\n",
       "</g>\n",
       "<!-- 1687502533128 -->\n",
       "<g class=\"node\" id=\"node10\"><title>1687502533128</title>\n",
       "<polygon fill=\"none\" points=\"62,-415.5 62,-461.5 347,-461.5 347,-415.5 62,-415.5\" stroke=\"black\"/>\n",
       "<text font-family=\"Times New Roman,serif\" font-size=\"14.00\" text-anchor=\"middle\" x=\"126\" y=\"-434.8\">reshape_4: Reshape</text>\n",
       "<polyline fill=\"none\" points=\"190,-415.5 190,-461.5 \" stroke=\"black\"/>\n",
       "<text font-family=\"Times New Roman,serif\" font-size=\"14.00\" text-anchor=\"middle\" x=\"218\" y=\"-446.3\">input:</text>\n",
       "<polyline fill=\"none\" points=\"190,-438.5 246,-438.5 \" stroke=\"black\"/>\n",
       "<text font-family=\"Times New Roman,serif\" font-size=\"14.00\" text-anchor=\"middle\" x=\"218\" y=\"-423.3\">output:</text>\n",
       "<polyline fill=\"none\" points=\"246,-415.5 246,-461.5 \" stroke=\"black\"/>\n",
       "<text font-family=\"Times New Roman,serif\" font-size=\"14.00\" text-anchor=\"middle\" x=\"296.5\" y=\"-446.3\">(?, 18432)</text>\n",
       "<polyline fill=\"none\" points=\"246,-438.5 347,-438.5 \" stroke=\"black\"/>\n",
       "<text font-family=\"Times New Roman,serif\" font-size=\"14.00\" text-anchor=\"middle\" x=\"296.5\" y=\"-423.3\">(?, 12, 12, 128)</text>\n",
       "</g>\n",
       "<!-- 1687502702016&#45;&gt;1687502533128 -->\n",
       "<g class=\"edge\" id=\"edge8\"><title>1687502702016-&gt;1687502533128</title>\n",
       "<path d=\"M197.233,-498.366C198.247,-490.152 199.419,-480.658 200.522,-471.725\" fill=\"none\" stroke=\"black\"/>\n",
       "<polygon fill=\"black\" points=\"204.019,-471.96 201.771,-461.607 197.072,-471.103 204.019,-471.96\" stroke=\"black\"/>\n",
       "</g>\n",
       "<!-- 1687502633784 -->\n",
       "<g class=\"node\" id=\"node11\"><title>1687502633784</title>\n",
       "<polygon fill=\"none\" points=\"162.5,-332.5 162.5,-378.5 594.5,-378.5 594.5,-332.5 162.5,-332.5\" stroke=\"black\"/>\n",
       "<text font-family=\"Times New Roman,serif\" font-size=\"14.00\" text-anchor=\"middle\" x=\"249\" y=\"-351.8\">concatenate_2: Concatenate</text>\n",
       "<polyline fill=\"none\" points=\"335.5,-332.5 335.5,-378.5 \" stroke=\"black\"/>\n",
       "<text font-family=\"Times New Roman,serif\" font-size=\"14.00\" text-anchor=\"middle\" x=\"363.5\" y=\"-363.3\">input:</text>\n",
       "<polyline fill=\"none\" points=\"335.5,-355.5 391.5,-355.5 \" stroke=\"black\"/>\n",
       "<text font-family=\"Times New Roman,serif\" font-size=\"14.00\" text-anchor=\"middle\" x=\"363.5\" y=\"-340.3\">output:</text>\n",
       "<polyline fill=\"none\" points=\"391.5,-332.5 391.5,-378.5 \" stroke=\"black\"/>\n",
       "<text font-family=\"Times New Roman,serif\" font-size=\"14.00\" text-anchor=\"middle\" x=\"493\" y=\"-363.3\">[(?, 12, 12, 128), (?, 12, 12, 128)]</text>\n",
       "<polyline fill=\"none\" points=\"391.5,-355.5 594.5,-355.5 \" stroke=\"black\"/>\n",
       "<text font-family=\"Times New Roman,serif\" font-size=\"14.00\" text-anchor=\"middle\" x=\"493\" y=\"-340.3\">(?, 12, 12, 256)</text>\n",
       "</g>\n",
       "<!-- 1687502729568&#45;&gt;1687502633784 -->\n",
       "<g class=\"edge\" id=\"edge9\"><title>1687502729568-&gt;1687502633784</title>\n",
       "<path d=\"M505.68,-415.366C483.978,-405.321 458.143,-393.363 435.446,-382.858\" fill=\"none\" stroke=\"black\"/>\n",
       "<polygon fill=\"black\" points=\"436.807,-379.631 426.262,-378.607 433.867,-385.984 436.807,-379.631\" stroke=\"black\"/>\n",
       "</g>\n",
       "<!-- 1687502533128&#45;&gt;1687502633784 -->\n",
       "<g class=\"edge\" id=\"edge10\"><title>1687502533128-&gt;1687502633784</title>\n",
       "<path d=\"M252.046,-415.366C273.625,-405.321 299.312,-393.363 321.88,-382.858\" fill=\"none\" stroke=\"black\"/>\n",
       "<polygon fill=\"black\" points=\"323.423,-386 331.011,-378.607 320.468,-379.654 323.423,-386\" stroke=\"black\"/>\n",
       "</g>\n",
       "<!-- 1687502632440 -->\n",
       "<g class=\"node\" id=\"node12\"><title>1687502632440</title>\n",
       "<polygon fill=\"none\" points=\"252.5,-249.5 252.5,-295.5 504.5,-295.5 504.5,-249.5 252.5,-249.5\" stroke=\"black\"/>\n",
       "<text font-family=\"Times New Roman,serif\" font-size=\"14.00\" text-anchor=\"middle\" x=\"300\" y=\"-268.8\">flatten: Flatten</text>\n",
       "<polyline fill=\"none\" points=\"347.5,-249.5 347.5,-295.5 \" stroke=\"black\"/>\n",
       "<text font-family=\"Times New Roman,serif\" font-size=\"14.00\" text-anchor=\"middle\" x=\"375.5\" y=\"-280.3\">input:</text>\n",
       "<polyline fill=\"none\" points=\"347.5,-272.5 403.5,-272.5 \" stroke=\"black\"/>\n",
       "<text font-family=\"Times New Roman,serif\" font-size=\"14.00\" text-anchor=\"middle\" x=\"375.5\" y=\"-257.3\">output:</text>\n",
       "<polyline fill=\"none\" points=\"403.5,-249.5 403.5,-295.5 \" stroke=\"black\"/>\n",
       "<text font-family=\"Times New Roman,serif\" font-size=\"14.00\" text-anchor=\"middle\" x=\"454\" y=\"-280.3\">(?, 12, 12, 256)</text>\n",
       "<polyline fill=\"none\" points=\"403.5,-272.5 504.5,-272.5 \" stroke=\"black\"/>\n",
       "<text font-family=\"Times New Roman,serif\" font-size=\"14.00\" text-anchor=\"middle\" x=\"454\" y=\"-257.3\">(?, 36864)</text>\n",
       "</g>\n",
       "<!-- 1687502633784&#45;&gt;1687502632440 -->\n",
       "<g class=\"edge\" id=\"edge11\"><title>1687502633784-&gt;1687502632440</title>\n",
       "<path d=\"M378.5,-332.366C378.5,-324.152 378.5,-314.658 378.5,-305.725\" fill=\"none\" stroke=\"black\"/>\n",
       "<polygon fill=\"black\" points=\"382,-305.607 378.5,-295.607 375,-305.607 382,-305.607\" stroke=\"black\"/>\n",
       "</g>\n",
       "<!-- 1687502573296 -->\n",
       "<g class=\"node\" id=\"node13\"><title>1687502573296</title>\n",
       "<polygon fill=\"none\" points=\"258.5,-166.5 258.5,-212.5 498.5,-212.5 498.5,-166.5 258.5,-166.5\" stroke=\"black\"/>\n",
       "<text font-family=\"Times New Roman,serif\" font-size=\"14.00\" text-anchor=\"middle\" x=\"314\" y=\"-185.8\">dense_10: Dense</text>\n",
       "<polyline fill=\"none\" points=\"369.5,-166.5 369.5,-212.5 \" stroke=\"black\"/>\n",
       "<text font-family=\"Times New Roman,serif\" font-size=\"14.00\" text-anchor=\"middle\" x=\"397.5\" y=\"-197.3\">input:</text>\n",
       "<polyline fill=\"none\" points=\"369.5,-189.5 425.5,-189.5 \" stroke=\"black\"/>\n",
       "<text font-family=\"Times New Roman,serif\" font-size=\"14.00\" text-anchor=\"middle\" x=\"397.5\" y=\"-174.3\">output:</text>\n",
       "<polyline fill=\"none\" points=\"425.5,-166.5 425.5,-212.5 \" stroke=\"black\"/>\n",
       "<text font-family=\"Times New Roman,serif\" font-size=\"14.00\" text-anchor=\"middle\" x=\"462\" y=\"-197.3\">(?, 36864)</text>\n",
       "<polyline fill=\"none\" points=\"425.5,-189.5 498.5,-189.5 \" stroke=\"black\"/>\n",
       "<text font-family=\"Times New Roman,serif\" font-size=\"14.00\" text-anchor=\"middle\" x=\"462\" y=\"-174.3\">(?, 1024)</text>\n",
       "</g>\n",
       "<!-- 1687502632440&#45;&gt;1687502573296 -->\n",
       "<g class=\"edge\" id=\"edge12\"><title>1687502632440-&gt;1687502573296</title>\n",
       "<path d=\"M378.5,-249.366C378.5,-241.152 378.5,-231.658 378.5,-222.725\" fill=\"none\" stroke=\"black\"/>\n",
       "<polygon fill=\"black\" points=\"382,-222.607 378.5,-212.607 375,-222.607 382,-222.607\" stroke=\"black\"/>\n",
       "</g>\n",
       "<!-- 1687502580760 -->\n",
       "<g class=\"node\" id=\"node14\"><title>1687502580760</title>\n",
       "<polygon fill=\"none\" points=\"240,-83.5 240,-129.5 517,-129.5 517,-83.5 240,-83.5\" stroke=\"black\"/>\n",
       "<text font-family=\"Times New Roman,serif\" font-size=\"14.00\" text-anchor=\"middle\" x=\"317.5\" y=\"-102.8\">activation_11: Activation</text>\n",
       "<polyline fill=\"none\" points=\"395,-83.5 395,-129.5 \" stroke=\"black\"/>\n",
       "<text font-family=\"Times New Roman,serif\" font-size=\"14.00\" text-anchor=\"middle\" x=\"423\" y=\"-114.3\">input:</text>\n",
       "<polyline fill=\"none\" points=\"395,-106.5 451,-106.5 \" stroke=\"black\"/>\n",
       "<text font-family=\"Times New Roman,serif\" font-size=\"14.00\" text-anchor=\"middle\" x=\"423\" y=\"-91.3\">output:</text>\n",
       "<polyline fill=\"none\" points=\"451,-83.5 451,-129.5 \" stroke=\"black\"/>\n",
       "<text font-family=\"Times New Roman,serif\" font-size=\"14.00\" text-anchor=\"middle\" x=\"484\" y=\"-114.3\">(?, 1024)</text>\n",
       "<polyline fill=\"none\" points=\"451,-106.5 517,-106.5 \" stroke=\"black\"/>\n",
       "<text font-family=\"Times New Roman,serif\" font-size=\"14.00\" text-anchor=\"middle\" x=\"484\" y=\"-91.3\">(?, 1024)</text>\n",
       "</g>\n",
       "<!-- 1687502573296&#45;&gt;1687502580760 -->\n",
       "<g class=\"edge\" id=\"edge13\"><title>1687502573296-&gt;1687502580760</title>\n",
       "<path d=\"M378.5,-166.366C378.5,-158.152 378.5,-148.658 378.5,-139.725\" fill=\"none\" stroke=\"black\"/>\n",
       "<polygon fill=\"black\" points=\"382,-139.607 378.5,-129.607 375,-139.607 382,-139.607\" stroke=\"black\"/>\n",
       "</g>\n",
       "<!-- 1687502581040 -->\n",
       "<g class=\"node\" id=\"node15\"><title>1687502581040</title>\n",
       "<polygon fill=\"none\" points=\"262,-0.5 262,-46.5 495,-46.5 495,-0.5 262,-0.5\" stroke=\"black\"/>\n",
       "<text font-family=\"Times New Roman,serif\" font-size=\"14.00\" text-anchor=\"middle\" x=\"317.5\" y=\"-19.8\">dense_11: Dense</text>\n",
       "<polyline fill=\"none\" points=\"373,-0.5 373,-46.5 \" stroke=\"black\"/>\n",
       "<text font-family=\"Times New Roman,serif\" font-size=\"14.00\" text-anchor=\"middle\" x=\"401\" y=\"-31.3\">input:</text>\n",
       "<polyline fill=\"none\" points=\"373,-23.5 429,-23.5 \" stroke=\"black\"/>\n",
       "<text font-family=\"Times New Roman,serif\" font-size=\"14.00\" text-anchor=\"middle\" x=\"401\" y=\"-8.3\">output:</text>\n",
       "<polyline fill=\"none\" points=\"429,-0.5 429,-46.5 \" stroke=\"black\"/>\n",
       "<text font-family=\"Times New Roman,serif\" font-size=\"14.00\" text-anchor=\"middle\" x=\"462\" y=\"-31.3\">(?, 1024)</text>\n",
       "<polyline fill=\"none\" points=\"429,-23.5 495,-23.5 \" stroke=\"black\"/>\n",
       "<text font-family=\"Times New Roman,serif\" font-size=\"14.00\" text-anchor=\"middle\" x=\"462\" y=\"-8.3\">(?, 1)</text>\n",
       "</g>\n",
       "<!-- 1687502580760&#45;&gt;1687502581040 -->\n",
       "<g class=\"edge\" id=\"edge14\"><title>1687502580760-&gt;1687502581040</title>\n",
       "<path d=\"M378.5,-83.3664C378.5,-75.1516 378.5,-65.6579 378.5,-56.7252\" fill=\"none\" stroke=\"black\"/>\n",
       "<polygon fill=\"black\" points=\"382,-56.6068 378.5,-46.6068 375,-56.6069 382,-56.6068\" stroke=\"black\"/>\n",
       "</g>\n",
       "</g>\n",
       "</svg>"
      ],
      "text/plain": [
       "<IPython.core.display.SVG object>"
      ]
     },
     "execution_count": 16,
     "metadata": {},
     "output_type": "execute_result"
    }
   ],
   "source": [
    "discriminator = build_discriminator((28, 28, 1), 100)\n",
    "SVG(model_to_dot(discriminator, show_shapes = True, show_layer_names = True).create(prog = 'dot', format = 'svg'))"
   ]
  },
  {
   "cell_type": "code",
   "execution_count": 17,
   "metadata": {},
   "outputs": [
    {
     "data": {
      "image/svg+xml": [
       "<svg height=\"295pt\" viewBox=\"0.00 0.00 589.50 221.00\" width=\"786pt\" xmlns=\"http://www.w3.org/2000/svg\" xmlns:xlink=\"http://www.w3.org/1999/xlink\">\n",
       "<g class=\"graph\" id=\"graph0\" transform=\"scale(1.33333 1.33333) rotate(0) translate(4 217)\">\n",
       "<title>G</title>\n",
       "<polygon fill=\"white\" points=\"-4,4 -4,-217 585.5,-217 585.5,4 -4,4\" stroke=\"none\"/>\n",
       "<!-- 1685961254840 -->\n",
       "<g class=\"node\" id=\"node1\"><title>1685961254840</title>\n",
       "<polygon fill=\"none\" points=\"0,-166.5 0,-212.5 270,-212.5 270,-166.5 0,-166.5\" stroke=\"black\"/>\n",
       "<text font-family=\"Times New Roman,serif\" font-size=\"14.00\" text-anchor=\"middle\" x=\"73\" y=\"-185.8\">NoiseInput: InputLayer</text>\n",
       "<polyline fill=\"none\" points=\"146,-166.5 146,-212.5 \" stroke=\"black\"/>\n",
       "<text font-family=\"Times New Roman,serif\" font-size=\"14.00\" text-anchor=\"middle\" x=\"174\" y=\"-197.3\">input:</text>\n",
       "<polyline fill=\"none\" points=\"146,-189.5 202,-189.5 \" stroke=\"black\"/>\n",
       "<text font-family=\"Times New Roman,serif\" font-size=\"14.00\" text-anchor=\"middle\" x=\"174\" y=\"-174.3\">output:</text>\n",
       "<polyline fill=\"none\" points=\"202,-166.5 202,-212.5 \" stroke=\"black\"/>\n",
       "<text font-family=\"Times New Roman,serif\" font-size=\"14.00\" text-anchor=\"middle\" x=\"236\" y=\"-197.3\">[(?, 100)]</text>\n",
       "<polyline fill=\"none\" points=\"202,-189.5 270,-189.5 \" stroke=\"black\"/>\n",
       "<text font-family=\"Times New Roman,serif\" font-size=\"14.00\" text-anchor=\"middle\" x=\"236\" y=\"-174.3\">[(?, 100)]</text>\n",
       "</g>\n",
       "<!-- 1687502057200 -->\n",
       "<g class=\"node\" id=\"node3\"><title>1687502057200</title>\n",
       "<polygon fill=\"none\" points=\"117,-83.5 117,-129.5 407,-129.5 407,-83.5 117,-83.5\" stroke=\"black\"/>\n",
       "<text font-family=\"Times New Roman,serif\" font-size=\"14.00\" text-anchor=\"middle\" x=\"174.5\" y=\"-102.8\">Generator: Model</text>\n",
       "<polyline fill=\"none\" points=\"232,-83.5 232,-129.5 \" stroke=\"black\"/>\n",
       "<text font-family=\"Times New Roman,serif\" font-size=\"14.00\" text-anchor=\"middle\" x=\"260\" y=\"-114.3\">input:</text>\n",
       "<polyline fill=\"none\" points=\"232,-106.5 288,-106.5 \" stroke=\"black\"/>\n",
       "<text font-family=\"Times New Roman,serif\" font-size=\"14.00\" text-anchor=\"middle\" x=\"260\" y=\"-91.3\">output:</text>\n",
       "<polyline fill=\"none\" points=\"288,-83.5 288,-129.5 \" stroke=\"black\"/>\n",
       "<text font-family=\"Times New Roman,serif\" font-size=\"14.00\" text-anchor=\"middle\" x=\"347.5\" y=\"-114.3\">[(?, 100), (?, 100)]</text>\n",
       "<polyline fill=\"none\" points=\"288,-106.5 407,-106.5 \" stroke=\"black\"/>\n",
       "<text font-family=\"Times New Roman,serif\" font-size=\"14.00\" text-anchor=\"middle\" x=\"347.5\" y=\"-91.3\">(?, 28, 28, 1)</text>\n",
       "</g>\n",
       "<!-- 1685961254840&#45;&gt;1687502057200 -->\n",
       "<g class=\"edge\" id=\"edge1\"><title>1685961254840-&gt;1687502057200</title>\n",
       "<path d=\"M169.703,-166.366C184.823,-156.723 202.707,-145.317 218.686,-135.125\" fill=\"none\" stroke=\"black\"/>\n",
       "<polygon fill=\"black\" points=\"220.79,-137.935 227.339,-129.607 217.025,-132.033 220.79,-137.935\" stroke=\"black\"/>\n",
       "</g>\n",
       "<!-- 1685961727672 -->\n",
       "<g class=\"node\" id=\"node2\"><title>1685961727672</title>\n",
       "<polygon fill=\"none\" points=\"288.5,-166.5 288.5,-212.5 581.5,-212.5 581.5,-166.5 288.5,-166.5\" stroke=\"black\"/>\n",
       "<text font-family=\"Times New Roman,serif\" font-size=\"14.00\" text-anchor=\"middle\" x=\"373\" y=\"-185.8\">ConditionInput: InputLayer</text>\n",
       "<polyline fill=\"none\" points=\"457.5,-166.5 457.5,-212.5 \" stroke=\"black\"/>\n",
       "<text font-family=\"Times New Roman,serif\" font-size=\"14.00\" text-anchor=\"middle\" x=\"485.5\" y=\"-197.3\">input:</text>\n",
       "<polyline fill=\"none\" points=\"457.5,-189.5 513.5,-189.5 \" stroke=\"black\"/>\n",
       "<text font-family=\"Times New Roman,serif\" font-size=\"14.00\" text-anchor=\"middle\" x=\"485.5\" y=\"-174.3\">output:</text>\n",
       "<polyline fill=\"none\" points=\"513.5,-166.5 513.5,-212.5 \" stroke=\"black\"/>\n",
       "<text font-family=\"Times New Roman,serif\" font-size=\"14.00\" text-anchor=\"middle\" x=\"547.5\" y=\"-197.3\">[(?, 100)]</text>\n",
       "<polyline fill=\"none\" points=\"513.5,-189.5 581.5,-189.5 \" stroke=\"black\"/>\n",
       "<text font-family=\"Times New Roman,serif\" font-size=\"14.00\" text-anchor=\"middle\" x=\"547.5\" y=\"-174.3\">[(?, 100)]</text>\n",
       "</g>\n",
       "<!-- 1685961727672&#45;&gt;1687502057200 -->\n",
       "<g class=\"edge\" id=\"edge2\"><title>1685961727672-&gt;1687502057200</title>\n",
       "<path d=\"M387.727,-166.366C366.272,-156.321 340.733,-144.363 318.295,-133.858\" fill=\"none\" stroke=\"black\"/>\n",
       "<polygon fill=\"black\" points=\"319.756,-130.677 309.216,-129.607 316.788,-137.017 319.756,-130.677\" stroke=\"black\"/>\n",
       "</g>\n",
       "<!-- 1687502589792 -->\n",
       "<g class=\"node\" id=\"node4\"><title>1687502589792</title>\n",
       "<polygon fill=\"none\" points=\"179.5,-0.5 179.5,-46.5 516.5,-46.5 516.5,-0.5 179.5,-0.5\" stroke=\"black\"/>\n",
       "<text font-family=\"Times New Roman,serif\" font-size=\"14.00\" text-anchor=\"middle\" x=\"246.5\" y=\"-19.8\">Discriminator: Model</text>\n",
       "<polyline fill=\"none\" points=\"313.5,-0.5 313.5,-46.5 \" stroke=\"black\"/>\n",
       "<text font-family=\"Times New Roman,serif\" font-size=\"14.00\" text-anchor=\"middle\" x=\"341.5\" y=\"-31.3\">input:</text>\n",
       "<polyline fill=\"none\" points=\"313.5,-23.5 369.5,-23.5 \" stroke=\"black\"/>\n",
       "<text font-family=\"Times New Roman,serif\" font-size=\"14.00\" text-anchor=\"middle\" x=\"341.5\" y=\"-8.3\">output:</text>\n",
       "<polyline fill=\"none\" points=\"369.5,-0.5 369.5,-46.5 \" stroke=\"black\"/>\n",
       "<text font-family=\"Times New Roman,serif\" font-size=\"14.00\" text-anchor=\"middle\" x=\"443\" y=\"-31.3\">[(?, 28, 28, 1), (?, 100)]</text>\n",
       "<polyline fill=\"none\" points=\"369.5,-23.5 516.5,-23.5 \" stroke=\"black\"/>\n",
       "<text font-family=\"Times New Roman,serif\" font-size=\"14.00\" text-anchor=\"middle\" x=\"443\" y=\"-8.3\">(?, 1)</text>\n",
       "</g>\n",
       "<!-- 1685961727672&#45;&gt;1687502589792 -->\n",
       "<g class=\"edge\" id=\"edge4\"><title>1685961727672-&gt;1687502589792</title>\n",
       "<path d=\"M435.235,-166.444C434.551,-144.035 430.869,-109.013 416,-83 409.597,-71.7983 400.216,-61.7197 390.456,-53.2107\" fill=\"none\" stroke=\"black\"/>\n",
       "<polygon fill=\"black\" points=\"392.538,-50.3918 382.596,-46.7316 388.086,-55.7932 392.538,-50.3918\" stroke=\"black\"/>\n",
       "</g>\n",
       "<!-- 1687502057200&#45;&gt;1687502589792 -->\n",
       "<g class=\"edge\" id=\"edge3\"><title>1687502057200-&gt;1687502589792</title>\n",
       "<path d=\"M285.5,-83.3664C295.265,-74.1695 306.731,-63.3694 317.159,-53.5482\" fill=\"none\" stroke=\"black\"/>\n",
       "<polygon fill=\"black\" points=\"319.649,-56.011 324.529,-46.6068 314.849,-50.9153 319.649,-56.011\" stroke=\"black\"/>\n",
       "</g>\n",
       "</g>\n",
       "</svg>"
      ],
      "text/plain": [
       "<IPython.core.display.SVG object>"
      ]
     },
     "execution_count": 17,
     "metadata": {},
     "output_type": "execute_result"
    }
   ],
   "source": [
    "gan = build_gan(generator, discriminator, (28, 28, 1), 100)\n",
    "SVG(model_to_dot(gan, show_shapes = True, show_layer_names = True).create(prog = 'dot', format = 'svg'))"
   ]
  },
  {
   "cell_type": "code",
   "execution_count": 18,
   "metadata": {},
   "outputs": [],
   "source": [
    "optimizer = Adam(0.0002, 0.5)"
   ]
  },
  {
   "cell_type": "code",
   "execution_count": 19,
   "metadata": {},
   "outputs": [],
   "source": [
    "generator.compile(loss = 'binary_crossentropy', optimizer = optimizer)\n",
    "gan.compile(loss = 'binary_crossentropy', optimizer = optimizer)\n",
    "discriminator.trainable = True\n",
    "discriminator.compile(loss = 'binary_crossentropy', optimizer = optimizer)"
   ]
  },
  {
   "cell_type": "code",
   "execution_count": 20,
   "metadata": {},
   "outputs": [
    {
     "data": {
      "application/vnd.jupyter.widget-view+json": {
       "model_id": "c46e39e304304487936117a9a0c6f367",
       "version_major": 2,
       "version_minor": 0
      },
      "text/plain": [
       "HBox(children=(FloatProgress(value=0.0, description='Epoch: 0', max=59968.0, style=ProgressStyle(description_w…"
      ]
     },
     "metadata": {},
     "output_type": "display_data"
    },
    {
     "data": {
      "application/vnd.jupyter.widget-view+json": {
       "model_id": "9bfa1eb0472c4ebb9868191b25b93970",
       "version_major": 2,
       "version_minor": 0
      },
      "text/plain": [
       "HBox(children=(FloatProgress(value=0.0, description='Epoch: 1', max=59968.0, style=ProgressStyle(description_w…"
      ]
     },
     "metadata": {},
     "output_type": "display_data"
    },
    {
     "data": {
      "application/vnd.jupyter.widget-view+json": {
       "model_id": "0c11601ab27f4d7fbf76554d6e729227",
       "version_major": 2,
       "version_minor": 0
      },
      "text/plain": [
       "HBox(children=(FloatProgress(value=0.0, description='Epoch: 2', max=59968.0, style=ProgressStyle(description_w…"
      ]
     },
     "metadata": {},
     "output_type": "display_data"
    },
    {
     "data": {
      "application/vnd.jupyter.widget-view+json": {
       "model_id": "3041a510cf704ea28d94fad7f70eba16",
       "version_major": 2,
       "version_minor": 0
      },
      "text/plain": [
       "HBox(children=(FloatProgress(value=0.0, description='Epoch: 3', max=59968.0, style=ProgressStyle(description_w…"
      ]
     },
     "metadata": {},
     "output_type": "display_data"
    },
    {
     "data": {
      "application/vnd.jupyter.widget-view+json": {
       "model_id": "75eb8ebde3074f6e9870c67acc3da9d4",
       "version_major": 2,
       "version_minor": 0
      },
      "text/plain": [
       "HBox(children=(FloatProgress(value=0.0, description='Epoch: 4', max=59968.0, style=ProgressStyle(description_w…"
      ]
     },
     "metadata": {},
     "output_type": "display_data"
    },
    {
     "data": {
      "application/vnd.jupyter.widget-view+json": {
       "model_id": "ba9d9627bf9347a69e3cfe1ea6646713",
       "version_major": 2,
       "version_minor": 0
      },
      "text/plain": [
       "HBox(children=(FloatProgress(value=0.0, description='Epoch: 5', max=59968.0, style=ProgressStyle(description_w…"
      ]
     },
     "metadata": {},
     "output_type": "display_data"
    },
    {
     "data": {
      "application/vnd.jupyter.widget-view+json": {
       "model_id": "490d34a395274a6fafdc743cd29fa1f8",
       "version_major": 2,
       "version_minor": 0
      },
      "text/plain": [
       "HBox(children=(FloatProgress(value=0.0, description='Epoch: 6', max=59968.0, style=ProgressStyle(description_w…"
      ]
     },
     "metadata": {},
     "output_type": "display_data"
    },
    {
     "data": {
      "application/vnd.jupyter.widget-view+json": {
       "model_id": "2736b359a8694207801d82c500f44df6",
       "version_major": 2,
       "version_minor": 0
      },
      "text/plain": [
       "HBox(children=(FloatProgress(value=0.0, description='Epoch: 7', max=59968.0, style=ProgressStyle(description_w…"
      ]
     },
     "metadata": {},
     "output_type": "display_data"
    },
    {
     "data": {
      "application/vnd.jupyter.widget-view+json": {
       "model_id": "7387b2a225a4453881b5875d7b16e82b",
       "version_major": 2,
       "version_minor": 0
      },
      "text/plain": [
       "HBox(children=(FloatProgress(value=0.0, description='Epoch: 8', max=59968.0, style=ProgressStyle(description_w…"
      ]
     },
     "metadata": {},
     "output_type": "display_data"
    },
    {
     "data": {
      "application/vnd.jupyter.widget-view+json": {
       "model_id": "c10c9f073e964290a6ab9bb200a5f8af",
       "version_major": 2,
       "version_minor": 0
      },
      "text/plain": [
       "HBox(children=(FloatProgress(value=0.0, description='Epoch: 9', max=59968.0, style=ProgressStyle(description_w…"
      ]
     },
     "metadata": {},
     "output_type": "display_data"
    },
    {
     "data": {
      "application/vnd.jupyter.widget-view+json": {
       "model_id": "a1112a0052a647c7815498197dd2c608",
       "version_major": 2,
       "version_minor": 0
      },
      "text/plain": [
       "HBox(children=(FloatProgress(value=0.0, description='Epoch: 10', max=59968.0, style=ProgressStyle(description_…"
      ]
     },
     "metadata": {},
     "output_type": "display_data"
    },
    {
     "data": {
      "application/vnd.jupyter.widget-view+json": {
       "model_id": "0eb4562519be467b95e3375b18f9919d",
       "version_major": 2,
       "version_minor": 0
      },
      "text/plain": [
       "HBox(children=(FloatProgress(value=0.0, description='Epoch: 11', max=59968.0, style=ProgressStyle(description_…"
      ]
     },
     "metadata": {},
     "output_type": "display_data"
    },
    {
     "data": {
      "application/vnd.jupyter.widget-view+json": {
       "model_id": "9944d477b1dc42ca85fe383de1e3a82c",
       "version_major": 2,
       "version_minor": 0
      },
      "text/plain": [
       "HBox(children=(FloatProgress(value=0.0, description='Epoch: 12', max=59968.0, style=ProgressStyle(description_…"
      ]
     },
     "metadata": {},
     "output_type": "display_data"
    },
    {
     "data": {
      "application/vnd.jupyter.widget-view+json": {
       "model_id": "d3342e85346f49608f6285a514169671",
       "version_major": 2,
       "version_minor": 0
      },
      "text/plain": [
       "HBox(children=(FloatProgress(value=0.0, description='Epoch: 13', max=59968.0, style=ProgressStyle(description_…"
      ]
     },
     "metadata": {},
     "output_type": "display_data"
    },
    {
     "data": {
      "application/vnd.jupyter.widget-view+json": {
       "model_id": "e4a6efaf37094fcc9bbdf0762cb0f35b",
       "version_major": 2,
       "version_minor": 0
      },
      "text/plain": [
       "HBox(children=(FloatProgress(value=0.0, description='Epoch: 14', max=59968.0, style=ProgressStyle(description_…"
      ]
     },
     "metadata": {},
     "output_type": "display_data"
    },
    {
     "data": {
      "application/vnd.jupyter.widget-view+json": {
       "model_id": "a38db32df32b4e36adb050751d684f85",
       "version_major": 2,
       "version_minor": 0
      },
      "text/plain": [
       "HBox(children=(FloatProgress(value=0.0, description='Epoch: 15', max=59968.0, style=ProgressStyle(description_…"
      ]
     },
     "metadata": {},
     "output_type": "display_data"
    },
    {
     "data": {
      "application/vnd.jupyter.widget-view+json": {
       "model_id": "cd8b936bb98449e280f14e0d2b02d692",
       "version_major": 2,
       "version_minor": 0
      },
      "text/plain": [
       "HBox(children=(FloatProgress(value=0.0, description='Epoch: 16', max=59968.0, style=ProgressStyle(description_…"
      ]
     },
     "metadata": {},
     "output_type": "display_data"
    },
    {
     "data": {
      "application/vnd.jupyter.widget-view+json": {
       "model_id": "e53fcc02aae143dfa8e6b7e69532a668",
       "version_major": 2,
       "version_minor": 0
      },
      "text/plain": [
       "HBox(children=(FloatProgress(value=0.0, description='Epoch: 17', max=59968.0, style=ProgressStyle(description_…"
      ]
     },
     "metadata": {},
     "output_type": "display_data"
    },
    {
     "data": {
      "application/vnd.jupyter.widget-view+json": {
       "model_id": "d5c0a3b30b964cf89e85fa1644fb9b79",
       "version_major": 2,
       "version_minor": 0
      },
      "text/plain": [
       "HBox(children=(FloatProgress(value=0.0, description='Epoch: 18', max=59968.0, style=ProgressStyle(description_…"
      ]
     },
     "metadata": {},
     "output_type": "display_data"
    },
    {
     "data": {
      "application/vnd.jupyter.widget-view+json": {
       "model_id": "51bfc9b84274414e8bc0e953d15d3bec",
       "version_major": 2,
       "version_minor": 0
      },
      "text/plain": [
       "HBox(children=(FloatProgress(value=0.0, description='Epoch: 19', max=59968.0, style=ProgressStyle(description_…"
      ]
     },
     "metadata": {},
     "output_type": "display_data"
    },
    {
     "data": {
      "application/vnd.jupyter.widget-view+json": {
       "model_id": "b34ac30d5f0a4ceabccdf7da9d32ff68",
       "version_major": 2,
       "version_minor": 0
      },
      "text/plain": [
       "HBox(children=(FloatProgress(value=0.0, description='Epoch: 20', max=59968.0, style=ProgressStyle(description_…"
      ]
     },
     "metadata": {},
     "output_type": "display_data"
    },
    {
     "data": {
      "application/vnd.jupyter.widget-view+json": {
       "model_id": "20f5ed4fc1c04fe9af163dda2c3b4203",
       "version_major": 2,
       "version_minor": 0
      },
      "text/plain": [
       "HBox(children=(FloatProgress(value=0.0, description='Epoch: 21', max=59968.0, style=ProgressStyle(description_…"
      ]
     },
     "metadata": {},
     "output_type": "display_data"
    },
    {
     "data": {
      "application/vnd.jupyter.widget-view+json": {
       "model_id": "cfc1ad02bfdc405e9681fddfdd7228f6",
       "version_major": 2,
       "version_minor": 0
      },
      "text/plain": [
       "HBox(children=(FloatProgress(value=0.0, description='Epoch: 22', max=59968.0, style=ProgressStyle(description_…"
      ]
     },
     "metadata": {},
     "output_type": "display_data"
    },
    {
     "data": {
      "application/vnd.jupyter.widget-view+json": {
       "model_id": "32e18eba42af40cab2564a62320ae663",
       "version_major": 2,
       "version_minor": 0
      },
      "text/plain": [
       "HBox(children=(FloatProgress(value=0.0, description='Epoch: 23', max=59968.0, style=ProgressStyle(description_…"
      ]
     },
     "metadata": {},
     "output_type": "display_data"
    },
    {
     "data": {
      "application/vnd.jupyter.widget-view+json": {
       "model_id": "9d2289ddea464128b9cf1e03fa702852",
       "version_major": 2,
       "version_minor": 0
      },
      "text/plain": [
       "HBox(children=(FloatProgress(value=0.0, description='Epoch: 24', max=59968.0, style=ProgressStyle(description_…"
      ]
     },
     "metadata": {},
     "output_type": "display_data"
    },
    {
     "data": {
      "application/vnd.jupyter.widget-view+json": {
       "model_id": "ac59decdff3d42f0a807e7428bfad36a",
       "version_major": 2,
       "version_minor": 0
      },
      "text/plain": [
       "HBox(children=(FloatProgress(value=0.0, description='Epoch: 25', max=59968.0, style=ProgressStyle(description_…"
      ]
     },
     "metadata": {},
     "output_type": "display_data"
    },
    {
     "data": {
      "application/vnd.jupyter.widget-view+json": {
       "model_id": "7e3c0e28961f49f0a819384c51399782",
       "version_major": 2,
       "version_minor": 0
      },
      "text/plain": [
       "HBox(children=(FloatProgress(value=0.0, description='Epoch: 26', max=59968.0, style=ProgressStyle(description_…"
      ]
     },
     "metadata": {},
     "output_type": "display_data"
    },
    {
     "data": {
      "application/vnd.jupyter.widget-view+json": {
       "model_id": "1785ff4cc07843189667edd4e6b66fc1",
       "version_major": 2,
       "version_minor": 0
      },
      "text/plain": [
       "HBox(children=(FloatProgress(value=0.0, description='Epoch: 27', max=59968.0, style=ProgressStyle(description_…"
      ]
     },
     "metadata": {},
     "output_type": "display_data"
    },
    {
     "data": {
      "application/vnd.jupyter.widget-view+json": {
       "model_id": "b4837c12445a4d029e1b1575e0ff19fb",
       "version_major": 2,
       "version_minor": 0
      },
      "text/plain": [
       "HBox(children=(FloatProgress(value=0.0, description='Epoch: 28', max=59968.0, style=ProgressStyle(description_…"
      ]
     },
     "metadata": {},
     "output_type": "display_data"
    },
    {
     "data": {
      "application/vnd.jupyter.widget-view+json": {
       "model_id": "eec3ede89ba44f13b1c61a687ddddebd",
       "version_major": 2,
       "version_minor": 0
      },
      "text/plain": [
       "HBox(children=(FloatProgress(value=0.0, description='Epoch: 29', max=59968.0, style=ProgressStyle(description_…"
      ]
     },
     "metadata": {},
     "output_type": "display_data"
    },
    {
     "data": {
      "application/vnd.jupyter.widget-view+json": {
       "model_id": "07f15f019eb54e6faf6c1b392cf797ec",
       "version_major": 2,
       "version_minor": 0
      },
      "text/plain": [
       "HBox(children=(FloatProgress(value=0.0, description='Epoch: 30', max=59968.0, style=ProgressStyle(description_…"
      ]
     },
     "metadata": {},
     "output_type": "display_data"
    },
    {
     "data": {
      "application/vnd.jupyter.widget-view+json": {
       "model_id": "9148e1755a3948d0848b3170fbfadafc",
       "version_major": 2,
       "version_minor": 0
      },
      "text/plain": [
       "HBox(children=(FloatProgress(value=0.0, description='Epoch: 31', max=59968.0, style=ProgressStyle(description_…"
      ]
     },
     "metadata": {},
     "output_type": "display_data"
    },
    {
     "data": {
      "application/vnd.jupyter.widget-view+json": {
       "model_id": "5e7704fa44744f4983609780897b753b",
       "version_major": 2,
       "version_minor": 0
      },
      "text/plain": [
       "HBox(children=(FloatProgress(value=0.0, description='Epoch: 32', max=59968.0, style=ProgressStyle(description_…"
      ]
     },
     "metadata": {},
     "output_type": "display_data"
    },
    {
     "data": {
      "application/vnd.jupyter.widget-view+json": {
       "model_id": "3b3510a5c9ff4b61a09beefab5a00f64",
       "version_major": 2,
       "version_minor": 0
      },
      "text/plain": [
       "HBox(children=(FloatProgress(value=0.0, description='Epoch: 33', max=59968.0, style=ProgressStyle(description_…"
      ]
     },
     "metadata": {},
     "output_type": "display_data"
    },
    {
     "data": {
      "application/vnd.jupyter.widget-view+json": {
       "model_id": "e782bed690ae45b3aeab7ce51b9b46e8",
       "version_major": 2,
       "version_minor": 0
      },
      "text/plain": [
       "HBox(children=(FloatProgress(value=0.0, description='Epoch: 34', max=59968.0, style=ProgressStyle(description_…"
      ]
     },
     "metadata": {},
     "output_type": "display_data"
    },
    {
     "data": {
      "application/vnd.jupyter.widget-view+json": {
       "model_id": "c54d4cd1dd56414491e82c47d517c656",
       "version_major": 2,
       "version_minor": 0
      },
      "text/plain": [
       "HBox(children=(FloatProgress(value=0.0, description='Epoch: 35', max=59968.0, style=ProgressStyle(description_…"
      ]
     },
     "metadata": {},
     "output_type": "display_data"
    },
    {
     "data": {
      "application/vnd.jupyter.widget-view+json": {
       "model_id": "83530a928c0340fcbf984f889ccebb06",
       "version_major": 2,
       "version_minor": 0
      },
      "text/plain": [
       "HBox(children=(FloatProgress(value=0.0, description='Epoch: 36', max=59968.0, style=ProgressStyle(description_…"
      ]
     },
     "metadata": {},
     "output_type": "display_data"
    },
    {
     "data": {
      "application/vnd.jupyter.widget-view+json": {
       "model_id": "e08ea44749c24a91a0ecb7ec9ea1bbd0",
       "version_major": 2,
       "version_minor": 0
      },
      "text/plain": [
       "HBox(children=(FloatProgress(value=0.0, description='Epoch: 37', max=59968.0, style=ProgressStyle(description_…"
      ]
     },
     "metadata": {},
     "output_type": "display_data"
    },
    {
     "data": {
      "application/vnd.jupyter.widget-view+json": {
       "model_id": "ea385ac6785a4695820cdbf9c6dd20c5",
       "version_major": 2,
       "version_minor": 0
      },
      "text/plain": [
       "HBox(children=(FloatProgress(value=0.0, description='Epoch: 38', max=59968.0, style=ProgressStyle(description_…"
      ]
     },
     "metadata": {},
     "output_type": "display_data"
    },
    {
     "data": {
      "application/vnd.jupyter.widget-view+json": {
       "model_id": "0e17924ea59b45aa869cae7c1b7efdac",
       "version_major": 2,
       "version_minor": 0
      },
      "text/plain": [
       "HBox(children=(FloatProgress(value=0.0, description='Epoch: 39', max=59968.0, style=ProgressStyle(description_…"
      ]
     },
     "metadata": {},
     "output_type": "display_data"
    },
    {
     "data": {
      "application/vnd.jupyter.widget-view+json": {
       "model_id": "e63875f192e543488a695a9d6443f957",
       "version_major": 2,
       "version_minor": 0
      },
      "text/plain": [
       "HBox(children=(FloatProgress(value=0.0, description='Epoch: 40', max=59968.0, style=ProgressStyle(description_…"
      ]
     },
     "metadata": {},
     "output_type": "display_data"
    },
    {
     "data": {
      "application/vnd.jupyter.widget-view+json": {
       "model_id": "3bdb030fba444da6b4de6475a73a5aec",
       "version_major": 2,
       "version_minor": 0
      },
      "text/plain": [
       "HBox(children=(FloatProgress(value=0.0, description='Epoch: 41', max=59968.0, style=ProgressStyle(description_…"
      ]
     },
     "metadata": {},
     "output_type": "display_data"
    },
    {
     "data": {
      "application/vnd.jupyter.widget-view+json": {
       "model_id": "c31f2936ea1446b4b3c4a31570f43946",
       "version_major": 2,
       "version_minor": 0
      },
      "text/plain": [
       "HBox(children=(FloatProgress(value=0.0, description='Epoch: 42', max=59968.0, style=ProgressStyle(description_…"
      ]
     },
     "metadata": {},
     "output_type": "display_data"
    },
    {
     "data": {
      "application/vnd.jupyter.widget-view+json": {
       "model_id": "ce98ced512104bb9ba03102fe4cdacf4",
       "version_major": 2,
       "version_minor": 0
      },
      "text/plain": [
       "HBox(children=(FloatProgress(value=0.0, description='Epoch: 43', max=59968.0, style=ProgressStyle(description_…"
      ]
     },
     "metadata": {},
     "output_type": "display_data"
    },
    {
     "data": {
      "application/vnd.jupyter.widget-view+json": {
       "model_id": "d8c4377050d745fc9329202158684a91",
       "version_major": 2,
       "version_minor": 0
      },
      "text/plain": [
       "HBox(children=(FloatProgress(value=0.0, description='Epoch: 44', max=59968.0, style=ProgressStyle(description_…"
      ]
     },
     "metadata": {},
     "output_type": "display_data"
    },
    {
     "data": {
      "application/vnd.jupyter.widget-view+json": {
       "model_id": "dccccab47d274aa7b0a5b74ed91e5305",
       "version_major": 2,
       "version_minor": 0
      },
      "text/plain": [
       "HBox(children=(FloatProgress(value=0.0, description='Epoch: 45', max=59968.0, style=ProgressStyle(description_…"
      ]
     },
     "metadata": {},
     "output_type": "display_data"
    },
    {
     "data": {
      "application/vnd.jupyter.widget-view+json": {
       "model_id": "d9387e3afd3f468ca8f88ba566abb324",
       "version_major": 2,
       "version_minor": 0
      },
      "text/plain": [
       "HBox(children=(FloatProgress(value=0.0, description='Epoch: 46', max=59968.0, style=ProgressStyle(description_…"
      ]
     },
     "metadata": {},
     "output_type": "display_data"
    },
    {
     "data": {
      "application/vnd.jupyter.widget-view+json": {
       "model_id": "da2d354ef5ef4d088002c3ed27ccff79",
       "version_major": 2,
       "version_minor": 0
      },
      "text/plain": [
       "HBox(children=(FloatProgress(value=0.0, description='Epoch: 47', max=59968.0, style=ProgressStyle(description_…"
      ]
     },
     "metadata": {},
     "output_type": "display_data"
    },
    {
     "data": {
      "application/vnd.jupyter.widget-view+json": {
       "model_id": "e7a3311587e94ca5b09b3781e358779e",
       "version_major": 2,
       "version_minor": 0
      },
      "text/plain": [
       "HBox(children=(FloatProgress(value=0.0, description='Epoch: 48', max=59968.0, style=ProgressStyle(description_…"
      ]
     },
     "metadata": {},
     "output_type": "display_data"
    },
    {
     "data": {
      "application/vnd.jupyter.widget-view+json": {
       "model_id": "f3c919bb56bb4f8e8c11d4f1415d605d",
       "version_major": 2,
       "version_minor": 0
      },
      "text/plain": [
       "HBox(children=(FloatProgress(value=0.0, description='Epoch: 49', max=59968.0, style=ProgressStyle(description_…"
      ]
     },
     "metadata": {},
     "output_type": "display_data"
    },
    {
     "data": {
      "application/vnd.jupyter.widget-view+json": {
       "model_id": "c62c36f8afb64b79bb2461a2f258e1d1",
       "version_major": 2,
       "version_minor": 0
      },
      "text/plain": [
       "HBox(children=(FloatProgress(value=0.0, description='Epoch: 50', max=59968.0, style=ProgressStyle(description_…"
      ]
     },
     "metadata": {},
     "output_type": "display_data"
    },
    {
     "data": {
      "application/vnd.jupyter.widget-view+json": {
       "model_id": "f33da600432b4aa69e20a6af06bdff83",
       "version_major": 2,
       "version_minor": 0
      },
      "text/plain": [
       "HBox(children=(FloatProgress(value=0.0, description='Epoch: 51', max=59968.0, style=ProgressStyle(description_…"
      ]
     },
     "metadata": {},
     "output_type": "display_data"
    },
    {
     "data": {
      "application/vnd.jupyter.widget-view+json": {
       "model_id": "7127b53442c644eda840835d88fa6521",
       "version_major": 2,
       "version_minor": 0
      },
      "text/plain": [
       "HBox(children=(FloatProgress(value=0.0, description='Epoch: 52', max=59968.0, style=ProgressStyle(description_…"
      ]
     },
     "metadata": {},
     "output_type": "display_data"
    },
    {
     "data": {
      "application/vnd.jupyter.widget-view+json": {
       "model_id": "29cdd9bb102d42d9bc8a32cb7a0200b4",
       "version_major": 2,
       "version_minor": 0
      },
      "text/plain": [
       "HBox(children=(FloatProgress(value=0.0, description='Epoch: 53', max=59968.0, style=ProgressStyle(description_…"
      ]
     },
     "metadata": {},
     "output_type": "display_data"
    },
    {
     "data": {
      "application/vnd.jupyter.widget-view+json": {
       "model_id": "20d9e068fb9e4d888f218a362de81771",
       "version_major": 2,
       "version_minor": 0
      },
      "text/plain": [
       "HBox(children=(FloatProgress(value=0.0, description='Epoch: 54', max=59968.0, style=ProgressStyle(description_…"
      ]
     },
     "metadata": {},
     "output_type": "display_data"
    },
    {
     "data": {
      "application/vnd.jupyter.widget-view+json": {
       "model_id": "b08802ab033f4536ba41c7f9558f0c88",
       "version_major": 2,
       "version_minor": 0
      },
      "text/plain": [
       "HBox(children=(FloatProgress(value=0.0, description='Epoch: 55', max=59968.0, style=ProgressStyle(description_…"
      ]
     },
     "metadata": {},
     "output_type": "display_data"
    },
    {
     "data": {
      "application/vnd.jupyter.widget-view+json": {
       "model_id": "ea49ea9d0cb94046a038cc1766b3ca0c",
       "version_major": 2,
       "version_minor": 0
      },
      "text/plain": [
       "HBox(children=(FloatProgress(value=0.0, description='Epoch: 56', max=59968.0, style=ProgressStyle(description_…"
      ]
     },
     "metadata": {},
     "output_type": "display_data"
    },
    {
     "data": {
      "application/vnd.jupyter.widget-view+json": {
       "model_id": "27bb12ec99f64bb8bd29258f953c4928",
       "version_major": 2,
       "version_minor": 0
      },
      "text/plain": [
       "HBox(children=(FloatProgress(value=0.0, description='Epoch: 57', max=59968.0, style=ProgressStyle(description_…"
      ]
     },
     "metadata": {},
     "output_type": "display_data"
    },
    {
     "data": {
      "application/vnd.jupyter.widget-view+json": {
       "model_id": "c587bc2b380e4161b86ec4346cd81841",
       "version_major": 2,
       "version_minor": 0
      },
      "text/plain": [
       "HBox(children=(FloatProgress(value=0.0, description='Epoch: 58', max=59968.0, style=ProgressStyle(description_…"
      ]
     },
     "metadata": {},
     "output_type": "display_data"
    },
    {
     "data": {
      "application/vnd.jupyter.widget-view+json": {
       "model_id": "1229cad0f0d64005b4497f64e63f82be",
       "version_major": 2,
       "version_minor": 0
      },
      "text/plain": [
       "HBox(children=(FloatProgress(value=0.0, description='Epoch: 59', max=59968.0, style=ProgressStyle(description_…"
      ]
     },
     "metadata": {},
     "output_type": "display_data"
    },
    {
     "data": {
      "application/vnd.jupyter.widget-view+json": {
       "model_id": "89eb7b94ffed4d02a85f629fc74d0898",
       "version_major": 2,
       "version_minor": 0
      },
      "text/plain": [
       "HBox(children=(FloatProgress(value=0.0, description='Epoch: 60', max=59968.0, style=ProgressStyle(description_…"
      ]
     },
     "metadata": {},
     "output_type": "display_data"
    },
    {
     "data": {
      "application/vnd.jupyter.widget-view+json": {
       "model_id": "6cb33d2af95b471eb158ea081466e3c5",
       "version_major": 2,
       "version_minor": 0
      },
      "text/plain": [
       "HBox(children=(FloatProgress(value=0.0, description='Epoch: 61', max=59968.0, style=ProgressStyle(description_…"
      ]
     },
     "metadata": {},
     "output_type": "display_data"
    },
    {
     "data": {
      "application/vnd.jupyter.widget-view+json": {
       "model_id": "d83dd5cabcfc4876ad1bfba60ab886ed",
       "version_major": 2,
       "version_minor": 0
      },
      "text/plain": [
       "HBox(children=(FloatProgress(value=0.0, description='Epoch: 62', max=59968.0, style=ProgressStyle(description_…"
      ]
     },
     "metadata": {},
     "output_type": "display_data"
    },
    {
     "data": {
      "application/vnd.jupyter.widget-view+json": {
       "model_id": "5ce0cc7931bf497e94ca36386be58d06",
       "version_major": 2,
       "version_minor": 0
      },
      "text/plain": [
       "HBox(children=(FloatProgress(value=0.0, description='Epoch: 63', max=59968.0, style=ProgressStyle(description_…"
      ]
     },
     "metadata": {},
     "output_type": "display_data"
    },
    {
     "data": {
      "application/vnd.jupyter.widget-view+json": {
       "model_id": "17e48d26436f491190b6796eb1f9a869",
       "version_major": 2,
       "version_minor": 0
      },
      "text/plain": [
       "HBox(children=(FloatProgress(value=0.0, description='Epoch: 64', max=59968.0, style=ProgressStyle(description_…"
      ]
     },
     "metadata": {},
     "output_type": "display_data"
    },
    {
     "data": {
      "application/vnd.jupyter.widget-view+json": {
       "model_id": "899af3e9fabf4fd0bd3ea3b0b2dabc89",
       "version_major": 2,
       "version_minor": 0
      },
      "text/plain": [
       "HBox(children=(FloatProgress(value=0.0, description='Epoch: 65', max=59968.0, style=ProgressStyle(description_…"
      ]
     },
     "metadata": {},
     "output_type": "display_data"
    },
    {
     "data": {
      "application/vnd.jupyter.widget-view+json": {
       "model_id": "4ef97a1761c84b228ab11d0ebfdf76f5",
       "version_major": 2,
       "version_minor": 0
      },
      "text/plain": [
       "HBox(children=(FloatProgress(value=0.0, description='Epoch: 66', max=59968.0, style=ProgressStyle(description_…"
      ]
     },
     "metadata": {},
     "output_type": "display_data"
    },
    {
     "data": {
      "application/vnd.jupyter.widget-view+json": {
       "model_id": "b18f25a756504cbf81cf7c1b26bbb9c3",
       "version_major": 2,
       "version_minor": 0
      },
      "text/plain": [
       "HBox(children=(FloatProgress(value=0.0, description='Epoch: 67', max=59968.0, style=ProgressStyle(description_…"
      ]
     },
     "metadata": {},
     "output_type": "display_data"
    },
    {
     "data": {
      "application/vnd.jupyter.widget-view+json": {
       "model_id": "2efa5155dfe548c0b23d2cc94b998436",
       "version_major": 2,
       "version_minor": 0
      },
      "text/plain": [
       "HBox(children=(FloatProgress(value=0.0, description='Epoch: 68', max=59968.0, style=ProgressStyle(description_…"
      ]
     },
     "metadata": {},
     "output_type": "display_data"
    },
    {
     "data": {
      "application/vnd.jupyter.widget-view+json": {
       "model_id": "592c2bd8ec9d448cb6533b0b081eecf8",
       "version_major": 2,
       "version_minor": 0
      },
      "text/plain": [
       "HBox(children=(FloatProgress(value=0.0, description='Epoch: 69', max=59968.0, style=ProgressStyle(description_…"
      ]
     },
     "metadata": {},
     "output_type": "display_data"
    },
    {
     "data": {
      "application/vnd.jupyter.widget-view+json": {
       "model_id": "68d6b6549269415ba86056b2f37f89e8",
       "version_major": 2,
       "version_minor": 0
      },
      "text/plain": [
       "HBox(children=(FloatProgress(value=0.0, description='Epoch: 70', max=59968.0, style=ProgressStyle(description_…"
      ]
     },
     "metadata": {},
     "output_type": "display_data"
    },
    {
     "data": {
      "application/vnd.jupyter.widget-view+json": {
       "model_id": "6a1443273c884e0cbe68e73b90989ba3",
       "version_major": 2,
       "version_minor": 0
      },
      "text/plain": [
       "HBox(children=(FloatProgress(value=0.0, description='Epoch: 71', max=59968.0, style=ProgressStyle(description_…"
      ]
     },
     "metadata": {},
     "output_type": "display_data"
    },
    {
     "data": {
      "application/vnd.jupyter.widget-view+json": {
       "model_id": "5e79bf01d8714b43832ce4cf5d389e90",
       "version_major": 2,
       "version_minor": 0
      },
      "text/plain": [
       "HBox(children=(FloatProgress(value=0.0, description='Epoch: 72', max=59968.0, style=ProgressStyle(description_…"
      ]
     },
     "metadata": {},
     "output_type": "display_data"
    },
    {
     "data": {
      "application/vnd.jupyter.widget-view+json": {
       "model_id": "8de660d6c1bb4dcd9e1d0aeed575fb8f",
       "version_major": 2,
       "version_minor": 0
      },
      "text/plain": [
       "HBox(children=(FloatProgress(value=0.0, description='Epoch: 73', max=59968.0, style=ProgressStyle(description_…"
      ]
     },
     "metadata": {},
     "output_type": "display_data"
    },
    {
     "data": {
      "application/vnd.jupyter.widget-view+json": {
       "model_id": "acf41b08cd56421bad917652e711e0ae",
       "version_major": 2,
       "version_minor": 0
      },
      "text/plain": [
       "HBox(children=(FloatProgress(value=0.0, description='Epoch: 74', max=59968.0, style=ProgressStyle(description_…"
      ]
     },
     "metadata": {},
     "output_type": "display_data"
    },
    {
     "data": {
      "application/vnd.jupyter.widget-view+json": {
       "model_id": "da230d6b249940fe807b1663f683a5a7",
       "version_major": 2,
       "version_minor": 0
      },
      "text/plain": [
       "HBox(children=(FloatProgress(value=0.0, description='Epoch: 75', max=59968.0, style=ProgressStyle(description_…"
      ]
     },
     "metadata": {},
     "output_type": "display_data"
    },
    {
     "data": {
      "application/vnd.jupyter.widget-view+json": {
       "model_id": "7fd45d9da4824118a8eab5cdcc534ce7",
       "version_major": 2,
       "version_minor": 0
      },
      "text/plain": [
       "HBox(children=(FloatProgress(value=0.0, description='Epoch: 76', max=59968.0, style=ProgressStyle(description_…"
      ]
     },
     "metadata": {},
     "output_type": "display_data"
    },
    {
     "data": {
      "application/vnd.jupyter.widget-view+json": {
       "model_id": "16b6a78100f240d9acfe56b55ac210ef",
       "version_major": 2,
       "version_minor": 0
      },
      "text/plain": [
       "HBox(children=(FloatProgress(value=0.0, description='Epoch: 77', max=59968.0, style=ProgressStyle(description_…"
      ]
     },
     "metadata": {},
     "output_type": "display_data"
    },
    {
     "data": {
      "application/vnd.jupyter.widget-view+json": {
       "model_id": "9019aecdb86342219764dab78852a563",
       "version_major": 2,
       "version_minor": 0
      },
      "text/plain": [
       "HBox(children=(FloatProgress(value=0.0, description='Epoch: 78', max=59968.0, style=ProgressStyle(description_…"
      ]
     },
     "metadata": {},
     "output_type": "display_data"
    },
    {
     "data": {
      "application/vnd.jupyter.widget-view+json": {
       "model_id": "20cb2ba05cbf419d95cd01b5f659a077",
       "version_major": 2,
       "version_minor": 0
      },
      "text/plain": [
       "HBox(children=(FloatProgress(value=0.0, description='Epoch: 79', max=59968.0, style=ProgressStyle(description_…"
      ]
     },
     "metadata": {},
     "output_type": "display_data"
    },
    {
     "data": {
      "application/vnd.jupyter.widget-view+json": {
       "model_id": "966c66c3932d425882c14c0aa0f80404",
       "version_major": 2,
       "version_minor": 0
      },
      "text/plain": [
       "HBox(children=(FloatProgress(value=0.0, description='Epoch: 80', max=59968.0, style=ProgressStyle(description_…"
      ]
     },
     "metadata": {},
     "output_type": "display_data"
    },
    {
     "data": {
      "application/vnd.jupyter.widget-view+json": {
       "model_id": "89fee0289f5649009545efc92aa00256",
       "version_major": 2,
       "version_minor": 0
      },
      "text/plain": [
       "HBox(children=(FloatProgress(value=0.0, description='Epoch: 81', max=59968.0, style=ProgressStyle(description_…"
      ]
     },
     "metadata": {},
     "output_type": "display_data"
    },
    {
     "data": {
      "application/vnd.jupyter.widget-view+json": {
       "model_id": "07b20b8afa9c404d9f9596d4cbe78ef0",
       "version_major": 2,
       "version_minor": 0
      },
      "text/plain": [
       "HBox(children=(FloatProgress(value=0.0, description='Epoch: 82', max=59968.0, style=ProgressStyle(description_…"
      ]
     },
     "metadata": {},
     "output_type": "display_data"
    },
    {
     "data": {
      "application/vnd.jupyter.widget-view+json": {
       "model_id": "fb9746b61f224806ac0ba4d6d401ccc9",
       "version_major": 2,
       "version_minor": 0
      },
      "text/plain": [
       "HBox(children=(FloatProgress(value=0.0, description='Epoch: 83', max=59968.0, style=ProgressStyle(description_…"
      ]
     },
     "metadata": {},
     "output_type": "display_data"
    },
    {
     "data": {
      "application/vnd.jupyter.widget-view+json": {
       "model_id": "e43b7aca113f44f1b4817bd6d6f32459",
       "version_major": 2,
       "version_minor": 0
      },
      "text/plain": [
       "HBox(children=(FloatProgress(value=0.0, description='Epoch: 84', max=59968.0, style=ProgressStyle(description_…"
      ]
     },
     "metadata": {},
     "output_type": "display_data"
    },
    {
     "data": {
      "application/vnd.jupyter.widget-view+json": {
       "model_id": "ca124405afb840cdb38d5d2ba923769b",
       "version_major": 2,
       "version_minor": 0
      },
      "text/plain": [
       "HBox(children=(FloatProgress(value=0.0, description='Epoch: 85', max=59968.0, style=ProgressStyle(description_…"
      ]
     },
     "metadata": {},
     "output_type": "display_data"
    },
    {
     "data": {
      "application/vnd.jupyter.widget-view+json": {
       "model_id": "b8ef0ef6b7134b209b9daa077ff80e6d",
       "version_major": 2,
       "version_minor": 0
      },
      "text/plain": [
       "HBox(children=(FloatProgress(value=0.0, description='Epoch: 86', max=59968.0, style=ProgressStyle(description_…"
      ]
     },
     "metadata": {},
     "output_type": "display_data"
    },
    {
     "data": {
      "application/vnd.jupyter.widget-view+json": {
       "model_id": "bb23a55613a04dc2bcad21923b7ca468",
       "version_major": 2,
       "version_minor": 0
      },
      "text/plain": [
       "HBox(children=(FloatProgress(value=0.0, description='Epoch: 87', max=59968.0, style=ProgressStyle(description_…"
      ]
     },
     "metadata": {},
     "output_type": "display_data"
    },
    {
     "data": {
      "application/vnd.jupyter.widget-view+json": {
       "model_id": "9cd59d65d67b468689ff73a931dcc3f9",
       "version_major": 2,
       "version_minor": 0
      },
      "text/plain": [
       "HBox(children=(FloatProgress(value=0.0, description='Epoch: 88', max=59968.0, style=ProgressStyle(description_…"
      ]
     },
     "metadata": {},
     "output_type": "display_data"
    },
    {
     "data": {
      "application/vnd.jupyter.widget-view+json": {
       "model_id": "e3ed86f932194db5a3d082e87d6a08bb",
       "version_major": 2,
       "version_minor": 0
      },
      "text/plain": [
       "HBox(children=(FloatProgress(value=0.0, description='Epoch: 89', max=59968.0, style=ProgressStyle(description_…"
      ]
     },
     "metadata": {},
     "output_type": "display_data"
    },
    {
     "data": {
      "application/vnd.jupyter.widget-view+json": {
       "model_id": "0343f80f20304589ab33cdc02d62897d",
       "version_major": 2,
       "version_minor": 0
      },
      "text/plain": [
       "HBox(children=(FloatProgress(value=0.0, description='Epoch: 90', max=59968.0, style=ProgressStyle(description_…"
      ]
     },
     "metadata": {},
     "output_type": "display_data"
    },
    {
     "data": {
      "application/vnd.jupyter.widget-view+json": {
       "model_id": "63fbb37c17b146a29ba0fed7712b856c",
       "version_major": 2,
       "version_minor": 0
      },
      "text/plain": [
       "HBox(children=(FloatProgress(value=0.0, description='Epoch: 91', max=59968.0, style=ProgressStyle(description_…"
      ]
     },
     "metadata": {},
     "output_type": "display_data"
    },
    {
     "data": {
      "application/vnd.jupyter.widget-view+json": {
       "model_id": "b88f2e5457b64eb7b06906be001039ce",
       "version_major": 2,
       "version_minor": 0
      },
      "text/plain": [
       "HBox(children=(FloatProgress(value=0.0, description='Epoch: 92', max=59968.0, style=ProgressStyle(description_…"
      ]
     },
     "metadata": {},
     "output_type": "display_data"
    },
    {
     "data": {
      "application/vnd.jupyter.widget-view+json": {
       "model_id": "d9e800cbdd3d4871b389e1239b68bdec",
       "version_major": 2,
       "version_minor": 0
      },
      "text/plain": [
       "HBox(children=(FloatProgress(value=0.0, description='Epoch: 93', max=59968.0, style=ProgressStyle(description_…"
      ]
     },
     "metadata": {},
     "output_type": "display_data"
    },
    {
     "data": {
      "application/vnd.jupyter.widget-view+json": {
       "model_id": "57322b5671014154a28fc5ecb0d8cdab",
       "version_major": 2,
       "version_minor": 0
      },
      "text/plain": [
       "HBox(children=(FloatProgress(value=0.0, description='Epoch: 94', max=59968.0, style=ProgressStyle(description_…"
      ]
     },
     "metadata": {},
     "output_type": "display_data"
    },
    {
     "data": {
      "application/vnd.jupyter.widget-view+json": {
       "model_id": "07101c543cd54614b1d6a71b4a38ea48",
       "version_major": 2,
       "version_minor": 0
      },
      "text/plain": [
       "HBox(children=(FloatProgress(value=0.0, description='Epoch: 95', max=59968.0, style=ProgressStyle(description_…"
      ]
     },
     "metadata": {},
     "output_type": "display_data"
    },
    {
     "data": {
      "application/vnd.jupyter.widget-view+json": {
       "model_id": "42ba2fc0f4ca4bb98d1a5ad530d81e2f",
       "version_major": 2,
       "version_minor": 0
      },
      "text/plain": [
       "HBox(children=(FloatProgress(value=0.0, description='Epoch: 96', max=59968.0, style=ProgressStyle(description_…"
      ]
     },
     "metadata": {},
     "output_type": "display_data"
    },
    {
     "data": {
      "application/vnd.jupyter.widget-view+json": {
       "model_id": "e818eb95a7f848708be741be2acda4ad",
       "version_major": 2,
       "version_minor": 0
      },
      "text/plain": [
       "HBox(children=(FloatProgress(value=0.0, description='Epoch: 97', max=59968.0, style=ProgressStyle(description_…"
      ]
     },
     "metadata": {},
     "output_type": "display_data"
    },
    {
     "data": {
      "application/vnd.jupyter.widget-view+json": {
       "model_id": "1ed95e83778248e491de93fd00969ee8",
       "version_major": 2,
       "version_minor": 0
      },
      "text/plain": [
       "HBox(children=(FloatProgress(value=0.0, description='Epoch: 98', max=59968.0, style=ProgressStyle(description_…"
      ]
     },
     "metadata": {},
     "output_type": "display_data"
    },
    {
     "data": {
      "application/vnd.jupyter.widget-view+json": {
       "model_id": "71a7918f1cf349e384706f81789f3bc7",
       "version_major": 2,
       "version_minor": 0
      },
      "text/plain": [
       "HBox(children=(FloatProgress(value=0.0, description='Epoch: 99', max=59968.0, style=ProgressStyle(description_…"
      ]
     },
     "metadata": {},
     "output_type": "display_data"
    }
   ],
   "source": [
    "for epoch in range(EPOCHS):\n",
    "    \n",
    "    progress_bar = tqdm(desc = \"Epoch: {0}\".format(epoch), total = (x_train.shape[0] // BATCH_SIZE) * BATCH_SIZE)\n",
    "    \n",
    "    generator_loss_history, discriminator_loss_history = [], []\n",
    "    \n",
    "    for iteration in range(x_train.shape[0] // BATCH_SIZE):\n",
    "        \n",
    "        noise = np.random.uniform(0, 1, size = (BATCH_SIZE, LATENT_DIMENSION))\n",
    "        \n",
    "        # Get a Batch from the dataset\n",
    "        batch_images = x_train[iteration * BATCH_SIZE : (iteration + 1) * BATCH_SIZE]\n",
    "        batch_labels = y_train[iteration * BATCH_SIZE : (iteration + 1) * BATCH_SIZE]\n",
    "        \n",
    "        # Fake Images\n",
    "        generated_images = generator.predict([noise, batch_labels])\n",
    "        \n",
    "        # Batch Dataset\n",
    "        x = np.concatenate((batch_images, generated_images))\n",
    "        y = [1] * BATCH_SIZE + [0] * BATCH_SIZE\n",
    "        discriminator_conditions = np.concatenate((batch_labels, batch_labels))\n",
    "        \n",
    "        # Training the Discriminator\n",
    "        discriminator_loss = discriminator.train_on_batch([x, discriminator_conditions], y)\n",
    "        discriminator_loss_history.append(discriminator_loss)\n",
    "        \n",
    "        noise = np.random.uniform(0, 1, size = (BATCH_SIZE, LATENT_DIMENSION))\n",
    "        \n",
    "        # Training the Generator\n",
    "        discriminator.trainable = False\n",
    "        generator_loss = gan.train_on_batch([noise, batch_labels], [1] * BATCH_SIZE)\n",
    "        generator_loss_history.append(generator_loss)\n",
    "        discriminator.trainable = True\n",
    "        \n",
    "        progress_bar.update(BATCH_SIZE)\n"
   ]
  },
  {
   "cell_type": "code",
   "execution_count": 23,
   "metadata": {},
   "outputs": [
    {
     "name": "stdout",
     "output_type": "stream",
     "text": [
      "[INFO] Drawing numbers generated 0\n",
      "Noise: [[0.79127228 0.99756007 0.30591484 0.65711311 0.82054813 0.70874827\n",
      "  0.22062632 0.53205445 0.32773513 0.22046175 0.59920387 0.0189293\n",
      "  0.79292104 0.44974762 0.01596396 0.79921568 0.46404716 0.42567471\n",
      "  0.64809569 0.56293498 0.98233207 0.25465448 0.67582391 0.49771757\n",
      "  0.38073812 0.79338768 0.49020807 0.13454801 0.62878258 0.45860653\n",
      "  0.40509946 0.87418696 0.02540563 0.54660773 0.6023764  0.63147567\n",
      "  0.65485848 0.44313494 0.21853802 0.5816357  0.90805478 0.258453\n",
      "  0.08146958 0.00936537 0.4050159  0.05601552 0.19855647 0.70954077\n",
      "  0.24084506 0.78317233 0.39906596 0.22132597 0.62843617 0.30923097\n",
      "  0.47277684 0.56747217 0.30859827 0.96049821 0.80114322 0.42429083\n",
      "  0.99667234 0.59585793 0.29429433 0.39074526 0.61094294 0.46477086\n",
      "  0.93411621 0.20813968 0.16467623 0.96702831 0.25907242 0.10240118\n",
      "  0.6177538  0.89550265 0.12031956 0.40874121 0.77334372 0.7396564\n",
      "  0.31397172 0.75488523 0.95430872 0.4094291  0.96101025 0.31242979\n",
      "  0.51135469 0.05575691 0.0247105  0.27710968 0.80722554 0.75731467\n",
      "  0.26474865 0.90002802 0.36883538 0.55215358 0.40881977 0.24854274\n",
      "  0.28667434 0.41626996 0.59666467 0.59144897]] Condition: [[1. 0. 0. 0. 0. 0. 0. 0. 0. 0. 0. 0. 0. 0. 0. 0. 0. 0. 0. 0. 0. 0. 0. 0.\n",
      "  0. 0. 0. 0. 0. 0. 0. 0. 0. 0. 0. 0. 0. 0. 0. 0. 0. 0. 0. 0. 0. 0. 0. 0.\n",
      "  0. 0. 0. 0. 0. 0. 0. 0. 0. 0. 0. 0. 0. 0. 0. 0. 0. 0. 0. 0. 0. 0. 0. 0.\n",
      "  0. 0. 0. 0. 0. 0. 0. 0. 0. 0. 0. 0. 0. 0. 0. 0. 0. 0. 0. 0. 0. 0. 0. 0.\n",
      "  0. 0. 0. 0.]]\n",
      "\n",
      "[INFO] Drawing numbers generated 1\n",
      "Noise: [[0.95681535 0.30947856 0.5932385  0.36427423 0.07848335 0.48149891\n",
      "  0.19542432 0.41677448 0.07490253 0.70418772 0.10876539 0.59612761\n",
      "  0.00896565 0.12892101 0.64212045 0.04471766 0.91509943 0.56696774\n",
      "  0.80725446 0.81364675 0.52515108 0.49011941 0.60335972 0.26980301\n",
      "  0.61832649 0.78828526 0.73048376 0.90839957 0.70135188 0.93288958\n",
      "  0.37600464 0.659924   0.72865909 0.13176423 0.56818874 0.16320696\n",
      "  0.52793138 0.27716768 0.11373114 0.76001007 0.41676328 0.98736976\n",
      "  0.404207   0.53159024 0.08903352 0.27071518 0.57864158 0.11864636\n",
      "  0.68374872 0.43044438 0.56558353 0.89958153 0.97247251 0.17404563\n",
      "  0.41610889 0.0043178  0.94855073 0.041991   0.37453964 0.66127442\n",
      "  0.18087608 0.96260095 0.69042297 0.97442038 0.25807262 0.51425774\n",
      "  0.97192173 0.18628941 0.21865487 0.13508032 0.4092674  0.38102201\n",
      "  0.37154334 0.00421882 0.82315749 0.63050203 0.53684393 0.83250469\n",
      "  0.98269187 0.21081654 0.04049842 0.17583123 0.34283047 0.26775669\n",
      "  0.00277983 0.27014454 0.75818759 0.09980058 0.96655821 0.18901329\n",
      "  0.01555641 0.12987349 0.07028231 0.01219792 0.95801362 0.64571969\n",
      "  0.66742138 0.26065261 0.08013875 0.05714753]] Condition: [[0. 1. 0. 0. 0. 0. 0. 0. 0. 0. 0. 0. 0. 0. 0. 0. 0. 0. 0. 0. 0. 0. 0. 0.\n",
      "  0. 0. 0. 0. 0. 0. 0. 0. 0. 0. 0. 0. 0. 0. 0. 0. 0. 0. 0. 0. 0. 0. 0. 0.\n",
      "  0. 0. 0. 0. 0. 0. 0. 0. 0. 0. 0. 0. 0. 0. 0. 0. 0. 0. 0. 0. 0. 0. 0. 0.\n",
      "  0. 0. 0. 0. 0. 0. 0. 0. 0. 0. 0. 0. 0. 0. 0. 0. 0. 0. 0. 0. 0. 0. 0. 0.\n",
      "  0. 0. 0. 0.]]\n",
      "\n",
      "[INFO] Drawing numbers generated 2\n",
      "Noise: [[0.07424413 0.40561038 0.42240837 0.54928961 0.36980843 0.96346252\n",
      "  0.46881965 0.77029503 0.68503698 0.7074983  0.55834369 0.0995302\n",
      "  0.22666761 0.75628675 0.5427909  0.16545653 0.35803533 0.28771209\n",
      "  0.39630013 0.72361082 0.97554506 0.12279892 0.28635799 0.70117864\n",
      "  0.76324442 0.58981014 0.43772404 0.98716708 0.18008307 0.89087248\n",
      "  0.6437429  0.34962808 0.08245732 0.84846148 0.21415535 0.54292262\n",
      "  0.32675798 0.81880733 0.78764114 0.23961312 0.56910157 0.99178992\n",
      "  0.83623272 0.46797225 0.35868771 0.72095624 0.79373522 0.47955671\n",
      "  0.09313681 0.14111349 0.27544613 0.02967112 0.6130813  0.06943746\n",
      "  0.04412566 0.64401022 0.88641441 0.27414132 0.55559643 0.06427706\n",
      "  0.70892711 0.4597188  0.53870789 0.51764715 0.33419891 0.4059868\n",
      "  0.22038175 0.94994767 0.67052447 0.02528539 0.81541908 0.67050003\n",
      "  0.25592672 0.86181903 0.33185689 0.44248705 0.57249184 0.85403363\n",
      "  0.63955847 0.21035038 0.30234853 0.86415534 0.00475984 0.88543533\n",
      "  0.67411515 0.91208789 0.84394975 0.96304089 0.57041585 0.59780369\n",
      "  0.07926171 0.54929496 0.30193443 0.6373066  0.3710775  0.65729166\n",
      "  0.87388495 0.24746925 0.27195604 0.43613436]] Condition: [[0. 0. 1. 0. 0. 0. 0. 0. 0. 0. 0. 0. 0. 0. 0. 0. 0. 0. 0. 0. 0. 0. 0. 0.\n",
      "  0. 0. 0. 0. 0. 0. 0. 0. 0. 0. 0. 0. 0. 0. 0. 0. 0. 0. 0. 0. 0. 0. 0. 0.\n",
      "  0. 0. 0. 0. 0. 0. 0. 0. 0. 0. 0. 0. 0. 0. 0. 0. 0. 0. 0. 0. 0. 0. 0. 0.\n",
      "  0. 0. 0. 0. 0. 0. 0. 0. 0. 0. 0. 0. 0. 0. 0. 0. 0. 0. 0. 0. 0. 0. 0. 0.\n",
      "  0. 0. 0. 0.]]\n",
      "\n",
      "[INFO] Drawing numbers generated 3\n",
      "Noise: [[0.56192038 0.36196476 0.25981049 0.71978248 0.02017199 0.86110824\n",
      "  0.72180443 0.36187549 0.62229762 0.56166766 0.21083696 0.81684243\n",
      "  0.77030717 0.53014284 0.49999573 0.21368457 0.53815188 0.48328659\n",
      "  0.24856838 0.39613583 0.02673202 0.59140241 0.77350887 0.16212015\n",
      "  0.66293627 0.84994872 0.7569003  0.47983641 0.39818097 0.16748613\n",
      "  0.65711422 0.83414381 0.27307682 0.22510371 0.55898004 0.55150493\n",
      "  0.12292877 0.26280905 0.08341943 0.13337589 0.18716167 0.13365697\n",
      "  0.48425603 0.75464977 0.66723934 0.45790118 0.98128415 0.3338897\n",
      "  0.35166051 0.68753131 0.53624891 0.541782   0.9961843  0.30107509\n",
      "  0.05782911 0.20579301 0.23686197 0.95076855 0.78649559 0.17738705\n",
      "  0.46784096 0.01414691 0.77337767 0.59497377 0.50941812 0.14511135\n",
      "  0.70620351 0.21618461 0.79147683 0.42975869 0.68141589 0.19999118\n",
      "  0.5699944  0.39331311 0.90255567 0.98631282 0.15858704 0.49750904\n",
      "  0.54435345 0.58110504 0.44452726 0.41795942 0.2870547  0.81220469\n",
      "  0.54068776 0.47865215 0.48248298 0.37239293 0.13680042 0.72420917\n",
      "  0.67368058 0.84598011 0.66304559 0.64575936 0.40881432 0.07678267\n",
      "  0.84591653 0.9350788  0.21360119 0.45477705]] Condition: [[0. 0. 0. 1. 0. 0. 0. 0. 0. 0. 0. 0. 0. 0. 0. 0. 0. 0. 0. 0. 0. 0. 0. 0.\n",
      "  0. 0. 0. 0. 0. 0. 0. 0. 0. 0. 0. 0. 0. 0. 0. 0. 0. 0. 0. 0. 0. 0. 0. 0.\n",
      "  0. 0. 0. 0. 0. 0. 0. 0. 0. 0. 0. 0. 0. 0. 0. 0. 0. 0. 0. 0. 0. 0. 0. 0.\n",
      "  0. 0. 0. 0. 0. 0. 0. 0. 0. 0. 0. 0. 0. 0. 0. 0. 0. 0. 0. 0. 0. 0. 0. 0.\n",
      "  0. 0. 0. 0.]]\n",
      "\n",
      "[INFO] Drawing numbers generated 4\n",
      "Noise: [[0.28367951 0.74523426 0.64676964 0.05005723 0.62842735 0.07641794\n",
      "  0.66608656 0.63568419 0.93795333 0.8349056  0.76911795 0.62217785\n",
      "  0.82854168 0.29785786 0.21631352 0.40497816 0.27351903 0.74641392\n",
      "  0.07014147 0.03915221 0.18813706 0.44590548 0.73892095 0.15027208\n",
      "  0.52872378 0.50963379 0.21175938 0.40151466 0.65927577 0.54978606\n",
      "  0.43251315 0.04923418 0.05324199 0.31865417 0.43394624 0.54172522\n",
      "  0.79491005 0.16207934 0.02967315 0.10138821 0.10495687 0.64652015\n",
      "  0.22635326 0.44512257 0.1691177  0.12651365 0.6936522  0.19707048\n",
      "  0.30048397 0.53819582 0.79636541 0.65662467 0.65821254 0.89694637\n",
      "  0.35359189 0.83090028 0.74130173 0.49942222 0.48010801 0.47840306\n",
      "  0.51290679 0.08855466 0.06005447 0.27969234 0.95117514 0.99018778\n",
      "  0.8076341  0.12523655 0.1020442  0.52905968 0.63907754 0.8319126\n",
      "  0.37501706 0.47262932 0.42973097 0.11813138 0.51803468 0.95414132\n",
      "  0.12556433 0.34122977 0.03575724 0.80889977 0.80253742 0.94922714\n",
      "  0.84823728 0.30054424 0.98387841 0.18429528 0.48834259 0.65299219\n",
      "  0.33541163 0.70482343 0.5653995  0.60561889 0.09010398 0.39615187\n",
      "  0.05958641 0.56422995 0.98461885 0.54831188]] Condition: [[0. 0. 0. 0. 1. 0. 0. 0. 0. 0. 0. 0. 0. 0. 0. 0. 0. 0. 0. 0. 0. 0. 0. 0.\n",
      "  0. 0. 0. 0. 0. 0. 0. 0. 0. 0. 0. 0. 0. 0. 0. 0. 0. 0. 0. 0. 0. 0. 0. 0.\n",
      "  0. 0. 0. 0. 0. 0. 0. 0. 0. 0. 0. 0. 0. 0. 0. 0. 0. 0. 0. 0. 0. 0. 0. 0.\n",
      "  0. 0. 0. 0. 0. 0. 0. 0. 0. 0. 0. 0. 0. 0. 0. 0. 0. 0. 0. 0. 0. 0. 0. 0.\n",
      "  0. 0. 0. 0.]]\n",
      "\n",
      "[INFO] Drawing numbers generated 5\n",
      "Noise: [[0.25569084 0.41170952 0.38034579 0.71258966 0.0464373  0.90499494\n",
      "  0.56699507 0.87275534 0.60126177 0.812241   0.431056   0.3293527\n",
      "  0.29760389 0.04195463 0.92634277 0.81870778 0.5035952  0.85961123\n",
      "  0.00669478 0.67015938 0.95575982 0.18360989 0.99021986 0.28435856\n",
      "  0.77158455 0.10940562 0.25368756 0.22967901 0.75153251 0.48994979\n",
      "  0.21970392 0.24131971 0.05456262 0.83932693 0.34210493 0.12744563\n",
      "  0.76184024 0.67649806 0.0878849  0.03757971 0.37758853 0.86901502\n",
      "  0.30283987 0.07179827 0.057144   0.21274297 0.7282713  0.90451157\n",
      "  0.85689475 0.06514177 0.64108644 0.98943575 0.01144941 0.58157674\n",
      "  0.98626363 0.36806193 0.0459939  0.8760257  0.47616526 0.1297936\n",
      "  0.26907889 0.85236211 0.16909056 0.72849786 0.76725256 0.76693402\n",
      "  0.12899203 0.30943881 0.62277297 0.3853205  0.60918831 0.1402726\n",
      "  0.6981079  0.08830024 0.85298485 0.88017323 0.60670598 0.18198839\n",
      "  0.91948259 0.02847018 0.3717979  0.76420594 0.5075741  0.62342377\n",
      "  0.83908997 0.76037882 0.47784686 0.57477225 0.87523276 0.96917029\n",
      "  0.90028266 0.71543175 0.13135186 0.62727444 0.95063231 0.04930066\n",
      "  0.65129812 0.63829799 0.11601887 0.59789266]] Condition: [[0. 0. 0. 0. 0. 1. 0. 0. 0. 0. 0. 0. 0. 0. 0. 0. 0. 0. 0. 0. 0. 0. 0. 0.\n",
      "  0. 0. 0. 0. 0. 0. 0. 0. 0. 0. 0. 0. 0. 0. 0. 0. 0. 0. 0. 0. 0. 0. 0. 0.\n",
      "  0. 0. 0. 0. 0. 0. 0. 0. 0. 0. 0. 0. 0. 0. 0. 0. 0. 0. 0. 0. 0. 0. 0. 0.\n",
      "  0. 0. 0. 0. 0. 0. 0. 0. 0. 0. 0. 0. 0. 0. 0. 0. 0. 0. 0. 0. 0. 0. 0. 0.\n",
      "  0. 0. 0. 0.]]\n",
      "\n",
      "[INFO] Drawing numbers generated 6\n"
     ]
    },
    {
     "name": "stdout",
     "output_type": "stream",
     "text": [
      "Noise: [[3.43450190e-01 7.57851451e-01 9.85231109e-01 1.16553166e-01\n",
      "  5.98935384e-01 4.33937498e-01 7.41516871e-01 3.00500862e-01\n",
      "  8.05687921e-02 9.22143012e-01 2.83800408e-01 1.64699617e-02\n",
      "  9.57358885e-01 8.37091252e-01 8.40576311e-01 1.22958389e-01\n",
      "  1.75874848e-04 8.65169878e-01 1.45040919e-01 8.94232008e-01\n",
      "  2.19432202e-01 2.10652267e-01 5.85779174e-01 8.84271528e-01\n",
      "  5.35430935e-01 8.46938805e-01 6.08093671e-01 4.98896265e-01\n",
      "  3.08394225e-01 2.55946128e-01 8.05644266e-03 6.51651407e-02\n",
      "  9.52797514e-01 8.22196959e-01 6.86666400e-01 4.90351658e-01\n",
      "  6.52988099e-01 7.32684618e-01 4.16372457e-02 7.81681027e-01\n",
      "  5.44430866e-01 6.73070301e-01 5.88892301e-01 6.95308005e-01\n",
      "  4.75838503e-01 3.86901191e-01 3.18594625e-01 1.98649406e-02\n",
      "  8.17618520e-01 3.29831703e-01 6.89043718e-01 8.16121382e-01\n",
      "  9.53836416e-01 7.53488223e-01 7.09579464e-01 7.88729423e-01\n",
      "  2.77347145e-01 6.45709222e-02 2.16248940e-01 4.00069422e-01\n",
      "  6.65778729e-01 9.86444549e-01 2.68328706e-01 8.19094478e-01\n",
      "  9.04958102e-01 4.82638666e-01 5.05578827e-01 7.49250284e-01\n",
      "  8.61184912e-01 8.76274857e-01 1.87508809e-01 1.12167495e-01\n",
      "  4.89548452e-01 6.57989218e-01 7.51472384e-01 2.83645823e-01\n",
      "  3.76303309e-01 3.11715228e-01 1.07239802e-01 2.46722697e-01\n",
      "  9.46911663e-01 7.78276576e-01 8.82530110e-01 3.56813687e-01\n",
      "  7.75575322e-01 5.80532450e-01 5.07252337e-01 4.18377762e-01\n",
      "  5.27727393e-01 5.94915370e-01 1.12072111e-01 8.47258218e-01\n",
      "  5.01379591e-01 5.65890581e-01 4.33827171e-02 4.28215182e-01\n",
      "  7.81999267e-01 1.67189824e-01 9.88890652e-02 7.40982463e-01]] Condition: [[0. 0. 0. 0. 0. 0. 1. 0. 0. 0. 0. 0. 0. 0. 0. 0. 0. 0. 0. 0. 0. 0. 0. 0.\n",
      "  0. 0. 0. 0. 0. 0. 0. 0. 0. 0. 0. 0. 0. 0. 0. 0. 0. 0. 0. 0. 0. 0. 0. 0.\n",
      "  0. 0. 0. 0. 0. 0. 0. 0. 0. 0. 0. 0. 0. 0. 0. 0. 0. 0. 0. 0. 0. 0. 0. 0.\n",
      "  0. 0. 0. 0. 0. 0. 0. 0. 0. 0. 0. 0. 0. 0. 0. 0. 0. 0. 0. 0. 0. 0. 0. 0.\n",
      "  0. 0. 0. 0.]]\n",
      "\n",
      "[INFO] Drawing numbers generated 7\n",
      "Noise: [[0.22036189 0.97037801 0.65551242 0.67618671 0.19140599 0.58006968\n",
      "  0.65325879 0.52487703 0.74940503 0.45508138 0.10442048 0.54794393\n",
      "  0.60677878 0.89566082 0.74117016 0.51196312 0.03563214 0.13281318\n",
      "  0.48796363 0.00467571 0.49793026 0.84443624 0.64476032 0.18810851\n",
      "  0.143037   0.23117482 0.50637423 0.32403468 0.53205895 0.14274287\n",
      "  0.07204242 0.44428542 0.7817437  0.6251542  0.22182415 0.24621701\n",
      "  0.43677624 0.16455742 0.6560588  0.1855348  0.1324987  0.36977972\n",
      "  0.00865434 0.4852705  0.42358533 0.95344134 0.19664084 0.14848156\n",
      "  0.9766868  0.82271104 0.17173402 0.36045198 0.08170662 0.95230687\n",
      "  0.56308575 0.51993386 0.91937185 0.17851177 0.88245221 0.41011772\n",
      "  0.89741402 0.37969145 0.00156163 0.44530763 0.48806178 0.61608348\n",
      "  0.30223235 0.2410361  0.67574639 0.99421969 0.66840502 0.73806069\n",
      "  0.88623081 0.83960978 0.27389965 0.73357046 0.06327424 0.2913722\n",
      "  0.90608651 0.12209375 0.15256013 0.97736635 0.75531633 0.80355555\n",
      "  0.95241776 0.27790881 0.45622256 0.6451632  0.82583948 0.56418666\n",
      "  0.83724061 0.52969094 0.39228874 0.79316075 0.62538339 0.61731031\n",
      "  0.52991423 0.0284291  0.75667026 0.99618537]] Condition: [[0. 0. 0. 0. 0. 0. 0. 1. 0. 0. 0. 0. 0. 0. 0. 0. 0. 0. 0. 0. 0. 0. 0. 0.\n",
      "  0. 0. 0. 0. 0. 0. 0. 0. 0. 0. 0. 0. 0. 0. 0. 0. 0. 0. 0. 0. 0. 0. 0. 0.\n",
      "  0. 0. 0. 0. 0. 0. 0. 0. 0. 0. 0. 0. 0. 0. 0. 0. 0. 0. 0. 0. 0. 0. 0. 0.\n",
      "  0. 0. 0. 0. 0. 0. 0. 0. 0. 0. 0. 0. 0. 0. 0. 0. 0. 0. 0. 0. 0. 0. 0. 0.\n",
      "  0. 0. 0. 0.]]\n",
      "\n",
      "[INFO] Drawing numbers generated 8\n",
      "Noise: [[0.02466247 0.17923351 0.68772219 0.32281464 0.63561568 0.1099804\n",
      "  0.74448142 0.18363949 0.15769567 0.76306154 0.2501893  0.48146052\n",
      "  0.1843151  0.91248254 0.14594129 0.76382128 0.38486029 0.57776117\n",
      "  0.22723916 0.94118754 0.5058139  0.29760736 0.15013418 0.13894139\n",
      "  0.28814343 0.71929882 0.65176603 0.37988624 0.00433546 0.94964794\n",
      "  0.13094919 0.37977022 0.61381614 0.97151801 0.46851617 0.67397548\n",
      "  0.18815611 0.48458046 0.81852882 0.64726545 0.80266208 0.57425509\n",
      "  0.29113893 0.03667474 0.22542365 0.3359459  0.35207457 0.44020161\n",
      "  0.89849473 0.18692113 0.10887968 0.99724123 0.43029878 0.22014072\n",
      "  0.26671866 0.96742517 0.636744   0.42094095 0.81987317 0.44014175\n",
      "  0.87221438 0.62257605 0.26141581 0.7343074  0.13119406 0.19997384\n",
      "  0.44766242 0.83418519 0.42275309 0.2729762  0.79822472 0.06494851\n",
      "  0.69091176 0.08702111 0.67939914 0.1525755  0.827847   0.22736336\n",
      "  0.56832818 0.3701471  0.16334425 0.33606719 0.2417239  0.00488222\n",
      "  0.073653   0.45595151 0.41985324 0.31034658 0.6943477  0.28660982\n",
      "  0.97831429 0.40844539 0.1765059  0.72020354 0.72779664 0.51582032\n",
      "  0.57799616 0.08612023 0.28924808 0.3791499 ]] Condition: [[0. 0. 0. 0. 0. 0. 0. 0. 1. 0. 0. 0. 0. 0. 0. 0. 0. 0. 0. 0. 0. 0. 0. 0.\n",
      "  0. 0. 0. 0. 0. 0. 0. 0. 0. 0. 0. 0. 0. 0. 0. 0. 0. 0. 0. 0. 0. 0. 0. 0.\n",
      "  0. 0. 0. 0. 0. 0. 0. 0. 0. 0. 0. 0. 0. 0. 0. 0. 0. 0. 0. 0. 0. 0. 0. 0.\n",
      "  0. 0. 0. 0. 0. 0. 0. 0. 0. 0. 0. 0. 0. 0. 0. 0. 0. 0. 0. 0. 0. 0. 0. 0.\n",
      "  0. 0. 0. 0.]]\n",
      "\n",
      "[INFO] Drawing numbers generated 9\n",
      "Noise: [[0.24602792 0.26783034 0.72377825 0.21431827 0.76561299 0.63187807\n",
      "  0.46642755 0.52184654 0.25696931 0.97048802 0.5480025  0.22311131\n",
      "  0.35219281 0.70736332 0.61853204 0.54802509 0.0326472  0.90705651\n",
      "  0.74498607 0.89380672 0.64955365 0.22144431 0.1841001  0.18257359\n",
      "  0.87213766 0.59344893 0.33474066 0.52033488 0.08919407 0.51491436\n",
      "  0.73076863 0.43983971 0.45683338 0.16433335 0.85010409 0.4363518\n",
      "  0.53455469 0.19702845 0.55739734 0.26718445 0.587852   0.54169932\n",
      "  0.40493657 0.57726616 0.33258212 0.46087713 0.72485695 0.56163984\n",
      "  0.5760841  0.04146567 0.38356427 0.68237568 0.58887374 0.07506129\n",
      "  0.83485483 0.09755276 0.99044329 0.7365403  0.96378111 0.69074009\n",
      "  0.68679132 0.18072212 0.08165643 0.83671979 0.31565475 0.06565906\n",
      "  0.58813423 0.56117335 0.3765822  0.67513701 0.3969852  0.44551989\n",
      "  0.08910413 0.32937587 0.36500106 0.74117282 0.56523719 0.29913685\n",
      "  0.15543292 0.05814373 0.92002954 0.22507807 0.2278786  0.10910509\n",
      "  0.33360919 0.50449594 0.6698114  0.36334023 0.31419965 0.84771507\n",
      "  0.61651556 0.20030233 0.70435475 0.5543242  0.35372095 0.37797575\n",
      "  0.92562848 0.41666137 0.6012718  0.33340404]] Condition: [[0. 0. 0. 0. 0. 0. 0. 0. 0. 1. 0. 0. 0. 0. 0. 0. 0. 0. 0. 0. 0. 0. 0. 0.\n",
      "  0. 0. 0. 0. 0. 0. 0. 0. 0. 0. 0. 0. 0. 0. 0. 0. 0. 0. 0. 0. 0. 0. 0. 0.\n",
      "  0. 0. 0. 0. 0. 0. 0. 0. 0. 0. 0. 0. 0. 0. 0. 0. 0. 0. 0. 0. 0. 0. 0. 0.\n",
      "  0. 0. 0. 0. 0. 0. 0. 0. 0. 0. 0. 0. 0. 0. 0. 0. 0. 0. 0. 0. 0. 0. 0. 0.\n",
      "  0. 0. 0. 0.]]\n",
      "\n"
     ]
    },
    {
     "data": {
      "image/png": "[encoded data removed]",
      "text/plain": [
       "<Figure size 1152x432 with 10 Axes>"
      ]
     },
     "metadata": {},
     "output_type": "display_data"
    }
   ],
   "source": [
    "fig, axes = plt.subplots(nrows = 2, ncols = 5, figsize = (16, 6))\n",
    "plt.setp(axes.flat, xticks = [], yticks = [])\n",
    "for i, ax in enumerate(axes.flat):\n",
    "    print(\"[INFO] Drawing numbers generated\", i)\n",
    "    noise = np.random.uniform(0, 1, size = (1, LATENT_DIMENSION))\n",
    "    condition = to_categorical(np.array([i]), LATENT_DIMENSION)\n",
    "    generated_image = generator.predict([noise, condition]).reshape(IMAGE_HEIGHT, IMAGE_WIDTH)\n",
    "    print(\"Noise: {} Condition: {}\".format(noise, condition))\n",
    "    print()\n",
    "    ax.imshow(generated_image, cmap = 'gray')\n",
    "    ax.set_xlabel(str(i))\n",
    "plt.show()"
   ]
  },
  {
   "cell_type": "code",
   "execution_count": 21,
   "metadata": {},
   "outputs": [],
   "source": [
    "generator.save('./CondDCGAN_generator.h5')"
   ]
  },
  {
   "cell_type": "markdown",
   "metadata": {},
   "source": [
    "# Ejercicio 1"
   ]
  },
  {
   "cell_type": "code",
   "execution_count": null,
   "metadata": {},
   "outputs": [],
   "source": []
  },
  {
   "cell_type": "markdown",
   "metadata": {},
   "source": [
    "# Ejercicio 2"
   ]
  }
 ],
 "metadata": {
  "kernelspec": {
   "display_name": "Python 3",
   "language": "python",
   "name": "python3"
  },
  "language_info": {
   "codemirror_mode": {
    "name": "ipython",
    "version": 3
   },
   "file_extension": ".py",
   "mimetype": "text/x-python",
   "name": "python",
   "nbconvert_exporter": "python",
   "pygments_lexer": "ipython3",
   "version": "3.6.4"
  }
 },
 "nbformat": 4,
 "nbformat_minor": 2
}
