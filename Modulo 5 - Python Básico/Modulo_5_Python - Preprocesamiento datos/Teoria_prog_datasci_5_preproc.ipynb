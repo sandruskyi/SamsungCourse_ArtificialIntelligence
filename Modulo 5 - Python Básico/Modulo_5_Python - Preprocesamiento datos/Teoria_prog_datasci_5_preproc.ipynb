{
  "nbformat": 4,
  "nbformat_minor": 0,
  "metadata": {
    "kernelspec": {
      "display_name": "Python 3",
      "language": "python",
      "name": "python3"
    },
    "language_info": {
      "codemirror_mode": {
        "name": "ipython",
        "version": 3
      },
      "file_extension": ".py",
      "mimetype": "text/x-python",
      "name": "python",
      "nbconvert_exporter": "python",
      "pygments_lexer": "ipython3",
      "version": "3.6.8"
    },
    "colab": {
      "name": "Teoria_prog_datasci_5_preproc.ipynb",
      "provenance": []
    }
  },
  "cells": [
    {
      "cell_type": "markdown",
      "metadata": {
        "id": "9S3LgPMDzxon",
        "colab_type": "text"
      },
      "source": [
        "# Programación para *Data Science*"
      ]
    },
    {
      "cell_type": "markdown",
      "metadata": {
        "id": "yk3LI0Kyzxox",
        "colab_type": "text"
      },
      "source": [
        "Modulo 5: Preprocesamiento de datos en Python\n",
        "------------------------------------------------------\n",
        "\n",
        "## Instrucciones de uso\n",
        "\n",
        "A continuación se presentarán explicaciones y ejemplos de preprocesamiento de datos en Python. Recordad que podéis ir ejecutando los ejemplos para obtener sus resultados.\n",
        "\n",
        "## Introducción\n",
        "\n",
        "En este módulo trabajaremos con la librería [pandas](http://pandas.pydata.org/), que ya hemos introducido en módulos anteriores, y [scikit-learn](http://scikit-learn.org), una nueva librería que presentamos en este módulo. Scikit-learn es una librería de aprendizaje automático de Python que nos ofrece herramientas y implementaciones de algoritmos para minería y análisis de datos. En la propia web de scikit-learn podéis encontrar la [documentación completa](http://scikit-learn.org/stable/documentation.html) de la librería.\n",
        "\n",
        "Este Notebook contiene ejemplos concretos de técnicas que pueden aplicarse para preprocesar datos para cada uno de los grupos. Es importante destacar que se han seleccionado únicamente algunas técnicas dentro de cada grupo para presentar ejemplos del tipo de transformaciones que se realizan pero, en la práctica, el conjunto de técnicas que se aplican en el preprocesamiento de los datos es mucho más amplio. \n",
        "\n",
        "En este Notebook veremos cómo aplicar diferentes técnicas de preprocesamiento de datos sobre un conjunto de datos metereológicos de la ciudad de Pequín. El *dataset* original puede encontrarse en el siguiente [repositorio de Machine Learning de la UC Irvine](http://archive.ics.uci.edu/ml/datasets/Beijing+PM2.5+Data#), aunque para las actividades utilizaremos una variante modificada del mismo que nos permitirá practicar un conjunto más amplio de técnicas. Podéis encontrar una pequeña descripción de los atributos del conjunto de datos siguiendo el enlace anterior.\n",
        "\n",
        "## Primeros pasos\n",
        "\n",
        "En primer lugar, cargamos el conjunto de datos:"
      ]
    },
    {
      "cell_type": "code",
      "metadata": {
        "id": "4o13h2QCzxo1",
        "colab_type": "code",
        "outputId": "d9a6003c-320b-42c2-e506-67372cdac31f",
        "colab": {
          "base_uri": "https://localhost:8080/",
          "height": 230
        }
      },
      "source": [
        "# Importamos la librería pandas.\n",
        "import pandas as pd\n",
        "\n",
        "# Cargamos los datos del fichero \"weather_dataset_edited.csv\" en un dataframe.\n",
        "data = pd.read_csv(\"weather_dataset_edited.csv\")\n",
        "\n",
        "# Mostramos una descripción básica de los datos cargados.\n",
        "print(type(data))\n",
        "print(len(data))\n",
        "data.head(n=5)"
      ],
      "execution_count": 1,
      "outputs": [
        {
          "output_type": "stream",
          "text": [
            "<class 'pandas.core.frame.DataFrame'>\n",
            "43824\n"
          ],
          "name": "stdout"
        },
        {
          "output_type": "execute_result",
          "data": {
            "text/html": [
              "<div>\n",
              "<style scoped>\n",
              "    .dataframe tbody tr th:only-of-type {\n",
              "        vertical-align: middle;\n",
              "    }\n",
              "\n",
              "    .dataframe tbody tr th {\n",
              "        vertical-align: top;\n",
              "    }\n",
              "\n",
              "    .dataframe thead th {\n",
              "        text-align: right;\n",
              "    }\n",
              "</style>\n",
              "<table border=\"1\" class=\"dataframe\">\n",
              "  <thead>\n",
              "    <tr style=\"text-align: right;\">\n",
              "      <th></th>\n",
              "      <th>No</th>\n",
              "      <th>year</th>\n",
              "      <th>month</th>\n",
              "      <th>day</th>\n",
              "      <th>hour</th>\n",
              "      <th>pm2.5</th>\n",
              "      <th>DEWP</th>\n",
              "      <th>TEMP</th>\n",
              "      <th>PRES</th>\n",
              "      <th>cbwd</th>\n",
              "      <th>Iws</th>\n",
              "      <th>Is</th>\n",
              "      <th>Ir</th>\n",
              "    </tr>\n",
              "  </thead>\n",
              "  <tbody>\n",
              "    <tr>\n",
              "      <th>0</th>\n",
              "      <td>1</td>\n",
              "      <td>2010</td>\n",
              "      <td>jan</td>\n",
              "      <td>1</td>\n",
              "      <td>0</td>\n",
              "      <td>NaN</td>\n",
              "      <td>-21</td>\n",
              "      <td>-11.0</td>\n",
              "      <td>1021.0</td>\n",
              "      <td>Nw</td>\n",
              "      <td>1.79</td>\n",
              "      <td>0</td>\n",
              "      <td>0</td>\n",
              "    </tr>\n",
              "    <tr>\n",
              "      <th>1</th>\n",
              "      <td>2</td>\n",
              "      <td>2010</td>\n",
              "      <td>jan</td>\n",
              "      <td>1</td>\n",
              "      <td>1</td>\n",
              "      <td>NaN</td>\n",
              "      <td>-21</td>\n",
              "      <td>-12.0</td>\n",
              "      <td>1020.0</td>\n",
              "      <td>nw</td>\n",
              "      <td>4.92</td>\n",
              "      <td>0</td>\n",
              "      <td>0</td>\n",
              "    </tr>\n",
              "    <tr>\n",
              "      <th>2</th>\n",
              "      <td>3</td>\n",
              "      <td>2010</td>\n",
              "      <td>jan</td>\n",
              "      <td>1</td>\n",
              "      <td>2</td>\n",
              "      <td>NaN</td>\n",
              "      <td>-21</td>\n",
              "      <td>-11.0</td>\n",
              "      <td>1019.0</td>\n",
              "      <td>nw</td>\n",
              "      <td>6.71</td>\n",
              "      <td>0</td>\n",
              "      <td>0</td>\n",
              "    </tr>\n",
              "    <tr>\n",
              "      <th>3</th>\n",
              "      <td>4</td>\n",
              "      <td>2010</td>\n",
              "      <td>jan</td>\n",
              "      <td>1</td>\n",
              "      <td>3</td>\n",
              "      <td>NaN</td>\n",
              "      <td>-21</td>\n",
              "      <td>-14.0</td>\n",
              "      <td>1019.0</td>\n",
              "      <td>NW</td>\n",
              "      <td>9.84</td>\n",
              "      <td>0</td>\n",
              "      <td>0</td>\n",
              "    </tr>\n",
              "    <tr>\n",
              "      <th>4</th>\n",
              "      <td>5</td>\n",
              "      <td>2010</td>\n",
              "      <td>jan</td>\n",
              "      <td>1</td>\n",
              "      <td>4</td>\n",
              "      <td>NaN</td>\n",
              "      <td>-20</td>\n",
              "      <td>-12.0</td>\n",
              "      <td>1018.0</td>\n",
              "      <td>nW</td>\n",
              "      <td>12.97</td>\n",
              "      <td>0</td>\n",
              "      <td>0</td>\n",
              "    </tr>\n",
              "  </tbody>\n",
              "</table>\n",
              "</div>"
            ],
            "text/plain": [
              "   No  year month  day  hour  pm2.5  DEWP  TEMP    PRES cbwd    Iws  Is  Ir\n",
              "0   1  2010   jan    1     0    NaN   -21 -11.0  1021.0   Nw   1.79   0   0\n",
              "1   2  2010   jan    1     1    NaN   -21 -12.0  1020.0   nw   4.92   0   0\n",
              "2   3  2010   jan    1     2    NaN   -21 -11.0  1019.0   nw   6.71   0   0\n",
              "3   4  2010   jan    1     3    NaN   -21 -14.0  1019.0   NW   9.84   0   0\n",
              "4   5  2010   jan    1     4    NaN   -20 -12.0  1018.0   nW  12.97   0   0"
            ]
          },
          "metadata": {
            "tags": []
          },
          "execution_count": 1
        }
      ]
    },
    {
      "cell_type": "markdown",
      "metadata": {
        "id": "EzZCeRK_zxo_",
        "colab_type": "text"
      },
      "source": [
        "## Integración de datos\n",
        "\n",
        "El conjunto de datos ha sido creado con la colaboración de diferentes personas. Aunque todas ellas anotaban la misma información, lo cierto es que utilizaron una nomenclatura distinta para describir la dirección del viento. Veamos cómo podemos unificar la nomenclatura usada por todos ellos."
      ]
    },
    {
      "cell_type": "code",
      "metadata": {
        "id": "vXj-9W83zxpC",
        "colab_type": "code",
        "outputId": "62aef293-b019-4cfe-a8ad-f8e1bfefa002",
        "colab": {
          "base_uri": "https://localhost:8080/",
          "height": 34
        }
      },
      "source": [
        "# Visualizamos las diferentes abreviaturas utilizadas.\n",
        "set(data[\"cbwd\"])"
      ],
      "execution_count": 2,
      "outputs": [
        {
          "output_type": "execute_result",
          "data": {
            "text/plain": [
              "{'NE', 'NW', 'Nw', 'SE', 'Se', 'nW', nan, 'ne', 'nw', 'sE', 'se'}"
            ]
          },
          "metadata": {
            "tags": []
          },
          "execution_count": 2
        }
      ]
    },
    {
      "cell_type": "code",
      "metadata": {
        "id": "NBw3jQZPzxpJ",
        "colab_type": "code",
        "colab": {}
      },
      "source": [
        "# Unificamos la nomenclatura para usar únicamente mayúsculas.\n",
        "data.loc[data.cbwd == \"ne\", \"cbwd\"] = \"NE\"\n",
        "data.loc[(data.cbwd == \"Nw\") | (data.cbwd == \"nW\") | (data.cbwd == \"nw\"), \"cbwd\"] = \"NW\"\n",
        "data.loc[(data.cbwd == \"Se\") | (data.cbwd == \"sE\") | (data.cbwd == \"se\"), \"cbwd\"] = \"SE\""
      ],
      "execution_count": 0,
      "outputs": []
    },
    {
      "cell_type": "markdown",
      "metadata": {
        "id": "VxIDttv8zxpP",
        "colab_type": "text"
      },
      "source": [
        "Notad que usamos el operador `.loc`, que habíamos visto en el módulo 3 (en las explicaciones sobre la librería pandas) para filtrar las filas que cumplen una característica concreta (por ejemplo, para la primera sentencia, que tienen el valor 'ne' en el campo `cbwd`) y luego seleccionamos únicamente la columna `cbwd` para poder asignarle el nuevo valor (en este caso, 'NE')."
      ]
    },
    {
      "cell_type": "code",
      "metadata": {
        "id": "O0yoW7egzxpR",
        "colab_type": "code",
        "outputId": "6737e8c5-bdb5-4814-b033-c55c7780f7fe",
        "colab": {}
      },
      "source": [
        "# Comprobamos que la sustitución se haya realizado correctamente.\n",
        "set(data[\"cbwd\"])"
      ],
      "execution_count": 0,
      "outputs": [
        {
          "output_type": "execute_result",
          "data": {
            "text/plain": [
              "{'NE', 'NW', 'SE', nan}"
            ]
          },
          "metadata": {
            "tags": []
          },
          "execution_count": 4
        }
      ]
    },
    {
      "cell_type": "markdown",
      "metadata": {
        "id": "MSHNh0a0zxpY",
        "colab_type": "text"
      },
      "source": [
        "Además, sabemos que normalmente la temperatura se tomaba con un termómetro configurado para usar el sistema métrico internacional, por lo que esta se encuentra expresada en grados Celsius. Sin embargo, durante el año 2011 se estuvieron tomando las mediciones con otro termómetro configurado con grados Farenheit, por lo que las muestras de ese año se encuentran expresadas en °F. Veamos cómo podemos unificar las mediciones de temperatura."
      ]
    },
    {
      "cell_type": "code",
      "metadata": {
        "id": "VvZwsx0uzxpb",
        "colab_type": "code",
        "outputId": "78e084cf-eac8-4738-fa43-b0e11d38425a",
        "colab": {}
      },
      "source": [
        "# Importamos la librería NumPy.\n",
        "import numpy as np\n",
        "\n",
        "# Visualizamos la media anual de las temperaturas.\n",
        "grouped = data.groupby(\"year\")\n",
        "grouped.aggregate({\"TEMP\": np.mean})"
      ],
      "execution_count": 0,
      "outputs": [
        {
          "output_type": "execute_result",
          "data": {
            "text/html": [
              "<div>\n",
              "<style scoped>\n",
              "    .dataframe tbody tr th:only-of-type {\n",
              "        vertical-align: middle;\n",
              "    }\n",
              "\n",
              "    .dataframe tbody tr th {\n",
              "        vertical-align: top;\n",
              "    }\n",
              "\n",
              "    .dataframe thead th {\n",
              "        text-align: right;\n",
              "    }\n",
              "</style>\n",
              "<table border=\"1\" class=\"dataframe\">\n",
              "  <thead>\n",
              "    <tr style=\"text-align: right;\">\n",
              "      <th></th>\n",
              "      <th>TEMP</th>\n",
              "    </tr>\n",
              "    <tr>\n",
              "      <th>year</th>\n",
              "      <th></th>\n",
              "    </tr>\n",
              "  </thead>\n",
              "  <tbody>\n",
              "    <tr>\n",
              "      <th>2010</th>\n",
              "      <td>11.632420</td>\n",
              "    </tr>\n",
              "    <tr>\n",
              "      <th>2011</th>\n",
              "      <td>54.617534</td>\n",
              "    </tr>\n",
              "    <tr>\n",
              "      <th>2012</th>\n",
              "      <td>11.967441</td>\n",
              "    </tr>\n",
              "    <tr>\n",
              "      <th>2013</th>\n",
              "      <td>12.399201</td>\n",
              "    </tr>\n",
              "    <tr>\n",
              "      <th>2014</th>\n",
              "      <td>13.679566</td>\n",
              "    </tr>\n",
              "  </tbody>\n",
              "</table>\n",
              "</div>"
            ],
            "text/plain": [
              "           TEMP\n",
              "year           \n",
              "2010  11.632420\n",
              "2011  54.617534\n",
              "2012  11.967441\n",
              "2013  12.399201\n",
              "2014  13.679566"
            ]
          },
          "metadata": {
            "tags": []
          },
          "execution_count": 5
        }
      ]
    },
    {
      "cell_type": "markdown",
      "metadata": {
        "id": "B9oY_0Eqzxpm",
        "colab_type": "text"
      },
      "source": [
        "Fijaos como, efectivamente, la media del año 2011 es mucho más alta que la del resto de años."
      ]
    },
    {
      "cell_type": "code",
      "metadata": {
        "id": "C0L8uqSAzxpo",
        "colab_type": "code",
        "colab": {}
      },
      "source": [
        "# Definimos una función que convierte grados Fahrenheit en grados Celsius.\n",
        "def fahrenheit_to_celsius(x):\n",
        "    return (x-32)*5/9\n",
        "\n",
        "# Sustituimos los valores de las temperaturas del año 2011 por el resultado de aplicar la función\n",
        "# 'fahrenheit_to_celsius' al valor actual.\n",
        "data.loc[data.year == 2011, \"TEMP\"] = data[data.year == 2011][\"TEMP\"].apply(fahrenheit_to_celsius)\n"
      ],
      "execution_count": 0,
      "outputs": []
    },
    {
      "cell_type": "code",
      "metadata": {
        "id": "nqruSL92zxpw",
        "colab_type": "code",
        "outputId": "bd5bbc27-34f0-4ef9-b3b4-92bef7f07f82",
        "colab": {}
      },
      "source": [
        "# Comprobamos que los cambios realizados han tenido efecto.\n",
        "grouped.aggregate({\"TEMP\": np.mean})"
      ],
      "execution_count": 0,
      "outputs": [
        {
          "output_type": "execute_result",
          "data": {
            "text/html": [
              "<div>\n",
              "<style scoped>\n",
              "    .dataframe tbody tr th:only-of-type {\n",
              "        vertical-align: middle;\n",
              "    }\n",
              "\n",
              "    .dataframe tbody tr th {\n",
              "        vertical-align: top;\n",
              "    }\n",
              "\n",
              "    .dataframe thead th {\n",
              "        text-align: right;\n",
              "    }\n",
              "</style>\n",
              "<table border=\"1\" class=\"dataframe\">\n",
              "  <thead>\n",
              "    <tr style=\"text-align: right;\">\n",
              "      <th></th>\n",
              "      <th>TEMP</th>\n",
              "    </tr>\n",
              "    <tr>\n",
              "      <th>year</th>\n",
              "      <th></th>\n",
              "    </tr>\n",
              "  </thead>\n",
              "  <tbody>\n",
              "    <tr>\n",
              "      <th>2010</th>\n",
              "      <td>11.632420</td>\n",
              "    </tr>\n",
              "    <tr>\n",
              "      <th>2011</th>\n",
              "      <td>12.565297</td>\n",
              "    </tr>\n",
              "    <tr>\n",
              "      <th>2012</th>\n",
              "      <td>11.967441</td>\n",
              "    </tr>\n",
              "    <tr>\n",
              "      <th>2013</th>\n",
              "      <td>12.399201</td>\n",
              "    </tr>\n",
              "    <tr>\n",
              "      <th>2014</th>\n",
              "      <td>13.679566</td>\n",
              "    </tr>\n",
              "  </tbody>\n",
              "</table>\n",
              "</div>"
            ],
            "text/plain": [
              "           TEMP\n",
              "year           \n",
              "2010  11.632420\n",
              "2011  12.565297\n",
              "2012  11.967441\n",
              "2013  12.399201\n",
              "2014  13.679566"
            ]
          },
          "metadata": {
            "tags": []
          },
          "execution_count": 7
        }
      ]
    },
    {
      "cell_type": "markdown",
      "metadata": {
        "id": "ZZh-vNw_zxp3",
        "colab_type": "text"
      },
      "source": [
        "## Transformación de datos"
      ]
    },
    {
      "cell_type": "markdown",
      "metadata": {
        "id": "jMX79IqZzxp5",
        "colab_type": "text"
      },
      "source": [
        "Los atributos `month` y `cbwd` contienen cadenas de caracteres como valores y representan variables categóricas, por lo que algunos tipos de algoritmos de minería de datos no podrán trabajar con ellas. Por ello, las transformaremos en un conjunto de atributos binarios (un atributo para cada categoría posible)."
      ]
    },
    {
      "cell_type": "code",
      "metadata": {
        "id": "0DPNsjs6zxp8",
        "colab_type": "code",
        "outputId": "83ec1957-fad6-42e4-cd57-e127bb2048f4",
        "colab": {}
      },
      "source": [
        "# Mostramos el conjunto de atributos original.\n",
        "print(list(data))"
      ],
      "execution_count": 0,
      "outputs": [
        {
          "output_type": "stream",
          "text": [
            "['No', 'year', 'month', 'day', 'hour', 'pm2.5', 'DEWP', 'TEMP', 'PRES', 'cbwd', 'Iws', 'Is', 'Ir']\n"
          ],
          "name": "stdout"
        }
      ]
    },
    {
      "cell_type": "code",
      "metadata": {
        "id": "4tLD_EVkzxqG",
        "colab_type": "code",
        "colab": {}
      },
      "source": [
        "# Creamos nuevos atributos binarios para las categorías utilizadas en las columnas \"month\" y \"cbwd\".\n",
        "data_trans = pd.get_dummies(data, columns=[\"month\", \"cbwd\"], dummy_na=True)"
      ],
      "execution_count": 0,
      "outputs": []
    },
    {
      "cell_type": "code",
      "metadata": {
        "id": "1W9wvDy0zxqT",
        "colab_type": "code",
        "outputId": "259ffb33-1309-4acd-ef0f-2dd1172053b1",
        "colab": {}
      },
      "source": [
        "# Mostramos el conjunto de atributos después de la transformación.\n",
        "print(list(data_trans))"
      ],
      "execution_count": 0,
      "outputs": [
        {
          "output_type": "stream",
          "text": [
            "['No', 'year', 'day', 'hour', 'pm2.5', 'DEWP', 'TEMP', 'PRES', 'Iws', 'Is', 'Ir', 'month_apr', 'month_aug', 'month_dec', 'month_feb', 'month_jan', 'month_jul', 'month_jun', 'month_mar', 'month_may', 'month_nov', 'month_oct', 'month_sept', 'month_nan', 'cbwd_NE', 'cbwd_NW', 'cbwd_SE', 'cbwd_nan']\n"
          ],
          "name": "stdout"
        }
      ]
    },
    {
      "cell_type": "markdown",
      "metadata": {
        "id": "LZ1sCbFLzxqZ",
        "colab_type": "text"
      },
      "source": [
        "Podemos ver un ejemplo de cómo se han transformado los valores observando algunas muestras concretas. Así, para las muestras entre las posiciones diez y veinte y la columna `cbwd`:"
      ]
    },
    {
      "cell_type": "code",
      "metadata": {
        "id": "KC3Ey-Blzxqb",
        "colab_type": "code",
        "outputId": "c4ac3384-9e00-4e40-f8bc-97b3aab94753",
        "colab": {}
      },
      "source": [
        "# Mostramos el valor de la columna \"cbwd\" original para las muestras entre las posiciones diez y veinte.\n",
        "print(data.loc[10:20, [\"cbwd\"]])\n",
        "\n",
        "# Mostramos los valores de las nuevas columnas \"cbwd_NE\", \"cbwd_NW\", \"cbwd_SE\", \"cbwd_nan\"\n",
        "# para las muestras entre las posiciones diez y veinte.\n",
        "data_trans.loc[10:20, [\"cbwd_NE\", \"cbwd_NW\", \"cbwd_SE\", \"cbwd_nan\"]]"
      ],
      "execution_count": 0,
      "outputs": [
        {
          "output_type": "stream",
          "text": [
            "   cbwd\n",
            "10   NW\n",
            "11   NW\n",
            "12   NW\n",
            "13   NW\n",
            "14   NW\n",
            "15  NaN\n",
            "16   NW\n",
            "17   NW\n",
            "18   NE\n",
            "19   NW\n",
            "20  NaN\n"
          ],
          "name": "stdout"
        },
        {
          "output_type": "execute_result",
          "data": {
            "text/html": [
              "<div>\n",
              "<style scoped>\n",
              "    .dataframe tbody tr th:only-of-type {\n",
              "        vertical-align: middle;\n",
              "    }\n",
              "\n",
              "    .dataframe tbody tr th {\n",
              "        vertical-align: top;\n",
              "    }\n",
              "\n",
              "    .dataframe thead th {\n",
              "        text-align: right;\n",
              "    }\n",
              "</style>\n",
              "<table border=\"1\" class=\"dataframe\">\n",
              "  <thead>\n",
              "    <tr style=\"text-align: right;\">\n",
              "      <th></th>\n",
              "      <th>cbwd_NE</th>\n",
              "      <th>cbwd_NW</th>\n",
              "      <th>cbwd_SE</th>\n",
              "      <th>cbwd_nan</th>\n",
              "    </tr>\n",
              "  </thead>\n",
              "  <tbody>\n",
              "    <tr>\n",
              "      <th>10</th>\n",
              "      <td>0</td>\n",
              "      <td>1</td>\n",
              "      <td>0</td>\n",
              "      <td>0</td>\n",
              "    </tr>\n",
              "    <tr>\n",
              "      <th>11</th>\n",
              "      <td>0</td>\n",
              "      <td>1</td>\n",
              "      <td>0</td>\n",
              "      <td>0</td>\n",
              "    </tr>\n",
              "    <tr>\n",
              "      <th>12</th>\n",
              "      <td>0</td>\n",
              "      <td>1</td>\n",
              "      <td>0</td>\n",
              "      <td>0</td>\n",
              "    </tr>\n",
              "    <tr>\n",
              "      <th>13</th>\n",
              "      <td>0</td>\n",
              "      <td>1</td>\n",
              "      <td>0</td>\n",
              "      <td>0</td>\n",
              "    </tr>\n",
              "    <tr>\n",
              "      <th>14</th>\n",
              "      <td>0</td>\n",
              "      <td>1</td>\n",
              "      <td>0</td>\n",
              "      <td>0</td>\n",
              "    </tr>\n",
              "    <tr>\n",
              "      <th>15</th>\n",
              "      <td>0</td>\n",
              "      <td>0</td>\n",
              "      <td>0</td>\n",
              "      <td>1</td>\n",
              "    </tr>\n",
              "    <tr>\n",
              "      <th>16</th>\n",
              "      <td>0</td>\n",
              "      <td>1</td>\n",
              "      <td>0</td>\n",
              "      <td>0</td>\n",
              "    </tr>\n",
              "    <tr>\n",
              "      <th>17</th>\n",
              "      <td>0</td>\n",
              "      <td>1</td>\n",
              "      <td>0</td>\n",
              "      <td>0</td>\n",
              "    </tr>\n",
              "    <tr>\n",
              "      <th>18</th>\n",
              "      <td>1</td>\n",
              "      <td>0</td>\n",
              "      <td>0</td>\n",
              "      <td>0</td>\n",
              "    </tr>\n",
              "    <tr>\n",
              "      <th>19</th>\n",
              "      <td>0</td>\n",
              "      <td>1</td>\n",
              "      <td>0</td>\n",
              "      <td>0</td>\n",
              "    </tr>\n",
              "    <tr>\n",
              "      <th>20</th>\n",
              "      <td>0</td>\n",
              "      <td>0</td>\n",
              "      <td>0</td>\n",
              "      <td>1</td>\n",
              "    </tr>\n",
              "  </tbody>\n",
              "</table>\n",
              "</div>"
            ],
            "text/plain": [
              "    cbwd_NE  cbwd_NW  cbwd_SE  cbwd_nan\n",
              "10        0        1        0         0\n",
              "11        0        1        0         0\n",
              "12        0        1        0         0\n",
              "13        0        1        0         0\n",
              "14        0        1        0         0\n",
              "15        0        0        0         1\n",
              "16        0        1        0         0\n",
              "17        0        1        0         0\n",
              "18        1        0        0         0\n",
              "19        0        1        0         0\n",
              "20        0        0        0         1"
            ]
          },
          "metadata": {
            "tags": []
          },
          "execution_count": 11
        }
      ]
    },
    {
      "cell_type": "markdown",
      "metadata": {
        "id": "PeAATzyrzxqi",
        "colab_type": "text"
      },
      "source": [
        "## Limpieza de datos\n",
        "\n",
        "Uno de los problemas que se tratan en la limpieza de datos es el tratamiento de valores perdidos. Existen múltiples estrategias para tratar con estos valores, desde directamente eliminar las muestras que contienen algún valor perdido hasta sustituir los valores perdidos por algún otro valor (por ejemplo, para atributos numéricos, la media del atributo en el resto de muestras). Veamos un ejemplo de sustitución de valores perdidos por la media del atributo."
      ]
    },
    {
      "cell_type": "markdown",
      "metadata": {
        "id": "cW92atiWzxqr",
        "colab_type": "text"
      },
      "source": [
        "En primer lugar, identificamos los atributos que tienen algún valor NaN:"
      ]
    },
    {
      "cell_type": "code",
      "metadata": {
        "id": "HymL8Z1Rzxq2",
        "colab_type": "code",
        "outputId": "ffbc5d6e-9d73-493d-b217-b148ca96b8b5",
        "colab": {}
      },
      "source": [
        "# Definimos una función que nos retorna un valor booleano indicando si alguno de los valores\n",
        "# de la serie es NaN.\n",
        "def any_is_null(x):\n",
        "    return any(pd.isnull(x))\n",
        "\n",
        "# Aplicamos la función any_is_null a cada columna del dataframe. \n",
        "print(data_trans.apply(any_is_null))"
      ],
      "execution_count": 0,
      "outputs": [
        {
          "output_type": "stream",
          "text": [
            "No            False\n",
            "year          False\n",
            "day           False\n",
            "hour          False\n",
            "pm2.5          True\n",
            "DEWP          False\n",
            "TEMP          False\n",
            "PRES          False\n",
            "Iws           False\n",
            "Is            False\n",
            "Ir            False\n",
            "month_apr     False\n",
            "month_aug     False\n",
            "month_dec     False\n",
            "month_feb     False\n",
            "month_jan     False\n",
            "month_jul     False\n",
            "month_jun     False\n",
            "month_mar     False\n",
            "month_may     False\n",
            "month_nov     False\n",
            "month_oct     False\n",
            "month_sept    False\n",
            "month_nan     False\n",
            "cbwd_NE       False\n",
            "cbwd_NW       False\n",
            "cbwd_SE       False\n",
            "cbwd_nan      False\n",
            "dtype: bool\n"
          ],
          "name": "stdout"
        }
      ]
    },
    {
      "cell_type": "markdown",
      "metadata": {
        "id": "Ax6-8TVrzxrF",
        "colab_type": "text"
      },
      "source": [
        "Notad que aunque la columna `cbwd` original contenía valores perdidos, después de la transformación ya no los tenemos, ya que estos se encuentran representados con valores binarios en la columna `cbwd_nan`. Así, únicamente será necesario tratar los valores perdidos de la columna `pm2.5`.\n",
        "\n",
        "Procedemos a sustituir los valores perdidos de la columa `pm2.5` por la media de la columna utilizando la librería sklearn (aunque también podríamos utilizar las funciones de indexación de pandas para conseguir el mismo objetivo)."
      ]
    },
    {
      "cell_type": "code",
      "metadata": {
        "id": "W2eCsHukzxrG",
        "colab_type": "code",
        "colab": {}
      },
      "source": [
        "# Importamos Imputer del módulo de preprocesamiento de la librería sklearn.\n",
        "from sklearn.impute import SimpleImputer\n",
        "\n",
        "# Sustituiremos los valores perdidos por la media de la columna \n",
        "imp = SimpleImputer(strategy='mean')\n",
        "\n",
        "# Aplicamos la transformación a la columna pm2.5.\n",
        "data_trans[\"pm2.5\"] = imp.fit_transform(data_trans[[\"pm2.5\"]]).ravel()\n"
      ],
      "execution_count": 0,
      "outputs": []
    },
    {
      "cell_type": "code",
      "metadata": {
        "id": "_iyVzJ78zxrO",
        "colab_type": "code",
        "outputId": "2624be87-1a28-4588-cb22-a7c231779ba4",
        "colab": {}
      },
      "source": [
        "# Comprobamos que se han eliminado los valores perdidos.\n",
        "print(data_trans.apply(any_is_null))"
      ],
      "execution_count": 0,
      "outputs": [
        {
          "output_type": "stream",
          "text": [
            "No            False\n",
            "year          False\n",
            "day           False\n",
            "hour          False\n",
            "pm2.5         False\n",
            "DEWP          False\n",
            "TEMP          False\n",
            "PRES          False\n",
            "Iws           False\n",
            "Is            False\n",
            "Ir            False\n",
            "month_apr     False\n",
            "month_aug     False\n",
            "month_dec     False\n",
            "month_feb     False\n",
            "month_jan     False\n",
            "month_jul     False\n",
            "month_jun     False\n",
            "month_mar     False\n",
            "month_may     False\n",
            "month_nov     False\n",
            "month_oct     False\n",
            "month_sept    False\n",
            "month_nan     False\n",
            "cbwd_NE       False\n",
            "cbwd_NW       False\n",
            "cbwd_SE       False\n",
            "cbwd_nan      False\n",
            "dtype: bool\n"
          ],
          "name": "stdout"
        }
      ]
    },
    {
      "cell_type": "markdown",
      "metadata": {
        "id": "STpkxLkfzxrV",
        "colab_type": "text"
      },
      "source": [
        "## Normalización de datos\n",
        "\n",
        "Una de las alternativas para normalizar los datos consiste en centrar los valores para que la media del atributo se encuentre cercana a cero y escalarlos para que la varianza sea 1. Veamos cómo realizar este proceso sobre el atributo que contiene la presión atmosférica."
      ]
    },
    {
      "cell_type": "code",
      "metadata": {
        "id": "GIcO0RkjzxrW",
        "colab_type": "code",
        "outputId": "a2d56593-d65f-4537-b21a-91e426e230a3",
        "colab": {}
      },
      "source": [
        "# Observamos los estadísticos básicos originales del atributo \"PRES\".\n",
        "data_trans[\"PRES\"].describe()"
      ],
      "execution_count": 0,
      "outputs": [
        {
          "output_type": "execute_result",
          "data": {
            "text/plain": [
              "count    43824.000000\n",
              "mean      1016.447654\n",
              "std         10.268698\n",
              "min        991.000000\n",
              "25%       1008.000000\n",
              "50%       1016.000000\n",
              "75%       1025.000000\n",
              "max       1046.000000\n",
              "Name: PRES, dtype: float64"
            ]
          },
          "metadata": {
            "tags": []
          },
          "execution_count": 15
        }
      ]
    },
    {
      "cell_type": "code",
      "metadata": {
        "id": "HeAUjzxazxrZ",
        "colab_type": "code",
        "colab": {}
      },
      "source": [
        "# Importamos StandardScaler del módulo de preprocesamiento de la librería sklearn.\n",
        "from sklearn.preprocessing import StandardScaler\n",
        "\n",
        "# Utilizamos el StandardScaler de sklearn para normalizar los valores del atributo \"PRES\".\n",
        "data_trans.loc[:, [\"PRES\"]] = StandardScaler().fit_transform(data_trans.loc[:, [\"PRES\"]])"
      ],
      "execution_count": 0,
      "outputs": []
    },
    {
      "cell_type": "code",
      "metadata": {
        "id": "FesSwqSrzxrf",
        "colab_type": "code",
        "outputId": "f677d8cb-b219-4e57-e29a-b3c6da5f0190",
        "colab": {}
      },
      "source": [
        "# Observamos los estadísticos básicos del atributo \"PRES\" después de la transformación.\n",
        "data_trans[\"PRES\"].describe()\n"
      ],
      "execution_count": 0,
      "outputs": [
        {
          "output_type": "execute_result",
          "data": {
            "text/plain": [
              "count    4.382400e+04\n",
              "mean     4.851095e-15\n",
              "std      1.000011e+00\n",
              "min     -2.478206e+00\n",
              "25%     -8.226701e-01\n",
              "50%     -4.359456e-02\n",
              "75%      8.328654e-01\n",
              "max      2.877939e+00\n",
              "Name: PRES, dtype: float64"
            ]
          },
          "metadata": {
            "tags": []
          },
          "execution_count": 17
        }
      ]
    },
    {
      "cell_type": "markdown",
      "metadata": {
        "id": "IXltZoPazxrm",
        "colab_type": "text"
      },
      "source": [
        "Notad como, efectivamente, la media se aproxima ahora al valor 0, y la desviación, a 1."
      ]
    },
    {
      "cell_type": "markdown",
      "metadata": {
        "id": "MGzIbf1tzxro",
        "colab_type": "text"
      },
      "source": [
        "## Reducción de dimensiones\n",
        "\n",
        "Una opción sencilla para reducir dimensiones consiste en seleccionar un conjunto de características de interés. Podemos realizar esta selección de manera sencilla gracias a las funciones que disponemos sobre los *dataframes* de pandas."
      ]
    },
    {
      "cell_type": "code",
      "metadata": {
        "id": "aeJlc8hZzxrq",
        "colab_type": "code",
        "outputId": "be41e296-fa88-4778-f00d-8add486f5fc0",
        "colab": {}
      },
      "source": [
        "# Mostramos los atributos actuales.\n",
        "print(list(data_trans))"
      ],
      "execution_count": 0,
      "outputs": [
        {
          "output_type": "stream",
          "text": [
            "['No', 'year', 'day', 'hour', 'pm2.5', 'DEWP', 'TEMP', 'PRES', 'Iws', 'Is', 'Ir', 'month_apr', 'month_aug', 'month_dec', 'month_feb', 'month_jan', 'month_jul', 'month_jun', 'month_mar', 'month_may', 'month_nov', 'month_oct', 'month_sept', 'month_nan', 'cbwd_NE', 'cbwd_NW', 'cbwd_SE', 'cbwd_nan']\n"
          ],
          "name": "stdout"
        }
      ]
    },
    {
      "cell_type": "code",
      "metadata": {
        "id": "LUBQjU3Wzxrw",
        "colab_type": "code",
        "colab": {}
      },
      "source": [
        "# Eliminamos el atributo \"DEWP\".\n",
        "data_trans = data_trans.drop(\"DEWP\", axis=1)"
      ],
      "execution_count": 0,
      "outputs": []
    },
    {
      "cell_type": "code",
      "metadata": {
        "id": "8R0aG0zdzxry",
        "colab_type": "code",
        "outputId": "5eaaf852-29c1-4fd2-b391-21c0a6334388",
        "colab": {}
      },
      "source": [
        "# Mostramos los atributos después del cambio.\n",
        "print(list(data_trans))"
      ],
      "execution_count": 0,
      "outputs": [
        {
          "output_type": "stream",
          "text": [
            "['No', 'year', 'day', 'hour', 'pm2.5', 'TEMP', 'PRES', 'Iws', 'Is', 'Ir', 'month_apr', 'month_aug', 'month_dec', 'month_feb', 'month_jan', 'month_jul', 'month_jun', 'month_mar', 'month_may', 'month_nov', 'month_oct', 'month_sept', 'month_nan', 'cbwd_NE', 'cbwd_NW', 'cbwd_SE', 'cbwd_nan']\n"
          ],
          "name": "stdout"
        }
      ]
    },
    {
      "cell_type": "markdown",
      "metadata": {
        "id": "c3V29CCQzxr4",
        "colab_type": "text"
      },
      "source": [
        "Un grupo de técnicas de reducción de dimensiones muy desarrollado se centra en la extracción de características. Aunque conceptualmente estos procesos se escapan de este curso introductorio, lo cierto es que es fácil aplicar estas técnicas con sklearn. El lector interesado puede consultar [los ejemplos](http://scikit-learn.org/stable/modules/generated/sklearn.decomposition.PCA.html#examples-using-sklearn-decomposition-pca) de la propia documentación de sklearn."
      ]
    },
    {
      "cell_type": "markdown",
      "metadata": {
        "id": "lE5fPF1Bzxr6",
        "colab_type": "text"
      },
      "source": [
        "## Reducción de muestras\n",
        "\n",
        "Una alternativa sencilla para realizar una reducción de las muestras disponibles consiste en seleccionar de manera aleatoria uniforme un subconjunto de muestras del *dataset*."
      ]
    },
    {
      "cell_type": "code",
      "metadata": {
        "id": "iofThAg9zxr7",
        "colab_type": "code",
        "outputId": "cab494f7-9e68-4d78-ff29-147a36e312cb",
        "colab": {}
      },
      "source": [
        "# Mostramos el número de muestras original.\n",
        "print(len(data_trans))"
      ],
      "execution_count": 0,
      "outputs": [
        {
          "output_type": "stream",
          "text": [
            "43824\n"
          ],
          "name": "stdout"
        }
      ]
    },
    {
      "cell_type": "code",
      "metadata": {
        "id": "ppuRRLm1zxr-",
        "colab_type": "code",
        "colab": {}
      },
      "source": [
        "# Seleccionamos un 25 % de las muestras de manera aleatoria.\n",
        "sampled_data = data_trans.sample(frac=0.25)"
      ],
      "execution_count": 0,
      "outputs": []
    },
    {
      "cell_type": "code",
      "metadata": {
        "id": "0_E4H6xkzxsB",
        "colab_type": "code",
        "outputId": "45636a2c-26dc-45d3-b71e-3973b3994b64",
        "colab": {}
      },
      "source": [
        "# Mostramos el número de muestras seleccionado.\n",
        "print(len(sampled_data))\n",
        "\n",
        "# Mostramos las cinco primeras muestras seleccionadas.\n",
        "sampled_data.head(n=5)"
      ],
      "execution_count": 0,
      "outputs": [
        {
          "output_type": "stream",
          "text": [
            "10956\n"
          ],
          "name": "stdout"
        },
        {
          "output_type": "execute_result",
          "data": {
            "text/html": [
              "<div>\n",
              "<style scoped>\n",
              "    .dataframe tbody tr th:only-of-type {\n",
              "        vertical-align: middle;\n",
              "    }\n",
              "\n",
              "    .dataframe tbody tr th {\n",
              "        vertical-align: top;\n",
              "    }\n",
              "\n",
              "    .dataframe thead th {\n",
              "        text-align: right;\n",
              "    }\n",
              "</style>\n",
              "<table border=\"1\" class=\"dataframe\">\n",
              "  <thead>\n",
              "    <tr style=\"text-align: right;\">\n",
              "      <th></th>\n",
              "      <th>No</th>\n",
              "      <th>year</th>\n",
              "      <th>day</th>\n",
              "      <th>hour</th>\n",
              "      <th>pm2.5</th>\n",
              "      <th>TEMP</th>\n",
              "      <th>PRES</th>\n",
              "      <th>Iws</th>\n",
              "      <th>Is</th>\n",
              "      <th>Ir</th>\n",
              "      <th>...</th>\n",
              "      <th>month_mar</th>\n",
              "      <th>month_may</th>\n",
              "      <th>month_nov</th>\n",
              "      <th>month_oct</th>\n",
              "      <th>month_sept</th>\n",
              "      <th>month_nan</th>\n",
              "      <th>cbwd_NE</th>\n",
              "      <th>cbwd_NW</th>\n",
              "      <th>cbwd_SE</th>\n",
              "      <th>cbwd_nan</th>\n",
              "    </tr>\n",
              "  </thead>\n",
              "  <tbody>\n",
              "    <tr>\n",
              "      <th>36391</th>\n",
              "      <td>36392</td>\n",
              "      <td>2014</td>\n",
              "      <td>25</td>\n",
              "      <td>7</td>\n",
              "      <td>418.0</td>\n",
              "      <td>-1.0</td>\n",
              "      <td>1.027634</td>\n",
              "      <td>5.36</td>\n",
              "      <td>0</td>\n",
              "      <td>0</td>\n",
              "      <td>...</td>\n",
              "      <td>0</td>\n",
              "      <td>0</td>\n",
              "      <td>0</td>\n",
              "      <td>0</td>\n",
              "      <td>0</td>\n",
              "      <td>0</td>\n",
              "      <td>0</td>\n",
              "      <td>1</td>\n",
              "      <td>0</td>\n",
              "      <td>0</td>\n",
              "    </tr>\n",
              "    <tr>\n",
              "      <th>22338</th>\n",
              "      <td>22339</td>\n",
              "      <td>2012</td>\n",
              "      <td>19</td>\n",
              "      <td>18</td>\n",
              "      <td>138.0</td>\n",
              "      <td>30.0</td>\n",
              "      <td>-1.309592</td>\n",
              "      <td>28.19</td>\n",
              "      <td>0</td>\n",
              "      <td>0</td>\n",
              "      <td>...</td>\n",
              "      <td>0</td>\n",
              "      <td>0</td>\n",
              "      <td>0</td>\n",
              "      <td>0</td>\n",
              "      <td>0</td>\n",
              "      <td>0</td>\n",
              "      <td>0</td>\n",
              "      <td>0</td>\n",
              "      <td>1</td>\n",
              "      <td>0</td>\n",
              "    </tr>\n",
              "    <tr>\n",
              "      <th>33630</th>\n",
              "      <td>33631</td>\n",
              "      <td>2013</td>\n",
              "      <td>2</td>\n",
              "      <td>6</td>\n",
              "      <td>238.0</td>\n",
              "      <td>3.0</td>\n",
              "      <td>0.638097</td>\n",
              "      <td>7.13</td>\n",
              "      <td>0</td>\n",
              "      <td>0</td>\n",
              "      <td>...</td>\n",
              "      <td>0</td>\n",
              "      <td>0</td>\n",
              "      <td>1</td>\n",
              "      <td>0</td>\n",
              "      <td>0</td>\n",
              "      <td>0</td>\n",
              "      <td>0</td>\n",
              "      <td>0</td>\n",
              "      <td>0</td>\n",
              "      <td>1</td>\n",
              "    </tr>\n",
              "    <tr>\n",
              "      <th>24304</th>\n",
              "      <td>24305</td>\n",
              "      <td>2012</td>\n",
              "      <td>9</td>\n",
              "      <td>16</td>\n",
              "      <td>11.0</td>\n",
              "      <td>21.0</td>\n",
              "      <td>-0.238363</td>\n",
              "      <td>76.44</td>\n",
              "      <td>0</td>\n",
              "      <td>0</td>\n",
              "      <td>...</td>\n",
              "      <td>0</td>\n",
              "      <td>0</td>\n",
              "      <td>0</td>\n",
              "      <td>1</td>\n",
              "      <td>0</td>\n",
              "      <td>0</td>\n",
              "      <td>0</td>\n",
              "      <td>1</td>\n",
              "      <td>0</td>\n",
              "      <td>0</td>\n",
              "    </tr>\n",
              "    <tr>\n",
              "      <th>20694</th>\n",
              "      <td>20695</td>\n",
              "      <td>2012</td>\n",
              "      <td>12</td>\n",
              "      <td>6</td>\n",
              "      <td>131.0</td>\n",
              "      <td>15.0</td>\n",
              "      <td>-0.530517</td>\n",
              "      <td>3.13</td>\n",
              "      <td>0</td>\n",
              "      <td>8</td>\n",
              "      <td>...</td>\n",
              "      <td>0</td>\n",
              "      <td>1</td>\n",
              "      <td>0</td>\n",
              "      <td>0</td>\n",
              "      <td>0</td>\n",
              "      <td>0</td>\n",
              "      <td>0</td>\n",
              "      <td>0</td>\n",
              "      <td>1</td>\n",
              "      <td>0</td>\n",
              "    </tr>\n",
              "  </tbody>\n",
              "</table>\n",
              "<p>5 rows × 27 columns</p>\n",
              "</div>"
            ],
            "text/plain": [
              "          No  year  day  hour  pm2.5  TEMP      PRES    Iws  Is  Ir  ...  \\\n",
              "36391  36392  2014   25     7  418.0  -1.0  1.027634   5.36   0   0  ...   \n",
              "22338  22339  2012   19    18  138.0  30.0 -1.309592  28.19   0   0  ...   \n",
              "33630  33631  2013    2     6  238.0   3.0  0.638097   7.13   0   0  ...   \n",
              "24304  24305  2012    9    16   11.0  21.0 -0.238363  76.44   0   0  ...   \n",
              "20694  20695  2012   12     6  131.0  15.0 -0.530517   3.13   0   8  ...   \n",
              "\n",
              "       month_mar  month_may  month_nov  month_oct  month_sept  month_nan  \\\n",
              "36391          0          0          0          0           0          0   \n",
              "22338          0          0          0          0           0          0   \n",
              "33630          0          0          1          0           0          0   \n",
              "24304          0          0          0          1           0          0   \n",
              "20694          0          1          0          0           0          0   \n",
              "\n",
              "       cbwd_NE  cbwd_NW  cbwd_SE  cbwd_nan  \n",
              "36391        0        1        0         0  \n",
              "22338        0        0        1         0  \n",
              "33630        0        0        0         1  \n",
              "24304        0        1        0         0  \n",
              "20694        0        0        1         0  \n",
              "\n",
              "[5 rows x 27 columns]"
            ]
          },
          "metadata": {
            "tags": []
          },
          "execution_count": 23
        }
      ]
    },
    {
      "cell_type": "markdown",
      "metadata": {
        "id": "mHfAadBHzxsI",
        "colab_type": "text"
      },
      "source": [
        "Notad que el *dataframe* conserva el número de atributos original, pero solo contiene un 25 % de las muestras originales."
      ]
    },
    {
      "cell_type": "markdown",
      "metadata": {
        "id": "yMB0olMLzxsJ",
        "colab_type": "text"
      },
      "source": [
        "## Discretización\n",
        "\n",
        "En ocasiones nos interesará convertir un atributo continuo en uno de discreto. Una manera de hacerlo es divir el espacio de posibles valores que toma el atributo en `n` _bins_ o intervalos del mismo tamaño y asignar cada muestra al intervalo al que pertenece. Veamos un ejemplo discretizando el atributo `Iws` en cinco intervalos del mismo tamaño."
      ]
    },
    {
      "cell_type": "code",
      "metadata": {
        "id": "OoGxSSUSzxsO",
        "colab_type": "code",
        "outputId": "8ac13d60-41e1-442e-b4da-758a1d229b5e",
        "colab": {}
      },
      "source": [
        "# Observamos los estadísticos básicos del atributo \"Iws\".\n",
        "data_trans[\"Iws\"].describe()"
      ],
      "execution_count": 0,
      "outputs": [
        {
          "output_type": "execute_result",
          "data": {
            "text/plain": [
              "count    43824.000000\n",
              "mean        23.889140\n",
              "std         50.010635\n",
              "min          0.450000\n",
              "25%          1.790000\n",
              "50%          5.370000\n",
              "75%         21.910000\n",
              "max        585.600000\n",
              "Name: Iws, dtype: float64"
            ]
          },
          "metadata": {
            "tags": []
          },
          "execution_count": 24
        }
      ]
    },
    {
      "cell_type": "code",
      "metadata": {
        "id": "OrPwipy8zxsT",
        "colab_type": "code",
        "colab": {}
      },
      "source": [
        "# Creamos un nuevo atributo \"Iws_disc\" que contiene la discretización de \"Iws\".\n",
        "data_trans[\"Iws_disc\"] = pd.cut(data_trans[\"Iws\"], 5)"
      ],
      "execution_count": 0,
      "outputs": []
    },
    {
      "cell_type": "code",
      "metadata": {
        "id": "5wQ82pYMzxsY",
        "colab_type": "code",
        "outputId": "fb820aeb-2058-4317-a05a-23af14120e26",
        "colab": {}
      },
      "source": [
        "# Visualizamos el contenido de los atributos \"Iws\" y \"Iws_disc\" para un subconjunto de muestras \n",
        "# para observar el resultado.\n",
        "data_trans.loc[80:90, [\"Iws\", \"Iws_disc\"]]"
      ],
      "execution_count": 0,
      "outputs": [
        {
          "output_type": "execute_result",
          "data": {
            "text/html": [
              "<div>\n",
              "<style scoped>\n",
              "    .dataframe tbody tr th:only-of-type {\n",
              "        vertical-align: middle;\n",
              "    }\n",
              "\n",
              "    .dataframe tbody tr th {\n",
              "        vertical-align: top;\n",
              "    }\n",
              "\n",
              "    .dataframe thead th {\n",
              "        text-align: right;\n",
              "    }\n",
              "</style>\n",
              "<table border=\"1\" class=\"dataframe\">\n",
              "  <thead>\n",
              "    <tr style=\"text-align: right;\">\n",
              "      <th></th>\n",
              "      <th>Iws</th>\n",
              "      <th>Iws_disc</th>\n",
              "    </tr>\n",
              "  </thead>\n",
              "  <tbody>\n",
              "    <tr>\n",
              "      <th>80</th>\n",
              "      <td>80.90</td>\n",
              "      <td>(-0.135, 117.48]</td>\n",
              "    </tr>\n",
              "    <tr>\n",
              "      <th>81</th>\n",
              "      <td>90.73</td>\n",
              "      <td>(-0.135, 117.48]</td>\n",
              "    </tr>\n",
              "    <tr>\n",
              "      <th>82</th>\n",
              "      <td>100.56</td>\n",
              "      <td>(-0.135, 117.48]</td>\n",
              "    </tr>\n",
              "    <tr>\n",
              "      <th>83</th>\n",
              "      <td>108.61</td>\n",
              "      <td>(-0.135, 117.48]</td>\n",
              "    </tr>\n",
              "    <tr>\n",
              "      <th>84</th>\n",
              "      <td>117.55</td>\n",
              "      <td>(117.48, 234.51]</td>\n",
              "    </tr>\n",
              "    <tr>\n",
              "      <th>85</th>\n",
              "      <td>127.38</td>\n",
              "      <td>(117.48, 234.51]</td>\n",
              "    </tr>\n",
              "    <tr>\n",
              "      <th>86</th>\n",
              "      <td>136.32</td>\n",
              "      <td>(117.48, 234.51]</td>\n",
              "    </tr>\n",
              "    <tr>\n",
              "      <th>87</th>\n",
              "      <td>145.26</td>\n",
              "      <td>(117.48, 234.51]</td>\n",
              "    </tr>\n",
              "    <tr>\n",
              "      <th>88</th>\n",
              "      <td>152.41</td>\n",
              "      <td>(117.48, 234.51]</td>\n",
              "    </tr>\n",
              "    <tr>\n",
              "      <th>89</th>\n",
              "      <td>159.56</td>\n",
              "      <td>(117.48, 234.51]</td>\n",
              "    </tr>\n",
              "    <tr>\n",
              "      <th>90</th>\n",
              "      <td>165.37</td>\n",
              "      <td>(117.48, 234.51]</td>\n",
              "    </tr>\n",
              "  </tbody>\n",
              "</table>\n",
              "</div>"
            ],
            "text/plain": [
              "       Iws          Iws_disc\n",
              "80   80.90  (-0.135, 117.48]\n",
              "81   90.73  (-0.135, 117.48]\n",
              "82  100.56  (-0.135, 117.48]\n",
              "83  108.61  (-0.135, 117.48]\n",
              "84  117.55  (117.48, 234.51]\n",
              "85  127.38  (117.48, 234.51]\n",
              "86  136.32  (117.48, 234.51]\n",
              "87  145.26  (117.48, 234.51]\n",
              "88  152.41  (117.48, 234.51]\n",
              "89  159.56  (117.48, 234.51]\n",
              "90  165.37  (117.48, 234.51]"
            ]
          },
          "metadata": {
            "tags": []
          },
          "execution_count": 26
        }
      ]
    },
    {
      "cell_type": "markdown",
      "metadata": {
        "id": "Q7-aTrPrzxsk",
        "colab_type": "text"
      },
      "source": [
        "Por defecto la función `cut` utiliza el intervalo como valor del nuevo atributo. Podemos asignar valores arbitrarios al nuevo atributo, por ejemplo:"
      ]
    },
    {
      "cell_type": "code",
      "metadata": {
        "id": "UO14OVtgzxsl",
        "colab_type": "code",
        "colab": {}
      },
      "source": [
        "# Designamos cinco nombres para los intervalos.\n",
        "group_names = ['Very Low', 'Low', 'Medium', 'High', 'Very High']"
      ],
      "execution_count": 0,
      "outputs": []
    },
    {
      "cell_type": "code",
      "metadata": {
        "id": "tri8fC5Qzxsq",
        "colab_type": "code",
        "colab": {}
      },
      "source": [
        "# Creamos un nuevo atributo \"Iws_disc_named\" discretizando de nuevo \"Iws\" con 5 intervalos\n",
        "# del mismo tamaño pero usando ahora las etiquetas definidas.\n",
        "data_trans[\"Iws_disc_named\"] = pd.cut(data_trans[\"Iws\"], 5, labels = group_names)"
      ],
      "execution_count": 0,
      "outputs": []
    },
    {
      "cell_type": "code",
      "metadata": {
        "id": "th1w5tGlzxsu",
        "colab_type": "code",
        "outputId": "6d49157a-701a-46ac-928f-75010f8ff40f",
        "colab": {}
      },
      "source": [
        "# Visualizamos el contenido de los atributos \"Iws\", \"Iws_disc\" y \"Iws_disc_named\" \n",
        "# para un subconjunto de muestras para observar el resultado.\n",
        "data_trans.loc[80:90, [\"Iws\", \"Iws_disc\", \"Iws_disc_named\"]]"
      ],
      "execution_count": 0,
      "outputs": [
        {
          "output_type": "execute_result",
          "data": {
            "text/html": [
              "<div>\n",
              "<style scoped>\n",
              "    .dataframe tbody tr th:only-of-type {\n",
              "        vertical-align: middle;\n",
              "    }\n",
              "\n",
              "    .dataframe tbody tr th {\n",
              "        vertical-align: top;\n",
              "    }\n",
              "\n",
              "    .dataframe thead th {\n",
              "        text-align: right;\n",
              "    }\n",
              "</style>\n",
              "<table border=\"1\" class=\"dataframe\">\n",
              "  <thead>\n",
              "    <tr style=\"text-align: right;\">\n",
              "      <th></th>\n",
              "      <th>Iws</th>\n",
              "      <th>Iws_disc</th>\n",
              "      <th>Iws_disc_named</th>\n",
              "    </tr>\n",
              "  </thead>\n",
              "  <tbody>\n",
              "    <tr>\n",
              "      <th>80</th>\n",
              "      <td>80.90</td>\n",
              "      <td>(-0.135, 117.48]</td>\n",
              "      <td>Very Low</td>\n",
              "    </tr>\n",
              "    <tr>\n",
              "      <th>81</th>\n",
              "      <td>90.73</td>\n",
              "      <td>(-0.135, 117.48]</td>\n",
              "      <td>Very Low</td>\n",
              "    </tr>\n",
              "    <tr>\n",
              "      <th>82</th>\n",
              "      <td>100.56</td>\n",
              "      <td>(-0.135, 117.48]</td>\n",
              "      <td>Very Low</td>\n",
              "    </tr>\n",
              "    <tr>\n",
              "      <th>83</th>\n",
              "      <td>108.61</td>\n",
              "      <td>(-0.135, 117.48]</td>\n",
              "      <td>Very Low</td>\n",
              "    </tr>\n",
              "    <tr>\n",
              "      <th>84</th>\n",
              "      <td>117.55</td>\n",
              "      <td>(117.48, 234.51]</td>\n",
              "      <td>Low</td>\n",
              "    </tr>\n",
              "    <tr>\n",
              "      <th>85</th>\n",
              "      <td>127.38</td>\n",
              "      <td>(117.48, 234.51]</td>\n",
              "      <td>Low</td>\n",
              "    </tr>\n",
              "    <tr>\n",
              "      <th>86</th>\n",
              "      <td>136.32</td>\n",
              "      <td>(117.48, 234.51]</td>\n",
              "      <td>Low</td>\n",
              "    </tr>\n",
              "    <tr>\n",
              "      <th>87</th>\n",
              "      <td>145.26</td>\n",
              "      <td>(117.48, 234.51]</td>\n",
              "      <td>Low</td>\n",
              "    </tr>\n",
              "    <tr>\n",
              "      <th>88</th>\n",
              "      <td>152.41</td>\n",
              "      <td>(117.48, 234.51]</td>\n",
              "      <td>Low</td>\n",
              "    </tr>\n",
              "    <tr>\n",
              "      <th>89</th>\n",
              "      <td>159.56</td>\n",
              "      <td>(117.48, 234.51]</td>\n",
              "      <td>Low</td>\n",
              "    </tr>\n",
              "    <tr>\n",
              "      <th>90</th>\n",
              "      <td>165.37</td>\n",
              "      <td>(117.48, 234.51]</td>\n",
              "      <td>Low</td>\n",
              "    </tr>\n",
              "  </tbody>\n",
              "</table>\n",
              "</div>"
            ],
            "text/plain": [
              "       Iws          Iws_disc Iws_disc_named\n",
              "80   80.90  (-0.135, 117.48]       Very Low\n",
              "81   90.73  (-0.135, 117.48]       Very Low\n",
              "82  100.56  (-0.135, 117.48]       Very Low\n",
              "83  108.61  (-0.135, 117.48]       Very Low\n",
              "84  117.55  (117.48, 234.51]            Low\n",
              "85  127.38  (117.48, 234.51]            Low\n",
              "86  136.32  (117.48, 234.51]            Low\n",
              "87  145.26  (117.48, 234.51]            Low\n",
              "88  152.41  (117.48, 234.51]            Low\n",
              "89  159.56  (117.48, 234.51]            Low\n",
              "90  165.37  (117.48, 234.51]            Low"
            ]
          },
          "metadata": {
            "tags": []
          },
          "execution_count": 29
        }
      ]
    },
    {
      "cell_type": "markdown",
      "metadata": {
        "id": "3HqsKJYxWTEY",
        "colab_type": "text"
      },
      "source": [
        "## Ejercicio 1\n",
        "\n",
        "Cargue los datos del fichero `bank_edited.csv` en un dataframe. Este conjunto de datos recoge información respecto a una campaña de marketing de un banco portugués. El conjunto original se puede encontrar en el [repositorio de datos de Machine Learning de la UC Irvine] (http://archive.ics.uci.edu/ml/datasets/Bank+Marketing), pero el conjunto que utilizaremos tiene alguna modificación .\n",
        "\n",
        "Observación: revise la documentación de la función [ `read_csv`](https://pandas.pydata.org/pandas-docs/stable/generated/pandas.read_csv.html) para ver qué parámetro disponemos para ajustar el proceso de cargar de datos.\n",
        "\n",
        "Los valores del estado civil (atributo `marital`) contienen errores tipográficos y incluyen el uso de diferentes nomenclaturas. En este ejercicio unificaremos la nomenclatura de los valores de esta variables.\n",
        "\n",
        "a) ¿Cuantos valores diferentes tiene el atributo `marital` en el conjunto de datos? Mostrad estos valores.\n"
      ]
    },
    {
      "cell_type": "code",
      "metadata": {
        "id": "Qsz4vtZgWTEZ",
        "colab_type": "code",
        "colab": {}
      },
      "source": [
        "# Respuesta"
      ],
      "execution_count": 0,
      "outputs": []
    },
    {
      "cell_type": "markdown",
      "metadata": {
        "id": "3YZnp1ljWTEd",
        "colab_type": "text"
      },
      "source": [
        " b) Unificad los atributos `marital` en los valores: \"single\", \"married\" o \"divorced\"."
      ]
    },
    {
      "cell_type": "code",
      "metadata": {
        "id": "U6KRqM54WTEd",
        "colab_type": "code",
        "colab": {}
      },
      "source": [
        "# Respuesta"
      ],
      "execution_count": 0,
      "outputs": []
    },
    {
      "cell_type": "markdown",
      "metadata": {
        "id": "4GBYzBeZWTEh",
        "colab_type": "text"
      },
      "source": [
        "c) ¿Qué columnas contienen valores perdidos? "
      ]
    },
    {
      "cell_type": "code",
      "metadata": {
        "colab_type": "code",
        "id": "H---kR4LjmUv",
        "colab": {}
      },
      "source": [
        "# Respuesta"
      ],
      "execution_count": 0,
      "outputs": []
    },
    {
      "cell_type": "markdown",
      "metadata": {
        "id": "lLqdfD0MWTEk",
        "colab_type": "text"
      },
      "source": [
        "d) Calculad el primer y el tercer cuartil del atributo \"balance\"."
      ]
    },
    {
      "cell_type": "code",
      "metadata": {
        "id": "vbSq69BZWTEh",
        "colab_type": "code",
        "colab": {}
      },
      "source": [
        "# Respuesta"
      ],
      "execution_count": 0,
      "outputs": []
    },
    {
      "cell_type": "markdown",
      "metadata": {
        "id": "R21NwNHXWTEn",
        "colab_type": "text"
      },
      "source": [
        "## Ejercicio 2"
      ]
    },
    {
      "cell_type": "markdown",
      "metadata": {
        "id": "jy7qnBMfWTEn",
        "colab_type": "text"
      },
      "source": [
        "El atributo `poutcome` contiene información sobre si el cliente del banco contractó un deposito. Calula la correlacióm entre el atributo `poutcome` y el resto de atributos (usa la función ['corr'](http://pandas.pydata.org/pandas-docs/stable/generated/pandas.DataFrame.corr.html)). ¿Qué variable presenta mayor correlación con `poutcome`?\n"
      ]
    },
    {
      "cell_type": "code",
      "metadata": {
        "id": "vyYzSyN5WTEo",
        "colab_type": "code",
        "colab": {}
      },
      "source": [
        "# Respuesta"
      ],
      "execution_count": 0,
      "outputs": []
    },
    {
      "cell_type": "markdown",
      "metadata": {
        "id": "fEY5diLKWTEq",
        "colab_type": "text"
      },
      "source": [
        "## Ejercicio 3"
      ]
    },
    {
      "cell_type": "markdown",
      "metadata": {
        "id": "OZXl0MW-WTEr",
        "colab_type": "text"
      },
      "source": [
        "El módulo sklearn incluye varios datasets de ejemplo, dentro del módulo `sklearn.datasets`. Estos datasets se almacenan en formato `Bunch`, propio de sklearn. Un `Bunch` es un objeto tipo diccionario, los atributos interesantes son: `data`, con los datos en crudo, `target`, con generalmente las etiquetas de clasificación o etiquetas objetivo, `target_names`, el significado de las etiquetas, `feature_names`, el significado de las características o atributos, `DESCR` , la descripción completa del conjunto de datos."
      ]
    },
    {
      "cell_type": "markdown",
      "metadata": {
        "id": "NrTszo3WWTEr",
        "colab_type": "text"
      },
      "source": [
        "Importa el dataset `iris` de `sklearn`. Almacena los datos este dataset como un objeto `pandas`, con los correpondientres nombres de variables. Añade la variable `target` en el dataframe con el nombre de atributo `Species` y los valors con el tipo de especie de cada muestra.<span style=\"font-family: Courier New; background-color: #ffcc5c; color: #000000; padding: 3px; \""
      ]
    },
    {
      "cell_type": "code",
      "metadata": {
        "id": "vifS1Jh1WTEs",
        "colab_type": "code",
        "colab": {}
      },
      "source": [
        "# Respuesta"
      ],
      "execution_count": 0,
      "outputs": []
    }
  ]
}