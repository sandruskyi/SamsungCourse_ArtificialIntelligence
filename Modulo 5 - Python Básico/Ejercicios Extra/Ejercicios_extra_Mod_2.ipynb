{
  "nbformat": 4,
  "nbformat_minor": 0,
  "metadata": {
    "kernelspec": {
      "display_name": "Python 3",
      "language": "python",
      "name": "python3"
    },
    "language_info": {
      "codemirror_mode": {
        "name": "ipython",
        "version": 2
      },
      "file_extension": ".py",
      "mimetype": "text/x-python",
      "name": "python",
      "nbconvert_exporter": "python",
      "pygments_lexer": "ipython2",
      "version": "2.7.15"
    },
    "colab": {
      "name": "Ejercicios_extra_Mod_2.ipynb",
      "provenance": []
    }
  },
  "cells": [
    {
      "cell_type": "markdown",
      "metadata": {
        "id": "zX7g2EhX94Is",
        "colab_type": "text"
      },
      "source": [
        "### Ejercicio 1\n",
        "\n",
        "Un número primo es aquél que solo es divisible por él mismo y por 1.\n",
        "\n",
        "a) Escribe un código que compruebe si un número `x = 15` es solo divisible por 1 o por el mismo.  Escribe este código usando un iterador (un `for` o un `while`) que barra todos los valores desde `2` a `x-1`. Crea una variable `divisible`  que tenga por defecto valor `False` y asigne el valor `True` si a lo largo de la iteración encuentra un número natural divisible. Puedes usar el operador modulo `a % b` para saber si un numero `b` es divisible por `a`.\n"
      ]
    },
    {
      "cell_type": "code",
      "metadata": {
        "id": "k5BqWlqO94It",
        "colab_type": "code",
        "colab": {}
      },
      "source": [
        "# Respuesta"
      ],
      "execution_count": 0,
      "outputs": []
    },
    {
      "cell_type": "markdown",
      "metadata": {
        "id": "1TBEpLlo94I1",
        "colab_type": "text"
      },
      "source": [
        "\n",
        "b) Convierte tu código anterior en una función que compruebe si el número del argumento es primo o no, devolviendo True is es primo y False si no es primo. Comprueba tu función con los valores 492366587, 492366585, 48947 y 2,\n"
      ]
    },
    {
      "cell_type": "code",
      "metadata": {
        "id": "ik-VPOn194I1",
        "colab_type": "code",
        "colab": {}
      },
      "source": [
        "# Respuesta"
      ],
      "execution_count": 0,
      "outputs": []
    },
    {
      "cell_type": "markdown",
      "metadata": {
        "id": "3f-u1LV594I6",
        "colab_type": "text"
      },
      "source": [
        "\n",
        "c) En el cálculo de la función anterior, una vez se ha encontrado un número que es divisible dentro del rango ya no tiene sentido comprobar el resto de números del rango. Por ejemplo si 10 ya es divisble entre 2, ya no hace falta probar de 3 en adelante pues ya sabemos que el número no es primo. \n",
        "\n",
        "Modifica la función anterior de la siguiente forma: \n",
        "- Una vez se encuentra el divisor, la iteración se interrumpe para no probar el resto de enteros. \n",
        "- La función devuelve\n",
        "    - **Si es primo**: True\n",
        "    - **Si no es primo**, el primer divisor mayor que 1.\n",
        "    \n",
        "Puedes hacer uso del comando *break* dentro de un bucle para interrumpir este, puedes consultar más información sobre break en la documentación de python [aquí](https://docs.python.org/2/tutorial/controlflow.html).\n",
        "\n",
        "Comprueba tu función con los valores 492366585, 492366587, 48947 y 2,\n"
      ]
    },
    {
      "cell_type": "code",
      "metadata": {
        "id": "Cd8yXUEp94I6",
        "colab_type": "code",
        "colab": {}
      },
      "source": [
        "# Respuesta"
      ],
      "execution_count": 0,
      "outputs": []
    },
    {
      "cell_type": "markdown",
      "metadata": {
        "id": "xF6IenYB94I9",
        "colab_type": "text"
      },
      "source": [
        "### Ejercicio 2\n",
        "\n",
        "La Covid-19 es una enfermedad producida por la infección del virus SARS-CoV-2. La infección es transmisible de persona a persona y su contagiosidad depende de la cantidad del virus en las vías respiratorias. Si cada persona contagiada transmite la enfermedad a $\\beta$ contactos en promedio por periodo de tiempo $t$, es posible estimar la evolución del contagio con un modelo matemático sencillo.\n",
        "\n",
        "Para $t=1$día, las transmisiones en España se han estimado a partir de su histórico de las semanas de Febrero y Marzo del 2020 una $\\beta = 0.35$ transmissiones por día por infectado.\n",
        "\n",
        "Durante un periodo de tiempo (por ejempo un día $d$) la tasa de nuevos contagios se puede estimar como  una proporción al número de contagiados del periodo anterior $N$: \n",
        "\n",
        "$$ \\Delta N = N_{1} - N = \\beta \\cdot N$$ (1)\n",
        "\n",
        "Por tanto, podemos proyectar el número futuro de afectados como \n",
        "\n",
        "$$ N_{1} = N + \\beta \\cdot N = (1+\\beta) \\cdot N$$ (2) \n",
        "\n",
        "En dos días:\n",
        "\n",
        "$$ N_{2} = (1+\\beta) \\cdot N_{1} = (1+\\beta)^2 \\cdot N$$  (3)\n",
        "\n",
        "Y en general en D días tendremos \n",
        "\n",
        "$$N_{D} = (1+\\beta)^D \\cdot N$$  (4)\n",
        " \n",
        "Asumiendo este sencillo modelo: \n",
        "\n",
        "a) Implementa una función de dos parámetros (N: población infectada inicial, D: número de días), que devuelva el cálculo de afectados para D días siguiendo la ecuación (4). Suponiendo una población afectada de 4250 (población afectada en españa a día 13 de Marzo de 2020), usa la función para calcular la población estimada en 1, 2, 7 y 30 días. \n"
      ]
    },
    {
      "cell_type": "code",
      "metadata": {
        "id": "RT-imnWL94I-",
        "colab_type": "code",
        "colab": {}
      },
      "source": [
        "# Respuesta\n",
        "                "
      ],
      "execution_count": 0,
      "outputs": []
    },
    {
      "cell_type": "markdown",
      "metadata": {
        "id": "fX3SKAgw94JB",
        "colab_type": "text"
      },
      "source": [
        "\n",
        "b) Sabiendo que los Servicios de Medicina Intensiva (SMI) disponen de 3363 camas para enfermos graves, y suponiendo que un 10% de los afectados por el covid-19 requerirán de SMI y una supervivencia del 2,5% (Exitus), escribe un código que calcule:\n",
        "- El día en curso (Día)\n",
        "- El total de afectados por el virus para cada día d (Afectados)\n",
        "- El total de ingresados en SMI por el virus para cada día d (Críticos)\n",
        "- El total de Exitus por el virus para cada día d (Exitus)\n",
        "- Si los servicios de SMI no pueden aceptar los ingresados para cada día $d$ (Estado: indicando Saturación/No Saturación)\n",
        "\n",
        "Imprime en pantalla la información de cada día durante una simulación de tres semanas, suponiendo que no hay recuperaciones, con una población afectada inicial 4250 y una $\\beta = 0.35$ constante. \n"
      ]
    },
    {
      "cell_type": "code",
      "metadata": {
        "id": "a0Y9uy5a94JB",
        "colab_type": "code",
        "colab": {}
      },
      "source": [
        "# Respuesta"
      ],
      "execution_count": 0,
      "outputs": []
    },
    {
      "cell_type": "markdown",
      "metadata": {
        "id": "kB_3gUMG94JG",
        "colab_type": "text"
      },
      "source": [
        "\n",
        "c) Convierte el código anterior en una función que genere un archivo de texto con nombre `output.txt`, siguiendo este formato: \n",
        "```\n",
        "Dia, Afectados, Críticos, Exitus, Estado\n",
        "0, 4250, 425,  106, No Saturación\n",
        "1, 5737, 573,  143, No Saturación\n",
        "2, 7745, 774,  193, No Saturación\n",
        "...\n",
        "```\n",
        "Con los parámetros de entrada $N$, $D$, $\\beta$, camas SMI.\n"
      ]
    },
    {
      "cell_type": "code",
      "metadata": {
        "id": "V2zlMhbs94JH",
        "colab_type": "code",
        "colab": {}
      },
      "source": [
        "# Respuesta"
      ],
      "execution_count": 0,
      "outputs": []
    },
    {
      "cell_type": "markdown",
      "metadata": {
        "id": "OUvh5E0094JL",
        "colab_type": "text"
      },
      "source": [
        "### Ejercicio 3\n",
        "\n",
        "Dado el siguiente diccionario:"
      ]
    },
    {
      "cell_type": "code",
      "metadata": {
        "id": "VxJIoZfO94JL",
        "colab_type": "code",
        "colab": {}
      },
      "source": [
        "d = {\"Alex\":344334443, \"Eva\":5533443, \"Cristina\":443355, \"Jonas\":33223324}"
      ],
      "execution_count": 0,
      "outputs": []
    },
    {
      "cell_type": "markdown",
      "metadata": {
        "id": "ugpd-V7F94JO",
        "colab_type": "text"
      },
      "source": [
        "Escribid una función que pregunte al usuario que introduzca el nombre de una persona y muestre por pantalla el nombre de la persona y su teléfono. \n",
        "\n",
        "Tened en cuenta que:\n",
        "\n",
        "- La función debe controlar que el valor introducido por el usuario es un nombre que existe en el diccionario. En caso contrario, mostrará un mensaje de error (\"El nombre introducido no corresponde a ninguna persona\") y devolverá el valor False.\n",
        "- Debéis tener en cuenta que el nombre de las personas que nos pasan por parámetro puede ser en minúsculas, mayúsculas o una combinación de ambas, y que debemos encontrar el número de teléfono aunque la capitalización de la cadena entrada por el usuario no sea exactamente la misma que hemos almacenado en el diccionario.\n",
        "- Suponed que  no hay acentos en los nombres.\n",
        "\n",
        "Nota 1: Para realizar la actividad, tendréis que capturar un texto que entrará el usuario. Consultad la [documentación oficial de la función input](https://docs.python.org/3/library/functions.html#input) para ver cómo hacerlo.\n",
        "\n",
        "Nota 2: También tendréis que pensar cómo tratar el hecho de que el usuario pueda utilizar mayúsculas y minúsculas en la escritura del nombre en el diccionario. ¡Os animamos a usar un buscador para intentar encontrar alguna alternativa para resolver este subproblema! ¡Recordad citar las referencias que hayáis usado para resolverlo!\n"
      ]
    },
    {
      "cell_type": "code",
      "metadata": {
        "id": "_jx4TTUT94JP",
        "colab_type": "code",
        "colab": {}
      },
      "source": [
        "d = {\"Alex\":344334443, \"Eva\":5533443, \"Cristina\":443355, \"Jonas\":33223324}\n",
        "\n",
        "# Respuesta\n"
      ],
      "execution_count": 0,
      "outputs": []
    },
    {
      "cell_type": "markdown",
      "metadata": {
        "id": "U8dDs1Lr94JR",
        "colab_type": "text"
      },
      "source": [
        "Referencias consultadas:\n",
        "\n",
        "*Incluir aquí las referencias*"
      ]
    },
    {
      "cell_type": "markdown",
      "metadata": {
        "id": "FvgfVm4e94JR",
        "colab_type": "text"
      },
      "source": [
        "###  Ejercicio 4\n",
        "\n",
        "Python dispone de un **idio** muy útil conocido como `list comprehension`. Utilizando este **idiom**, proporcionad una expresión que devuelva las listas siguientes.\n",
        "\n",
        "Nota: Para realizar esta actividad necesitaréis investigar qué son las `list comprehension` y qué sintaxis utilizan. Para ello, se recomienda en primer lugar que utilicéis un buscador para encontrar información genérica sobre esta construcción. Después, os recomendamos que consultéis stackoverflow para ver algunos ejemplos de problemas que se pueden resolver con esta construcción.\n",
        "\n",
        "\n",
        "[stackoverflow](https://stackoverflow.com/) es un sitio de preguntas-y-respuestas muy popular entre programadores. Veréis que para la gran mayoría de las dudas que tengáis, habrá alguien que ya les habrá tenido (y consultado) anteriormente! Así pues, más allá de preguntar vosotros mismos las dudas allí (nosotros ya tenemos el foro del aula para ello!), consultar esta web os permitirá ver qué soluciones proponen otros programadores a estas dudas. A menudo habrá más de una solución a un mismo problema, y podréis valorar cuál es la más adecuada para vuestro problema.\n",
        "\n",
        "Para ver ejemplos de problemas que son adecuados para resolver con **list comprehensions**, os recomendamos leer las siguientes páginas:\n",
        "* https://stackoverflow.com/questions/12555443/squaring-all-elements-in-a-list\n",
        "* https://stackoverflow.com/questions/18551458/how-to-frame-two-for-loops-in-list-comprehension-python\n",
        "* https://stackoverflow.com/questions/24442091/list-comprehension-with-condition\n",
        "* https://stackoverflow.com/questions/41676212/i-want-to-return-only-the-odd-numbers-in-a-list\n",
        "* https://stackoverflow.com/questions/4260280/if-else-in-a-list-comprehension\n"
      ]
    },
    {
      "cell_type": "markdown",
      "metadata": {
        "id": "VjNMys2E94JS",
        "colab_type": "text"
      },
      "source": [
        "a) Una lista con los valores $4 x^2$ donde $x$ es cada uno de los números de la lista `list_1`:"
      ]
    },
    {
      "cell_type": "code",
      "metadata": {
        "id": "NoCf5hAa94JT",
        "colab_type": "code",
        "colab": {}
      },
      "source": [
        "list_1 = [1, 2, 3, 4, 5, 6, 7, 8, 9]\n",
        "\n",
        "# Respuesta\n"
      ],
      "execution_count": 0,
      "outputs": []
    },
    {
      "cell_type": "markdown",
      "metadata": {
        "id": "BOgvola-94JW",
        "colab_type": "text"
      },
      "source": [
        "b) Una lista con los valores $x/(x+1)$ donde $x$ es cada uno de los números de la lista `list_1`:"
      ]
    },
    {
      "cell_type": "code",
      "metadata": {
        "id": "FaScgf3a94JX",
        "colab_type": "code",
        "colab": {}
      },
      "source": [
        "list_1 = [1, 2, 3, 4, 5, 6, 7, 8, 9]\n",
        "\n",
        "# Respuesta"
      ],
      "execution_count": 0,
      "outputs": []
    },
    {
      "cell_type": "markdown",
      "metadata": {
        "id": "-x8PJ2A_94JZ",
        "colab_type": "text"
      },
      "source": [
        "c) Una lista con los valores $4x^2/(4x^2-1)$ donde $x$ es cada uno de los números de la lista `list_1`:"
      ]
    },
    {
      "cell_type": "code",
      "metadata": {
        "id": "-2Rag0W_94Ja",
        "colab_type": "code",
        "colab": {}
      },
      "source": [
        "list_1 = [1, 2, 3, 4, 5, 6, 7, 8, 9]\n",
        "\n",
        "# Respuesta\n"
      ],
      "execution_count": 0,
      "outputs": []
    },
    {
      "cell_type": "markdown",
      "metadata": {
        "id": "al-XBvZh94Jc",
        "colab_type": "text"
      },
      "source": [
        "### Ejercicio 5\n",
        "\n",
        "Las funciones `lambda` son formas de expresar y definir funciones pequeñas sin necesidad de usar el constructor `def funcion():`.\n",
        "\n",
        "Lee sobre las funciones lambda, por ejemplo [aquí](https://www.w3schools.com/python/python_lambda.asp) o [aquí](https://realpython.com/python-lambda/)\n",
        "\n",
        "Escribe una función $f$ con argumento $n$, $f(n)$, que **devuelva una función** lambda, que esta a su vez devuelva $n$ copias de una cadena de caracteres en su argumento: \n"
      ]
    },
    {
      "cell_type": "code",
      "metadata": {
        "id": "jR-8BEtm94Jc",
        "colab_type": "code",
        "colab": {}
      },
      "source": [
        "# Respuesta\n",
        "\n",
        "def f(n): \n",
        "    # Definir de la función usando una método lambda\n",
        "    return()\n",
        "r = f(5)\n",
        "r(\"hola\")  # Donde deberíamos ver 5 copias del literal \"Hola \""
      ],
      "execution_count": 0,
      "outputs": []
    },
    {
      "cell_type": "markdown",
      "metadata": {
        "id": "zFsOCnmQ94Jf",
        "colab_type": "text"
      },
      "source": [
        "### Ejercicio 5\n",
        "\n",
        "Existe una expresión atribuida a John Wallis (1616) para la estimación del valor de $\\pi$, consistente en: \n",
        "\n",
        "$$\n",
        "\\frac{\\pi}{2} = \\prod_{n=1}^{N} (\\frac{4n^2}{4n^2 - 1})\n",
        "$$\n",
        "si $N$ es suficientemente grande  $N \\to \\infty$. \n",
        "\n",
        "Escribe una función que, dado una aproximación N, calcule una estimación de $\\pi$ siguiendo la fórmula de Wallis. \n",
        "\n",
        "\n",
        "\n",
        "**Consideraciones:**\n",
        "\n",
        "- Investigad las funciones map, reduce\n",
        "- También podéis usar una list comprehension\n",
        "- Las funciones lambda os pueden ser útiles\n"
      ]
    },
    {
      "cell_type": "code",
      "metadata": {
        "attributes": {
          "classes": [
            "sourceCode"
          ],
          "id": ""
        },
        "id": "9AXFhQhM94Jg",
        "colab_type": "code",
        "colab": {}
      },
      "source": [
        "# Respuesta"
      ],
      "execution_count": 0,
      "outputs": []
    }
  ]
}