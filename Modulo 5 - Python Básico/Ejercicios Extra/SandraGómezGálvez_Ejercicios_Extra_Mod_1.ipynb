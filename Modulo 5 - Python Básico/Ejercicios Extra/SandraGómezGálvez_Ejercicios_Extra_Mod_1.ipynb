{
  "nbformat": 4,
  "nbformat_minor": 0,
  "metadata": {
    "kernelspec": {
      "display_name": "Python 3",
      "language": "python",
      "name": "python3"
    },
    "language_info": {
      "codemirror_mode": {
        "name": "ipython",
        "version": 2
      },
      "file_extension": ".py",
      "mimetype": "text/x-python",
      "name": "python",
      "nbconvert_exporter": "python",
      "pygments_lexer": "ipython2",
      "version": "2.7.15"
    },
    "colab": {
      "name": "SandraGómezGálvez_Ejercicios_Extra_Mod_1.ipynb",
      "provenance": []
    }
  },
  "cells": [
    {
      "cell_type": "markdown",
      "metadata": {
        "id": "Tau2rtO8_NEj",
        "colab_type": "text"
      },
      "source": [
        "### Pregunta 1\n",
        "\n",
        "Identifica tres tipos de datos de Python y explica brevemente en qué se diferencian. Explica la diferencia entre el tipo lista y el tipo tupla. "
      ]
    },
    {
      "cell_type": "markdown",
      "metadata": {
        "id": "6e3wXutD_NEk",
        "colab_type": "text"
      },
      "source": [
        "**Respuesta**\n",
        "*   Tipo números: int, long, float, complex. Se crean mediante literales numéricos. Son inmutables. Se devuelven como resultado por operadores aritméticos y funciones aritméticas integradas.\n",
        "*   Tipo Booleano: Sólo puede tener dos valores, True (verdadero) y False (falso). Es también inmutable. \n",
        "*   Strings: Secuencias inmutables que contienen caracteres encerrados entre comillas. Puede contener literales numéricos siempre que estén encerrados.\n",
        "\n",
        "LISTAS Y TUPLAS:\n",
        "Ambas son conjunto ordenado de valores de cualquier objeto. \n",
        "Diferencias entre lista y tupla:\n",
        "*   Listas dinámicas y tuplas estáticas:\n",
        "  1.   Listas: Puedes añadir elementos en cualquier momento, y eliminarlos. Tienen más funciones adicionales que las tuplas.\n",
        "  2.   Tuplas: Solo puedes especificar sus elementos en su creación, no se pueden añadir durante el desarrollo. No se pueden eliminar elementos.\n",
        "\n",
        "\n"
      ]
    },
    {
      "cell_type": "markdown",
      "metadata": {
        "id": "dQGxMvGq_NEm",
        "colab_type": "text"
      },
      "source": [
        "### Pregunta 2\n",
        "\n",
        "¿Cuál es el resultado de la operación lógica ` 'manzana'> 'casa'`? Explica por qué.  \n",
        "\n",
        "**Nota**: Consultad el estándar [Unicode](https://ca.wikipedia.org/wiki/Unicode) para la codificación de caracteres.\n"
      ]
    },
    {
      "cell_type": "markdown",
      "metadata": {
        "id": "TkxoKYKQ_NEn",
        "colab_type": "text"
      },
      "source": [
        "**Respuesta**\n",
        "True, porque 'manzana' es una cadena más larga que 'casa'. Podemos verlo con un ejemplo: \n"
      ]
    },
    {
      "cell_type": "code",
      "metadata": {
        "id": "EjQV76OTJ6VO",
        "colab_type": "code",
        "colab": {
          "base_uri": "https://localhost:8080/",
          "height": 34
        },
        "outputId": "03657e8d-53a0-4b1a-9ced-e15ad37b79fe"
      },
      "source": [
        "'manzanas'>'manzana'"
      ],
      "execution_count": 9,
      "outputs": [
        {
          "output_type": "execute_result",
          "data": {
            "text/plain": [
              "True"
            ]
          },
          "metadata": {
            "tags": []
          },
          "execution_count": 9
        }
      ]
    },
    {
      "cell_type": "code",
      "metadata": {
        "id": "VG-ObJToKgAY",
        "colab_type": "code",
        "colab": {
          "base_uri": "https://localhost:8080/",
          "height": 34
        },
        "outputId": "f2a4ddb8-614f-43f7-9e72-9c79438aa5ac"
      },
      "source": [
        "'manzana'>'manzanas'"
      ],
      "execution_count": 10,
      "outputs": [
        {
          "output_type": "execute_result",
          "data": {
            "text/plain": [
              "False"
            ]
          },
          "metadata": {
            "tags": []
          },
          "execution_count": 10
        }
      ]
    },
    {
      "cell_type": "markdown",
      "metadata": {
        "id": "qPUhwCtL_NEr",
        "colab_type": "text"
      },
      "source": [
        "### Ejercicio 1\n",
        "\n",
        "Escribe un programa que seleccione la cadena \"analista\" a partir de la cadena: \"Ana es buena analista de datos.\". Muéstrala por pantalla."
      ]
    },
    {
      "cell_type": "code",
      "metadata": {
        "id": "iz9OfaC-_NEs",
        "colab_type": "code",
        "outputId": "f9864ed1-209e-486c-d6c7-81428de808e1",
        "colab": {
          "base_uri": "https://localhost:8080/",
          "height": 34
        }
      },
      "source": [
        "# Respuesta\n",
        "str1= \"Ana es buena analista de datos.\"\n",
        "print(str1[13:21])\n"
      ],
      "execution_count": 0,
      "outputs": [
        {
          "output_type": "stream",
          "text": [
            "analista\n"
          ],
          "name": "stdout"
        }
      ]
    },
    {
      "cell_type": "markdown",
      "metadata": {
        "id": "Cnh_mVnC_NEw",
        "colab_type": "text"
      },
      "source": [
        "### Ejercicio 2\n",
        "\n",
        "¿Qué expresión en Python necesitamos para conseguir el _string_\n",
        "\"NohtyPythonython\" utilizando sólo la palabra \"Python\"?"
      ]
    },
    {
      "cell_type": "code",
      "metadata": {
        "id": "UFt6asYW_NEy",
        "colab_type": "code",
        "outputId": "81c06848-1ebe-438c-be1c-d8e3d7242c96",
        "colab": {
          "base_uri": "https://localhost:8080/",
          "height": 34
        }
      },
      "source": [
        "# Respuesta\n",
        "str2 = \"Python\"\n",
        "print(str2[::-1].capitalize()+ str2+str2[1:])\n"
      ],
      "execution_count": 0,
      "outputs": [
        {
          "output_type": "stream",
          "text": [
            "NohtypPythonython\n"
          ],
          "name": "stdout"
        }
      ]
    },
    {
      "cell_type": "markdown",
      "metadata": {
        "id": "W4ibSPZm_NE1",
        "colab_type": "text"
      },
      "source": [
        "### Ejercicio 3\n",
        "\n",
        "Escribe un programa que calcule el volumen de una pirámide cuadrangular con una base de 4x5 metros de longitud y anchura respectivamente, y con una altura de 7,5 m. Recuerda que la fórmula para calcular el volumen es <img src=\"https://wikimedia.org/api/rest_v1/media/math/render/svg/5bbc1ec5d10639d395ebc85e74cbf697d2220035\" title=\"EquacioVolumPiramide\" />\n"
      ]
    },
    {
      "cell_type": "code",
      "metadata": {
        "attributes": {
          "classes": [
            "sourceCode"
          ],
          "id": ""
        },
        "id": "uJr1t6L6_NE2",
        "colab_type": "code",
        "outputId": "c832badb-a247-4885-f219-4901602526a9",
        "colab": {
          "base_uri": "https://localhost:8080/",
          "height": 34
        }
      },
      "source": [
        "# Respuesta\n",
        "def volumenPiramide(longitud, anchura, altura):\n",
        "  return ((1/3)*longitud*anchura*altura)\n",
        "\n",
        "#print(volumenPiramide(4,5,7.5))\n",
        "print('{:.2f}'.format(volumenPiramide(4,5,7.5)))\n"
      ],
      "execution_count": 0,
      "outputs": [
        {
          "output_type": "stream",
          "text": [
            "50.00\n"
          ],
          "name": "stdout"
        }
      ]
    },
    {
      "cell_type": "markdown",
      "metadata": {
        "id": "9KiE5HSs_NE4",
        "colab_type": "text"
      },
      "source": [
        "### Ejercicio 4\n",
        "\n",
        "Escribe un programa que dada una variable `valor` debe imprimir si el contenido de esta es un número par. Por ejemplo, si el `valor` es 3, debería mostrar por pantalla una cadena de caracteres con el siguiente formato:\n",
        "\n",
        "```Para el valor 3 la respuesta es: False.```\n"
      ]
    },
    {
      "cell_type": "code",
      "metadata": {
        "id": "erSPgXC4_NE5",
        "colab_type": "code",
        "outputId": "8aaac0e2-4620-486b-f52e-b1c5ae5d7fcc",
        "colab": {
          "base_uri": "https://localhost:8080/",
          "height": 85
        }
      },
      "source": [
        "def esPar(valor):\n",
        "  if(valor>=0):\n",
        "    if(valor%2==0):\n",
        "      print(\"Para el valor %d la respuesta es: %r\"%(valor,True))\n",
        "    else: \n",
        "      print(\"Para el valor %d la respuesta es: %r\"%(valor, False))\n",
        "  else: \n",
        "    print('Debe introducir un valor mayor que 0') \n",
        "\n",
        "\n",
        "esPar(8)\n",
        "esPar(0)\n",
        "esPar(-1)\n",
        "esPar(3)\n",
        "\n",
        "\n",
        "\n",
        "\n"
      ],
      "execution_count": 0,
      "outputs": [
        {
          "output_type": "stream",
          "text": [
            "Para el valor 8 la respuesta es: True\n",
            "Para el valor 0 la respuesta es: True\n",
            "Debe introducir un valor mayor que 0\n",
            "Para el valor 3 la respuesta es: False\n"
          ],
          "name": "stdout"
        }
      ]
    },
    {
      "cell_type": "markdown",
      "metadata": {
        "id": "k5yif5vV_NE7",
        "colab_type": "text"
      },
      "source": [
        "### Ejercicio 5\n",
        "\n",
        "Escribe un programa en el que se defina un listado de precios de productos utilizando un **diccionario**. Por ejemplo: Aceite de oliva con precio 12.2 euros, Vino blanco con precio 6.5 euros, etc. Tanto los nombres de los productos como los precios pueden ser completamente ficticios. A continuación, muestra por pantalla el nombre y el precio de tres de los productos que aparecen en el diccionario. "
      ]
    },
    {
      "cell_type": "code",
      "metadata": {
        "id": "xTnpB2OJ_NE7",
        "colab_type": "code",
        "colab": {
          "base_uri": "https://localhost:8080/",
          "height": 68
        },
        "outputId": "3e91b0c4-add4-4c9f-a63b-36c8b8d14685"
      },
      "source": [
        "# Manera 1\n",
        "from random import choice\n",
        "def mostrar3DeLaLista():\n",
        "  diccionario = {'Vino':10, 'Patatas':2, 'Platanos':1.5, 'Lechugas':'0.6', 'Mandarinas':1.5, 'Agua':0.20}\n",
        "  elecciones = [] # Para no repetir\n",
        "  for i in range(3):\n",
        "    introducirNoRepetido = True\n",
        "    while(introducirNoRepetido):\n",
        "      eleccion = choice(list(diccionario.keys()))\n",
        "      if eleccion not in elecciones: \n",
        "        print(eleccion, diccionario[eleccion])\n",
        "        elecciones.append(eleccion)\n",
        "        introducirNoRepetido = False\n",
        "mostrar3DeLaLista()"
      ],
      "execution_count": 70,
      "outputs": [
        {
          "output_type": "stream",
          "text": [
            "Agua 0.2\n",
            "Vino 10\n",
            "Patatas 2\n"
          ],
          "name": "stdout"
        }
      ]
    },
    {
      "cell_type": "code",
      "metadata": {
        "id": "-GW97gl4N63P",
        "colab_type": "code",
        "colab": {
          "base_uri": "https://localhost:8080/",
          "height": 1000
        },
        "outputId": "c69b8559-fe78-4b02-d239-859368f94ae0"
      },
      "source": [
        "# Ahora crearemos un programa, para que por ejemplo en un supermercado puedan añadir alimentos y precios y luego muestre 3\n",
        "# ¡Es muy básico, no contempla muchas variables!\n",
        "from random import choice \n",
        "\n",
        "conectado = True\n",
        "almacen = {}\n",
        "while(conectado):\n",
        "  print('\\n')\n",
        "  print('Elija una opción:')\n",
        "  print('a - Añadir')\n",
        "  print('b - Visualizar 3 elementos en el almacen')\n",
        "  print('c - Salir')\n",
        "  tecla='p'\n",
        "  while(tecla!='a' and tecla!='b' and tecla!='c' and tecla!='A' and tecla!='B' and tecla!='C'):\n",
        "    tecla = input('Introduzca a, b o c :')\n",
        "  if (tecla=='c' or tecla=='C'):\n",
        "    print('Saliendo...')\n",
        "    conectado=False\n",
        "  elif (tecla=='a' or tecla=='A'):\n",
        "    key = input('Introduzca el nombre del alimento ')\n",
        "    value = input('Introduzca el precio del alimento ')\n",
        "    almacen[key]=value\n",
        "    print('Elemento añadido')\n",
        "  elif(tecla=='b' or tecla=='B'):\n",
        "    if(len(almacen)==0):\n",
        "      print('Almacen Vacío')\n",
        "    elif len(almacen)<=3:\n",
        "      objetos = list(almacen)\n",
        "      for i in range(len(almacen)):\n",
        "        objeto = objetos[i]\n",
        "        print(objeto, almacen[objeto])\n",
        "    else:\n",
        "      elecciones = [] # Para no repetir\n",
        "      for i in range(3): \n",
        "        introducirNoRepetido = True\n",
        "        while(introducirNoRepetido):\n",
        "          eleccion = choice(list(almacen.keys()))\n",
        "          if eleccion not in elecciones: \n",
        "            print(eleccion, almacen[eleccion])\n",
        "            elecciones.append(eleccion)\n",
        "            introducirNoRepetido = False"
      ],
      "execution_count": 76,
      "outputs": [
        {
          "output_type": "stream",
          "text": [
            "\n",
            "\n",
            "Elija una opción:\n",
            "a - Añadir\n",
            "b - Visualizar 3 elementos en el almacen\n",
            "c - Salir\n",
            "Introduzca a, b o c :b\n",
            "Almacen Vacío\n",
            "\n",
            "\n",
            "Elija una opción:\n",
            "a - Añadir\n",
            "b - Visualizar 3 elementos en el almacen\n",
            "c - Salir\n",
            "Introduzca a, b o c :a\n",
            "Introduzca el nombre del alimento Platano\n",
            "Introduzca el precio del alimento 1\n",
            "Elemento añadido\n",
            "\n",
            "\n",
            "Elija una opción:\n",
            "a - Añadir\n",
            "b - Visualizar 3 elementos en el almacen\n",
            "c - Salir\n",
            "Introduzca a, b o c :a\n",
            "Introduzca el nombre del alimento soja\n",
            "Introduzca el precio del alimento 3\n",
            "Elemento añadido\n",
            "\n",
            "\n",
            "Elija una opción:\n",
            "a - Añadir\n",
            "b - Visualizar 3 elementos en el almacen\n",
            "c - Salir\n",
            "Introduzca a, b o c :a\n",
            "Introduzca el nombre del alimento mandarina\n",
            "Introduzca el precio del alimento 2\n",
            "Elemento añadido\n",
            "\n",
            "\n",
            "Elija una opción:\n",
            "a - Añadir\n",
            "b - Visualizar 3 elementos en el almacen\n",
            "c - Salir\n",
            "Introduzca a, b o c :b\n",
            "Platano 1\n",
            "soja 3\n",
            "mandarina 2\n",
            "\n",
            "\n",
            "Elija una opción:\n",
            "a - Añadir\n",
            "b - Visualizar 3 elementos en el almacen\n",
            "c - Salir\n",
            "Introduzca a, b o c :a\n",
            "Introduzca el nombre del alimento melocoton\n",
            "Introduzca el precio del alimento 2\n",
            "Elemento añadido\n",
            "\n",
            "\n",
            "Elija una opción:\n",
            "a - Añadir\n",
            "b - Visualizar 3 elementos en el almacen\n",
            "c - Salir\n",
            "Introduzca a, b o c :b\n",
            "mandarina 2\n",
            "Platano 1\n",
            "soja 3\n",
            "\n",
            "\n",
            "Elija una opción:\n",
            "a - Añadir\n",
            "b - Visualizar 3 elementos en el almacen\n",
            "c - Salir\n",
            "Introduzca a, b o c :a\n",
            "Introduzca el nombre del alimento romero\n",
            "Introduzca el precio del alimento 1\n",
            "Elemento añadido\n",
            "\n",
            "\n",
            "Elija una opción:\n",
            "a - Añadir\n",
            "b - Visualizar 3 elementos en el almacen\n",
            "c - Salir\n",
            "Introduzca a, b o c :b\n",
            "Platano 1\n",
            "melocoton 2\n",
            "soja 3\n",
            "\n",
            "\n",
            "Elija una opción:\n",
            "a - Añadir\n",
            "b - Visualizar 3 elementos en el almacen\n",
            "c - Salir\n",
            "Introduzca a, b o c :c\n",
            "Saliendo...\n"
          ],
          "name": "stdout"
        }
      ]
    },
    {
      "cell_type": "markdown",
      "metadata": {
        "id": "wDmlteIE_NE-",
        "colab_type": "text"
      },
      "source": [
        "### Ejercicio 6\n",
        "\n",
        "Utilizando el _idiom_ de [*list comprehensions*](https://ca.wikipedia.org/wiki/Llista_per_comprensi%C3%B3), proporciona una expressión que retorne:"
      ]
    },
    {
      "cell_type": "markdown",
      "metadata": {
        "id": "gypY1A0E_NE_",
        "colab_type": "text"
      },
      "source": [
        "**a)** Una lista del los números divisibles por 4 de una lista de los números naturales entre 1 i 25 (ambos incuidos): \n"
      ]
    },
    {
      "cell_type": "code",
      "metadata": {
        "id": "lhEFpliL_NFA",
        "colab_type": "code",
        "colab": {
          "base_uri": "https://localhost:8080/",
          "height": 34
        },
        "outputId": "443932a8-c085-4950-ebc1-7f0c8f0e31a8"
      },
      "source": [
        "# Respuesta\n",
        "listaNPor4=[i+1 for i in range(24) if(((i+1)%4)==0)]\n",
        "print(listaNPor4)"
      ],
      "execution_count": 78,
      "outputs": [
        {
          "output_type": "stream",
          "text": [
            "[4, 8, 12, 16, 20, 24]\n"
          ],
          "name": "stdout"
        }
      ]
    },
    {
      "cell_type": "markdown",
      "metadata": {
        "id": "V54bVdks_NFC",
        "colab_type": "text"
      },
      "source": [
        "**b)** Una lista de los cuadrados de los números naturales **pares** entre 1 y 25 (ambos incluidos):\n"
      ]
    },
    {
      "cell_type": "code",
      "metadata": {
        "id": "xgn6cYlg_NFD",
        "colab_type": "code",
        "colab": {
          "base_uri": "https://localhost:8080/",
          "height": 34
        },
        "outputId": "4794113b-1c6c-41ae-ea08-0ec4259cf186"
      },
      "source": [
        "# Respuesta\n",
        "pares = [(i+1)**2 for i in range(24) if ((i+1)%2 == 0)]\n",
        "print(pares)"
      ],
      "execution_count": 79,
      "outputs": [
        {
          "output_type": "stream",
          "text": [
            "[4, 16, 36, 64, 100, 144, 196, 256, 324, 400, 484, 576]\n"
          ],
          "name": "stdout"
        }
      ]
    },
    {
      "cell_type": "markdown",
      "metadata": {
        "id": "DiaJxHfC_NFF",
        "colab_type": "text"
      },
      "source": [
        "**c)** Una lista de las **consonantes** que aparecen en la cadena `s`, conservando el orden en que aparecen:\n"
      ]
    },
    {
      "cell_type": "code",
      "metadata": {
        "id": "zXx-Or_9_NFF",
        "colab_type": "code",
        "colab": {
          "base_uri": "https://localhost:8080/",
          "height": 34
        },
        "outputId": "fcdf4c10-f4bc-4e64-ba65-c4e60f9cf210"
      },
      "source": [
        "s = \"Hello Python, hello world!\"\n",
        "# Respuesta\n",
        "lista = s.split()\n",
        "consonantes = [j for i in range(len(lista)) for j in lista[i] if j not in 'aeiou,!']\n",
        "print(consonantes)"
      ],
      "execution_count": 94,
      "outputs": [
        {
          "output_type": "stream",
          "text": [
            "['H', 'l', 'l', 'P', 'y', 't', 'h', 'n', 'h', 'l', 'l', 'w', 'r', 'l', 'd']\n"
          ],
          "name": "stdout"
        }
      ]
    },
    {
      "cell_type": "markdown",
      "metadata": {
        "id": "XVm8dqPm_NFJ",
        "colab_type": "text"
      },
      "source": [
        "### Ejercicio 7\n",
        "\n",
        "Escribe un programa que a partir de la lista de números dada muestre por pantalla una cadena de caracteres con todos los números, separados entre sí por un guión, y duplicando el primero y el último elemento de la lista.\n",
        "\n",
        "Así, por ejemplo, para la lista ['1','2','3'], el programa debería mostrar la cadena: '1-1-2-3-3'.\n"
      ]
    },
    {
      "cell_type": "code",
      "metadata": {
        "attributes": {
          "classes": [
            "sourceCode"
          ],
          "id": ""
        },
        "id": "w1UokB0__NFK",
        "colab_type": "code",
        "colab": {
          "base_uri": "https://localhost:8080/",
          "height": 34
        },
        "outputId": "cfad7f5c-2ed5-4dd3-daff-80f6951bd9ca"
      },
      "source": [
        "# Definimos la lista de números de entrada\n",
        "numeros = ['6', '3', '45', '23', '2', '3', '17', '80']\n",
        "\n",
        "# Respuesta\n",
        "def crearCadena(numeros):\n",
        "  cadena = numeros[0]+\"-\"+\"-\".join(numeros)+\"-\"+numeros[len(numeros)-1]\n",
        "  print(cadena)\n",
        "  \n",
        "crearCadena(numeros)"
      ],
      "execution_count": 99,
      "outputs": [
        {
          "output_type": "stream",
          "text": [
            "6-6-3-45-23-2-3-17-80-80\n"
          ],
          "name": "stdout"
        }
      ]
    },
    {
      "cell_type": "markdown",
      "metadata": {
        "id": "yGDY66Rr_NFN",
        "colab_type": "text"
      },
      "source": [
        "### Ejercicio 8\n",
        "\n",
        "Escribir un programa que genere una lista de palabras (o conjunto de letras) aleatorias. Las palabras de la lista deberán cumplir la siguiente condición: Deben comenzar con letra mayúscula y deben estar formadas por un máximo de 8 letras. Además, el programa tendrá que preguntar al usuario cuántas palabras debe tener la lista (el usuario introducirá el número de elementos usando el teclado) y mostrar un mensaje de error si el usuario pide generar una lista de más de 10 elementos. Haz que el programa muestre la lista generada. Quizás necesitéis utilizar [bucles](https://es.wikipedia.org/wiki/Python#Bucle_for) y la librería [_random_](https://docs.python.org/3/library/random.html).\n"
      ]
    },
    {
      "cell_type": "code",
      "metadata": {
        "id": "feWrmLZX_NFN",
        "colab_type": "code",
        "colab": {
          "base_uri": "https://localhost:8080/",
          "height": 153
        },
        "outputId": "25d62a09-6f71-4349-ffe3-e4f6bd6237d3"
      },
      "source": [
        "# Respuesta\n",
        "import random\n",
        "from random import choice\n",
        "import string\n",
        "\n",
        "def generarPalabra():\n",
        "  tamañoPalabra=random.randint(0,8)\n",
        "  palabra = \"\".join([choice(string.ascii_lowercase) for i in range(tamañoPalabra)]).capitalize()\n",
        "  return palabra\n",
        "\n",
        "\n",
        "introducir = True\n",
        "while(introducir):\n",
        "  numPalabras = int(input('Introduzca cuantas palabras. (Mayor que 0 y menor que 11): '))\n",
        "  if numPalabras>10 or numPalabras<1:\n",
        "    print('Error: Debe introducir un nº entre el 1 y el 10 , inclusive')\n",
        "  else: \n",
        "    introducir = False\n",
        "    listaPalabras = [generarPalabra() for i in range(numPalabras)]\n",
        "    print(listaPalabras)\n",
        "      \n",
        "\n",
        "  "
      ],
      "execution_count": 116,
      "outputs": [
        {
          "output_type": "stream",
          "text": [
            "Introduzca cuantas palabras. (Mayor que 0 y menor que 11): 0\n",
            "Error: Debe introducir un nº entre el 1 y el 10 , inclusive\n",
            "Introduzca cuantas palabras. (Mayor que 0 y menor que 11): -1\n",
            "Error: Debe introducir un nº entre el 1 y el 10 , inclusive\n",
            "Introduzca cuantas palabras. (Mayor que 0 y menor que 11): 11\n",
            "Error: Debe introducir un nº entre el 1 y el 10 , inclusive\n",
            "Introduzca cuantas palabras. (Mayor que 0 y menor que 11): 10\n",
            "['', 'Penlhp', 'Yp', 'Hk', 'Pkk', 'Hrnqv', 'Ohk', 'U', 'Gt', 'Eqz']\n"
          ],
          "name": "stdout"
        }
      ]
    }
  ]
}