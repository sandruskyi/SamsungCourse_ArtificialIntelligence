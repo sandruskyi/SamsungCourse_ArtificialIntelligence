{
  "nbformat": 4,
  "nbformat_minor": 0,
  "metadata": {
    "kernelspec": {
      "display_name": "Python 3",
      "language": "python",
      "name": "python3"
    },
    "language_info": {
      "codemirror_mode": {
        "name": "ipython",
        "version": 2
      },
      "file_extension": ".py",
      "mimetype": "text/x-python",
      "name": "python",
      "nbconvert_exporter": "python",
      "pygments_lexer": "ipython2",
      "version": "2.7.15"
    },
    "colab": {
      "name": "Ejercicios_Extra_Mod_1.ipynb",
      "provenance": []
    }
  },
  "cells": [
    {
      "cell_type": "markdown",
      "metadata": {
        "id": "Tau2rtO8_NEj",
        "colab_type": "text"
      },
      "source": [
        "### Pregunta 1\n",
        "\n",
        "Identifica tres tipos de datos de Python y explica brevemente en qué se diferencian. Explica la diferencia entre el tipo lista y el tipo tupla. "
      ]
    },
    {
      "cell_type": "markdown",
      "metadata": {
        "id": "6e3wXutD_NEk",
        "colab_type": "text"
      },
      "source": [
        "**Respuesta**\n"
      ]
    },
    {
      "cell_type": "markdown",
      "metadata": {
        "id": "dQGxMvGq_NEm",
        "colab_type": "text"
      },
      "source": [
        "### Pregunta 2\n",
        "\n",
        "¿Cuál es el resultado de la operación lógica ` 'manzana'> 'casa'`? Explica por qué.  \n",
        "\n",
        "**Nota**: Consultad el estándar [Unicode](https://ca.wikipedia.org/wiki/Unicode) para la codificación de caracteres.\n"
      ]
    },
    {
      "cell_type": "markdown",
      "metadata": {
        "id": "TkxoKYKQ_NEn",
        "colab_type": "text"
      },
      "source": [
        "**Respuesta**\n"
      ]
    },
    {
      "cell_type": "markdown",
      "metadata": {
        "id": "qPUhwCtL_NEr",
        "colab_type": "text"
      },
      "source": [
        "### Ejercicio 1\n",
        "\n",
        "Escribe un programa que seleccione la cadena \"analista\" a partir de la cadena: \"Ana es buena analista de datos.\". Muéstrala por pantalla."
      ]
    },
    {
      "cell_type": "code",
      "metadata": {
        "id": "iz9OfaC-_NEs",
        "colab_type": "code",
        "colab": {}
      },
      "source": [
        "# Respuesta\n"
      ],
      "execution_count": 0,
      "outputs": []
    },
    {
      "cell_type": "markdown",
      "metadata": {
        "id": "Cnh_mVnC_NEw",
        "colab_type": "text"
      },
      "source": [
        "### Ejercicio 2\n",
        "\n",
        "¿Qué expresión en Python necesitamos para conseguir el _string_\n",
        "\"NohtyPythonython\" utilizando sólo la palabra \"Python\"?"
      ]
    },
    {
      "cell_type": "code",
      "metadata": {
        "id": "UFt6asYW_NEy",
        "colab_type": "code",
        "colab": {}
      },
      "source": [
        "# Respuesta\n",
        "\n"
      ],
      "execution_count": 0,
      "outputs": []
    },
    {
      "cell_type": "markdown",
      "metadata": {
        "id": "W4ibSPZm_NE1",
        "colab_type": "text"
      },
      "source": [
        "### Ejercicio 3\n",
        "\n",
        "Escribe un programa que calcule el volumen de una pirámide cuadrangular con una base de 4x5 metros de longitud y anchura respectivamente, y con una altura de 7,5 m. Recuerda que la fórmula para calcular el volumen es <img src=\"https://wikimedia.org/api/rest_v1/media/math/render/svg/5bbc1ec5d10639d395ebc85e74cbf697d2220035\" title=\"EquacioVolumPiramide\" />\n"
      ]
    },
    {
      "cell_type": "code",
      "metadata": {
        "attributes": {
          "classes": [
            "sourceCode"
          ],
          "id": ""
        },
        "id": "uJr1t6L6_NE2",
        "colab_type": "code",
        "colab": {}
      },
      "source": [
        "# Respuesta\n",
        "\n"
      ],
      "execution_count": 0,
      "outputs": []
    },
    {
      "cell_type": "markdown",
      "metadata": {
        "id": "9KiE5HSs_NE4",
        "colab_type": "text"
      },
      "source": [
        "### Ejercicio 4\n",
        "\n",
        "Escribe un programa que dada una variable `valor` debe imprimir si el contenido de esta es un número par. Por ejemplo, si el `valor` es 3, debería mostrar por pantalla una cadena de caracteres con el siguiente formato:\n",
        "\n",
        "```Para el valor 3 la respuesta es: False.```\n"
      ]
    },
    {
      "cell_type": "code",
      "metadata": {
        "id": "erSPgXC4_NE5",
        "colab_type": "code",
        "colab": {}
      },
      "source": [
        "valor = 8\n",
        "\n",
        "# Respuesta\n"
      ],
      "execution_count": 0,
      "outputs": []
    },
    {
      "cell_type": "markdown",
      "metadata": {
        "id": "k5yif5vV_NE7",
        "colab_type": "text"
      },
      "source": [
        "### Ejercicio 5\n",
        "\n",
        "Escribe un programa en el que se defina un listado de precios de productos utilizando un **diccionario**. Por ejemplo: Aceite de oliva con precio 12.2 euros, Vino blanco con precio 6.5 euros, etc. Tanto los nombres de los productos como los precios pueden ser completamente ficticios. A continuación, muestra por pantalla el nombre y el precio de tres de los productos que aparecen en el diccionario. "
      ]
    },
    {
      "cell_type": "code",
      "metadata": {
        "id": "xTnpB2OJ_NE7",
        "colab_type": "code",
        "colab": {}
      },
      "source": [
        "# Respuesta\n"
      ],
      "execution_count": 0,
      "outputs": []
    },
    {
      "cell_type": "markdown",
      "metadata": {
        "id": "wDmlteIE_NE-",
        "colab_type": "text"
      },
      "source": [
        "### Ejercicio 6\n",
        "\n",
        "Utilizando el _idiom_ de [*list comprehensions*](https://ca.wikipedia.org/wiki/Llista_per_comprensi%C3%B3), proporciona una expressión que retorne:"
      ]
    },
    {
      "cell_type": "markdown",
      "metadata": {
        "id": "gypY1A0E_NE_",
        "colab_type": "text"
      },
      "source": [
        "**a)** Una lista del los números divisibles pos 4 de una lista de los números naturales entre 1 i 25 (ambos incuidos): \n"
      ]
    },
    {
      "cell_type": "code",
      "metadata": {
        "id": "lhEFpliL_NFA",
        "colab_type": "code",
        "colab": {}
      },
      "source": [
        "# Respuesta\n"
      ],
      "execution_count": 0,
      "outputs": []
    },
    {
      "cell_type": "markdown",
      "metadata": {
        "id": "V54bVdks_NFC",
        "colab_type": "text"
      },
      "source": [
        "**b)** Una lista de los cuadrados de los números naturales **pares** entre 1 y 25 (ambos incluidos):\n"
      ]
    },
    {
      "cell_type": "code",
      "metadata": {
        "id": "xgn6cYlg_NFD",
        "colab_type": "code",
        "colab": {}
      },
      "source": [
        "# Respuesta\n"
      ],
      "execution_count": 0,
      "outputs": []
    },
    {
      "cell_type": "markdown",
      "metadata": {
        "id": "DiaJxHfC_NFF",
        "colab_type": "text"
      },
      "source": [
        "**c)** Una lista de las **consonantes** que aparecen en la cadena `s`, conservando el orden en que aparecen:\n"
      ]
    },
    {
      "cell_type": "code",
      "metadata": {
        "id": "zXx-Or_9_NFF",
        "colab_type": "code",
        "colab": {}
      },
      "source": [
        "s = \"Hello Python, hello world!\"\n",
        "\n",
        "# Respuesta\n"
      ],
      "execution_count": 0,
      "outputs": []
    },
    {
      "cell_type": "markdown",
      "metadata": {
        "id": "XVm8dqPm_NFJ",
        "colab_type": "text"
      },
      "source": [
        "### Ejercicio 7\n",
        "\n",
        "Escribe un programa que a partir de la lista de números dada muestre por pantalla una cadena de caracteres con todos los números, separados entre sí por un guión, y duplicando el primero y el último elemento de la lista.\n",
        "\n",
        "Así, por ejemplo, para la lista ['1','2','3'], el programa debería mostrar la cadena: '1-1-2-3-3'.\n"
      ]
    },
    {
      "cell_type": "code",
      "metadata": {
        "attributes": {
          "classes": [
            "sourceCode"
          ],
          "id": ""
        },
        "id": "w1UokB0__NFK",
        "colab_type": "code",
        "colab": {}
      },
      "source": [
        "# Definimos la lista de números de entrada\n",
        "numeros = ['6', '3', '45', '23', '2', '3', '17', '80']\n",
        "\n",
        "# Respuesta\n"
      ],
      "execution_count": 0,
      "outputs": []
    },
    {
      "cell_type": "markdown",
      "metadata": {
        "id": "yGDY66Rr_NFN",
        "colab_type": "text"
      },
      "source": [
        "### Ejercicio 8\n",
        "\n",
        "Escribir un programa que genere una lista de palabras (o conjunto de letras) aleatorias. Las palabras de la lista deberán cumplir la siguiente condición: Deben comenzar con letra mayúscula y deben estar formadas por un máximo de 8 letras. Además, el programa tendrá que preguntar al usuario cuántas palabras debe tener la lista (el usuario introducirá el número de elementos usando el teclado) y mostrar un mensaje de error si el usuario pide generar una lista de más de 10 elementos. Haz que el programa muestre la lista generada. Quizás necesitéis utilizar [bucles](https://es.wikipedia.org/wiki/Python#Bucle_for) y la librería [_random_](https://docs.python.org/3/library/random.html).\n"
      ]
    },
    {
      "cell_type": "code",
      "metadata": {
        "id": "feWrmLZX_NFN",
        "colab_type": "code",
        "colab": {}
      },
      "source": [
        "# Respuesta\n"
      ],
      "execution_count": 0,
      "outputs": []
    }
  ]
}