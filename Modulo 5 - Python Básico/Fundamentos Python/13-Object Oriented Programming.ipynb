{
 "cells": [
  {
   "cell_type": "markdown",
   "metadata": {
    "collapsed": true
   },
   "source": [
    "# Programación orientada a objetos\n",
    "\n",
    "Comencemos la lección recordando los Objetos básicos de Python. Por ejemplo:"
   ]
  },
  {
   "cell_type": "code",
   "execution_count": 2,
   "metadata": {},
   "outputs": [],
   "source": [
    "lst = [1,2,3]"
   ]
  },
  {
   "cell_type": "markdown",
   "metadata": {},
   "source": [
    "¿Recuerdas cómo podríamos llamar métodos en una lista?"
   ]
  },
  {
   "cell_type": "code",
   "execution_count": 3,
   "metadata": {},
   "outputs": [
    {
     "data": {
      "text/plain": [
       "1"
      ]
     },
     "execution_count": 3,
     "metadata": {},
     "output_type": "execute_result"
    }
   ],
   "source": [
    "lst.count(2)"
   ]
  },
  {
   "cell_type": "markdown",
   "metadata": {},
   "source": [
    "Básicamente, lo que haremos en esta sesión es explorar cómo podríamos crear un tipo de Objeto como una lista. Ya hemos aprendido acerca de cómo crear funciones. Así que vamos a explorar los objetos en general:\n",
    "\n",
    "## Objetos\n",
    "En Python, * todo es un objeto *. Recuerde que podemos usar type () para verificar el tipo de objeto que es:"
   ]
  },
  {
   "cell_type": "code",
   "execution_count": 4,
   "metadata": {},
   "outputs": [
    {
     "name": "stdout",
     "output_type": "stream",
     "text": [
      "<class 'int'>\n",
      "<class 'list'>\n",
      "<class 'tuple'>\n",
      "<class 'dict'>\n"
     ]
    }
   ],
   "source": [
    "print(type(1))\n",
    "print(type([]))\n",
    "print(type(()))\n",
    "print(type({}))"
   ]
  },
  {
   "cell_type": "markdown",
   "metadata": {},
   "source": [
    "Entonces, sabemos que todas estas cosas son objetos, entonces, ¿cómo podemos crear nuestros propios tipos de objetos? Ahí es donde entra la palabra clave <code> class </code>.\n",
    "## clase\n",
    "Los objetos definidos por el usuario se crean utilizando la palabra clave <code> class </code>. La clase es un modelo que define la naturaleza de un objeto futuro. A partir de clases podemos construir instancias. Una instancia es un objeto específico creado a partir de una clase particular. Por ejemplo, anteriormente creamos el objeto <code> lst </code> que era una instancia de un objeto de lista.\n",
    "\n",
    "Veamos cómo podemos usar <code> class</code>:"
   ]
  },
  {
   "cell_type": "code",
   "execution_count": 6,
   "metadata": {},
   "outputs": [
    {
     "name": "stdout",
     "output_type": "stream",
     "text": [
      "<class '__main__.Sample'>\n"
     ]
    }
   ],
   "source": [
    "# Create a new object type called Sample\n",
    "class Sample:\n",
    "    pass\n",
    "\n",
    "# Instance of Sample\n",
    "x = Sample()\n",
    "\n",
    "print(type(x))"
   ]
  },
  {
   "cell_type": "markdown",
   "metadata": {},
   "source": [
    "\n",
    "Por convención le damos a las clases un nombre que comienza con una letra mayúscula. Observe cómo <code> x </code> es ahora la referencia a nuestra nueva instancia de una clase de muestra. En otras palabras, nosotros ** instanciamos ** la clase Sample.\n",
    "\n",
    "Dentro de la clase actualmente solo tenemos pass. Pero podemos definir atributos y métodos de clase.\n",
    "\n",
    "Un ** atributo ** es una característica de un objeto.\n",
    "Un ** método ** es una operación que podemos realizar con el objeto.\n",
    "\n",
    "Por ejemplo, podemos crear una clase llamada Dog. Un atributo de un perro puede ser su raza o su nombre, mientras que el método de un perro puede definirse mediante un método .bark () que devuelve un sonido.\n",
    "\n",
    "Vamos a obtener una mejor comprensión de los atributos a través de un ejemplo.\n",
    "\n",
    "## Atributos\n",
    "La sintaxis para crear un atributo es:\n",
    "    \n",
    "     self.attribute = algo\n",
    "    \n",
    "Hay un método especial llamado:\n",
    "\n",
    "     __init__()\n",
    "\n",
    "Este método se utiliza para inicializar los atributos de un objeto. Por ejemplo:\n"
   ]
  },
  {
   "cell_type": "code",
   "execution_count": 8,
   "metadata": {},
   "outputs": [],
   "source": [
    "class Dog:\n",
    "    def __init__(self,breed):\n",
    "        self.breed = breed\n",
    "        \n",
    "sam = Dog(breed='Lab')\n",
    "frank = Dog(breed='Huskie')"
   ]
  },
  {
   "cell_type": "markdown",
   "metadata": {},
   "source": [
    "Vamos a desglosar lo que tenemos arriba.El método especial\n",
    "\n",
    "     __init__()\n",
    "se llama automáticamente justo después de que el objeto ha sido creado:\n",
    "\n",
    "     def __init __ (self, breed):\n",
    "Cada atributo en la definición de clase comienza con una referencia al objeto de instancia. Es por convención llamado self. Breed el argumento. El valor se pasa durante la instanciación de clase.\n",
    "\n",
    "      self.breed = raza"
   ]
  },
  {
   "cell_type": "markdown",
   "metadata": {},
   "source": [
    "Ahora hemos creado dos instancias de la clase Dog. Con dos tipos de razas, podemos acceder a estos atributos de esta manera:"
   ]
  },
  {
   "cell_type": "code",
   "execution_count": 9,
   "metadata": {},
   "outputs": [
    {
     "data": {
      "text/plain": [
       "'Lab'"
      ]
     },
     "execution_count": 9,
     "metadata": {},
     "output_type": "execute_result"
    }
   ],
   "source": [
    "sam.breed"
   ]
  },
  {
   "cell_type": "code",
   "execution_count": 10,
   "metadata": {},
   "outputs": [
    {
     "data": {
      "text/plain": [
       "'Huskie'"
      ]
     },
     "execution_count": 10,
     "metadata": {},
     "output_type": "execute_result"
    }
   ],
   "source": [
    "frank.breed"
   ]
  },
  {
   "cell_type": "markdown",
   "metadata": {},
   "source": [
    "Tenga en cuenta que no tenemos paréntesis después de la raza; esto se debe a que es un atributo y no acepta ningún argumento.\n",
    "\n",
    "En Python también hay * atributos de objeto de clase *. Estos atributos de objeto de clase son los mismos para cualquier instancia de la clase. Por ejemplo, podríamos crear el atributo * species * para la clase Perro. Los perros, independientemente de su raza, nombre u otros atributos, siempre serán mamíferos. Aplicamos esta lógica de la siguiente manera:"
   ]
  },
  {
   "cell_type": "code",
   "execution_count": 12,
   "metadata": {},
   "outputs": [],
   "source": [
    "class Dog:\n",
    "    \n",
    "    # Class Object Attribute\n",
    "    species = 'mammal'\n",
    "    \n",
    "    def __init__(self,breed,name):\n",
    "        self.breed = breed\n",
    "        self.name = name"
   ]
  },
  {
   "cell_type": "code",
   "execution_count": 13,
   "metadata": {},
   "outputs": [],
   "source": [
    "sam = Dog('Lab','Sam')"
   ]
  },
  {
   "cell_type": "code",
   "execution_count": 14,
   "metadata": {},
   "outputs": [
    {
     "data": {
      "text/plain": [
       "'Sam'"
      ]
     },
     "execution_count": 14,
     "metadata": {},
     "output_type": "execute_result"
    }
   ],
   "source": [
    "sam.name"
   ]
  },
  {
   "cell_type": "markdown",
   "metadata": {},
   "source": [
    "Tenga en cuenta que el atributo de objeto de clase se define fuera de cualquier método en la clase. También por convención, los colocamos primero antes del método init."
   ]
  },
  {
   "cell_type": "code",
   "execution_count": 15,
   "metadata": {},
   "outputs": [
    {
     "data": {
      "text/plain": [
       "'mammal'"
      ]
     },
     "execution_count": 15,
     "metadata": {},
     "output_type": "execute_result"
    }
   ],
   "source": [
    "sam.species"
   ]
  },
  {
   "cell_type": "markdown",
   "metadata": {},
   "source": [
    "## Métodos\n",
    "\n",
    "Los métodos son funciones definidas dentro del cuerpo de una clase. Se utilizan para realizar operaciones con los atributos de nuestros objetos. Los métodos son un concepto clave del paradigma OOP. Son esenciales para dividir responsabilidades en la programación, especialmente en aplicaciones grandes.\n",
    "\n",
    "Básicamente, puede pensar en los métodos como funciones que actúan sobre un Objeto y que tienen en cuenta al Objeto mismo a través de su argumento * self *.\n",
    "\n",
    "Veamos un ejemplo de cómo crear una clase Circle:"
   ]
  },
  {
   "cell_type": "code",
   "execution_count": 16,
   "metadata": {},
   "outputs": [
    {
     "name": "stdout",
     "output_type": "stream",
     "text": [
      "Radius is:  1\n",
      "Area is:  3.14\n",
      "Circumference is:  6.28\n"
     ]
    }
   ],
   "source": [
    "class Circle:\n",
    "    pi = 3.14\n",
    "\n",
    "    # Circle gets instantiated with a radius (default is 1)\n",
    "    def __init__(self, radius=1):\n",
    "        self.radius = radius \n",
    "        self.area = radius * radius * Circle.pi\n",
    "\n",
    "    # Method for resetting Radius\n",
    "    def setRadius(self, new_radius):\n",
    "        self.radius = new_radius\n",
    "        self.area = new_radius * new_radius * self.pi\n",
    "\n",
    "    # Method for getting Circumference\n",
    "    def getCircumference(self):\n",
    "        return self.radius * self.pi * 2\n",
    "\n",
    "\n",
    "c = Circle()\n",
    "\n",
    "print('Radius is: ',c.radius)\n",
    "print('Area is: ',c.area)\n",
    "print('Circumference is: ',c.getCircumference())"
   ]
  },
  {
   "cell_type": "markdown",
   "metadata": {},
   "source": [
    "En el método \\__ init__ anterior, para poder calcular el atributo de área, tuvimos que llamar a Circle.pi. Esto se debe a que el objeto aún no tiene su propio atributo .pi, por lo que llamamos el atributo de objeto de clase pi en su lugar. <br>\n",
    "Sin embargo, en el método setRadius, trabajaremos con un objeto Circle existente que tiene su propio atributo pi. Aquí podemos usar Circle.pi o self.pi. <br> <br>\n",
    "Ahora cambiemos el radio y veamos cómo afecta eso a nuestro objeto Circle:"
   ]
  },
  {
   "cell_type": "code",
   "execution_count": 17,
   "metadata": {},
   "outputs": [
    {
     "name": "stdout",
     "output_type": "stream",
     "text": [
      "Radius is:  2\n",
      "Area is:  12.56\n",
      "Circumference is:  12.56\n"
     ]
    }
   ],
   "source": [
    "c.setRadius(2)\n",
    "\n",
    "print('Radius is: ',c.radius)\n",
    "print('Area is: ',c.area)\n",
    "print('Circumference is: ',c.getCircumference())"
   ]
  },
  {
   "cell_type": "markdown",
   "metadata": {},
   "source": [
    "\n",
    "\n",
    "## Herencia\n",
    "\n",
    "La herencia es una manera de formar nuevas clases utilizando clases que ya se han definido. Las clases recién creadas se denominan clases derivadas, las clases de las que derivamos se denominan clases base. Los beneficios importantes de la herencia son la reutilización del código y la reducción de la complejidad de un programa. Las clases derivadas (descendientes) anulan o extienden la funcionalidad de las clases base (ancestros).\n",
    "\n",
    "Veamos un ejemplo incorporando nuestro trabajo anterior en la clase Dog:"
   ]
  },
  {
   "cell_type": "code",
   "execution_count": 19,
   "metadata": {},
   "outputs": [],
   "source": [
    "class Animal:\n",
    "    def __init__(self):\n",
    "        print(\"Animal created\")\n",
    "\n",
    "    def whoAmI(self):\n",
    "        print(\"Animal\")\n",
    "\n",
    "    def eat(self):\n",
    "        print(\"Eating\")\n",
    "\n",
    "\n",
    "class Dog(Animal):\n",
    "    def __init__(self):\n",
    "        Animal.__init__(self)\n",
    "        print(\"Dog created\")\n",
    "\n",
    "    def whoAmI(self):\n",
    "        print(\"Dog\")\n",
    "\n",
    "    def bark(self):\n",
    "        print(\"Woof!\")"
   ]
  },
  {
   "cell_type": "code",
   "execution_count": 20,
   "metadata": {},
   "outputs": [
    {
     "name": "stdout",
     "output_type": "stream",
     "text": [
      "Animal created\n",
      "Dog created\n"
     ]
    }
   ],
   "source": [
    "d = Dog()"
   ]
  },
  {
   "cell_type": "code",
   "execution_count": 21,
   "metadata": {},
   "outputs": [
    {
     "name": "stdout",
     "output_type": "stream",
     "text": [
      "Dog\n"
     ]
    }
   ],
   "source": [
    "d.whoAmI()"
   ]
  },
  {
   "cell_type": "code",
   "execution_count": 22,
   "metadata": {},
   "outputs": [
    {
     "name": "stdout",
     "output_type": "stream",
     "text": [
      "Eating\n"
     ]
    }
   ],
   "source": [
    "d.eat()"
   ]
  },
  {
   "cell_type": "code",
   "execution_count": 23,
   "metadata": {},
   "outputs": [
    {
     "name": "stdout",
     "output_type": "stream",
     "text": [
      "Woof!\n"
     ]
    }
   ],
   "source": [
    "d.bark()"
   ]
  },
  {
   "cell_type": "markdown",
   "metadata": {},
   "source": [
    "En este ejemplo, tenemos dos clases: Animal y Perro. El animal es la clase base, el perro es la clase derivada.\n",
    "\n",
    "La clase derivada hereda la funcionalidad de la clase base.\n",
    "\n",
    "* Se muestra mediante el método eat ().\n",
    "\n",
    "La clase derivada modifica el comportamiento existente de la clase base.\n",
    "\n",
    "* mostrado por el método whoAmI ().\n",
    "\n",
    "Finalmente, la clase derivada amplía la funcionalidad de la clase base, definiendo un nuevo método bark ()."
   ]
  },
  {
   "cell_type": "markdown",
   "metadata": {},
   "source": [
    "## Polimorfismo\n",
    "\n",
    "Hemos aprendido que aunque las funciones pueden tomar diferentes argumentos, los métodos pertenecen a los objetos sobre los que actúan. \n",
    "\n",
    "En Python, * polimorfismo * se refiere a la forma en que las diferentes clases de objetos pueden compartir el mismo nombre de método, y esos métodos pueden llamarse desde el mismo lugar aunque se pueda pasar una variedad de objetos diferentes. La mejor manera de explicar esto es por ejemplo:"
   ]
  },
  {
   "cell_type": "code",
   "execution_count": 24,
   "metadata": {},
   "outputs": [
    {
     "name": "stdout",
     "output_type": "stream",
     "text": [
      "Niko says Woof!\n",
      "Felix says Meow!\n"
     ]
    }
   ],
   "source": [
    "class Dog:\n",
    "    def __init__(self, name):\n",
    "        self.name = name\n",
    "\n",
    "    def speak(self):\n",
    "        return self.name+' says Woof!'\n",
    "    \n",
    "class Cat:\n",
    "    def __init__(self, name):\n",
    "        self.name = name\n",
    "\n",
    "    def speak(self):\n",
    "        return self.name+' says Meow!' \n",
    "    \n",
    "niko = Dog('Niko')\n",
    "felix = Cat('Felix')\n",
    "\n",
    "print(niko.speak())\n",
    "print(felix.speak())"
   ]
  },
  {
   "cell_type": "markdown",
   "metadata": {},
   "source": [
    "Aquí tenemos una clase de perro y una clase de gato, y cada una tiene un método `.speak ()`. Cuando se llama, el método `.speak ()` de cada objeto devuelve un resultado único para el objeto.\n",
    "\n",
    "Hay algunas maneras diferentes de demostrar el polimorfismo. Primero, con un bucle for:"
   ]
  },
  {
   "cell_type": "code",
   "execution_count": 25,
   "metadata": {},
   "outputs": [
    {
     "name": "stdout",
     "output_type": "stream",
     "text": [
      "Niko says Woof!\n",
      "Felix says Meow!\n"
     ]
    }
   ],
   "source": [
    "for pet in [niko,felix]:\n",
    "    print(pet.speak())"
   ]
  },
  {
   "cell_type": "markdown",
   "metadata": {},
   "source": [
    "Otra manera es con funciones"
   ]
  },
  {
   "cell_type": "code",
   "execution_count": 27,
   "metadata": {},
   "outputs": [
    {
     "name": "stdout",
     "output_type": "stream",
     "text": [
      "Niko says Woof!\n",
      "Felix says Meow!\n"
     ]
    }
   ],
   "source": [
    "def pet_speak(pet):\n",
    "    print(pet.speak())\n",
    "\n",
    "pet_speak(niko)\n",
    "pet_speak(felix)"
   ]
  },
  {
   "cell_type": "markdown",
   "metadata": {
    "slideshow": {
     "slide_type": "slide"
    }
   },
   "source": [
    "En ambos casos, pudimos pasar diferentes tipos de objetos y obtuvimos resultados específicos del objeto del mismo mecanismo.\n",
    "\n",
    "Una práctica más común es usar clases abstractas y herencia. Una clase abstracta es aquella que nunca espera ser instanciada. Por ejemplo, nunca tendremos un objeto Animal, solo objetos Perro y Gato, aunque los Perros y Gatos se derivan de los Animales:"
   ]
  },
  {
   "cell_type": "code",
   "execution_count": 28,
   "metadata": {},
   "outputs": [
    {
     "name": "stdout",
     "output_type": "stream",
     "text": [
      "Fido says Woof!\n",
      "Isis says Meow!\n"
     ]
    }
   ],
   "source": [
    "class Animal:\n",
    "    def __init__(self, name):    # Constructor of the class\n",
    "        self.name = name\n",
    "\n",
    "    def speak(self):              # Abstract method, defined by convention only\n",
    "        raise NotImplementedError(\"Subclass must implement abstract method\")\n",
    "\n",
    "\n",
    "class Dog(Animal):\n",
    "    \n",
    "    def speak(self):\n",
    "        return self.name+' says Woof!'\n",
    "    \n",
    "class Cat(Animal):\n",
    "\n",
    "    def speak(self):\n",
    "        return self.name+' says Meow!'\n",
    "    \n",
    "fido = Dog('Fido')\n",
    "isis = Cat('Isis')\n",
    "\n",
    "print(fido.speak())\n",
    "print(isis.speak())"
   ]
  },
  {
   "cell_type": "markdown",
   "metadata": {},
   "source": [
    "## Métodos especiales\n",
    "Finalmente repasemos los métodos especiales. Las clases en Python pueden implementar ciertas operaciones con nombres de métodos especiales. Estos métodos no son realmente llamados directamente, sino por la sintaxis del lenguaje específico de Python. Por ejemplo, vamos a crear una clase de libro:"
   ]
  },
  {
   "cell_type": "code",
   "execution_count": 30,
   "metadata": {},
   "outputs": [],
   "source": [
    "class Book:\n",
    "    def __init__(self, title, author, pages):\n",
    "        print(\"A book is created\")\n",
    "        self.title = title\n",
    "        self.author = author\n",
    "        self.pages = pages\n",
    "\n",
    "    def __str__(self):\n",
    "        return \"Title: %s, author: %s, pages: %s\" %(self.title, self.author, self.pages)\n",
    "\n",
    "    def __len__(self):\n",
    "        return self.pages\n",
    "\n",
    "    def __del__(self):\n",
    "        print(\"A book is destroyed\")"
   ]
  },
  {
   "cell_type": "code",
   "execution_count": 24,
   "metadata": {},
   "outputs": [
    {
     "name": "stdout",
     "output_type": "stream",
     "text": [
      "A book is created\n",
      "Title: Python Rocks!, author: Jose Portilla, pages: 159\n",
      "159\n",
      "A book is destroyed\n"
     ]
    }
   ],
   "source": [
    "book = Book(\"Python Rocks!\", \"Jose Portilla\", 159)\n",
    "\n",
    "#Special Methods\n",
    "print(book)\n",
    "print(len(book))\n",
    "del book"
   ]
  },
  {
   "cell_type": "markdown",
   "metadata": {},
   "source": [
    "    Los métodos __init __ (), __str __ (), __len __ () y __del __ ()\n",
    "Estos métodos especiales se definen por su uso de guiones bajos. Nos permiten usar funciones específicas de Python en objetos creados a través de nuestra clase.\n",
    "\n"
   ]
  },
  {
   "cell_type": "code",
   "execution_count": null,
   "metadata": {},
   "outputs": [],
   "source": []
  }
 ],
 "metadata": {
  "kernelspec": {
   "display_name": "Python 3",
   "language": "python",
   "name": "python3"
  },
  "language_info": {
   "codemirror_mode": {
    "name": "ipython",
    "version": 3
   },
   "file_extension": ".py",
   "mimetype": "text/x-python",
   "name": "python",
   "nbconvert_exporter": "python",
   "pygments_lexer": "ipython3",
   "version": "3.6.5"
  }
 },
 "nbformat": 4,
 "nbformat_minor": 1
}
