{
 "cells": [
  {
   "cell_type": "markdown",
   "metadata": {},
   "source": [
    "# Funciones\n",
    "\n",
    "## Introducción a las funciones\n",
    "\n",
    "Las funciones serán uno de los bloques de código principales cuando se construyan cantidades cada vez mayores de código para resolver problemas.\n",
    "\n",
    "** Entonces, ¿qué es una función? **\n",
    "\n",
    "Formalmente, una función es una forma útil que agrupa un conjunto de declaraciones para que puedan ejecutarse más de una vez. También pueden permitirnos especificar parámetros que pueden servir como entradas para las funciones.\n",
    "\n",
    "En un nivel más fundamental, las funciones nos permiten no tener que escribir repetidamente el mismo código una y otra vez. Si recuerda volver a las lecciones sobre cadenas y listas, recuerde que usamos una función len () para obtener la longitud de una cadena.\n",
    "\n",
    "Las funciones serán uno de los niveles más básicos de reutilización de código en Python, y también nos permitirán comenzar a pensar en el diseño del programa "
   ]
  },
  {
   "cell_type": "markdown",
   "metadata": {},
   "source": [
    "## Sentencias def\n",
    "\n",
    "En Python la sintaxis de una función tiene la siguiente forma"
   ]
  },
  {
   "cell_type": "code",
   "execution_count": 1,
   "metadata": {},
   "outputs": [],
   "source": [
    "def name_of_function(arg1,arg2):\n",
    "    '''\n",
    "    This is where the function's Document String (docstring) goes\n",
    "    '''\n",
    "    # Do stuff here\n",
    "    # Return desired result"
   ]
  },
  {
   "cell_type": "markdown",
   "metadata": {},
   "source": [
    "Comenzamos con <code> def </code>, luego un espacio seguido del nombre de la función. Intente mantener los nombres relevantes, por ejemplo, len () es un buen nombre para una función length (). También tenga cuidado con los nombres, no querría llamar a una función el mismo nombre que una [función incorporada en Python] (https://docs.python.org/2/library/functions.html) (como len).\n",
    "\n",
    "Luego viene un par de paréntesis con una serie de argumentos separados por una coma. Estos argumentos son las entradas para su función. Podrás usar estas entradas en tu función y consultarlas. Después de esto pones dos puntos.\n",
    "\n",
    "Ahora aquí está el paso importante, debe hacer sangría para comenzar el código dentro de su función correctamente. Python utiliza * espacios en blanco * para organizar el código. Muchos otros lenguajes de programación no hacen esto, así que tenlo en cuenta.\n",
    "\n",
    "A continuación verá la cadena de documentación, aquí es donde escribe una descripción básica de la función. Usando iPython y iPython Notebooks, podrá leer estas cadenas de documentos presionando Mayús + Tabulador después del nombre de una función. Las cadenas de documentos no son necesarias para funciones simples, pero es una buena práctica colocarlas para que usted u otras personas puedan entender fácilmente el código que escribe.\n",
    "\n",
    "Después de todo esto comienzas a escribir el código que deseas ejecutar.\n",
    "\n",
    "La mejor manera de aprender funciones es a través de ejemplos. Así que intentemos repasar ejemplos que se relacionan con los diversos objetos y estructuras de datos que hemos aprendido antes."
   ]
  },
  {
   "cell_type": "markdown",
   "metadata": {},
   "source": [
    "### Ejemplo 1: Una simple función de impresión 'hello'"
   ]
  },
  {
   "cell_type": "code",
   "execution_count": 1,
   "metadata": {},
   "outputs": [],
   "source": [
    "def say_hello():\n",
    "    print('hello')"
   ]
  },
  {
   "cell_type": "markdown",
   "metadata": {},
   "source": [
    "Call the function:"
   ]
  },
  {
   "cell_type": "code",
   "execution_count": 2,
   "metadata": {},
   "outputs": [
    {
     "name": "stdout",
     "output_type": "stream",
     "text": [
      "hello\n"
     ]
    }
   ],
   "source": [
    "say_hello()"
   ]
  },
  {
   "cell_type": "markdown",
   "metadata": {},
   "source": [
    "### Ejemplo 2: Una función de saludo simple\n",
    "Vamos a escribir una función que saluda a la gente con su nombre"
   ]
  },
  {
   "cell_type": "code",
   "execution_count": 3,
   "metadata": {},
   "outputs": [],
   "source": [
    "def greeting(name):\n",
    "    print('Hello %s' %(name))"
   ]
  },
  {
   "cell_type": "code",
   "execution_count": 4,
   "metadata": {},
   "outputs": [
    {
     "name": "stdout",
     "output_type": "stream",
     "text": [
      "Hello Jose\n"
     ]
    }
   ],
   "source": [
    "greeting('Jose')"
   ]
  },
  {
   "cell_type": "markdown",
   "metadata": {},
   "source": [
    "## Usando return\n",
    "Veamos algunos ejemplos que usan una declaración <code> return </code>. <code> return </code> permite a una función * devolver * un resultado que luego puede almacenarse como una variable, o usarse de la manera que el usuario desee.\n",
    "\n",
    "### Ejemplo 3: Función de adición"
   ]
  },
  {
   "cell_type": "code",
   "execution_count": 5,
   "metadata": {},
   "outputs": [],
   "source": [
    "def add_num(num1,num2):\n",
    "    return num1+num2"
   ]
  },
  {
   "cell_type": "code",
   "execution_count": 6,
   "metadata": {},
   "outputs": [
    {
     "data": {
      "text/plain": [
       "9"
      ]
     },
     "execution_count": 6,
     "metadata": {},
     "output_type": "execute_result"
    }
   ],
   "source": [
    "add_num(4,5)"
   ]
  },
  {
   "cell_type": "code",
   "execution_count": 7,
   "metadata": {},
   "outputs": [],
   "source": [
    "# Can also save as variable due to return\n",
    "result = add_num(4,5)"
   ]
  },
  {
   "cell_type": "code",
   "execution_count": 8,
   "metadata": {},
   "outputs": [
    {
     "name": "stdout",
     "output_type": "stream",
     "text": [
      "9\n"
     ]
    }
   ],
   "source": [
    "print(result)"
   ]
  },
  {
   "cell_type": "markdown",
   "metadata": {},
   "source": [
    "What happens if we input two strings?"
   ]
  },
  {
   "cell_type": "code",
   "execution_count": 9,
   "metadata": {},
   "outputs": [
    {
     "data": {
      "text/plain": [
       "'onetwo'"
      ]
     },
     "execution_count": 9,
     "metadata": {},
     "output_type": "execute_result"
    }
   ],
   "source": [
    "add_num('one','two')"
   ]
  },
  {
   "cell_type": "markdown",
   "metadata": {},
   "source": [
    "¡Tenga en cuenta que debido a que no declaramos tipos de variables en Python, esta función podría usarse para sumar números o secuencias juntas!\n"
   ]
  }
 ],
 "metadata": {
  "kernelspec": {
   "display_name": "Python 3",
   "language": "python",
   "name": "python3"
  },
  "language_info": {
   "codemirror_mode": {
    "name": "ipython",
    "version": 3
   },
   "file_extension": ".py",
   "mimetype": "text/x-python",
   "name": "python",
   "nbconvert_exporter": "python",
   "pygments_lexer": "ipython3",
   "version": "3.6.5"
  }
 },
 "nbformat": 4,
 "nbformat_minor": 1
}
