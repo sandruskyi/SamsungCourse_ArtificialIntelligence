{
 "cells": [
  {
   "cell_type": "markdown",
   "metadata": {},
   "source": [
    "# Sentencias if, elif, else\n",
    "\n",
    "<code> if </code> Las declaraciones en Python nos permiten decirle a la computadora que realice acciones alternativas basadas en un determinado conjunto de resultados.\n",
    "\n",
    "Verbalmente, podemos imaginar que le estamos diciendo a la computadora:\n",
    "\n",
    "\"Oye, si sucede este caso, realiza alguna acción\"\n",
    "\n",
    "Luego podemos expandir la idea con las declaraciones <code> elif </code> y <code> else </code>, que nos permiten decirle a la computadora:\n",
    "\n",
    "\"Oye, si sucede este caso, realiza alguna acción. De lo contrario, si ocurre otro caso, realiza otra acción. Si no, no ocurre ninguno de los casos anteriores, realiza esta acción\".\n",
    "\n",
    "Continuemos y miremos el formato de sintaxis de las declaraciones de <code> if </code> para tener una mejor idea de esto:\n",
    "\n",
    "    if case1:\n",
    "        perform action1\n",
    "    elif case2:\n",
    "        perform action2\n",
    "    else: \n",
    "        perform action3"
   ]
  },
  {
   "cell_type": "markdown",
   "metadata": {},
   "source": [
    "## Primer ejemplo\n",
    "\n",
    "Veamos un ejemplo rápido de esto"
   ]
  },
  {
   "cell_type": "code",
   "execution_count": 1,
   "metadata": {},
   "outputs": [
    {
     "name": "stdout",
     "output_type": "stream",
     "text": [
      "It was true!\n"
     ]
    }
   ],
   "source": [
    "if True:\n",
    "    print('It was true!')"
   ]
  },
  {
   "cell_type": "markdown",
   "metadata": {},
   "source": [
    "Añadimos else"
   ]
  },
  {
   "cell_type": "code",
   "execution_count": 2,
   "metadata": {},
   "outputs": [
    {
     "name": "stdout",
     "output_type": "stream",
     "text": [
      "I will be printed in any case where x is not true\n"
     ]
    }
   ],
   "source": [
    "x = False\n",
    "\n",
    "if x:\n",
    "    print('x was True!')\n",
    "else:\n",
    "    print('I will be printed in any case where x is not true')"
   ]
  },
  {
   "cell_type": "markdown",
   "metadata": {},
   "source": [
    "### Múltiples ramas\n",
    "\n",
    "¡Vamos a obtener una imagen más completa de lo lejos que <code> if </code>, <code> elif </code>, y <code> else </code> nos pueden llevar!\n",
    "\n",
    "Escribimos esto en una estructura anidada. Tome nota de cómo el <code> if </code>, <code> elif </code> y <code> else </code> se alinean en el código. Esto puede ayudarlo a ver qué <code> if </code> está relacionado con las declaraciones de <code> elif </code> o <code> else </code>.\n",
    "\n",
    "Reintroduciremos una sintaxis de comparación para Python."
   ]
  },
  {
   "cell_type": "code",
   "execution_count": 3,
   "metadata": {},
   "outputs": [
    {
     "name": "stdout",
     "output_type": "stream",
     "text": [
      "Welcome to the bank!\n"
     ]
    }
   ],
   "source": [
    "loc = 'Bank'\n",
    "\n",
    "if loc == 'Auto Shop':\n",
    "    print('Welcome to the Auto Shop!')\n",
    "elif loc == 'Bank':\n",
    "    print('Welcome to the bank!')\n",
    "else:\n",
    "    print('Where are you?')"
   ]
  },
  {
   "cell_type": "markdown",
   "metadata": {},
   "source": [
    "Observe cómo se comprueban las declaraciones <code> if </code> anidadas hasta que un booleano True haga que se ejecute el código anidado debajo de él. También debe tener en cuenta que puede incluir tantas declaraciones de <code> elif </code> como desee antes de cerrar con un <code> else </code>.\n",
    "\n",
    "Vamos a crear dos ejemplos más simples para las declaraciones <code> if </code>, <code> elif </code> y <code> else </code>:"
   ]
  },
  {
   "cell_type": "code",
   "execution_count": 4,
   "metadata": {},
   "outputs": [
    {
     "name": "stdout",
     "output_type": "stream",
     "text": [
      "Welcome Sammy!\n"
     ]
    }
   ],
   "source": [
    "person = 'Sammy'\n",
    "\n",
    "if person == 'Sammy':\n",
    "    print('Welcome Sammy!')\n",
    "else:\n",
    "    print(\"Welcome, what's your name?\")"
   ]
  },
  {
   "cell_type": "code",
   "execution_count": 5,
   "metadata": {},
   "outputs": [
    {
     "name": "stdout",
     "output_type": "stream",
     "text": [
      "Welcome George!\n"
     ]
    }
   ],
   "source": [
    "person = 'George'\n",
    "\n",
    "if person == 'Sammy':\n",
    "    print('Welcome Sammy!')\n",
    "elif person =='George':\n",
    "    print('Welcome George!')\n",
    "else:\n",
    "    print(\"Welcome, what's your name?\")"
   ]
  },
  {
   "cell_type": "markdown",
   "metadata": {},
   "source": [
    "## Sangría\n",
    "\n",
    "Es importante mantener una buena comprensión de cómo funciona la sangría en Python para mantener la estructura y el orden de su código. Volveremos a tocar este tema cuando empecemos a desarrollar funciones."
   ]
  },
  {
   "cell_type": "code",
   "execution_count": null,
   "metadata": {},
   "outputs": [],
   "source": []
  }
 ],
 "metadata": {
  "kernelspec": {
   "display_name": "Python 3",
   "language": "python",
   "name": "python3"
  },
  "language_info": {
   "codemirror_mode": {
    "name": "ipython",
    "version": 3
   },
   "file_extension": ".py",
   "mimetype": "text/x-python",
   "name": "python",
   "nbconvert_exporter": "python",
   "pygments_lexer": "ipython3",
   "version": "3.6.5"
  }
 },
 "nbformat": 4,
 "nbformat_minor": 1
}
