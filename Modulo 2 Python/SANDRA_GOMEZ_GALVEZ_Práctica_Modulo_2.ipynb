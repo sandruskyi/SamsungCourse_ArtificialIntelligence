{
  "nbformat": 4,
  "nbformat_minor": 0,
  "metadata": {
    "colab": {
      "name": "SANDRA_GOMEZ_GALVEZ_Práctica_Modulo_2.ipynb",
      "provenance": [],
      "collapsed_sections": []
    },
    "kernelspec": {
      "name": "python3",
      "display_name": "Python 3"
    }
  },
  "cells": [
    {
      "cell_type": "code",
      "metadata": {
        "id": "IJ6M8ieYz5Cc",
        "colab_type": "code",
        "outputId": "9a31b16b-b6a3-4442-c5bc-43e88a8dce06",
        "colab": {
          "base_uri": "https://localhost:8080/",
          "height": 34
        }
      },
      "source": [
        "#EJERCCICIO 1 Definition of countries and capital\n",
        "countries = ['spain', 'france', 'germany', 'norway']\n",
        "capitals = ['madrid', 'paris', 'berlin', 'oslo']\n",
        "\n",
        "# Get index of 'germany': ind_ger\n",
        "ind_ger = countries.index('germany')\n",
        "\n",
        "# Use ind_ger to print out capital of Germany\n",
        "print(capitals[ind_ger])"
      ],
      "execution_count": 0,
      "outputs": [
        {
          "output_type": "stream",
          "text": [
            "berlin\n"
          ],
          "name": "stdout"
        }
      ]
    },
    {
      "cell_type": "code",
      "metadata": {
        "id": "QqABgSir0Fa4",
        "colab_type": "code",
        "outputId": "95c7bac7-8d10-4564-cbe3-5cc8c3fd36c7",
        "colab": {
          "base_uri": "https://localhost:8080/",
          "height": 85
        }
      },
      "source": [
        "#EJERCICIO 2 Definition of countries and capital\n",
        "countries = ['spain', 'france', 'germany', 'norway']\n",
        "capitals = ['madrid', 'paris', 'berlin', 'oslo']\n",
        "\n",
        "# From string in countries and capitals, create dictionary europe\n",
        "europe = { 'spain':'madrid', 'france':'paris', 'germany':'berlin', 'norway':'oslo' }\n",
        "\n",
        "# Print europe\n",
        "for country,capital in europe.items():\n",
        "  print(country,capital)"
      ],
      "execution_count": 0,
      "outputs": [
        {
          "output_type": "stream",
          "text": [
            "spain madrid\n",
            "france paris\n",
            "germany berlin\n",
            "norway oslo\n"
          ],
          "name": "stdout"
        }
      ]
    },
    {
      "cell_type": "code",
      "metadata": {
        "id": "ltJWIqiA0Zbs",
        "colab_type": "code",
        "outputId": "ae3101f6-06a3-4f07-fdc5-89f6378ae704",
        "colab": {
          "base_uri": "https://localhost:8080/",
          "height": 102
        }
      },
      "source": [
        "#EJERCICIO 3 Definition of dictionary\n",
        "europe = {'spain':'madrid', 'france':'paris', 'germany':'berlin', 'norway':'oslo' }\n",
        "\n",
        "# Print out the keys in europe\n",
        "for keys in europe.keys():\n",
        "  print(keys)\n",
        "\n",
        "# Print out value that belongs to key 'norway'\n",
        "print(\"Norway\", europe['norway'])"
      ],
      "execution_count": 0,
      "outputs": [
        {
          "output_type": "stream",
          "text": [
            "spain\n",
            "france\n",
            "germany\n",
            "norway\n",
            "Norway oslo\n"
          ],
          "name": "stdout"
        }
      ]
    },
    {
      "cell_type": "code",
      "metadata": {
        "id": "N4zUcRfE0o5r",
        "colab_type": "code",
        "outputId": "d8d0d5f3-bbee-4255-8d70-c8250943e506",
        "colab": {
          "base_uri": "https://localhost:8080/",
          "height": 136
        }
      },
      "source": [
        "#EJERCICIO 4 Definition of dictionary\n",
        "europe = {'spain':'madrid', 'france':'paris', 'germany':'berlin', 'norway':'oslo' }\n",
        "\n",
        "# Add italy to europe\n",
        "europe['italy']='rome'\n",
        "\n",
        "# Print out italy in europe\n",
        "print(europe['italy'])\n",
        "\n",
        "# Add poland to europe\n",
        "europe['poland'] = 'varsovia'\n",
        "\n",
        "# Print europe\n",
        "for countries, capitals in europe.items():\n",
        "  print(countries,capitals)"
      ],
      "execution_count": 0,
      "outputs": [
        {
          "output_type": "stream",
          "text": [
            "rome\n",
            "spain madrid\n",
            "france paris\n",
            "germany berlin\n",
            "norway oslo\n",
            "italy rome\n",
            "poland varsovia\n"
          ],
          "name": "stdout"
        }
      ]
    },
    {
      "cell_type": "code",
      "metadata": {
        "id": "qj3gt17K003l",
        "colab_type": "code",
        "outputId": "e916c3c5-7010-4c40-bc66-615752c5e3f5",
        "colab": {
          "base_uri": "https://localhost:8080/",
          "height": 119
        }
      },
      "source": [
        "#EJERCICIO 5 Definition of dictionary\n",
        "europe = {'spain':'madrid', 'france':'paris', 'germany':'bonn',\n",
        "          'norway':'oslo', 'italy':'rome', 'poland':'warsaw',\n",
        "          'australia':'vienna' }\n",
        "\n",
        "# Update capital of germany\n",
        "europe['germany']='berlin'\n",
        "\n",
        "# Remove australia\n",
        "del europe['australia']\n",
        "\n",
        "# Print europe\n",
        "for k,v in europe.items():\n",
        "  print(k,v)"
      ],
      "execution_count": 0,
      "outputs": [
        {
          "output_type": "stream",
          "text": [
            "spain madrid\n",
            "france paris\n",
            "germany berlin\n",
            "norway oslo\n",
            "italy rome\n",
            "poland warsaw\n"
          ],
          "name": "stdout"
        }
      ]
    },
    {
      "cell_type": "code",
      "metadata": {
        "id": "UB9iEGgG1AjE",
        "colab_type": "code",
        "outputId": "dbced7c3-354c-4ae5-fcb8-33bab24cd4ed",
        "colab": {
          "base_uri": "https://localhost:8080/",
          "height": 136
        }
      },
      "source": [
        "#EJERCICIO 6 Dictionary of dictionaries\n",
        "europe = { 'spain': { 'capital':'madrid', 'population':46.77 },\n",
        "           'france': { 'capital':'paris', 'population':66.03 },\n",
        "           'germany': { 'capital':'berlin', 'population':80.62 },\n",
        "           'norway': { 'capital':'oslo', 'population':5.084 } }\n",
        "\n",
        "\n",
        "# Print out the capital of France\n",
        "print(europe['france']['capital'])\n",
        "\n",
        "# Create sub-dictionary data\n",
        "# Add data to europe under key 'italy'\n",
        "europe['italy']={'capital':'rome' , 'population': 60}\n",
        "print(europe['italy'])\n",
        "# Print europe\n",
        "\n",
        "for country, data in europe.items():\n",
        "  #print(list(data.values()))\n",
        "  print(country, list(data.values()))\n",
        "  #for i in data.values():\n",
        "   # print(i)\n"
      ],
      "execution_count": 0,
      "outputs": [
        {
          "output_type": "stream",
          "text": [
            "paris\n",
            "{'capital': 'rome', 'population': 60}\n",
            "spain ['madrid', 46.77]\n",
            "france ['paris', 66.03]\n",
            "germany ['berlin', 80.62]\n",
            "norway ['oslo', 5.084]\n",
            "italy ['rome', 60]\n"
          ],
          "name": "stdout"
        }
      ]
    },
    {
      "cell_type": "markdown",
      "metadata": {
        "id": "xI5war9Mod-E",
        "colab_type": "text"
      },
      "source": [
        "### Ejercicio 7\n",
        "\n",
        "\n",
        "Un peatón quiere cruzar una calle por un paso de peatones que tiene un semáforo. El peatón deberá decidir si cruza o no la calle, y lo hará considerando algunos factores. En concreto, el peatón cruzará la calle si el semáforo del paso de peatones está en verde y no hay ningún vehículo interfiriendo el paso. En caso contrario (es decir, si no se cumplen todas las condiciones anteriores), el peatón se quedará quieto y no cruzará la calle.\n",
        "\n",
        "Escribir código que compruebe si el peatón puede o no cruzar la calle, y muestre por pantalla el mensaje \"El peatón cruza\" o \"El peatón se queda quieto\" dependiendo de la decisión del peatón.\n",
        "\n",
        "Para comprobar las condiciones que afectan a la decisión del peatón, disponéis de las siguientes variables:\n",
        "* `color_semaforo`: una cadena de caracteres que puede contener los valores \"verde\", \"amarillo\" y \"rojo\"\n",
        "* `vehiculo_interfiriendo`: un booleano indicando si hay o no un vehículo interfiriendo (puede tomar los valores True o False)\n",
        "\n",
        " <span style=\"font-family: Courier New; background-color: #82b74b; color: #000000; padding: 2px; \">NM</span>"
      ]
    },
    {
      "cell_type": "code",
      "metadata": {
        "id": "iD97DiIUKHJt",
        "colab_type": "code",
        "outputId": "f72fd392-f85e-4de8-a335-1d211119c15d",
        "colab": {
          "base_uri": "https://localhost:8080/",
          "height": 34
        }
      },
      "source": [
        "#CRUZA SI: Paso de peatones en verde o no hay coche -> \"El peatón cruza\"\n",
        "#NO : Si no se da lo anterior -> \"El peatón se queda quieto\"\n",
        "\n",
        "# Valores iniciales de las variables color_semaforo y vehiculo_interfiriendo\n",
        "# Recordad que podéis cambiar estos valores para hacer pruebas con vuestro código!\n",
        "\n",
        "color_sem = \"verde\"\n",
        "vehiculo_in = True\n",
        "\n",
        "# Respuesta\n",
        "def cruzar(color_semaforo, vehiculo_interfiriendo):\n",
        "  if(color_semaforo == \"verde\" and vehiculo_interfiriendo == False):\n",
        "    print(\"El peatón cruza\")\n",
        "  else: \n",
        "    print(\"El peatón se queda quieto\")\n",
        "\n",
        "cruzar(color_sem, vehiculo_in)\n",
        "\n"
      ],
      "execution_count": 0,
      "outputs": [
        {
          "output_type": "stream",
          "text": [
            "El peatón se queda quieto\n"
          ],
          "name": "stdout"
        }
      ]
    },
    {
      "cell_type": "markdown",
      "metadata": {
        "id": "OejOfMM-od-Q",
        "colab_type": "text"
      },
      "source": [
        "### Ejercicio 8\n",
        "\n",
        "Escribir una función que encapsule el comportamiento del código del ejercicio anterior. La función recibirá dos parámetros, el color del semáforo y si hay un vehículo interfiriendo y **devolverá un valor booleano** indicando si el peatón puede o no cruzar la calle. Adicionalmente, la función mostrará por pantalla el mismo mensaje que el ejercicio anterior.\n",
        "\n",
        "Haced tres llamadas de ejemplo a la función anterior, con valores diferentes de los parámetros de entrada, de forma que cada llamada devuelva uno de los tres posibles valores de retorno (`True`,` False`, `-1`). Comprobad que el resultado devuelto por la función es el que se esperaba.\n",
        "\n",
        "Consideraciones:\n",
        "\n",
        "- La función debe controlar que los valores de los parámetros son válidos. En caso contrario, mostrará un mensaje de error (\"Los parámetros introducidos no son válidos\") y devolverá el valor -1. Los parámetros se consideran válidos si son del tipo correcto (cadena de caracteres para el color del semáforo y booleano para el flag de vehículo) y contienen valores válidos (detallados en el ejercicio anterior).\n",
        "\n",
        "  <span style=\"font-family: Courier New; background-color: #82b74b; color: #000000; padding: 2px; \">NM</span>"
      ]
    },
    {
      "cell_type": "code",
      "metadata": {
        "id": "CMYiPK9QKRj-",
        "colab_type": "code",
        "colab": {}
      },
      "source": [
        "# Respuesta: Definición de la función\n",
        "def pasoDeCebra ( color_semaforo, vehiculo_interfiriendo):\n",
        "  if(type(color_semaforo)==str and type(vehiculo_interfiriendo)==bool and (color_semaforo=='verde' or color_semaforo=='amarillo' or color_semaforo == 'rojo')and(vehiculo_interfiriendo==True or vehiculo_interfiriendo == False)):\n",
        "    if(color_semaforo == \"verde\" and vehiculo_interfiriendo == False):\n",
        "      print(\"El peatón cruza\")\n",
        "      return True\n",
        "    else: \n",
        "      print(\"El peatón se queda quieto\")\n",
        "      return False\n",
        "  else: \n",
        "    print(\"Los parametros introducidos no son válidos\")\n",
        "    return -1\n",
        "  "
      ],
      "execution_count": 0,
      "outputs": []
    },
    {
      "cell_type": "code",
      "metadata": {
        "id": "lvsBIDqyKbkC",
        "colab_type": "code",
        "outputId": "367751e9-8528-440c-e2b8-df20f6d5beaf",
        "colab": {
          "base_uri": "https://localhost:8080/",
          "height": 119
        }
      },
      "source": [
        "# Respuesta: Llamadas a la función\n",
        "pasoDeCebra('verde',False)\n",
        "pasoDeCebra('amarillo', True)\n",
        "pasoDeCebra(99, False)\n",
        "pasoDeCebra('rojo', 8)\n",
        "pasoDeCebra('naranja', True)"
      ],
      "execution_count": 0,
      "outputs": [
        {
          "output_type": "stream",
          "text": [
            "El peatón cruza\n",
            "El peatón se queda quieto\n",
            "Los parametros introducidos no son válidos\n",
            "Los parametros introducidos no son válidos\n",
            "Los parametros introducidos no son válidos\n"
          ],
          "name": "stdout"
        },
        {
          "output_type": "execute_result",
          "data": {
            "text/plain": [
              "-1"
            ]
          },
          "metadata": {
            "tags": []
          },
          "execution_count": 32
        }
      ]
    },
    {
      "cell_type": "markdown",
      "metadata": {
        "id": "A_lDHOCYod-k",
        "colab_type": "text"
      },
      "source": [
        "\n",
        "\n",
        "# Ejercicio 9\n",
        "\n",
        "Escribid una función que dado un número entero positivo, `N`, genere un archivo con el nombre `output.txt` que contendrá $2N- 1$ líneas, siguiendo un patrón de \"media pajarita\".\n",
        "\n",
        "Por ejemplo, si $N = 3$, el archivo generado deberá tener el siguiente contenido:\n",
        "\n",
        "```\n",
        "***\n",
        "**\n",
        "*\n",
        "**\n",
        "***\n",
        "```\n",
        "\n",
        "o si $N = 4$, el siguiente contenido:\n",
        "\n",
        "```\n",
        "****\n",
        "***\n",
        "**\n",
        "*\n",
        "**\n",
        "***\n",
        "****\n",
        "```\n",
        "\n",
        "Nota: `N` siempre será $\\ge 1$. Si $N = 1$, el fichero contendrá una única línea con un solo asterisco.\n",
        " <span style=\"font-family: Courier New; background-color: #82b74b; color: #000000; padding: 2px; \">NM</span>"
      ]
    },
    {
      "cell_type": "code",
      "metadata": {
        "id": "hfzrZqxoKmD0",
        "colab_type": "code",
        "outputId": "4689c621-9108-4fdc-b661-0daa668ea806",
        "colab": {
          "base_uri": "https://localhost:8080/",
          "height": 51
        }
      },
      "source": [
        "# Respuesta\n",
        "\n",
        "def generarOutput(N):\n",
        "  f = open('nlineas.txt', 'w')\n",
        "  lineas = (N*2)-1\n",
        "  for i in range(lineas):\n",
        "    f.write('*'*N + '\\n')\n",
        "    if( i < lineas/2 -1):\n",
        "      N-=1\n",
        "    else: \n",
        "      N+=1\n",
        "  f.close()\n",
        "\n",
        "\n",
        "esCorrecto= False\n",
        "while esCorrecto == False : \n",
        "  print(\"Intruzca el número de líneas\")\n",
        "  n = int(input())\n",
        "  if n>=1: \n",
        "    esCorrecto = True\n",
        "  else: \n",
        "    print(\"Debe ser mayor o igual a 1\")\n",
        "\n",
        "generarOutput(n)"
      ],
      "execution_count": 0,
      "outputs": [
        {
          "output_type": "stream",
          "text": [
            "Intruzca el número de líneas\n",
            "5\n"
          ],
          "name": "stdout"
        }
      ]
    },
    {
      "cell_type": "markdown",
      "metadata": {
        "id": "YB9PVo-aod-w",
        "colab_type": "text"
      },
      "source": [
        "### Ejercicio 10\n",
        "\n",
        "Escribid una función que muestre por pantalla todas las posibles palabras de tres letras que se pueden hacer con las letras \"A\", \"B\" y \"C\". La función deberá devolver una lista con estas palabras. <span style=\"font-family: Courier New; background-color: #82b74b; color: #000000; padding: 2px; \">NM</span>"
      ]
    },
    {
      "cell_type": "code",
      "metadata": {
        "id": "_nXwmptMod-y",
        "colab_type": "code",
        "outputId": "e73f3f45-36b6-45b1-cd31-8634e099f734",
        "colab": {
          "base_uri": "https://localhost:8080/",
          "height": 71
        }
      },
      "source": [
        "letras = [\"A\", \"B\", \"C\"]\n",
        "\n",
        "# Respuesta\n",
        "def todasLasPalabras():\n",
        "  palabras = []\n",
        "  for letra1 in letras:\n",
        "    for letra2 in letras: \n",
        "      for letra3 in letras: \n",
        "        palabras.append(letra1+letra2+letra3)\n",
        "  return palabras\n",
        "\n",
        "print(todasLasPalabras())\n",
        "\n",
        "######### El de arriba da resultados AAA, AAB, AAC\n",
        "## En el siguiente de abajo no dejaremos repetir letras:\n",
        "\n",
        "def todasLasPalabrasSinRepetir(): \n",
        "  palabras = []\n",
        "  for letra1 in letras:\n",
        "    for letra2 in letras: \n",
        "      if letra1!=letra2:\n",
        "        for letra3 in letras: \n",
        "          if letra1!=letra3 and letra2!=letra3:\n",
        "            palabras.append(letra1+letra2+letra3)\n",
        "  return palabras\n",
        "print(todasLasPalabrasSinRepetir())\n"
      ],
      "execution_count": 0,
      "outputs": [
        {
          "output_type": "stream",
          "text": [
            "['AAA', 'AAB', 'AAC', 'ABA', 'ABB', 'ABC', 'ACA', 'ACB', 'ACC', 'BAA', 'BAB', 'BAC', 'BBA', 'BBB', 'BBC', 'BCA', 'BCB', 'BCC', 'CAA', 'CAB', 'CAC', 'CBA', 'CBB', 'CBC', 'CCA', 'CCB', 'CCC']\n",
            "['ABC', 'ACB', 'BAC', 'BCA', 'CAB', 'CBA']\n"
          ],
          "name": "stdout"
        }
      ]
    },
    {
      "cell_type": "markdown",
      "metadata": {
        "id": "3hdICvSEod-3",
        "colab_type": "text"
      },
      "source": [
        "### Ejercicio 11\n",
        "\n",
        "Escribid una función que dado un diccionario con la masa de los planetas del sistema solar, pregunte al usuario que introduzca el nombre de un planeta y muestre por pantalla el nombre del planeta y su masa. La función devolverá la masa del planeta.\n",
        "\n",
        "Consideraciones:\n",
        "\n",
        "- La función debe controlar que el valor introducido por el usuario es un nombre de un planeta. En caso contrario, mostrará un mensaje de error (\"El nombre introducido no corresponde a ningún planeta\") y devolverá el valor -1.\n",
        "- Si el usuario introduce \"Pluton\", hay que mostrar un mensaje que informe al usuario que desde 2006, Plutón ya no es considerado un planeta, y devolver -1.\n",
        "- Debéis tener en cuenta que el nombre de los planetas que nos pasan por parámetro puede ser en minúsculas, mayúsculas o una combinación de ambas.\n",
        "- Podéis asumir que no habrá acentos en los nombres de los planetas.\n",
        "\n",
        "Nota 1: Para realizar la actividad, tendréis que capturar un texto que entrará el usuario. Consultad la [documentación oficial de la función input](https://docs.python.org/3/library/functions.html#input) para ver cómo hacerlo.\n",
        "\n",
        "Nota 2: También tendréis que pensar cómo tratar el hecho de que el usuario pueda utilizar mayúsculas y minúsculas en la escritura del nombre del planeta. Os animamos a usar un buscador para intentar encontrar alguna alternativa para resolver este subproblema! Recordad citar las referencias que hayáis usado para resolverlo!\n",
        "\n",
        " <span style=\"font-family: Courier New; background-color: #ffcc5c; color: #000000; padding: 3px; \">EG</span>"
      ]
    },
    {
      "cell_type": "code",
      "metadata": {
        "id": "ojHEreUfKw2T",
        "colab_type": "code",
        "colab": {}
      },
      "source": [
        "masas = {'Mercurio': 3.20*10**23, 'Venus': 4.87*10**24, 'Terra': 5.9*10**24, 'Marte': 6.42*10**23, 'Jupiter': 1.90*10**27, \n",
        "          'Saturno': 5.68*10**26, 'Urano': 8.68*10**25, 'Neptuno': 1.02*10**26}"
      ],
      "execution_count": 0,
      "outputs": []
    },
    {
      "cell_type": "code",
      "metadata": {
        "id": "0pSM2j06K8Xt",
        "colab_type": "code",
        "outputId": "bcfc1cf9-16ad-410c-d659-33e0be11c23a",
        "colab": {
          "base_uri": "https://localhost:8080/",
          "height": 272
        }
      },
      "source": [
        "masas = {'Mercurio': 3.20*10**23, 'Venus': 4.87*10**24, 'Terra': 5.9*10**24, 'Marte': 6.42*10**23, 'Jupiter': 1.90*10**27, \n",
        "          'Saturno': 5.68*10**26, 'Urano': 8.68*10**25, 'Neptuno': 1.02*10**26}\n",
        "          \n",
        "# Respuesta\n",
        "def planetas(planetaUsuario):\n",
        "  if planetaUsuario.capitalize() in masas: \n",
        "    print(planetaUsuario.capitalize(), masas[planetaUsuario.capitalize()])\n",
        "    return masas[planetaUsuario.capitalize()]\n",
        "  elif planetaUsuario.capitalize()=='Pluton':\n",
        "    print(\"desde 2006, Plutón ya no es considerado un planeta\")\n",
        "    return -1\n",
        "  else: \n",
        "    print(\"El nombre introducido no corresponde a ningún planeta\")\n",
        "    return -1\n",
        "\n",
        "planetaValido = False\n",
        "while planetaValido == False:\n",
        "  print(\"Introduzca un planeta\")\n",
        "  pUsuario = input()\n",
        "  masa = planetas(pUsuario)\n",
        "  if(masa != -1):\n",
        "    planetaValido = True\n",
        "\n"
      ],
      "execution_count": 0,
      "outputs": [
        {
          "output_type": "stream",
          "text": [
            "Introduzca un planeta\n",
            "1\n",
            "El nombre introducido no corresponde a ningún planeta\n",
            "Introduzca un planeta\n",
            "pluton\n",
            "desde 2006, Plutón ya no es considerado un planeta\n",
            "Introduzca un planeta\n",
            "PLUTON\n",
            "desde 2006, Plutón ya no es considerado un planeta\n",
            "Introduzca un planeta\n",
            "pluton\n",
            "desde 2006, Plutón ya no es considerado un planeta\n",
            "Introduzca un planeta\n",
            "mArtE\n",
            "Marte 6.419999999999999e+23\n"
          ],
          "name": "stdout"
        }
      ]
    },
    {
      "cell_type": "markdown",
      "metadata": {
        "id": "l_zFZkGHod-_",
        "colab_type": "text"
      },
      "source": [
        "### Ejercicio 12\n",
        "\n",
        "Las excepciones son errores detectados en tiempo de ejecución. Pueden y deben ser gestionadas por el programador para minimizar el riesgo de que un determinado programa falle de manera no controlada. Escribid, en lenguaje Python, como generar y capturar la siguiente excepción: `NameError`. <span style=\"font-family: Courier New; background-color: #ffcc5c; color: #000000; padding: 3px; \">EG</span>\n",
        "\n",
        "Nota: Para hacer este ejercicio, consultad la [documentación oficial de Python sobre gestión de errores](https://docs.python.org/3/tutorial/errors.html)."
      ]
    },
    {
      "cell_type": "code",
      "metadata": {
        "id": "ljIu41n2Leji",
        "colab_type": "code",
        "outputId": "2c15d98c-8606-40a9-e479-3464342c4d0b",
        "colab": {
          "base_uri": "https://localhost:8080/",
          "height": 34
        }
      },
      "source": [
        "# Respuesta\n",
        "try: \n",
        "  print(miFunciónInexistente())\n",
        "except NameError:\n",
        "  print(\"No está definida\")"
      ],
      "execution_count": 0,
      "outputs": [
        {
          "output_type": "stream",
          "text": [
            "No está definida\n"
          ],
          "name": "stdout"
        }
      ]
    },
    {
      "cell_type": "markdown",
      "metadata": {
        "id": "9qZ6iWx0od_H",
        "colab_type": "text"
      },
      "source": [
        "###  Ejercicio 13\n",
        "\n",
        "Python dispone de un *idiom* muy útil conocido como *list comprehensions*. Utilizando este *idiom*, proporcionad una expresión que devuelva las listas siguientes.\n",
        "\n",
        "Nota: Para realizar esta actividad necesitaréis investigar qué son las *list comprehensions* y qué sintaxis utilizan. Para ello, se recomienda en primer lugar que utilicéis un buscador para encontrar información genérica sobre esta construcción. Después, os recomendamos que consultéis stackoverflow para ver algunos ejemplos de problemas que se pueden resolver con esta construcción.\n",
        "\n",
        "\n",
        "[stackoverflow](https://stackoverflow.com/) es un sitio de preguntas-y-respuestas muy popular entre programadores. Veréis que para la gran mayoría de las dudas que tengáis, habrá alguien que ya les habrá tenido (y consultado) anteriormente! Así pues, más allá de preguntar vosotros mismos las dudas allí (nosotros ya tenemos el foro del aula para ello!), consultar esta web os permitirá ver qué soluciones proponen otros programadores a estas dudas. A menudo habrá más de una solución a un mismo problema, y podréis valorar cuál es la más adecuada para vuestro problema.\n",
        "\n",
        "Para ver ejemplos de problemas que son adecuados para resolver con *list comprehensions*, os recomendamos leer las siguientes páginas:\n",
        "* https://stackoverflow.com/questions/12555443/squaring-all-elements-in-a-list\n",
        "* https://stackoverflow.com/questions/18551458/how-to-frame-two-for-loops-in-list-comprehension-python\n",
        "* https://stackoverflow.com/questions/24442091/list-comprehension-with-condition\n",
        "* https://stackoverflow.com/questions/41676212/i-want-to-return-only-the-odd-numbers-in-a-list\n",
        "* https://stackoverflow.com/questions/4260280/if-else-in-a-list-comprehension\n",
        "\n",
        " <span style=\"font-family: Courier New; background-color: #ffcc5c; color: #000000; padding: 3px; \">EG</span>\n"
      ]
    },
    {
      "cell_type": "code",
      "metadata": {
        "id": "hxQRK86wMHO_",
        "colab_type": "code",
        "colab": {}
      },
      "source": [
        ""
      ],
      "execution_count": 0,
      "outputs": []
    },
    {
      "cell_type": "markdown",
      "metadata": {
        "id": "L_VOtTNkod_I",
        "colab_type": "text"
      },
      "source": [
        "a) Una lista de los cubos de los números de la lista `list_1`:"
      ]
    },
    {
      "cell_type": "code",
      "metadata": {
        "id": "fLK-eKZ3Lv0v",
        "colab_type": "code",
        "outputId": "db2c6005-1fe8-41cf-e848-79fa2b48a8ed",
        "colab": {
          "base_uri": "https://localhost:8080/",
          "height": 51
        }
      },
      "source": [
        "list_1 = [1, 2, 3, 4, 5, 6, 7, 8, 9]\n",
        "\n",
        "# Respuesta\n",
        "list_2 = []\n",
        "for i in list_1: \n",
        "  list_2.append(i**3)\n",
        "print(list_2)\n",
        "\n",
        "list_2= [i**3 for i in list_1]\n",
        "print(list_2)"
      ],
      "execution_count": 0,
      "outputs": [
        {
          "output_type": "stream",
          "text": [
            "[1, 8, 27, 64, 125, 216, 343, 512, 729]\n",
            "[1, 8, 27, 64, 125, 216, 343, 512, 729]\n"
          ],
          "name": "stdout"
        }
      ]
    },
    {
      "cell_type": "markdown",
      "metadata": {
        "id": "3YCzjw15od_Q",
        "colab_type": "text"
      },
      "source": [
        "b) Una lista de los cuadrados de los números impares de la lista `list_1`:"
      ]
    },
    {
      "cell_type": "code",
      "metadata": {
        "id": "dFVPaGXyLymR",
        "colab_type": "code",
        "outputId": "72d3c24c-352e-4bfc-adfb-69bda15bac69",
        "colab": {
          "base_uri": "https://localhost:8080/",
          "height": 51
        }
      },
      "source": [
        "# Respuesta\n",
        "list_3 = []\n",
        "for i in list_1: \n",
        "  if i%2!=0: \n",
        "    list_3.append(i**2)\n",
        "print(list_3)\n",
        "\n",
        "list_3 = [i**2 for i in list_1 if i%2!=0]\n",
        "print(list_3)"
      ],
      "execution_count": 0,
      "outputs": [
        {
          "output_type": "stream",
          "text": [
            "[1, 9, 25, 49, 81]\n",
            "[1, 9, 25, 49, 81]\n"
          ],
          "name": "stdout"
        }
      ]
    },
    {
      "cell_type": "markdown",
      "metadata": {
        "id": "BAt8d9Vgod_X",
        "colab_type": "text"
      },
      "source": [
        "c) Una lista con las tuplas `(0, 0), (0, 1), (0, 2), (0, 3), (1, 0), (1, 1), (1, 2), (1, 3), (2, 0), (2, 1), (2, 2), (2, 3), (3, 0), (3, 1), (3, 2), (3, 3)` a partir de las listas `list_2` i `list_3`:"
      ]
    },
    {
      "cell_type": "code",
      "metadata": {
        "id": "xen7_nbDL3bz",
        "colab_type": "code",
        "outputId": "8421d4e0-7d4b-4fdd-9028-89f9d9e129f0",
        "colab": {
          "base_uri": "https://localhost:8080/",
          "height": 51
        }
      },
      "source": [
        "list_2 = range(4)\n",
        "list_3 = range(4)\n",
        "\n",
        "# Respuesta\n",
        "list_4 = []\n",
        "for i in list_2: \n",
        "  for j in list_3: \n",
        "    list_4.append(\"(\"+str(i)+\",\"+str(j)+\")\")\n",
        "print(list_4)\n",
        "\n",
        "list_4 = [ \"(\"+str(i)+\",\"+str(j)+\")\" for i in list_2 for j in list_3]\n",
        "print(list_4)"
      ],
      "execution_count": 0,
      "outputs": [
        {
          "output_type": "stream",
          "text": [
            "['(0,0)', '(0,1)', '(0,2)', '(0,3)', '(1,0)', '(1,1)', '(1,2)', '(1,3)', '(2,0)', '(2,1)', '(2,2)', '(2,3)', '(3,0)', '(3,1)', '(3,2)', '(3,3)']\n",
            "['(0,0)', '(0,1)', '(0,2)', '(0,3)', '(1,0)', '(1,1)', '(1,2)', '(1,3)', '(2,0)', '(2,1)', '(2,2)', '(2,3)', '(3,0)', '(3,1)', '(3,2)', '(3,3)']\n"
          ],
          "name": "stdout"
        }
      ]
    },
    {
      "cell_type": "markdown",
      "metadata": {
        "id": "wXDPOW2Pod_g",
        "colab_type": "text"
      },
      "source": [
        "### Ejercicio 14\n",
        "\n",
        "Al final de la Edad Media, en Francia, el diplomático francés Blaise de Vigenère desarrolló un algoritmo para cifrar mensajes que nadie fue capaz de romper durante aproximadamente 250 años. Este algoritmo se conoce con el nombre de [cifrado de Vigenère](https://es.wikipedia.org/wiki/Cifrado_de_Vigen%C3%A8re).\n",
        "\n",
        "\n",
        "El cifrado de Vigenère consiste en añadir a cada una de las letras de un texto un desplazamiento a partir de una clave secreta para conseguir una nueva letra diferente del original. Veamos un ejemplo:\n",
        "\n",
        "\n",
        "Si asignamos el número 1 en la primera letra del abecedario, A, 2 a la siguiente, B, etc., imaginad que tenemos el siguiente mensaje:\n",
        "<code>\n",
        "ABC\n",
        "123\n",
        "</code>\n",
        "\n",
        "y la siguiente clave secreta:\n",
        "<code>\n",
        "DEF\n",
        "456\n",
        "</code>\n",
        "\n",
        "A cada letra del mensaje original le aplicamos un desplazamiento en función de la misma posición dentro de la clave secreta. Por lo tanto, el mensaje cifrado quedaría de la siguiente forma:\n",
        "<code>\n",
        "   E       G       I\n",
        "(1 + 4) (2 + 5) (3 + 6)\n",
        "</code>\n",
        "\n",
        "Escribid una función que, dado un mensaje y una clave secreta, calcule y devuelva el mensaje cifrado.\n",
        "\n",
        "*Consideraciones:*\n",
        "\n",
        "- Utilizad como alfabeto de entrada **el alfabeto inglés en mayúsculas**.\n",
        "- El valor predeterminado de la clave secreta será **DATASCI**.\n",
        "\n",
        "<span style=\"font-family: Courier New; background-color: #f2ae72; color: #000000; padding: 3px; \">EI</span>"
      ]
    },
    {
      "cell_type": "code",
      "metadata": {
        "id": "N8hu7eJfMI2X",
        "colab_type": "code",
        "colab": {
          "base_uri": "https://localhost:8080/",
          "height": 85
        },
        "outputId": "8ece0407-57da-4448-96a4-c6353afd4171"
      },
      "source": [
        "def cifrado_vigenere(mensaje, llave=\"DATASCI\"):\n",
        "#def cifrado_vigenere(mensaje, llave=\"DEF\"):\n",
        "    \"\"\"\n",
        "    Cifrar mensaje utilizando el cifrado de Vigenère\n",
        "    \"\"\"\n",
        "    mensaje_cifrado = \"\"\n",
        "    alfabeto = {\"A\":1, \"B\":2, \"C\":3, \"D\":4, \"E\":5, \"F\":6, \"G\":7, \"H\":8,\"I\":9, \"J\":10, \"K\":11, \"L\":12, \"M\":13, \"N\":14, \"O\":15, \"P\":16, \"Q\":17, \"R\":18,\"S\":19,\"T\":20,\"U\":21,\"V\":22,\"W\":23,\"X\":24,\"Y\":25,\"Z\":26, \" \":27}\n",
        "    alfabetoDescifrar = {1:\"A\", 2:\"B\", 3:\"C\", 4:\"D\", 5:\"E\", 6:\"F\", 7:\"G\", 8:\"H\",9:\"I\", 10:\"J\", 11:\"K\", 12:\"L\", 13:\"M\", 14:\"N\", 15:\"O\", 16:\"P\", 17:\"Q\", 18:\"R\",19:\"S\",20:\"T\",21:\"U\",22:\"V\",23:\"W\",24:\"X\",25:\"Y\",26:\"Z\", 27:\" \"}\n",
        "    \n",
        "    #Convierto ambos strings en listas para manejarlo mejor\n",
        "    listaMensaje = list(mensaje) \n",
        "    listaLlave = list(llave)\n",
        "\n",
        "    #Saco los números asociados al mensaje: \n",
        "    #cifradoMensaje = []\n",
        "    #for i in range(len(listaMensaje)):\n",
        "    #  cifradoMensaje.append(alfabeto[listaMensaje[i]])\n",
        "    cifradoMensaje = [alfabeto[listaMensaje[i]] for i in range(len(listaMensaje))]\n",
        "    print(cifradoMensaje)\n",
        "\n",
        "    #Saco los números asociados a la llave\n",
        "    cifradoLlave = [alfabeto[listaLlave[i]] for i in range(len(listaLlave))]\n",
        "    print(cifradoLlave)\n",
        "\n",
        "    #Saco los números asociados al cifrado final \n",
        "    cifradoFinal = []\n",
        "    count = 0; \n",
        "    for i in range (len(cifradoMensaje)):\n",
        "      if(count<len(cifradoLlave)): \n",
        "        cifradoFinal.append(cifradoMensaje[i]+cifradoLlave[count])\n",
        "        count+=1\n",
        "      else: \n",
        "        count = 0 #La clave se repite\n",
        "        cifradoFinal.append(cifradoMensaje[i]+cifradoLlave[count])\n",
        "    \n",
        "    print(cifradoFinal)\n",
        "\n",
        "    #saco el mensaje cifrado\n",
        "    mensajeCifradoLista = []\n",
        "    for i in range(len(cifradoFinal)):\n",
        "      if(cifradoFinal[i]>27):\n",
        "        mensajeCifradoLista.append(alfabetoDescifrar[cifradoFinal[i]-27])\n",
        "      else: \n",
        "        mensajeCifradoLista.append(alfabetoDescifrar[cifradoFinal[i]])\n",
        "    #lo convierto a String\n",
        "    mensaje_cifrado = \"\".join(mensajeCifradoLista) \n",
        "    return mensaje_cifrado\n",
        "\n",
        "# Aquí puede añadir más ejemplos:\n",
        "print(cifrado_vigenere(\"ATACAREMOS POR LA MANANA\"))\n",
        "#print(cifrado_vigenere(\"ABC \"))"
      ],
      "execution_count": 18,
      "outputs": [
        {
          "output_type": "stream",
          "text": [
            "[1, 20, 1, 3, 1, 18, 5, 13, 15, 19, 27, 16, 15, 18, 27, 12, 1, 27, 13, 1, 14, 1, 14, 1]\n",
            "[4, 1, 20, 1, 19, 3, 9]\n",
            "[5, 21, 21, 4, 20, 21, 14, 17, 19, 20, 47, 17, 34, 21, 36, 16, 5, 28, 33, 2, 33, 4, 23, 5]\n",
            "EUUDTUNQSTTQGUIPEAFBFDWE\n"
          ],
          "name": "stdout"
        }
      ]
    }
  ]
}