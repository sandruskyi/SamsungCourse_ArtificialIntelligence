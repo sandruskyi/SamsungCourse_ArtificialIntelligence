{
  "nbformat": 4,
  "nbformat_minor": 0,
  "metadata": {
    "kernelspec": {
      "display_name": "Python 3",
      "language": "python",
      "name": "python3"
    },
    "language_info": {
      "codemirror_mode": {
        "name": "ipython",
        "version": 3
      },
      "file_extension": ".py",
      "mimetype": "text/x-python",
      "name": "python",
      "nbconvert_exporter": "python",
      "pygments_lexer": "ipython3",
      "version": "3.6.8"
    },
    "colab": {
      "name": "PRÁCTICA_MOD2_Clase_.ipynb",
      "provenance": [],
      "collapsed_sections": []
    }
  },
  "cells": [
    {
      "cell_type": "markdown",
      "metadata": {
        "id": "PX_jJv9fod9E",
        "colab_type": "text"
      },
      "source": [
        "---"
      ]
    },
    {
      "cell_type": "markdown",
      "metadata": {
        "id": "D-ZNnZ-Dod9J",
        "colab_type": "text"
      },
      "source": [
        "### Ejercicio 1\n",
        "\n",
        "El ejercicio siguiente consiste en pasar un número en base 16 (hexadecimal, 0-9 / A-F) a base 10 (decimal). Para ello, debéis crear una **función** que dado un _string_ que representa un número en hexadecimal, por ejemplo, `AE3F`, devuelva el número natural correspondiente. En este caso el resultado sería `44607`. <span style=\"font-family: Courier New; background-color: #82b74b; color: #000000; padding: 3px; \">NM</span>"
      ]
    },
    {
      "cell_type": "code",
      "metadata": {
        "id": "umxL8VEcod9N",
        "colab_type": "code",
        "colab": {
          "base_uri": "https://localhost:8080/",
          "height": 51
        },
        "outputId": "d573407c-c149-4dea-9897-5dbe006ca984"
      },
      "source": [
        "# Respuesta\n",
        "def hexToDex(numeroHexadecimal):\n",
        "  hexMapping = {\"1\":1, \"2\":2, \"3\":3, \"4\":4, \"5\":5, \"6\":6, \"7\":7, \"8\":8, \"9\":9, \"A\":10, \"B\":11, \"C\":12, \"D\":13, \"E\":14, \"F\":15}\n",
        "\n",
        "  # Verificamos que el número que introducimos es hexadecimal \n",
        "  allHex = True\n",
        "  for c in numeroHexadecimal: \n",
        "    if not c in hexMapping.keys():\n",
        "      allHex = False\n",
        "\n",
        "  if allHex: \n",
        "    base = 16\n",
        "    numeroDecimal = 0 \n",
        "    numeroHexadecimal = numeroHexadecimal[::-1]  # invertimos el número \n",
        "    for i in range(len(numeroHexadecimal)):\n",
        "      numeroDecimal+= hexMapping[numeroHexadecimal[i]]*base**i\n",
        "    return numeroDecimal\n",
        "  else:\n",
        "    print(\"No es un número decimal\")\n",
        "\n",
        "print(hexToDex(\"AE3F\"))\n",
        "print(1)"
      ],
      "execution_count": 3,
      "outputs": [
        {
          "output_type": "stream",
          "text": [
            "44607\n",
            "1\n"
          ],
          "name": "stdout"
        }
      ]
    },
    {
      "cell_type": "markdown",
      "metadata": {
        "id": "aJb5Zl2Lod9X",
        "colab_type": "text"
      },
      "source": [
        "### Ejercicio 2\n",
        "\n",
        "\n",
        "Escribir una función que dado un número entero positivo, `N`, genere un archivo con el nombre` output.txt` que contendrá `N` líneas, donde cada línea deberá mostrar un número consecutivo de letras` A`. <span style=\"font-family: Courier New; background-color: #82b74b; color: #000000; padding: 3px; \">NM</span>\n",
        "\n",
        "Por ejemplo, si `N = 4`, el archivo generado deberá tener el siguiente contenido:\n",
        "\n",
        "```\n",
        "A\n",
        "AA\n",
        "AAA\n",
        "AAAA\n",
        "```\n",
        "\n",
        "\n"
      ]
    },
    {
      "cell_type": "code",
      "metadata": {
        "id": "ihhhj6Elod9a",
        "colab_type": "code",
        "colab": {}
      },
      "source": [
        "# Respuesta\n",
        "def generar_archivo(N):\n",
        "  with open(\"output.txt\",\"w\") as fd:\n",
        "    for i in range(N):\n",
        "      linea = \"A\"*(i+1) #Cuando i vale 0 es 1 y así\n",
        "      fd.write(linea + \"\\n\")\n",
        "\n",
        "generar_archivo(3)\n",
        "\n",
        "      "
      ],
      "execution_count": 0,
      "outputs": []
    },
    {
      "cell_type": "markdown",
      "metadata": {
        "id": "JB_eOqD1od9o",
        "colab_type": "text"
      },
      "source": [
        "### Ejercicio 3\n",
        "\n",
        "Completad el código necesario para calcular el número de vocales y de consonantes respectivamente de un texto. <span style=\"font-family: Courier New; background-color: #82b74b; color: #000000; padding: 3px; \">NM</span>"
      ]
    },
    {
      "cell_type": "code",
      "metadata": {
        "id": "3NBOyXe0Oc6i",
        "colab_type": "code",
        "colab": {
          "base_uri": "https://localhost:8080/",
          "height": 34
        },
        "outputId": "def25f5d-76b3-43d7-b0af-87b415e7bb6e"
      },
      "source": [
        "def contar_vocales_y_consonantes(texto):\n",
        "    # Cuenta las vocales contenidas en el string texto y también las consonantes.\n",
        "    num_vocales = 0\n",
        "    num_consonantes = 0\n",
        "\n",
        "    # Código que hay que completar.\n",
        "\n",
        "    vocales = [\"a\", \"e\", \"i\", \"o\", \"u\"]\n",
        "\n",
        "    for c in texto.lower():\n",
        "      if c in vocales: \n",
        "        num_vocales +=1\n",
        "      elif c > \"a\" and c<=\"z\":\n",
        "        num_consonantes +=1\n",
        "    return (num_vocales, num_consonantes)\n",
        "\n",
        "texto = \"La clase esta muy contenta\"\n",
        "\n",
        "print(contar_vocales_y_consonantes(texto))\n",
        "      "
      ],
      "execution_count": 12,
      "outputs": [
        {
          "output_type": "stream",
          "text": [
            "(9, 13)\n"
          ],
          "name": "stdout"
        }
      ]
    },
    {
      "cell_type": "code",
      "metadata": {
        "id": "zluGcqkQod94",
        "colab_type": "code",
        "colab": {}
      },
      "source": [
        "# Respuesta"
      ],
      "execution_count": 0,
      "outputs": []
    }
  ]
}