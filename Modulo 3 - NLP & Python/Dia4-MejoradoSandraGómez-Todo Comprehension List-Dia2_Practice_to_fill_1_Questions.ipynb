{
  "nbformat": 4,
  "nbformat_minor": 0,
  "metadata": {
    "colab": {
      "name": "Dia2-Practice to fill_1 - Questions.ipynb",
      "provenance": [],
      "collapsed_sections": []
    },
    "kernelspec": {
      "name": "python3",
      "display_name": "Python 3"
    }
  },
  "cells": [
    {
      "cell_type": "markdown",
      "metadata": {
        "id": "ut2pAz6gW9u3",
        "colab_type": "text"
      },
      "source": [
        "\n",
        "Sigue las instrucciones y genera el código debajo de cada comentario\n",
        "\n"
      ]
    },
    {
      "cell_type": "code",
      "metadata": {
        "colab_type": "code",
        "id": "MdEeLo4GW81t",
        "colab": {}
      },
      "source": [
        "text1 = \"In Madrid, pollution levels pose serious health hazards, which translate into 200 millions more of public health spenditure. \\\n",
        "Some Spanish companies are following global private comanies like Intuit, Dassault Systèmes, Motorola and Alphabet \\\n",
        "in the trend towards reducing the emissions of their production systems.\"\n",
        "\n",
        "text2 = \"\"\"\n",
        "Known as \"Londinium\", the Roman legions established a settlement on the current site of the City of London around AD 43. \\\n",
        "Its bridge over the River Thames turned the city into a road nexus and major port, serving as a major commercial centre in \\\n",
        "Roman Britain until its abandonment during the 5th century. \n",
        "\"\"\"\n",
        "\n",
        "t3 = 'maaaa' \n",
        "t4 = 'aubabababbb'\n",
        "t5 = 'abyababcbcbib'\n",
        "t6 = 'aba_babe4'\n",
        "t7 = 'basdb98709e7'\n",
        "t8 = 'peridise_'\n",
        "t9 = 'genialees'\n",
        "t10 = 'xxx333nnn'\n",
        "t11 = 'braba..n!'\n",
        "\n",
        "t12 = \"Estudios Xrecientes comprueban Xque uno puede irseX y Xvolver de cualquier lugar Xsin publicarlo\""
      ],
      "execution_count": 0,
      "outputs": []
    },
    {
      "cell_type": "code",
      "metadata": {
        "id": "sntRkS1QiTMM",
        "colab_type": "code",
        "colab": {}
      },
      "source": [
        ""
      ],
      "execution_count": 0,
      "outputs": []
    },
    {
      "cell_type": "code",
      "metadata": {
        "id": "U1_VbXTUEy7C",
        "colab_type": "code",
        "outputId": "70bcc008-6a0a-4b27-ea30-ea24e57dca44",
        "colab": {
          "base_uri": "https://localhost:8080/",
          "height": 34
        }
      },
      "source": [
        "# 1.a Print all elements of t4 if they are equal to a con un sencillo for loop\n"
      ],
      "execution_count": 0,
      "outputs": [
        {
          "output_type": "stream",
          "text": [
            "['a', 'a', 'a', 'a']\n"
          ],
          "name": "stdout"
        }
      ]
    },
    {
      "cell_type": "code",
      "metadata": {
        "id": "eQ2xDifi8qfc",
        "colab_type": "code",
        "outputId": "0926670b-0a91-4e5c-d896-2549dd52d1a5",
        "colab": {
          "base_uri": "https://localhost:8080/",
          "height": 34
        }
      },
      "source": [
        "# 1.b Hazlo con comprehension list: )\n",
        "print([i for i in t4 if i =='a'])"
      ],
      "execution_count": 5,
      "outputs": [
        {
          "output_type": "stream",
          "text": [
            "['a', 'a', 'a', 'a']\n"
          ],
          "name": "stdout"
        }
      ]
    },
    {
      "cell_type": "code",
      "metadata": {
        "id": "OxekZLUH8qWT",
        "colab_type": "code",
        "outputId": "d552b289-1532-43e9-c2f5-c3e7f6c0e69b",
        "colab": {
          "base_uri": "https://localhost:8080/",
          "height": 34
        }
      },
      "source": [
        "# 2. Print all elements that are equal to a or b in t5: \n",
        "print([i for i in t5 if i in \"ab\"])"
      ],
      "execution_count": 6,
      "outputs": [
        {
          "output_type": "stream",
          "text": [
            "['a', 'b', 'a', 'b', 'a', 'b', 'b', 'b', 'b']\n"
          ],
          "name": "stdout"
        }
      ]
    },
    {
      "cell_type": "code",
      "metadata": {
        "id": "4M-3CqwS65FW",
        "colab_type": "code",
        "outputId": "53105ea9-3e18-4f7c-bd3b-0af072950131",
        "colab": {
          "base_uri": "https://localhost:8080/",
          "height": 68
        }
      },
      "source": [
        "# 3. Imprime todos las ocurrencias de'ab' en t4 \n",
        "print(['ab' for i in range(t4.count('ab'))])\n",
        "#ó\n",
        "print(['ab' for i, elem in enumerate(t4) if t4.startswith('ab',i)])\n",
        "#ó\n",
        "print(['ab' for i in range(len(t4)) if t4.startswith('ab',i)])\n",
        "\n"
      ],
      "execution_count": 11,
      "outputs": [
        {
          "output_type": "stream",
          "text": [
            "['ab', 'ab', 'ab']\n",
            "['ab', 'ab', 'ab']\n",
            "['ab', 'ab', 'ab']\n"
          ],
          "name": "stdout"
        }
      ]
    },
    {
      "cell_type": "code",
      "metadata": {
        "id": "ziwGmHJXxSV0",
        "colab_type": "code",
        "colab": {
          "base_uri": "https://localhost:8080/",
          "height": 51
        },
        "outputId": "68877d56-0334-49ff-99e7-b4bb397c84d0"
      },
      "source": [
        "# 4. Imprime los caracteres qeu sean números en t6 \n",
        "print([i for i in t6 if i in \"0123456789\"])\n",
        "#ó\n",
        "print([i for i in t6 if i.isdigit()])"
      ],
      "execution_count": 14,
      "outputs": [
        {
          "output_type": "stream",
          "text": [
            "['4']\n",
            "['4']\n"
          ],
          "name": "stdout"
        }
      ]
    },
    {
      "cell_type": "code",
      "metadata": {
        "id": "J5QhMm8SzKW5",
        "colab_type": "code",
        "colab": {
          "base_uri": "https://localhost:8080/",
          "height": 34
        },
        "outputId": "b8f1eaff-d422-4339-93c2-05b0e4d9c487"
      },
      "source": [
        "# 5. Imprime todas las ocurrencias de ab, recorriendo los textos t3 a t11\n",
        "# (tienes q almacenar los textos juntos de alguna manera en alma_1): \n",
        "alma_1=[t3,t4,t5,t6,t7,t8,t9,t10,t11]\n",
        "print(['ab' for i in alma_1 for j, elem in enumerate(i) if i.startswith('ab',j)])"
      ],
      "execution_count": 16,
      "outputs": [
        {
          "output_type": "stream",
          "text": [
            "['ab', 'ab', 'ab', 'ab', 'ab', 'ab', 'ab', 'ab', 'ab']\n"
          ],
          "name": "stdout"
        }
      ]
    },
    {
      "cell_type": "code",
      "metadata": {
        "id": "NFsB90w_z5p5",
        "colab_type": "code",
        "colab": {}
      },
      "source": [
        "# 6. Concatena los textos t6 y t7 en otra string conca_1\n",
        "conca_1 = t6+t7"
      ],
      "execution_count": 0,
      "outputs": []
    },
    {
      "cell_type": "code",
      "metadata": {
        "id": "eTxZnEYH8XRE",
        "colab_type": "code",
        "colab": {
          "base_uri": "https://localhost:8080/",
          "height": 34
        },
        "outputId": "dcea3b4c-b3c2-440c-9d82-c56782ac0500"
      },
      "source": [
        "\"\"\"7. Concatena los textos en alma_1 (ej 5) e imprime todas las ocurrencias \n",
        "de 'aba' en el texto resultante\"\"\"\n",
        "print(['aba' for i in alma_1 for j, elem in enumerate(i) if i.startswith('aba',j)])\n"
      ],
      "execution_count": 18,
      "outputs": [
        {
          "output_type": "stream",
          "text": [
            "['aba', 'aba', 'aba', 'aba', 'aba']\n"
          ],
          "name": "stdout"
        }
      ]
    },
    {
      "cell_type": "code",
      "metadata": {
        "id": "UEbXhb8s97wa",
        "colab_type": "code",
        "colab": {
          "base_uri": "https://localhost:8080/",
          "height": 34
        },
        "outputId": "ffebe9ec-e0e0-4f87-97ec-574e4ecc4894"
      },
      "source": [
        "# 8. Imprime todas los dos primeros caracteres de los textos en alma_1\n",
        "print([i[:2] for i in alma_1 ])"
      ],
      "execution_count": 19,
      "outputs": [
        {
          "output_type": "stream",
          "text": [
            "['ma', 'au', 'ab', 'ab', 'ba', 'pe', 'ge', 'xx', 'br']\n"
          ],
          "name": "stdout"
        }
      ]
    },
    {
      "cell_type": "code",
      "metadata": {
        "id": "c0ju2_uE-Q4G",
        "colab_type": "code",
        "colab": {
          "base_uri": "https://localhost:8080/",
          "height": 34
        },
        "outputId": "83cdb663-bfd2-4561-cae3-1ca7c236fda9"
      },
      "source": [
        "\"\"\" 9. Almacena en una variable resul_1 el penúltimo caracter de cada string \n",
        "si el primer caracter de la string no es una 'm'. Imprime el resultado.\"\"\"\n",
        "resul_1 = [i[-2] for i in alma_1 if i[0]!='m']\n",
        "print(resul_1)"
      ],
      "execution_count": 22,
      "outputs": [
        {
          "output_type": "stream",
          "text": [
            "['b', 'i', 'e', 'e', 'e', 'e', 'n', 'n']\n"
          ],
          "name": "stdout"
        }
      ]
    },
    {
      "cell_type": "code",
      "metadata": {
        "id": "k3m6_4dixh1t",
        "colab_type": "code",
        "colab": {
          "base_uri": "https://localhost:8080/",
          "height": 34
        },
        "outputId": "fdb3b65d-fb46-4dbd-afd5-5096f952f49b"
      },
      "source": [
        "# 10. Itera sobre t3 a t11 y devuelve el primer caracter de la primera string, \\\n",
        "#     el segundo de la segunda, el tercero de la tercera... etc. \n",
        "#     Guarda cada caracter en resul_2 de forma que quede una string con cada uno de los caracteres por orden\n",
        "result_2 = \"\".join([elem[i] for i, elem in enumerate(alma_1)  ])\n",
        "print(result_2)"
      ],
      "execution_count": 24,
      "outputs": [
        {
          "output_type": "stream",
          "text": [
            "muy_bien!\n"
          ],
          "name": "stdout"
        }
      ]
    },
    {
      "cell_type": "code",
      "metadata": {
        "id": "7vaCrXNYBuK6",
        "colab_type": "code",
        "colab": {}
      },
      "source": [
        "# 11. Si has hecho lo anterior bien o muy bien (si no lo sabes seguro al ver los resultados, \n",
        "      # pregúntame para que revise tus ejercicios), aprovecha la iteración anterior, \n",
        "      # puedes copiarla aquí, y guarda en una variable ind_resul los índices \n",
        "      # de cada uno de los caractes que extraímos en su string original. "
      ],
      "execution_count": 0,
      "outputs": []
    },
    {
      "cell_type": "code",
      "metadata": {
        "id": "8cimzBGQDBXk",
        "colab_type": "code",
        "colab": {}
      },
      "source": [
        "# 12.a Añade una admiración a result1 al final:\n",
        "\n",
        "# 12.b Crea un algoritmo que compare los índices de resul_1 y resul_2. "
      ],
      "execution_count": 0,
      "outputs": []
    },
    {
      "cell_type": "code",
      "metadata": {
        "colab_type": "code",
        "id": "7Bdo9oitde0q",
        "colab": {}
      },
      "source": [
        "# 13. Si 12 devuelve True, crea una lista con todos las strings que tengan números. \n",
        "# sin usar regex: \n"
      ],
      "execution_count": 0,
      "outputs": []
    },
    {
      "cell_type": "code",
      "metadata": {
        "id": "47jML26LzVch",
        "colab_type": "code",
        "colab": {}
      },
      "source": [
        "# 14. Has lo mismo con un patron regex\n",
        "\n"
      ],
      "execution_count": 0,
      "outputs": []
    },
    {
      "cell_type": "code",
      "metadata": {
        "id": "USRAUY7CzXFM",
        "colab_type": "code",
        "colab": {}
      },
      "source": [
        "# 15. Almacena en otra lista todas las strings de esta lista que tengan 3 letras seguidas iguales \n",
        "      # Y remueve los tres primeros y 3 últimos de cada una de ellas ... "
      ],
      "execution_count": 0,
      "outputs": []
    },
    {
      "cell_type": "code",
      "metadata": {
        "id": "0FonxAz8pKyz",
        "colab_type": "code",
        "colab": {}
      },
      "source": [
        ""
      ],
      "execution_count": 0,
      "outputs": []
    }
  ]
}