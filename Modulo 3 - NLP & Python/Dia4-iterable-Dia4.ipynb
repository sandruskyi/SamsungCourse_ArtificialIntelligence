{
 "cells": [
  {
   "cell_type": "markdown",
   "metadata": {
    "colab_type": "text",
    "id": "jE_wwHYj4qxd"
   },
   "source": [
    "#EJERCICIO1"
   ]
  },
  {
   "cell_type": "code",
   "execution_count": 1,
   "metadata": {
    "colab": {
     "base_uri": "https://localhost:8080/",
     "height": 323
    },
    "colab_type": "code",
    "id": "SHTlxpOK4vZ0",
    "outputId": "59b8b6a2-e6d2-40ff-8454-79ec80dff699"
   },
   "outputs": [
    {
     "name": "stdout",
     "output_type": "stream",
     "text": [
      "<enumerate object at 0x7f5d95c5fb88>\n",
      "(0, 'Superwoman') (1, 'Spyderman') (2, 'La masa') (3, 'Wonder girl') (4, 'Super Lopez')\n",
      "(1, 'Superwoman') (2, 'Spyderman') (3, 'La masa') (4, 'Wonder girl') (5, 'Super Lopez')\n",
      "<enumerate object at 0x7f5d95c5fe58>\n",
      "(0, ('Superwoman',)) (1, ('Spyderman',)) (2, ('La masa',)) (3, ('Wonder girl',)) (4, ('Super Lopez',))\n",
      "(1, ('Superwoman',)) (2, ('Spyderman',)) (3, ('La masa',)) (4, ('Wonder girl',)) (5, ('Super Lopez',))\n",
      "Manera bien final:\n",
      "[(0, 'Superwoman'), (1, 'Spyderman'), (2, 'La masa'), (3, 'Wonder girl'), (4, 'Super Lopez')]\n",
      "0 Superwoman\n",
      "1 Spyderman\n",
      "2 La masa\n",
      "3 Wonder girl\n",
      "4 Super Lopez\n",
      "1 Superwoman\n",
      "2 Spyderman\n",
      "3 La masa\n",
      "4 Wonder girl\n",
      "5 Super Lopez\n"
     ]
    }
   ],
   "source": [
    "# Create a list of strings: heroes\n",
    "heroes = ['Superwoman',\n",
    "          'Spyderman',\n",
    "            'La masa',\n",
    "            'Wonder girl',\n",
    "            'Super Lopez']\n",
    "\n",
    "# Create a list of tuples: heroes_list\n",
    "\n",
    "heroes_list = enumerate(heroes)\n",
    "\n",
    "# Print the list of tuples\n",
    "print(heroes_list)\n",
    "\n",
    "# Unpack and print the tuple pairs\n",
    "print(*heroes_list)\n",
    "\n",
    "# Change the start index to 1\n",
    "heroes_list = enumerate(heroes,1)\n",
    "print(*heroes_list)\n",
    "\n",
    "# OTRA MANERA\n",
    "heroes_list_zip = enumerate(zip(heroes))\n",
    "print(heroes_list_zip)\n",
    "print(*heroes_list_zip)\n",
    "heroes_list_zip = enumerate(zip(heroes),1)\n",
    "print(*heroes_list_zip)\n",
    "\n",
    "#LA MANERA BIEN: \n",
    "print(\"Manera bien final:\")\n",
    "heroes_list = list(enumerate(heroes))\n",
    "print(heroes_list)\n",
    "for index1, value1 in enumerate(heroes):\n",
    "    print(index1, value1)\n",
    "for index1, value1 in enumerate(heroes,1):\n",
    "    print(index1, value1)"
   ]
  },
  {
   "cell_type": "markdown",
   "metadata": {
    "colab_type": "text",
    "id": "rxuEsTuT4zn3"
   },
   "source": [
    "# EJERCICIO 2"
   ]
  },
  {
   "cell_type": "code",
   "execution_count": 18,
   "metadata": {
    "colab": {
     "base_uri": "https://localhost:8080/",
     "height": 153
    },
    "colab_type": "code",
    "id": "xcu8ODJ_42oY",
    "outputId": "39945c42-74ab-4f61-fe8a-f7993452bb5c"
   },
   "outputs": [
    {
     "name": "stdout",
     "output_type": "stream",
     "text": [
      "[('Superwoman',), ('Spyderman',), ('La masa',), ('Wonder girl',), ('Super Lopez',)]\n",
      "<zip object at 0x7f5d953a4888>\n",
      "Superwoman volar, fuerza y rayos vista\n",
      "Spyderman trepar y lanza redes\n",
      "La masa Fuerza descomunal\n",
      "Wonder girl esta chica lo tiene todo\n",
      "Super Lopez bigote hermoso\n",
      "\n"
     ]
    }
   ],
   "source": [
    "poder = ['volar, fuerza y rayos vista', 'trepar y lanza redes', 'Fuerza descomunal',\n",
    "        'esta chica lo tiene todo', 'bigote hermoso' ]\n",
    "heroes = ['Superwoman',\n",
    "          'Spyderman',\n",
    "            'La masa',\n",
    "            'Wonder girl',\n",
    "            'Super Lopez']\n",
    "\n",
    "# # Create a list of tuples: heroes_data\n",
    "heroes_data = list(zip(heroes))\n",
    "#\n",
    "# # Print the list of tuples\n",
    "print(heroes_data)\n",
    "#\n",
    "# # Create a zip object using the two lists: heroes_zip\n",
    "heroes_zip = zip(heroes, poder)\n",
    "\n",
    "# # Print the zip object\n",
    "print(heroes_zip)\n",
    "#\n",
    "# # Unpack the zip object and print the tuple values\n",
    "# for\n",
    "for i , j in heroes_zip:\n",
    "  print(i,j)\n",
    "print(*heroes_zip)\n"
   ]
  }
 ],
 "metadata": {
  "colab": {
   "name": "Untitled0.ipynb",
   "provenance": []
  },
  "kernelspec": {
   "display_name": "Python 3",
   "language": "python",
   "name": "python3"
  },
  "language_info": {
   "codemirror_mode": {
    "name": "ipython",
    "version": 3
   },
   "file_extension": ".py",
   "mimetype": "text/x-python",
   "name": "python",
   "nbconvert_exporter": "python",
   "pygments_lexer": "ipython3",
   "version": "3.7.6"
  }
 },
 "nbformat": 4,
 "nbformat_minor": 1
}
